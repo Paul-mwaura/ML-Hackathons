{
  "nbformat": 4,
  "nbformat_minor": 0,
  "metadata": {
    "colab": {
      "name": "Netflix.ipynb",
      "provenance": [],
      "collapsed_sections": [],
      "include_colab_link": true
    },
    "kernelspec": {
      "name": "python3",
      "display_name": "Python 3"
    },
    "language_info": {
      "name": "python"
    }
  },
  "cells": [
    {
      "cell_type": "markdown",
      "metadata": {
        "id": "view-in-github",
        "colab_type": "text"
      },
      "source": [
        "<a href=\"https://colab.research.google.com/github/Paul-mwaura/ML-Hackathons/blob/main/Netflix.ipynb\" target=\"_parent\"><img src=\"https://colab.research.google.com/assets/colab-badge.svg\" alt=\"Open In Colab\"/></a>"
      ]
    },
    {
      "cell_type": "code",
      "metadata": {
        "id": "_71vSqORLwTq"
      },
      "source": [
        "import os\n",
        "import numpy as np # linear algebra\n",
        "import seaborn as sns \n",
        "import pandas as pd # data processing, CSV file I/O (e.g. pd.read_csv)\n",
        "import matplotlib.pyplot as plt\n",
        "%matplotlib inline\n",
        "\n",
        "from sklearn.preprocessing import LabelEncoder\n",
        "from sklearn.model_selection import train_test_split\n",
        "\n",
        "import tensorflow as tf\n",
        "from tensorflow import keras\n",
        "from keras.models import Model\n",
        "from keras.layers import Input, Reshape, Dot\n",
        "from keras.layers.embeddings import Embedding\n",
        "from keras.layers import Concatenate, Dense, Dropout\n",
        "from keras.optimizers import Adam\n",
        "from keras.regularizers import l2"
      ],
      "execution_count": null,
      "outputs": []
    },
    {
      "cell_type": "code",
      "metadata": {
        "colab": {
          "base_uri": "https://localhost:8080/"
        },
        "id": "ELc2rrqoMw4r",
        "outputId": "f2a0862b-8407-407c-8ae2-79a85c26225b"
      },
      "source": [
        "# DataFrame to store all imported data\n",
        "if not os.path.isfile('data.csv'):\n",
        "    data = open('data.csv', mode='w')\n",
        "\n",
        "files = ['/content/combined_data_1.txt',\n",
        "         '/content/combined_data_2.txt',\n",
        "         '/content/combined_data_3.txt',\n",
        "         '/content/combined_data_4.txt']\n",
        "\n",
        "# Remove the line with movie_id: and add a new column of movie_id\n",
        "# Combine all data files into a csv file\n",
        "for file in files:\n",
        "  print(\"Opening file: {}\".format(file))\n",
        "  with open(file) as f:\n",
        "    for line in f:\n",
        "        line = line.strip()\n",
        "        if line.endswith(':'):\n",
        "            movie_id = line.replace(':', '')\n",
        "        else:\n",
        "            data.write(movie_id + ',' + line)\n",
        "            data.write('\\n')\n",
        "data.close()\n",
        "\n"
      ],
      "execution_count": null,
      "outputs": [
        {
          "output_type": "stream",
          "text": [
            "Opening file: /content/combined_data_1.txt\n",
            "Opening file: /content/combined_data_2.txt\n",
            "Opening file: /content/combined_data_3.txt\n",
            "Opening file: /content/combined_data_4.txt\n"
          ],
          "name": "stdout"
        }
      ]
    },
    {
      "cell_type": "code",
      "metadata": {
        "colab": {
          "base_uri": "https://localhost:8080/",
          "height": 414
        },
        "id": "lpg12YdTYFP_",
        "outputId": "55649304-c2a3-4f74-d11c-18e643707a99"
      },
      "source": [
        "# Read all data into a pd dataframe\n",
        "df = pd.read_csv('data.csv', names=['movie_id', \n",
        "                                    'user_id',\n",
        "                                    'rating',\n",
        "                                    'date'])\n",
        "\n",
        "df"
      ],
      "execution_count": null,
      "outputs": [
        {
          "output_type": "execute_result",
          "data": {
            "text/html": [
              "<div>\n",
              "<style scoped>\n",
              "    .dataframe tbody tr th:only-of-type {\n",
              "        vertical-align: middle;\n",
              "    }\n",
              "\n",
              "    .dataframe tbody tr th {\n",
              "        vertical-align: top;\n",
              "    }\n",
              "\n",
              "    .dataframe thead th {\n",
              "        text-align: right;\n",
              "    }\n",
              "</style>\n",
              "<table border=\"1\" class=\"dataframe\">\n",
              "  <thead>\n",
              "    <tr style=\"text-align: right;\">\n",
              "      <th></th>\n",
              "      <th>movie_id</th>\n",
              "      <th>user_id</th>\n",
              "      <th>rating</th>\n",
              "      <th>date</th>\n",
              "    </tr>\n",
              "  </thead>\n",
              "  <tbody>\n",
              "    <tr>\n",
              "      <th>0</th>\n",
              "      <td>1</td>\n",
              "      <td>1488844</td>\n",
              "      <td>3.0</td>\n",
              "      <td>2005-09-06</td>\n",
              "    </tr>\n",
              "    <tr>\n",
              "      <th>1</th>\n",
              "      <td>1</td>\n",
              "      <td>822109</td>\n",
              "      <td>5.0</td>\n",
              "      <td>2005-05-13</td>\n",
              "    </tr>\n",
              "    <tr>\n",
              "      <th>2</th>\n",
              "      <td>1</td>\n",
              "      <td>885013</td>\n",
              "      <td>4.0</td>\n",
              "      <td>2005-10-19</td>\n",
              "    </tr>\n",
              "    <tr>\n",
              "      <th>3</th>\n",
              "      <td>1</td>\n",
              "      <td>30878</td>\n",
              "      <td>4.0</td>\n",
              "      <td>2005-12-26</td>\n",
              "    </tr>\n",
              "    <tr>\n",
              "      <th>4</th>\n",
              "      <td>1</td>\n",
              "      <td>823519</td>\n",
              "      <td>3.0</td>\n",
              "      <td>2004-05-03</td>\n",
              "    </tr>\n",
              "    <tr>\n",
              "      <th>...</th>\n",
              "      <td>...</td>\n",
              "      <td>...</td>\n",
              "      <td>...</td>\n",
              "      <td>...</td>\n",
              "    </tr>\n",
              "    <tr>\n",
              "      <th>6215946</th>\n",
              "      <td>13614</td>\n",
              "      <td>1476458</td>\n",
              "      <td>1.0</td>\n",
              "      <td>2001-01-09</td>\n",
              "    </tr>\n",
              "    <tr>\n",
              "      <th>6215947</th>\n",
              "      <td>13614</td>\n",
              "      <td>942709</td>\n",
              "      <td>4.0</td>\n",
              "      <td>2005-07-17</td>\n",
              "    </tr>\n",
              "    <tr>\n",
              "      <th>6215948</th>\n",
              "      <td>13614</td>\n",
              "      <td>2099824</td>\n",
              "      <td>4.0</td>\n",
              "      <td>2005-07-17</td>\n",
              "    </tr>\n",
              "    <tr>\n",
              "      <th>6215949</th>\n",
              "      <td>13614</td>\n",
              "      <td>1865887</td>\n",
              "      <td>4.0</td>\n",
              "      <td>2003-06-27</td>\n",
              "    </tr>\n",
              "    <tr>\n",
              "      <th>6215950</th>\n",
              "      <td>13614</td>\n",
              "      <td>624943</td>\n",
              "      <td>3.0</td>\n",
              "      <td>2005-07-19</td>\n",
              "    </tr>\n",
              "  </tbody>\n",
              "</table>\n",
              "<p>6215951 rows × 4 columns</p>\n",
              "</div>"
            ],
            "text/plain": [
              "         movie_id  user_id  rating        date\n",
              "0               1  1488844     3.0  2005-09-06\n",
              "1               1   822109     5.0  2005-05-13\n",
              "2               1   885013     4.0  2005-10-19\n",
              "3               1    30878     4.0  2005-12-26\n",
              "4               1   823519     3.0  2004-05-03\n",
              "...           ...      ...     ...         ...\n",
              "6215946     13614  1476458     1.0  2001-01-09\n",
              "6215947     13614   942709     4.0  2005-07-17\n",
              "6215948     13614  2099824     4.0  2005-07-17\n",
              "6215949     13614  1865887     4.0  2003-06-27\n",
              "6215950     13614   624943     3.0  2005-07-19\n",
              "\n",
              "[6215951 rows x 4 columns]"
            ]
          },
          "metadata": {
            "tags": []
          },
          "execution_count": 3
        }
      ]
    },
    {
      "cell_type": "code",
      "metadata": {
        "colab": {
          "base_uri": "https://localhost:8080/"
        },
        "id": "AMCydJ1qS4-e",
        "outputId": "93c5e761-282f-4f24-ac93-b90226e09d6b"
      },
      "source": [
        "df.dropna(inplace=True)\n",
        "df.isnull().sum()"
      ],
      "execution_count": null,
      "outputs": [
        {
          "output_type": "execute_result",
          "data": {
            "text/plain": [
              "movie_id    0\n",
              "user_id     0\n",
              "rating      0\n",
              "date        0\n",
              "dtype: int64"
            ]
          },
          "metadata": {
            "tags": []
          },
          "execution_count": 6
        }
      ]
    },
    {
      "cell_type": "code",
      "metadata": {
        "colab": {
          "base_uri": "https://localhost:8080/"
        },
        "id": "sSLOwMPwVBbf",
        "outputId": "ad787e0b-6b3d-47ea-de08-691addf9c959"
      },
      "source": [
        "df.duplicated().sum()"
      ],
      "execution_count": null,
      "outputs": [
        {
          "output_type": "execute_result",
          "data": {
            "text/plain": [
              "0"
            ]
          },
          "metadata": {
            "tags": []
          },
          "execution_count": 7
        }
      ]
    },
    {
      "cell_type": "code",
      "metadata": {
        "id": "pKaI4B5-Vp7F",
        "colab": {
          "base_uri": "https://localhost:8080/",
          "height": 414
        },
        "outputId": "53817314-aee8-42da-b549-862d328d4cd1"
      },
      "source": [
        "#no need to use the df_movie\n",
        "#continue df\n",
        "\n",
        "#pre-process stage\n",
        "\n",
        "lite_rating_df = pd.DataFrame()\n",
        "\n",
        "group = df.groupby('user_id')['rating'].count()\n",
        "top_users = group.sort_values(ascending=False)[:20000]\n",
        "\n",
        "group = df.groupby('movie_id')['rating'].count()\n",
        "top_movies = group.sort_values(ascending=False)[:4000]\n",
        "\n",
        "lite_rating_df = df.join(top_users, rsuffix='_r', how='inner', on='user_id')\n",
        "lite_rating_df = lite_rating_df.join(top_movies, rsuffix='_r', how='inner', on='movie_id')\n",
        "\n",
        "# Re-name the users and movies for uniform name from 0..2000 and 10000\n",
        "user_enc = LabelEncoder()\n",
        "lite_rating_df['user'] = user_enc.fit_transform(lite_rating_df['user_id'].values)\n",
        "movie_enc = LabelEncoder()\n",
        "lite_rating_df['movie'] = movie_enc.fit_transform(lite_rating_df['movie_id'].values)\n",
        "\n",
        "n_movies = lite_rating_df['movie'].nunique()\n",
        "n_users = lite_rating_df['user'].nunique()\n",
        "\n",
        "# print(n_movies, n_users)\n",
        "lite_rating_df"
      ],
      "execution_count": null,
      "outputs": [
        {
          "output_type": "execute_result",
          "data": {
            "text/html": [
              "<div>\n",
              "<style scoped>\n",
              "    .dataframe tbody tr th:only-of-type {\n",
              "        vertical-align: middle;\n",
              "    }\n",
              "\n",
              "    .dataframe tbody tr th {\n",
              "        vertical-align: top;\n",
              "    }\n",
              "\n",
              "    .dataframe thead th {\n",
              "        text-align: right;\n",
              "    }\n",
              "</style>\n",
              "<table border=\"1\" class=\"dataframe\">\n",
              "  <thead>\n",
              "    <tr style=\"text-align: right;\">\n",
              "      <th></th>\n",
              "      <th>movie_id</th>\n",
              "      <th>user_id</th>\n",
              "      <th>rating</th>\n",
              "      <th>date</th>\n",
              "      <th>rating_r</th>\n",
              "      <th>rating_r</th>\n",
              "      <th>user</th>\n",
              "      <th>movie</th>\n",
              "    </tr>\n",
              "  </thead>\n",
              "  <tbody>\n",
              "    <tr>\n",
              "      <th>0</th>\n",
              "      <td>1</td>\n",
              "      <td>1488844</td>\n",
              "      <td>3.0</td>\n",
              "      <td>2005-09-06</td>\n",
              "      <td>146</td>\n",
              "      <td>547</td>\n",
              "      <td>11248</td>\n",
              "      <td>0</td>\n",
              "    </tr>\n",
              "    <tr>\n",
              "      <th>3</th>\n",
              "      <td>1</td>\n",
              "      <td>30878</td>\n",
              "      <td>4.0</td>\n",
              "      <td>2005-12-26</td>\n",
              "      <td>93</td>\n",
              "      <td>547</td>\n",
              "      <td>228</td>\n",
              "      <td>0</td>\n",
              "    </tr>\n",
              "    <tr>\n",
              "      <th>7</th>\n",
              "      <td>1</td>\n",
              "      <td>1248029</td>\n",
              "      <td>3.0</td>\n",
              "      <td>2004-04-22</td>\n",
              "      <td>100</td>\n",
              "      <td>547</td>\n",
              "      <td>9417</td>\n",
              "      <td>0</td>\n",
              "    </tr>\n",
              "    <tr>\n",
              "      <th>19</th>\n",
              "      <td>1</td>\n",
              "      <td>372233</td>\n",
              "      <td>5.0</td>\n",
              "      <td>2005-11-23</td>\n",
              "      <td>72</td>\n",
              "      <td>547</td>\n",
              "      <td>2728</td>\n",
              "      <td>0</td>\n",
              "    </tr>\n",
              "    <tr>\n",
              "      <th>20</th>\n",
              "      <td>1</td>\n",
              "      <td>1080361</td>\n",
              "      <td>3.0</td>\n",
              "      <td>2005-03-28</td>\n",
              "      <td>79</td>\n",
              "      <td>547</td>\n",
              "      <td>8133</td>\n",
              "      <td>0</td>\n",
              "    </tr>\n",
              "    <tr>\n",
              "      <th>...</th>\n",
              "      <td>...</td>\n",
              "      <td>...</td>\n",
              "      <td>...</td>\n",
              "      <td>...</td>\n",
              "      <td>...</td>\n",
              "      <td>...</td>\n",
              "      <td>...</td>\n",
              "      <td>...</td>\n",
              "    </tr>\n",
              "    <tr>\n",
              "      <th>1531623</th>\n",
              "      <td>4505</td>\n",
              "      <td>2520364</td>\n",
              "      <td>1.0</td>\n",
              "      <td>2005-10-20</td>\n",
              "      <td>93</td>\n",
              "      <td>238</td>\n",
              "      <td>19020</td>\n",
              "      <td>317</td>\n",
              "    </tr>\n",
              "    <tr>\n",
              "      <th>1531636</th>\n",
              "      <td>4505</td>\n",
              "      <td>2399030</td>\n",
              "      <td>1.0</td>\n",
              "      <td>2005-11-08</td>\n",
              "      <td>75</td>\n",
              "      <td>238</td>\n",
              "      <td>18055</td>\n",
              "      <td>317</td>\n",
              "    </tr>\n",
              "    <tr>\n",
              "      <th>1531595</th>\n",
              "      <td>4505</td>\n",
              "      <td>907347</td>\n",
              "      <td>3.0</td>\n",
              "      <td>2005-10-30</td>\n",
              "      <td>62</td>\n",
              "      <td>238</td>\n",
              "      <td>6812</td>\n",
              "      <td>317</td>\n",
              "    </tr>\n",
              "    <tr>\n",
              "      <th>1531445</th>\n",
              "      <td>4505</td>\n",
              "      <td>1283137</td>\n",
              "      <td>2.0</td>\n",
              "      <td>2005-11-18</td>\n",
              "      <td>104</td>\n",
              "      <td>238</td>\n",
              "      <td>9697</td>\n",
              "      <td>317</td>\n",
              "    </tr>\n",
              "    <tr>\n",
              "      <th>1531464</th>\n",
              "      <td>4505</td>\n",
              "      <td>2417245</td>\n",
              "      <td>2.0</td>\n",
              "      <td>2005-10-11</td>\n",
              "      <td>67</td>\n",
              "      <td>238</td>\n",
              "      <td>18200</td>\n",
              "      <td>317</td>\n",
              "    </tr>\n",
              "  </tbody>\n",
              "</table>\n",
              "<p>1640268 rows × 8 columns</p>\n",
              "</div>"
            ],
            "text/plain": [
              "         movie_id  user_id  rating  ... rating_r   user  movie\n",
              "0               1  1488844     3.0  ...      547  11248      0\n",
              "3               1    30878     4.0  ...      547    228      0\n",
              "7               1  1248029     3.0  ...      547   9417      0\n",
              "19              1   372233     5.0  ...      547   2728      0\n",
              "20              1  1080361     3.0  ...      547   8133      0\n",
              "...           ...      ...     ...  ...      ...    ...    ...\n",
              "1531623      4505  2520364     1.0  ...      238  19020    317\n",
              "1531636      4505  2399030     1.0  ...      238  18055    317\n",
              "1531595      4505   907347     3.0  ...      238   6812    317\n",
              "1531445      4505  1283137     2.0  ...      238   9697    317\n",
              "1531464      4505  2417245     2.0  ...      238  18200    317\n",
              "\n",
              "[1640268 rows x 8 columns]"
            ]
          },
          "metadata": {
            "tags": []
          },
          "execution_count": 8
        }
      ]
    },
    {
      "cell_type": "code",
      "metadata": {
        "colab": {
          "base_uri": "https://localhost:8080/"
        },
        "id": "w0vh6zxSblkN",
        "outputId": "aa25ee2c-1974-4545-acd2-4de5c3d36356"
      },
      "source": [
        "top_users[:5]"
      ],
      "execution_count": null,
      "outputs": [
        {
          "output_type": "execute_result",
          "data": {
            "text/plain": [
              "user_id\n",
              "305344     1177\n",
              "387418     1166\n",
              "2439493    1115\n",
              "1664010    1063\n",
              "2118461     974\n",
              "Name: rating, dtype: int64"
            ]
          },
          "metadata": {
            "tags": []
          },
          "execution_count": 9
        }
      ]
    },
    {
      "cell_type": "code",
      "metadata": {
        "colab": {
          "base_uri": "https://localhost:8080/"
        },
        "id": "dEfI14ycbxEi",
        "outputId": "7bb06cac-e6f8-4b70-fb65-b450933ce24c"
      },
      "source": [
        "top_movies[:5]"
      ],
      "execution_count": null,
      "outputs": [
        {
          "output_type": "execute_result",
          "data": {
            "text/plain": [
              "movie_id\n",
              "9340     173596\n",
              "4656     130782\n",
              "4640     122158\n",
              "13462    118884\n",
              "30       118413\n",
              "Name: rating, dtype: int64"
            ]
          },
          "metadata": {
            "tags": []
          },
          "execution_count": 10
        }
      ]
    },
    {
      "cell_type": "code",
      "metadata": {
        "colab": {
          "base_uri": "https://localhost:8080/"
        },
        "id": "YRAeMDnfcRVA",
        "outputId": "45632936-c390-4335-bd64-36a9829a1412"
      },
      "source": [
        "lite_rating_df.isnull().sum()#dataset no null values"
      ],
      "execution_count": null,
      "outputs": [
        {
          "output_type": "execute_result",
          "data": {
            "text/plain": [
              "movie_id    0\n",
              "user_id     0\n",
              "rating      0\n",
              "date        0\n",
              "rating_r    0\n",
              "rating_r    0\n",
              "user        0\n",
              "movie       0\n",
              "dtype: int64"
            ]
          },
          "metadata": {
            "tags": []
          },
          "execution_count": 11
        }
      ]
    },
    {
      "cell_type": "code",
      "metadata": {
        "id": "7HCJQWkAcm0J",
        "colab": {
          "base_uri": "https://localhost:8080/"
        },
        "outputId": "187c27a1-dce6-433e-e1dc-ff5acd7328dc"
      },
      "source": [
        "X = lite_rating_df[['user', 'movie']].values\n",
        "y = lite_rating_df['rating'].values\n",
        "\n",
        "# Split train and test data (for test model performance at last)\n",
        "X_training, X_test, y_training, y_test = train_test_split(X, y, test_size=0.1)\n",
        "\n",
        "# Split train and validation data (to monitor model performance in training)\n",
        "X_train, X_val, y_train, y_val = train_test_split(X_training, y_training, test_size=0.1)\n",
        "\n",
        "# Set the embedding dimension d of Matrix factorization\n",
        "e_dimension = 50\n",
        "\n",
        "X_train_array = [X_train[:, 0], X_train[:, 1]]\n",
        "X_val_array = [X_val[:, 0], X_val[:, 1]]\n",
        "X_test_array = [X_test[:, 0], X_test[:, 1]]\n",
        "\n",
        "print(f\"X Train: {X_train.shape}\\nX Test: {X_test.shape}\\n\")\n",
        "print(f\"Y Train: {Y_train.shape}\\nY Test: {Y_test.shape}\\n\")"
      ],
      "execution_count": null,
      "outputs": [
        {
          "output_type": "stream",
          "text": [
            "X Train: (1328616, 2)\n",
            "X Test: (164027, 2)\n",
            "\n",
            "Y Train: (1312214,)\n",
            "Y Test: (328054,)\n",
            "\n"
          ],
          "name": "stdout"
        }
      ]
    },
    {
      "cell_type": "code",
      "metadata": {
        "id": "8agW02v0e4CM",
        "colab": {
          "base_uri": "https://localhost:8080/"
        },
        "outputId": "a7a582cf-1416-4646-fd86-90b71f97e384"
      },
      "source": [
        "# Build user and movie embedding matrix\n",
        "user = Input(shape=(1,))\n",
        "u = Embedding(n_users, e_dimension, embeddings_initializer='he_normal',\n",
        "              embeddings_regularizer=l2(1e-6))(user)\n",
        "u = Reshape((e_dimension,))(u)\n",
        "\n",
        "movie = Input(shape=(1,))\n",
        "m = Embedding(n_movies, e_dimension, embeddings_initializer='he_normal',\n",
        "              embeddings_regularizer=l2(1e-6))(movie)\n",
        "m = Reshape((e_dimension,))(m)\n",
        "\n",
        "x = Dot(axes=1)([u, m])\n",
        "# Build last deep learning layers \n",
        "x = Dense(128, activation='relu')(x)\n",
        "x = Dropout(0.2)(x)\n",
        "x = Dense(1)(x)\n",
        "\n",
        "model = Model(inputs=[user, movie], outputs=x)\n",
        "model.compile(loss='mean_squared_error', \n",
        "              optimizer=Adam(lr=0.001), \n",
        "              metrics=[tf.keras.metrics.Accuracy()]\n",
        "              )\n",
        "\n",
        "# Set up for early stop if the validation loss stop improving for more than 1 epoch\n",
        "callbacks_list = [keras.callbacks.EarlyStopping(monitor='val_loss',\n",
        "                                                patience=1,\n",
        "                                                ),\n",
        "                  # Saves the weights after every epoch\n",
        "                  keras.callbacks.ModelCheckpoint(  \n",
        "                      filepath='Model_1',\n",
        "                      monitor='val_loss',\n",
        "                      save_best_only=True,\n",
        "                      )]\n",
        "\n",
        "# Print model info summary\n",
        "model.summary()  \n",
        "\n",
        "history = model.fit(x=X_train_array, y=y_train, batch_size=64, epochs=5,\n",
        "                    verbose=1, \n",
        "                    callbacks=callbacks_list,\n",
        "                    validation_data=(X_val_array, y_val)\n",
        "                    )\n",
        "\n",
        "# Save the model (we should make a good habit of always saving our models after training)\n",
        "model.save(\"Model_1\")"
      ],
      "execution_count": null,
      "outputs": [
        {
          "output_type": "stream",
          "text": [
            "/usr/local/lib/python3.7/dist-packages/tensorflow/python/keras/optimizer_v2/optimizer_v2.py:375: UserWarning: The `lr` argument is deprecated, use `learning_rate` instead.\n",
            "  \"The `lr` argument is deprecated, use `learning_rate` instead.\")\n"
          ],
          "name": "stderr"
        },
        {
          "output_type": "stream",
          "text": [
            "Model: \"model_10\"\n",
            "__________________________________________________________________________________________________\n",
            "Layer (type)                    Output Shape         Param #     Connected to                     \n",
            "==================================================================================================\n",
            "input_21 (InputLayer)           [(None, 1)]          0                                            \n",
            "__________________________________________________________________________________________________\n",
            "input_22 (InputLayer)           [(None, 1)]          0                                            \n",
            "__________________________________________________________________________________________________\n",
            "embedding_20 (Embedding)        (None, 1, 50)        1000000     input_21[0][0]                   \n",
            "__________________________________________________________________________________________________\n",
            "embedding_21 (Embedding)        (None, 1, 50)        59350       input_22[0][0]                   \n",
            "__________________________________________________________________________________________________\n",
            "reshape_20 (Reshape)            (None, 50)           0           embedding_20[0][0]               \n",
            "__________________________________________________________________________________________________\n",
            "reshape_21 (Reshape)            (None, 50)           0           embedding_21[0][0]               \n",
            "__________________________________________________________________________________________________\n",
            "dot_10 (Dot)                    (None, 1)            0           reshape_20[0][0]                 \n",
            "                                                                 reshape_21[0][0]                 \n",
            "__________________________________________________________________________________________________\n",
            "dense_20 (Dense)                (None, 128)          256         dot_10[0][0]                     \n",
            "__________________________________________________________________________________________________\n",
            "dropout_10 (Dropout)            (None, 128)          0           dense_20[0][0]                   \n",
            "__________________________________________________________________________________________________\n",
            "dense_21 (Dense)                (None, 1)            129         dropout_10[0][0]                 \n",
            "==================================================================================================\n",
            "Total params: 1,059,735\n",
            "Trainable params: 1,059,735\n",
            "Non-trainable params: 0\n",
            "__________________________________________________________________________________________________\n",
            "Epoch 1/5\n",
            "20760/20760 [==============================] - 240s 12ms/step - loss: 1.3196 - root_mean_squared_error: 1.3387 - val_loss: 0.7973 - val_root_mean_squared_error: 0.9790\n",
            "INFO:tensorflow:Assets written to: Model_1/assets\n",
            "Epoch 2/5\n",
            "20760/20760 [==============================] - 241s 12ms/step - loss: 0.6745 - root_mean_squared_error: 0.9491 - val_loss: 0.7992 - val_root_mean_squared_error: 0.9017\n",
            "INFO:tensorflow:Assets written to: Model_1/assets\n"
          ],
          "name": "stdout"
        }
      ]
    },
    {
      "cell_type": "code",
      "metadata": {
        "id": "m8QDPjkhhrI0",
        "colab": {
          "base_uri": "https://localhost:8080/",
          "height": 294
        },
        "outputId": "d6c07287-8873-4ba0-dcf4-c439d1e9d52f"
      },
      "source": [
        "# Visualize the training and validation loss\n",
        "\n",
        "history_dict = history.history\n",
        "loss_values = history_dict['loss']\n",
        "val_loss_values = history_dict['val_loss']\n",
        "epochs = range(1, len(loss_values) + 1)\n",
        "\n",
        "plt.plot(epochs, loss_values, 'ro', label='Training loss')\n",
        "plt.plot(epochs, val_loss_values, 'b', label='Validation loss')\n",
        "plt.title('Training and validation loss')\n",
        "plt.xlabel('Epochs')\n",
        "plt.ylabel('Loss')\n",
        "plt.legend()\n",
        "plt.show()"
      ],
      "execution_count": null,
      "outputs": [
        {
          "output_type": "display_data",
          "data": {
            "image/png": "[encoded data removed]",
            "text/plain": [
              "<Figure size 432x288 with 1 Axes>"
            ]
          },
          "metadata": {
            "tags": [],
            "needs_background": "light"
          }
        }
      ]
    },
    {
      "cell_type": "code",
      "metadata": {
        "id": "l8lFoz_Dsc6L",
        "colab": {
          "base_uri": "https://localhost:8080/"
        },
        "outputId": "9463b1c8-806a-4ae7-ca80-4da45f273884"
      },
      "source": [
        "m = tf.keras.metrics.RootMeanSquaredError()\n",
        "m.update_state(model.predict(X_test_array), y_test)\n",
        "m.result().numpy()"
      ],
      "execution_count": null,
      "outputs": [
        {
          "output_type": "execute_result",
          "data": {
            "text/plain": [
              "0.87932473"
            ]
          },
          "metadata": {
            "tags": []
          },
          "execution_count": 41
        }
      ]
    },
    {
      "cell_type": "markdown",
      "metadata": {
        "id": "yzciCoqND9dM"
      },
      "source": [
        "In the test result, we can see that our model's RMSE is 0.87932473, which is quite good"
      ]
    }
  ]
}