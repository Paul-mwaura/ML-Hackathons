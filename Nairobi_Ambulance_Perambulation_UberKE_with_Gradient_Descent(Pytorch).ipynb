{
  "nbformat": 4,
  "nbformat_minor": 0,
  "metadata": {
    "colab": {
      "name": "Nairobi_Ambulance_Perambulation -  UberKE_with_Gradient Descent(Pytorch)",
      "provenance": [],
      "collapsed_sections": [],
      "toc_visible": true,
      "include_colab_link": true
    },
    "kernelspec": {
      "display_name": "Python 3",
      "name": "python3"
    }
  },
  "cells": [
    {
      "cell_type": "markdown",
      "metadata": {
        "id": "view-in-github",
        "colab_type": "text"
      },
      "source": [
        "<a href=\"https://colab.research.google.com/github/Paul-mwaura/ML-Hackathons/blob/main/Nairobi_Ambulance_Perambulation_UberKE_with_Gradient_Descent(Pytorch).ipynb\" target=\"_parent\"><img src=\"https://colab.research.google.com/assets/colab-badge.svg\" alt=\"Open In Colab\"/></a>"
      ]
    },
    {
      "cell_type": "markdown",
      "metadata": {
        "id": "h-YKJhWgu1-W"
      },
      "source": [
        "# Introduction\n",
        "\n",
        "The [Uber Nairobi Ambulance Perambulation Challenge](https://zindi.africa/competitions/uber-nairobi-ambulance-perambulation-challenge) on Zindi is a little different, and you might not have many ideas for how to get started. This is the first of several notebooks I'll be releasing related to the challenge. In this one, we'll use gradient descent to find some locations that reduce our loss - this gives a single set of locations (no changes over time) so it can definitely be improved upon, but it should at least give us a nice baseline which we can attempt to beat :)\n",
        "\n",
        "Please post questions in the discussion here: https://zindi.africa/competitions/uber-nairobi-ambulance-perambulation-challenge/discussions/3501"
      ]
    },
    {
      "cell_type": "markdown",
      "metadata": {
        "id": "b58UbR2BpY6f"
      },
      "source": [
        "# Setup\n",
        "\n",
        "Upload Train.csv from Zindi and we should be good to go :)"
      ]
    },
    {
      "cell_type": "code",
      "metadata": {
        "id": "g4I4H1I6KIJR"
      },
      "source": [
        "!pip install --upgrade fastcore -q\n",
        "!pip install --upgrade fastai -q"
      ],
      "execution_count": null,
      "outputs": []
    },
    {
      "cell_type": "code",
      "metadata": {
        "id": "bs6NQyyXKUps"
      },
      "source": [
        "from fastai.vision.all import * # Needs latest version, and sometimes a restart of the runtime after the pip installs"
      ],
      "execution_count": null,
      "outputs": []
    },
    {
      "cell_type": "markdown",
      "metadata": {
        "id": "GE6CrvCtMdmI"
      },
      "source": [
        "# Loading the Crash Data"
      ]
    },
    {
      "cell_type": "code",
      "metadata": {
        "id": "GJL0o8N5K0vT",
        "colab": {
          "base_uri": "https://localhost:8080/",
          "height": 197
        },
        "outputId": "429a1866-0c06-410a-ef44-bfb89f6fd03c"
      },
      "source": [
        "train = pd.read_csv('Train.csv')\n",
        "train.head()"
      ],
      "execution_count": null,
      "outputs": [
        {
          "output_type": "execute_result",
          "data": {
            "text/html": [
              "<div>\n",
              "<style scoped>\n",
              "    .dataframe tbody tr th:only-of-type {\n",
              "        vertical-align: middle;\n",
              "    }\n",
              "\n",
              "    .dataframe tbody tr th {\n",
              "        vertical-align: top;\n",
              "    }\n",
              "\n",
              "    .dataframe thead th {\n",
              "        text-align: right;\n",
              "    }\n",
              "</style>\n",
              "<table border=\"1\" class=\"dataframe\">\n",
              "  <thead>\n",
              "    <tr style=\"text-align: right;\">\n",
              "      <th></th>\n",
              "      <th>uid</th>\n",
              "      <th>datetime</th>\n",
              "      <th>latitude</th>\n",
              "      <th>longitude</th>\n",
              "    </tr>\n",
              "  </thead>\n",
              "  <tbody>\n",
              "    <tr>\n",
              "      <th>0</th>\n",
              "      <td>1</td>\n",
              "      <td>2018-01-01 00:25:46</td>\n",
              "      <td>-1.188850</td>\n",
              "      <td>36.931382</td>\n",
              "    </tr>\n",
              "    <tr>\n",
              "      <th>1</th>\n",
              "      <td>2</td>\n",
              "      <td>2018-01-01 02:02:39</td>\n",
              "      <td>-0.662939</td>\n",
              "      <td>37.208730</td>\n",
              "    </tr>\n",
              "    <tr>\n",
              "      <th>2</th>\n",
              "      <td>3</td>\n",
              "      <td>2018-01-01 02:31:49</td>\n",
              "      <td>-0.662939</td>\n",
              "      <td>37.208730</td>\n",
              "    </tr>\n",
              "    <tr>\n",
              "      <th>3</th>\n",
              "      <td>4</td>\n",
              "      <td>2018-01-01 03:04:01</td>\n",
              "      <td>-1.288087</td>\n",
              "      <td>36.826583</td>\n",
              "    </tr>\n",
              "    <tr>\n",
              "      <th>4</th>\n",
              "      <td>5</td>\n",
              "      <td>2018-01-01 03:58:49</td>\n",
              "      <td>-1.188850</td>\n",
              "      <td>36.931382</td>\n",
              "    </tr>\n",
              "  </tbody>\n",
              "</table>\n",
              "</div>"
            ],
            "text/plain": [
              "   uid             datetime  latitude  longitude\n",
              "0    1  2018-01-01 00:25:46 -1.188850  36.931382\n",
              "1    2  2018-01-01 02:02:39 -0.662939  37.208730\n",
              "2    3  2018-01-01 02:31:49 -0.662939  37.208730\n",
              "3    4  2018-01-01 03:04:01 -1.288087  36.826583\n",
              "4    5  2018-01-01 03:58:49 -1.188850  36.931382"
            ]
          },
          "metadata": {
            "tags": []
          },
          "execution_count": 55
        }
      ]
    },
    {
      "cell_type": "markdown",
      "metadata": {
        "id": "rhqED8MYesK4"
      },
      "source": [
        "# Finding locations with Gradient Descent\n",
        "\n",
        "To do the gradient descent we'll rely on PyTorch to calculate gradients. If you're not familiar with tensors and this part looks scary, check out the fastai lossons that cover SGD from scratch (Lessons 3 and 4 of the new course and this book chapter:https://github.com/fastai/fastbook/blob/master/04_mnist_basics.ipynb). This is where I got a lot of the inspiration for this code.\n",
        "\n",
        "I start with 6 random locations that are close to the center of the crashes - plot these over the crashes and see if this initialization seems sensible."
      ]
    },
    {
      "cell_type": "code",
      "metadata": {
        "id": "kdTnkgfIrhW3",
        "colab": {
          "base_uri": "https://localhost:8080/",
          "height": 287
        },
        "outputId": "ec40879a-381f-48ce-bc1c-f9031b54c85d"
      },
      "source": [
        "train.describe()"
      ],
      "execution_count": null,
      "outputs": [
        {
          "output_type": "execute_result",
          "data": {
            "text/html": [
              "<div>\n",
              "<style scoped>\n",
              "    .dataframe tbody tr th:only-of-type {\n",
              "        vertical-align: middle;\n",
              "    }\n",
              "\n",
              "    .dataframe tbody tr th {\n",
              "        vertical-align: top;\n",
              "    }\n",
              "\n",
              "    .dataframe thead th {\n",
              "        text-align: right;\n",
              "    }\n",
              "</style>\n",
              "<table border=\"1\" class=\"dataframe\">\n",
              "  <thead>\n",
              "    <tr style=\"text-align: right;\">\n",
              "      <th></th>\n",
              "      <th>uid</th>\n",
              "      <th>latitude</th>\n",
              "      <th>longitude</th>\n",
              "    </tr>\n",
              "  </thead>\n",
              "  <tbody>\n",
              "    <tr>\n",
              "      <th>count</th>\n",
              "      <td>6318.000000</td>\n",
              "      <td>6318.000000</td>\n",
              "      <td>6318.000000</td>\n",
              "    </tr>\n",
              "    <tr>\n",
              "      <th>mean</th>\n",
              "      <td>3159.500000</td>\n",
              "      <td>-1.270338</td>\n",
              "      <td>36.855459</td>\n",
              "    </tr>\n",
              "    <tr>\n",
              "      <th>std</th>\n",
              "      <td>1823.993832</td>\n",
              "      <td>0.125157</td>\n",
              "      <td>0.112866</td>\n",
              "    </tr>\n",
              "    <tr>\n",
              "      <th>min</th>\n",
              "      <td>1.000000</td>\n",
              "      <td>-3.050000</td>\n",
              "      <td>36.332202</td>\n",
              "    </tr>\n",
              "    <tr>\n",
              "      <th>25%</th>\n",
              "      <td>1580.250000</td>\n",
              "      <td>-1.316585</td>\n",
              "      <td>36.802048</td>\n",
              "    </tr>\n",
              "    <tr>\n",
              "      <th>50%</th>\n",
              "      <td>3159.500000</td>\n",
              "      <td>-1.271709</td>\n",
              "      <td>36.844591</td>\n",
              "    </tr>\n",
              "    <tr>\n",
              "      <th>75%</th>\n",
              "      <td>4738.750000</td>\n",
              "      <td>-1.233746</td>\n",
              "      <td>36.895642</td>\n",
              "    </tr>\n",
              "    <tr>\n",
              "      <th>max</th>\n",
              "      <td>6318.000000</td>\n",
              "      <td>-0.565402</td>\n",
              "      <td>37.879490</td>\n",
              "    </tr>\n",
              "  </tbody>\n",
              "</table>\n",
              "</div>"
            ],
            "text/plain": [
              "               uid     latitude    longitude\n",
              "count  6318.000000  6318.000000  6318.000000\n",
              "mean   3159.500000    -1.270338    36.855459\n",
              "std    1823.993832     0.125157     0.112866\n",
              "min       1.000000    -3.050000    36.332202\n",
              "25%    1580.250000    -1.316585    36.802048\n",
              "50%    3159.500000    -1.271709    36.844591\n",
              "75%    4738.750000    -1.233746    36.895642\n",
              "max    6318.000000    -0.565402    37.879490"
            ]
          },
          "metadata": {
            "tags": []
          },
          "execution_count": 56
        }
      ]
    },
    {
      "cell_type": "markdown",
      "metadata": {
        "id": "nk6BLVH_IOxZ"
      },
      "source": [
        "#### Check for outliers"
      ]
    },
    {
      "cell_type": "code",
      "metadata": {
        "id": "B5RrSr77IOd2",
        "colab": {
          "base_uri": "https://localhost:8080/",
          "height": 317
        },
        "outputId": "0b4a593b-4b71-4d92-b08a-97c17a6c8b74"
      },
      "source": [
        "# Define the numeric columns\n",
        "#\n",
        "train[['latitude', 'longitude']]\n",
        "\n",
        "plt.style.use('bmh')\n",
        "\n",
        "# Checking for Outliers.\n",
        "# plotting outliers for the numeric columns\n",
        "#\n",
        "_t, cols = pd.DataFrame.boxplot(train[['latitude', 'longitude']], return_type='both')\n",
        "\n",
        "outliers = [flier.get_ydata() for flier in cols['fliers']]\n",
        "out_list = [i.tolist() for i in outliers]\n",
        "\n",
        "print(f\" Ourtliers:\\n {out_list}\")"
      ],
      "execution_count": null,
      "outputs": [
        {
          "output_type": "stream",
          "text": [
            " Ourtliers:\n",
            " [[-1.6050616087800402, -1.48464840935047, -1.48313562213472, -1.48464840935047, -1.46107358539872, -1.4510349096960602, -1.49122383734707, -1.47924517763491, -1.4740440100626102, -1.5500000088470602, -1.53591625394131, -1.52871904629841, -2.0798751063499, -2.0798751063499, -2.0798751063499, -2.0798751063499, -1.5398883594420505, -2.9255715029212497, -1.4813927229043502, -1.48464840935047, -1.52871904629841, -1.50208187438148, -1.47924517763491, -1.46667000917141, -1.5060095097517698, -1.49122383734707, -1.48410680946995, -2.3948186049724103, -1.49122383734707, -2.66757000345303, -2.66757000345303, -2.66757000345303, -2.0798751063499, -2.66757000345303, -2.66757000345303, -2.0798751063499, -1.50825060203561, -1.45619590963222, -1.49122383734707, -1.50586120930914, -1.50825060203561, -1.50825060203561, -1.52871904629841, -1.52903200916758, -1.51906810903447, -1.51906810903447, -1.46107358539872, -1.95982900730381, -1.4593590950863502, -1.48313562213472, -1.48313562213472, -1.48313562213472, -1.5241288395531598, -1.5500000088470602, -1.77911135847224, -2.10000000719573, -1.48333797813596, -1.53094540897235, -1.52143818132408, -1.45226850969849, -2.54716260531476, -1.74095780823743, -1.50318053847023, -1.52903200916758, -1.52903200916758, -1.52903200916758, -1.52903200916758, -1.49122383734707, -2.0798751063499, -1.45206567485239, -1.5327211087404702, -1.53260582457207, -1.47653479812484, -2.01646010673929, -2.0798751063499, -2.0798751063499, -2.0798751063499, -2.0798751063499, -1.48842052269264, -2.0798751063499, -2.0798751063499, -2.0798751063499, -2.0798751063499, -2.10000000719573, -2.13887000622395, -1.47924517763491, -1.49122383734707, -1.45976232985904, -1.50318053847023, -1.50318053847023, -1.48313562213472, -1.45189960969585, -1.48842052269264, -1.48842052269264, -1.47924517763491, -2.0798751063499, -2.0798751063499, -2.0798751063499, -2.10000000719573, -1.5248700090022, -1.48313562213472, -1.52871904629841, -1.45529730958032, -1.49122383734707, -1.48706760957555, -1.4879451094371798, -1.44383150974004, -1.46107358539872, -1.52903200916758, -1.52903200916758, -1.53591625394131, -1.52871904629841, -1.53085000902874, -1.48821699196841, -1.47924517763491, -1.44321157450254, -1.49278490776667, -1.52871904629841, -1.46107358539872, -1.46044410968696, -1.48313562213472, -1.48313562213472, -1.48313562213472, -1.49122383734707, -1.48003300945068, -1.49122383734707, -1.50000000902374, -1.52871904629841, -1.50351863435736, -1.52903200916758, -1.52903200916758, -2.54716260531476, -2.54716260531476, -1.48384670947124, -1.4813927229043502, -1.4850884095868, -1.48333797813596, -2.15787200585139, -1.48313562213472, -1.48313562213472, -2.54716260531476, -1.45970000963116, -1.50318053847023, -1.48313562213472, -1.48313562213472, -1.4909050343690602, -1.49122383734707, -1.48333797813596, -2.3948186049724103, -1.48333797813596, -1.48333797813596, -1.48333797813596, -1.48313562213472, -1.49122383734707, -1.44717600973874, -3.05000000215335, -1.47653479812475, -1.4518745336401695, -2.3948186049724103, -1.49122383734707, -1.5284141919825198, -1.50350540950993, -1.52903200916758, -1.47653479812484, -1.4756314096241498, -1.52903200916758, -2.10000000719573, -1.47581700962603, -1.47581700962603, -0.662938762534417, -0.662938762534417, -0.662938762534417, -0.7833300126180859, -0.8297100124821221, -0.8297100124821221, -0.8297100124821221, -1.05565441132411, -0.8893143127985451, -0.9932269122955708, -1.0247115115295602, -0.9303001121357758, -0.9303001121357758, -1.04264562145155, -1.0576958114234, -0.900589711949307, -1.05562491132459, -1.03392471147666, -0.71667001291262, -0.9301459117503028, -0.900589711949307, -0.900589711949307, -0.900589711949307, -0.900589711949307, -0.900589711949307, -0.900589711949307, -0.900589711949307, -1.01687871156875, -1.02439791153176, -0.9188211126225307, -0.983374612299807, -1.06789928826961, -1.06796201135107, -0.900589711949307, -1.0511690123780402, -1.02439791153176, -1.0247115115295602, -1.02439791153176, -1.02439791153176, -1.05279057582279, -1.10036001133852, -0.9463831125230608, -0.9463831125230608, -0.900589711949307, -0.900589711949307, -1.03152281149121, -0.716670013047383, -0.716670013047383, -1.02439791153176, -1.02439791153176, -0.941273512513973, -0.8893143127985451, -0.8893143127985451, -1.06796201135107, -1.06796201135107, -1.09510341125564, -1.03716916573295, -1.09214923624384, -1.02439791153176, -1.0576958114234, -1.0576958114234, -1.02439791153176, -0.685457013265962, -0.685457013265962, -0.685457013265962, -0.878661712878988, -0.950058912497712, -0.950058912497712, -0.950058912497712, -1.06781271135289, -1.06796201135107, -0.983374612299807, -1.10518901122482, -0.685457013265962, -1.0716495779348, -1.06796201135107, -0.685457013265962, -0.685457013265962, -1.1065813556103, -1.0576958114234, -1.0576958114234, -0.954615505070722, -1.09214923624384, -1.09214923624384, -1.02439791153176, -1.09214923624384, -1.06796201135107, -0.685457013265962, -1.10401841165395, -1.07264771256997, -1.07264771256997, -1.09655648437465, -0.950058912497712, -0.950058912497712, -0.950058912497712, -0.685457013265962, -1.02439791153176, -1.02439791153176, -0.950058912497712, -1.06796201135107, -0.685457013265962, -0.685457013265962, -1.0525818113641, -0.950058912497712, -0.983374612299807, -0.950058912497712, -0.950058912497712, -0.950058912497712, -0.950058912497712, -1.03392471147666, -0.934129811849666, -1.09606881127075, -1.06796201135107, -1.07521301130937, -0.911370011039398, -0.878661712878988, -0.950058912497712, -0.950058912497712, -0.950058912497712, -0.950058912497712, -0.950058912497712, -1.04125731144673, -1.01144777153388, -1.02439791153176, -1.02439791153176, -1.02439791153176, -1.00133376578562, -1.0425581329036, -0.6762550130035511, -1.09606881127075, -1.09606881127075, -0.904263912190571, -0.662938762534417, -0.941273512513973, -1.05617465574907, -1.05035656063216, -1.05035656063216, -0.884906012300967, -1.05349761197387, -1.03752301145937, -0.983374612299807, -0.950058912497712, -0.950058912497712, -0.945156912005083, -1.09214923624384, -1.02439791153176, -1.0247115115295602, -1.02439791153176, -1.02439791153176, -0.950058912497712, -0.950058912497712, -1.02439791153176, -1.02439791153176, -0.983374612299807, -1.09214923624384, -0.8297100124821221, -0.983374612299807, -0.9188211126225307, -1.1042346112283798, -1.1042346112283798, -0.950058912497712, -0.983374612299807, -0.983374612299807, -0.983374612299807, -0.983374612299807, -1.09606881127075, -1.0576958114234, -1.0425581329036, -0.884906012300967, -1.03134191526555, -1.0383013114541602, -0.669513213016967, -1.05035656063216, -1.06612091135446, -1.03333001197752, -1.02439791153176, -1.06796201135107, -1.05038001142369, -0.983374612299807, -0.983374612299807, -1.06789928826961, -1.05617465574907, -0.950058912497712, -0.950058912497712, -0.950058912497712, -0.683330013184328, -1.05349761197387, -1.05038001142369, -0.983374612299807, -0.662938762534417, -1.04376891143475, -1.02439791153176, -1.02439791153176, -1.06828666707729, -1.0576958114234, -1.09214923624384, -1.09214923624384, -1.02439791153176, -1.0576958114234, -0.981898012368315, -0.950058912497712, -0.983374612299807, -0.950058912497712, -1.05038001142369, -1.09606881127075, -1.09606881127075, -0.983374612299807, -0.878661712878988, -0.908352411897088, -0.72249821283031, -0.565402313796744, -1.05108536137314, -1.05388111135787, -1.0716495779348, -0.981898012368315, -0.9188211126225307, -1.04785921140355, -1.0425581329036, -0.983374612299807, -0.983374612299807, -1.04264562145155, -1.02439791153176, -1.04376891143475, -1.0716495779348, -1.02835471151697, -1.03667480146277, -1.0576958114234, -0.60288001367581, -1.04413151144291, -1.05555658218587, -1.04215872852666, -1.08963591149956, -1.02439791153176, -0.878661712878988, -1.0576958114234, -0.9000000124464008, -1.10516084391688, -1.04090431142572, -0.9835404123566228, -1.0576958114234, -0.98719721211177, -0.850000012190963, -1.02439791153176, -1.02439791153176, -0.9064015847691, -0.619598713285181, -1.00000001186755, -1.05617465574907, -1.05617465574907, -1.04413151144291, -1.04541441142651, -1.04370401153741, -1.04370401153741, -1.0301840058241098, -1.0576958114234, -1.0525818113641, -1.05946091131666, -0.9188211126225307, -0.884906012300967, -0.884906012300967, -0.884906012300967, -1.10668881122037, -1.10668881122037, -1.0247115115295602, -1.00000001169002, -1.09214923624384, -1.06781271135289, -1.06789928826961, -1.06789928826961, -1.09509086661469, -1.09214923624384, -0.983374612299807, -1.04253209138294, -0.911370011039398, -1.09731894869407, -0.983374612299807, -0.9835404123566228, -1.10565231250855, -0.616670013549419, -1.09606881127075, -1.05783938132557, -1.01463017178664, -1.04376891143475, -1.03668234486029, -0.900589711949307, -1.04463871141051, -1.10348851919111, -1.06789928826961, -1.0576958114234, -1.03934495166385, -0.6726799135278019, -0.9064015847691, -1.02439791153176, -1.02439791153176, -0.9463831125230608, -1.04376891143475, -1.08133551184597, -1.09606881127075], [36.6184080035925, 36.6283690031323, 36.660526103342, 36.616670003466794, 36.589271403900106, 36.6006954037612, 36.6184080035925, 36.6184080035925, 36.617260003853104, 36.6323335037644, 36.332201603768, 36.59454740382421, 36.59454740382421, 36.619534503823104, 36.589271403900106, 36.589271403900106, 36.6184080035925, 36.6387231369204, 36.6184080035925, 36.566548903920896, 36.6006880038175, 36.6006880038175, 36.6006880038175, 36.6323335037644, 36.660526103342, 36.6184080035925, 36.6006880038175, 36.6006880038175, 36.6006880038175, 36.66150640341321, 36.6006880038175, 36.6006880038175, 36.6323335037644, 36.6006880038175, 36.6006880038175, 36.6006880038175, 36.6583890032534, 36.6006880038175, 36.566548903920896, 36.6006880038175, 36.6006880038175, 36.6006880038175, 36.6006880038175, 36.6006880038175, 36.6184080035925, 36.6319370035991, 36.619534503823104, 36.6317265036733, 36.653023203539, 36.6606528035503, 36.6323335037644, 36.6006880038175, 36.6006880038175, 36.6006880038175, 36.6006880038175, 36.6323335037644, 36.6184080035925, 36.6323335037644, 36.617260003853104, 36.6184080035925, 36.6006880038175, 36.6323335037644, 36.6323335037644, 36.6323335037644, 36.6323335037644, 36.655233505334, 36.6606528035503, 36.6387231369204, 36.6323335037644, 36.6323335037644, 36.6006880038175, 36.6006880038175, 36.6006880038175, 36.6317265036733, 36.6184080035925, 36.6323335037644, 36.6387231369204, 36.6387231369204, 36.6387231369204, 36.6387231369204, 36.6513294034545, 36.6387231369204, 36.585709003780714, 36.6006880038175, 36.6323335037644, 36.6006880038175, 36.6323335037644, 36.566548903920896, 36.6428825517982, 36.585709003780714, 36.6184080035925, 36.617260003853104, 36.6323335037644, 36.6323335037644, 36.6184080035925, 36.6184080035925, 36.6184080035925, 36.6184080035925, 36.660526103342, 36.6184080035925, 36.566548903920896, 36.634694603559296, 36.5887725037775, 36.6562995035775, 36.6184080035925, 36.6184080035925, 36.6184080035925, 36.6184080035925, 36.655233505334, 36.617260003853104, 36.6184080035925, 36.6184080035925, 36.6323335037644, 36.634694603559296, 36.634694603559296, 36.6323335037644, 36.5887725037775, 36.6184080035925, 36.6184080035925, 36.660526103342, 36.59454740382421, 36.6387231369204, 36.6184080035925, 36.6307568036376, 37.208730003992294, 37.208730003992294, 37.208730003992294, 37.1669184027834, 37.1370319029494, 37.1000000038811, 37.0482844716554, 37.1370319029494, 37.057248948841, 37.0420165085017, 37.3000000028085, 37.0378200038393, 37.0378200038393, 37.0378200038393, 37.393550003020295, 37.1345115040418, 37.126857951668896, 37.4730188020633, 37.4730188020633, 37.4730188020633, 37.4730188020633, 37.1141314035169, 37.51420510098049, 37.4454188032368, 37.0675787035727, 37.1370319029494, 37.0637183335504, 37.186296003698004, 37.113907903516996, 37.126857951668896, 37.0752096035581, 37.116670003964295, 37.231509303644295, 37.186296003698004, 37.186296003698004, 37.186296003698004, 37.186296003698004, 37.186296003698004, 37.186296003698004, 37.186296003698004, 37.0654296035837, 37.0670170035734, 37.0420165085017, 37.0511355538907, 37.0512400035212, 37.186296003698004, 37.3333300029053, 37.0670170035734, 37.0675787035727, 37.0670170035734, 37.0670170035734, 37.08421095334671, 37.057248948841, 37.0479411029804, 37.2804140031642, 37.138605781004, 37.5393393016372, 37.057248948841, 37.138605781004, 37.186296003698004, 37.186296003698004, 37.07262100356221, 37.0670170035734, 37.0670170035734, 37.8794900011581, 37.8794900011581, 37.8794900011581, 37.4730188020633, 37.0512400035212, 37.8794900011581, 37.8794900011581, 37.4730188020633, 37.051240003521286, 37.09537746006279, 37.0719525117774, 37.057248948841, 37.0670170035734, 37.09693010293571, 37.0670170035734, 37.09537746006279, 37.09537746006279, 37.646570002844, 37.646570002844, 37.1006628341326, 37.1006628341326, 37.050385803521706, 37.0512400035212, 37.0461241357681, 37.0512400035212, 37.126857951668896, 37.126661002895496, 37.2613335028621, 37.2613335028621, 37.1076655602104, 37.0670170035734, 37.051240003521286, 37.1261702023426, 37.5333300032964, 37.0482844716554, 37.0482844716554, 37.0482844716554, 37.1200078625206, 37.0477054625078, 37.0477054625078, 37.3000000028085, 37.3498400030907, 37.0670170035734, 37.0670170035734, 37.0485454457922, 37.26868230284421, 37.1155095786275, 37.1290255026216, 37.0512400035212, 37.087345904428894, 37.0948756035273, 37.126661002895496, 37.126661002895496, 37.126661002895496, 37.126661002895496, 37.0752096035581, 37.143535903667605, 37.057248948841, 37.0512400035212, 37.0464275035354, 37.8212900034717, 37.4730188020633, 37.4384451027826, 37.0721535535495, 37.1104336035763, 37.0670170035734, 37.0670170035734, 37.0670170035734, 37.393550003020295, 37.1324045214445, 37.0654663972896, 37.03675647263611, 37.1921754039943, 37.3775152021796, 37.4730188020633, 37.4730188020633, 37.4730188020633, 37.4730188020633, 37.054215024451295, 37.4730188020633, 37.4730188020633, 37.4730188020633, 37.208730003992294, 37.4730188020633, 37.0560489529916, 37.05772924377961, 37.05772924377961, 37.3808400020221, 37.0756970035532, 37.646570002844, 37.0420165085017, 37.057248948841, 37.0670170035734, 37.0675787035727, 37.0670170035734, 37.0670170035734, 37.0670170035734, 37.0670170035734, 37.087345904428894, 37.087345904428894, 37.0482844716554, 37.0378200038393, 37.054215024451295, 37.054215024451295, 37.646570002844, 37.0420165085017, 37.0654663972896, 37.072170924035895, 37.4730188020633, 37.4730188020633, 37.4730188020633, 37.0768501035518, 37.206113803998896, 37.05772924377961, 37.0550897035224, 37.0670170035734, 37.0512400035212, 37.057783003542205, 37.1608713031944, 37.138605781004, 37.2664080028528, 37.0482844716554, 37.0511355538907, 37.0560489529916, 37.126857951668896, 37.057783003542205, 37.061459603013, 37.646570002844, 37.208730003992294, 37.0724399035461, 37.309150002965296, 37.0670170035734, 37.0670170035734, 37.0505581035842, 37.057248948841, 37.0598778029714, 37.0670170035734, 37.057783003542205, 37.126661002895496, 37.198089703684, 37.126661002895496, 37.1345115040418, 37.126857951668896, 37.1570170039438, 37.0951544035323, 37.0949829035255, 37.0461241357681, 37.038300003336, 37.0816630035378, 37.0654663972896, 37.226180002859, 37.0637183335504, 37.0670170035734, 37.0420165085017, 37.0724399035461, 37.0461241357681, 37.064350203569, 37.126857951668896, 37.0760686135543, 37.065065503548105, 37.1116385869582, 37.100650722400395, 37.0482844716554, 37.0482844716554, 37.0670170035734, 37.0482844716554, 37.057248948841, 37.076350002976, 37.057248948841, 37.3333300028619, 37.0891641035444, 37.126857951668896, 37.1833300037661, 37.0670170035734, 37.0670170035734, 37.7065400605133, 37.126661002895496, 37.126661002895496, 37.18488920407221, 37.0560489529916, 37.0560489529916, 37.3043346031712, 37.3043346031712, 37.065065503548105, 37.0729009035438, 37.047786702980794, 37.5459373032556, 37.5459373032556, 37.0653529036424, 37.0653529036424, 37.0708771296462, 37.5459373032556, 37.0485454457922, 37.0948756035273, 37.60769180191321, 37.1065240035144, 37.0482844716554, 37.0482844716554, 37.0675787035727, 37.050385803521706, 37.0511355538907, 37.0511355538907, 37.0803418815667, 37.8212900034717, 37.087345904428894, 37.1055240135169, 37.0482844716554, 37.0482844716554, 37.057169721461, 37.057248948841, 37.0485454457922, 37.5393393016372, 37.0485454457922, 37.0485454457922, 37.0485454457922, 37.0482844716554, 37.057248948841, 37.0724399035461, 37.7500000007305, 37.03675647263611, 37.5393393016372, 37.057248948841, 37.186296003698004, 37.2773819929535, 37.08763430354, 37.0511355538907, 37.0721609650633, 37.7065400605133, 37.0670170035734, 37.0670170035734, 37.309150002965296, 37.126661002895496, 37.646570002844, 37.03675647263611, 37.0724399035461, 37.126661002895496]]\n"
          ],
          "name": "stdout"
        },
        {
          "output_type": "display_data",
          "data": {
            "image/png": "[encoded data removed]",
            "text/plain": [
              "<Figure size 432x288 with 1 Axes>"
            ]
          },
          "metadata": {
            "tags": [],
            "needs_background": "light"
          }
        }
      ]
    },
    {
      "cell_type": "code",
      "metadata": {
        "id": "AxuSaphjJC1e",
        "colab": {
          "base_uri": "https://localhost:8080/"
        },
        "outputId": "84be8058-3d43-449e-f19b-049676f77da9"
      },
      "source": [
        "# Getting ouliers from our dataframe using a z-test\n",
        "#\n",
        "from scipy import stats\n",
        "\n",
        "z = np.abs(stats.zscore(train[['latitude', 'longitude']]))\n",
        "print(z)\n",
        "numeric_df = train[['latitude', 'longitude']]\n",
        "# Dropping and Confirming that our outliers have been dropped from the dataset.\n",
        "#\n",
        "numeric = pd.DataFrame()\n",
        "numeric[['latitude', 'longitude']] = numeric_df[(z < 3).all(axis=1)]\n",
        "\n",
        "print(f\"Previous dataframe size : {numeric_df.shape[0]}\")\n",
        "print(f\"New dataframe size: {numeric.shape[0]}\")"
      ],
      "execution_count": null,
      "outputs": [
        {
          "output_type": "stream",
          "text": [
            "[[0.65113548 0.67274607]\n",
            " [4.85347917 3.13026793]\n",
            " [4.85347917 3.13026793]\n",
            " ...\n",
            " [0.41368599 0.26769189]\n",
            " [0.06593118 0.34504669]\n",
            " [0.47014604 0.46232743]]\n",
            "Previous dataframe size : 6318\n",
            "New dataframe size: 6194\n"
          ],
          "name": "stdout"
        }
      ]
    },
    {
      "cell_type": "code",
      "metadata": {
        "id": "EIng99tDbWVO",
        "colab": {
          "base_uri": "https://localhost:8080/"
        },
        "outputId": "5b984b9a-8a01-455b-a896-79ecb944417e"
      },
      "source": [
        "train.isna().sum()"
      ],
      "execution_count": null,
      "outputs": [
        {
          "output_type": "execute_result",
          "data": {
            "text/plain": [
              "uid          0\n",
              "datetime     0\n",
              "latitude     0\n",
              "longitude    0\n",
              "dtype: int64"
            ]
          },
          "metadata": {
            "tags": []
          },
          "execution_count": 59
        }
      ]
    },
    {
      "cell_type": "code",
      "metadata": {
        "id": "KCiU2MZSbb2w",
        "colab": {
          "base_uri": "https://localhost:8080/"
        },
        "outputId": "a46b5cbb-7db7-4b47-80e5-0b0d46521a73"
      },
      "source": [
        "numeric.isna().sum()"
      ],
      "execution_count": null,
      "outputs": [
        {
          "output_type": "execute_result",
          "data": {
            "text/plain": [
              "latitude     0\n",
              "longitude    0\n",
              "dtype: int64"
            ]
          },
          "metadata": {
            "tags": []
          },
          "execution_count": 60
        }
      ]
    },
    {
      "cell_type": "code",
      "metadata": {
        "id": "mSP-0ch-1kaN"
      },
      "source": [
        "numeric['datetime'] = train['datetime']"
      ],
      "execution_count": null,
      "outputs": []
    },
    {
      "cell_type": "code",
      "metadata": {
        "id": "shXCp8z3JQMV",
        "colab": {
          "base_uri": "https://localhost:8080/",
          "height": 197
        },
        "outputId": "8cfc6592-1005-4b17-b634-01d56c1c011b"
      },
      "source": [
        "# Preview the top of the dataset.\n",
        "#\n",
        "#train = numeric.copy()\n",
        "train.head()"
      ],
      "execution_count": null,
      "outputs": [
        {
          "output_type": "execute_result",
          "data": {
            "text/html": [
              "<div>\n",
              "<style scoped>\n",
              "    .dataframe tbody tr th:only-of-type {\n",
              "        vertical-align: middle;\n",
              "    }\n",
              "\n",
              "    .dataframe tbody tr th {\n",
              "        vertical-align: top;\n",
              "    }\n",
              "\n",
              "    .dataframe thead th {\n",
              "        text-align: right;\n",
              "    }\n",
              "</style>\n",
              "<table border=\"1\" class=\"dataframe\">\n",
              "  <thead>\n",
              "    <tr style=\"text-align: right;\">\n",
              "      <th></th>\n",
              "      <th>uid</th>\n",
              "      <th>datetime</th>\n",
              "      <th>latitude</th>\n",
              "      <th>longitude</th>\n",
              "    </tr>\n",
              "  </thead>\n",
              "  <tbody>\n",
              "    <tr>\n",
              "      <th>0</th>\n",
              "      <td>1</td>\n",
              "      <td>2018-01-01 00:25:46</td>\n",
              "      <td>-1.188850</td>\n",
              "      <td>36.931382</td>\n",
              "    </tr>\n",
              "    <tr>\n",
              "      <th>1</th>\n",
              "      <td>2</td>\n",
              "      <td>2018-01-01 02:02:39</td>\n",
              "      <td>-0.662939</td>\n",
              "      <td>37.208730</td>\n",
              "    </tr>\n",
              "    <tr>\n",
              "      <th>2</th>\n",
              "      <td>3</td>\n",
              "      <td>2018-01-01 02:31:49</td>\n",
              "      <td>-0.662939</td>\n",
              "      <td>37.208730</td>\n",
              "    </tr>\n",
              "    <tr>\n",
              "      <th>3</th>\n",
              "      <td>4</td>\n",
              "      <td>2018-01-01 03:04:01</td>\n",
              "      <td>-1.288087</td>\n",
              "      <td>36.826583</td>\n",
              "    </tr>\n",
              "    <tr>\n",
              "      <th>4</th>\n",
              "      <td>5</td>\n",
              "      <td>2018-01-01 03:58:49</td>\n",
              "      <td>-1.188850</td>\n",
              "      <td>36.931382</td>\n",
              "    </tr>\n",
              "  </tbody>\n",
              "</table>\n",
              "</div>"
            ],
            "text/plain": [
              "   uid             datetime  latitude  longitude\n",
              "0    1  2018-01-01 00:25:46 -1.188850  36.931382\n",
              "1    2  2018-01-01 02:02:39 -0.662939  37.208730\n",
              "2    3  2018-01-01 02:31:49 -0.662939  37.208730\n",
              "3    4  2018-01-01 03:04:01 -1.288087  36.826583\n",
              "4    5  2018-01-01 03:58:49 -1.188850  36.931382"
            ]
          },
          "metadata": {
            "tags": []
          },
          "execution_count": 62
        }
      ]
    },
    {
      "cell_type": "code",
      "metadata": {
        "id": "1x2VjjHSOtUB",
        "colab": {
          "base_uri": "https://localhost:8080/"
        },
        "outputId": "9cf1f2d8-c76c-4202-9c07-52de4a1026b5"
      },
      "source": [
        "# Ambulance Locations\n",
        "\n",
        "amb_locs = torch.randn(6, 2) * 0.05 # 6 pairs of random numbers, made fairly small\n",
        "amb_locs = amb_locs + tensor(-1.271709,\t36.844591) # Centered around the middle of town\n",
        "amb_locs.requires_grad_() # Tell pytorch to calculate gradients\n",
        "initial_locs = amb_locs.clone() # Save originals for later\n",
        "amb_locs # View our set of initial locations"
      ],
      "execution_count": null,
      "outputs": [
        {
          "output_type": "execute_result",
          "data": {
            "text/plain": [
              "tensor([[-1.3041, 36.8859],\n",
              "        [-1.3314, 36.8969],\n",
              "        [-1.3097, 36.7512],\n",
              "        [-1.1995, 36.7520],\n",
              "        [-1.2448, 36.8459],\n",
              "        [-1.2674, 36.8901]], requires_grad=True)"
            ]
          },
          "metadata": {
            "tags": []
          },
          "execution_count": 63
        }
      ]
    },
    {
      "cell_type": "code",
      "metadata": {
        "id": "Oo-YIcEhlOPZ",
        "colab": {
          "base_uri": "https://localhost:8080/",
          "height": 53
        },
        "outputId": "8021051b-770b-42a7-b849-78b783e209ab"
      },
      "source": [
        "'''# creating tensor from targets_df \n",
        "amb_locs.requires_grad_() # Tell pytorch to calculate gradients\n",
        "initial_locs = amb_locs.clone() # Save originals for later\n",
        "# printing out result\n",
        "print(amb_locs)'''"
      ],
      "execution_count": null,
      "outputs": [
        {
          "output_type": "execute_result",
          "data": {
            "application/vnd.google.colaboratory.intrinsic+json": {
              "type": "string"
            },
            "text/plain": [
              "'# creating tensor from targets_df \\namb_locs.requires_grad_() # Tell pytorch to calculate gradients\\ninitial_locs = amb_locs.clone() # Save originals for later\\n# printing out result\\nprint(amb_locs)'"
            ]
          },
          "metadata": {
            "tags": []
          },
          "execution_count": 64
        }
      ]
    },
    {
      "cell_type": "code",
      "metadata": {
        "id": "cCU_oQobBN12",
        "colab": {
          "base_uri": "https://localhost:8080/",
          "height": 53
        },
        "outputId": "8a0007c7-f634-49aa-8d25-1452ad3507db"
      },
      "source": [
        "'''amb_locs = pd.read_csv(\"cluster_points.csv\")\n",
        "amb_locs.drop([\"Unnamed: 0\"], axis=1)\n",
        "amb_locs = torch.tensor(amb_locs[['latitude', 'longitude']].values)\n",
        "amb_locs.requires_grad_()\n",
        "amb_locs'''"
      ],
      "execution_count": null,
      "outputs": [
        {
          "output_type": "execute_result",
          "data": {
            "application/vnd.google.colaboratory.intrinsic+json": {
              "type": "string"
            },
            "text/plain": [
              "'amb_locs = pd.read_csv(\"cluster_points.csv\")\\namb_locs.drop([\"Unnamed: 0\"], axis=1)\\namb_locs = torch.tensor(amb_locs[[\\'latitude\\', \\'longitude\\']].values)\\namb_locs.requires_grad_()\\namb_locs'"
            ]
          },
          "metadata": {
            "tags": []
          },
          "execution_count": 65
        }
      ]
    },
    {
      "cell_type": "code",
      "metadata": {
        "id": "_XpqNHuKN4a8",
        "colab": {
          "base_uri": "https://localhost:8080/"
        },
        "outputId": "d97fc2d3-f8e2-44f7-ad36-b718b132fb85"
      },
      "source": [
        "# Crash locations - turn the training data into a tensor we can work with\n",
        "crash_locs = tensor(train[['latitude', 'longitude']].values) # To Tensor\n",
        "crash_locs.shape"
      ],
      "execution_count": null,
      "outputs": [
        {
          "output_type": "execute_result",
          "data": {
            "text/plain": [
              "torch.Size([6318, 2])"
            ]
          },
          "metadata": {
            "tags": []
          },
          "execution_count": 66
        }
      ]
    },
    {
      "cell_type": "markdown",
      "metadata": {
        "id": "FMhrv_Eje7P2"
      },
      "source": [
        "Now we specify our loss function. This needs to preserve gradients, which it does."
      ]
    },
    {
      "cell_type": "code",
      "metadata": {
        "id": "YRGw6ji6N61c"
      },
      "source": [
        "def loss_fn(crash_locs, amb_locs):\n",
        "  \"\"\"For each crash we find the dist to the closest ambulance, and return the mean of these dists.\"\"\"\n",
        "  # Dists to first ambulance\n",
        "  dists_split = crash_locs-amb_locs[0]\n",
        "  dists = (dists_split[:,0]**2 + dists_split[:,1]**2)**0.5\n",
        "  min_dists = dists\n",
        "  for i in range(1, 6):\n",
        "    # Update dists so they represent the dist to the closest ambulance\n",
        "    dists_split = crash_locs-amb_locs[i]\n",
        "    dists = (dists_split[:,0]**2 + dists_split[:,1]**2)**0.5\n",
        "    min_dists += torch.min(min_dists, dists)\n",
        "  \n",
        "  return min_dists.min()"
      ],
      "execution_count": null,
      "outputs": []
    },
    {
      "cell_type": "code",
      "metadata": {
        "id": "KfHw4FHlfA67",
        "colab": {
          "base_uri": "https://localhost:8080/"
        },
        "outputId": "2aa0a85d-a19b-426b-d523-2c86dd1df9aa"
      },
      "source": [
        "# Calculate loss:\n",
        "loss = loss_fn(crash_locs, amb_locs)\n",
        "loss"
      ],
      "execution_count": null,
      "outputs": [
        {
          "output_type": "execute_result",
          "data": {
            "text/plain": [
              "tensor(0.0768, grad_fn=<MinBackward1>)"
            ]
          },
          "metadata": {
            "tags": []
          },
          "execution_count": 68
        }
      ]
    },
    {
      "cell_type": "code",
      "metadata": {
        "id": "N8JCPcaaPZdk",
        "colab": {
          "base_uri": "https://localhost:8080/",
          "height": 387
        },
        "outputId": "f9c377ce-90c7-43e1-ea42-1fdf2b7975ae"
      },
      "source": [
        "# We can use .backward to find gradients\n",
        "loss.backward()"
      ],
      "execution_count": null,
      "outputs": [
        {
          "output_type": "error",
          "ename": "RuntimeError",
          "evalue": "ignored",
          "traceback": [
            "\u001b[0;31m---------------------------------------------------------------------------\u001b[0m",
            "\u001b[0;31mRuntimeError\u001b[0m                              Traceback (most recent call last)",
            "\u001b[0;32m<ipython-input-69-021e412b8e47>\u001b[0m in \u001b[0;36m<module>\u001b[0;34m()\u001b[0m\n\u001b[1;32m      1\u001b[0m \u001b[0;31m# We can use .backward to find gradients\u001b[0m\u001b[0;34m\u001b[0m\u001b[0;34m\u001b[0m\u001b[0;34m\u001b[0m\u001b[0m\n\u001b[0;32m----> 2\u001b[0;31m \u001b[0mloss\u001b[0m\u001b[0;34m.\u001b[0m\u001b[0mbackward\u001b[0m\u001b[0;34m(\u001b[0m\u001b[0;34m)\u001b[0m\u001b[0;34m\u001b[0m\u001b[0;34m\u001b[0m\u001b[0m\n\u001b[0m",
            "\u001b[0;32m/usr/local/lib/python3.6/dist-packages/torch/tensor.py\u001b[0m in \u001b[0;36mbackward\u001b[0;34m(self, gradient, retain_graph, create_graph)\u001b[0m\n\u001b[1;32m    219\u001b[0m                 \u001b[0mretain_graph\u001b[0m\u001b[0;34m=\u001b[0m\u001b[0mretain_graph\u001b[0m\u001b[0;34m,\u001b[0m\u001b[0;34m\u001b[0m\u001b[0;34m\u001b[0m\u001b[0m\n\u001b[1;32m    220\u001b[0m                 create_graph=create_graph)\n\u001b[0;32m--> 221\u001b[0;31m         \u001b[0mtorch\u001b[0m\u001b[0;34m.\u001b[0m\u001b[0mautograd\u001b[0m\u001b[0;34m.\u001b[0m\u001b[0mbackward\u001b[0m\u001b[0;34m(\u001b[0m\u001b[0mself\u001b[0m\u001b[0;34m,\u001b[0m \u001b[0mgradient\u001b[0m\u001b[0;34m,\u001b[0m \u001b[0mretain_graph\u001b[0m\u001b[0;34m,\u001b[0m \u001b[0mcreate_graph\u001b[0m\u001b[0;34m)\u001b[0m\u001b[0;34m\u001b[0m\u001b[0;34m\u001b[0m\u001b[0m\n\u001b[0m\u001b[1;32m    222\u001b[0m \u001b[0;34m\u001b[0m\u001b[0m\n\u001b[1;32m    223\u001b[0m     \u001b[0;32mdef\u001b[0m \u001b[0mregister_hook\u001b[0m\u001b[0;34m(\u001b[0m\u001b[0mself\u001b[0m\u001b[0;34m,\u001b[0m \u001b[0mhook\u001b[0m\u001b[0;34m)\u001b[0m\u001b[0;34m:\u001b[0m\u001b[0;34m\u001b[0m\u001b[0;34m\u001b[0m\u001b[0m\n",
            "\u001b[0;32m/usr/local/lib/python3.6/dist-packages/torch/autograd/__init__.py\u001b[0m in \u001b[0;36mbackward\u001b[0;34m(tensors, grad_tensors, retain_graph, create_graph, grad_variables)\u001b[0m\n\u001b[1;32m    130\u001b[0m     Variable._execution_engine.run_backward(\n\u001b[1;32m    131\u001b[0m         \u001b[0mtensors\u001b[0m\u001b[0;34m,\u001b[0m \u001b[0mgrad_tensors_\u001b[0m\u001b[0;34m,\u001b[0m \u001b[0mretain_graph\u001b[0m\u001b[0;34m,\u001b[0m \u001b[0mcreate_graph\u001b[0m\u001b[0;34m,\u001b[0m\u001b[0;34m\u001b[0m\u001b[0;34m\u001b[0m\u001b[0m\n\u001b[0;32m--> 132\u001b[0;31m         allow_unreachable=True)  # allow_unreachable flag\n\u001b[0m\u001b[1;32m    133\u001b[0m \u001b[0;34m\u001b[0m\u001b[0m\n\u001b[1;32m    134\u001b[0m \u001b[0;34m\u001b[0m\u001b[0m\n",
            "\u001b[0;31mRuntimeError\u001b[0m: one of the variables needed for gradient computation has been modified by an inplace operation: [torch.FloatTensor [6318]], which is output 0 of AddBackward0, is at version 5; expected version 4 instead. Hint: enable anomaly detection to find the operation that failed to compute its gradient, with torch.autograd.set_detect_anomaly(True)."
          ]
        }
      ]
    },
    {
      "cell_type": "code",
      "metadata": {
        "id": "GEj1tIDTPczB"
      },
      "source": [
        "# View gradients - they've been calculated for us!!!\n",
        "amb_locs.grad"
      ],
      "execution_count": null,
      "outputs": []
    },
    {
      "cell_type": "markdown",
      "metadata": {
        "id": "9u-nBwSbfIHW"
      },
      "source": [
        "These gradients tell us which way to move the locations to reduce the loss. This is all we need to do some gradient descent! We'll pick a learning rate, and then run through 1500 steps, updating the locations each time:"
      ]
    },
    {
      "cell_type": "code",
      "metadata": {
        "id": "maclNUKcNs1K",
        "colab": {
          "base_uri": "https://localhost:8080/",
          "height": 238
        },
        "outputId": "dd2deba3-7b0a-43c2-86dc-bd7114e76e7f"
      },
      "source": [
        "amb_locs.grad = None # Reset gradients\n",
        "lr=0.001 # Pick LR\n",
        "for i in range(1000):\n",
        "  loss = loss_fn(crash_locs, amb_locs) # Find loss\n",
        "  if i % 100 == 0: print('Loss:', loss.item()) # Print loss\n",
        "  #loss.backward() # Calc grads\n",
        "  amb_locs.data -= lr * amb_locs.grad.data # Update locs\n",
        "  amb_locs.grad = None # Reset gradients for next step"
      ],
      "execution_count": null,
      "outputs": [
        {
          "output_type": "stream",
          "text": [
            "Loss: 0.08042207360267639\n"
          ],
          "name": "stdout"
        },
        {
          "output_type": "error",
          "ename": "AttributeError",
          "evalue": "ignored",
          "traceback": [
            "\u001b[0;31m---------------------------------------------------------------------------\u001b[0m",
            "\u001b[0;31mAttributeError\u001b[0m                            Traceback (most recent call last)",
            "\u001b[0;32m<ipython-input-33-0ef0ee558069>\u001b[0m in \u001b[0;36m<module>\u001b[0;34m()\u001b[0m\n\u001b[1;32m      5\u001b[0m   \u001b[0;32mif\u001b[0m \u001b[0mi\u001b[0m \u001b[0;34m%\u001b[0m \u001b[0;36m100\u001b[0m \u001b[0;34m==\u001b[0m \u001b[0;36m0\u001b[0m\u001b[0;34m:\u001b[0m \u001b[0mprint\u001b[0m\u001b[0;34m(\u001b[0m\u001b[0;34m'Loss:'\u001b[0m\u001b[0;34m,\u001b[0m \u001b[0mloss\u001b[0m\u001b[0;34m.\u001b[0m\u001b[0mitem\u001b[0m\u001b[0;34m(\u001b[0m\u001b[0;34m)\u001b[0m\u001b[0;34m)\u001b[0m \u001b[0;31m# Print loss\u001b[0m\u001b[0;34m\u001b[0m\u001b[0;34m\u001b[0m\u001b[0m\n\u001b[1;32m      6\u001b[0m   \u001b[0;31m#loss.backward() # Calc grads\u001b[0m\u001b[0;34m\u001b[0m\u001b[0;34m\u001b[0m\u001b[0;34m\u001b[0m\u001b[0m\n\u001b[0;32m----> 7\u001b[0;31m   \u001b[0mamb_locs\u001b[0m\u001b[0;34m.\u001b[0m\u001b[0mdata\u001b[0m \u001b[0;34m-=\u001b[0m \u001b[0mlr\u001b[0m \u001b[0;34m*\u001b[0m \u001b[0mamb_locs\u001b[0m\u001b[0;34m.\u001b[0m\u001b[0mgrad\u001b[0m\u001b[0;34m.\u001b[0m\u001b[0mdata\u001b[0m \u001b[0;31m# Update locs\u001b[0m\u001b[0;34m\u001b[0m\u001b[0;34m\u001b[0m\u001b[0m\n\u001b[0m\u001b[1;32m      8\u001b[0m   \u001b[0mamb_locs\u001b[0m\u001b[0;34m.\u001b[0m\u001b[0mgrad\u001b[0m \u001b[0;34m=\u001b[0m \u001b[0;32mNone\u001b[0m \u001b[0;31m# Reset gradients for next step\u001b[0m\u001b[0;34m\u001b[0m\u001b[0;34m\u001b[0m\u001b[0m\n",
            "\u001b[0;31mAttributeError\u001b[0m: 'NoneType' object has no attribute 'data'"
          ]
        }
      ]
    },
    {
      "cell_type": "code",
      "metadata": {
        "id": "xIGeOXcqXHU1"
      },
      "source": [
        "# Plot crashes and ambulance locations\n",
        "ax = train.plot(y='latitude', x='longitude', kind='scatter', figsize=(16, 10), c=\"gold\", label='crash locations')\n",
        "ax.scatter(initial_locs[:,1].detach().numpy(), amb_locs[:,0].detach().numpy(), c='red', label='initial ambulance locs')\n",
        "ax.scatter(amb_locs[:,1].detach().numpy(), amb_locs[:,0].detach().numpy(), c='green', label='final ambulance locs')\n",
        "ax.legend()"
      ],
      "execution_count": null,
      "outputs": []
    },
    {
      "cell_type": "markdown",
      "metadata": {
        "id": "SR010v5mmGTq"
      },
      "source": [
        "# Stochastic Gradient Descent and a Validation Set\n",
        "\n",
        "We can train with mini-batches (SGD) to speed things up. We'll also use the last 1000 crashes as a validation set and track how well we do on that over time. "
      ]
    },
    {
      "cell_type": "code",
      "metadata": {
        "id": "7tKdBE6jmKlX",
        "colab": {
          "base_uri": "https://localhost:8080/",
          "height": 441
        },
        "outputId": "225ffb1d-f1b2-4e86-d309-23928019d139"
      },
      "source": [
        "# Split for validation\n",
        "train_locs = crash_locs[:-1400]\n",
        "val_locs = crash_locs[-1400:]\n",
        "\n",
        "# Load crash locs from train into a dataloader\n",
        "dl = DataLoader(train_locs, batch_size=50, shuffle=True)\n",
        "\n",
        "# Set vars\n",
        "lr=0.04\n",
        "n_epochs = 1000\n",
        "\n",
        "# Store loss over time\n",
        "train_losses = []\n",
        "val_losses = []\n",
        "\n",
        "# Training loop\n",
        "for epoch in range(n_epochs):\n",
        "   # Run through batches\n",
        "  for crashes in dl:\n",
        "    loss = loss_fn(crashes, amb_locs) # Find loss for this batch of crashes\n",
        "    loss.backward() # Calc grads\n",
        "    amb_locs.data -= lr * amb_locs.grad.data # Update locs\n",
        "    amb_locs.grad = None # Reset gradients for next step\n",
        "    train_losses.append(loss.item())\n",
        "    val_losses.append(loss_fn(val_locs, amb_locs).item()) # Can remove as this lows things down\n",
        "\n",
        "  # Print validation loss\n",
        "  print('Val loss:', loss_fn(val_locs, amb_locs).item())"
      ],
      "execution_count": null,
      "outputs": [
        {
          "output_type": "error",
          "ename": "RuntimeError",
          "evalue": "ignored",
          "traceback": [
            "\u001b[0;31m---------------------------------------------------------------------------\u001b[0m",
            "\u001b[0;31mRuntimeError\u001b[0m                              Traceback (most recent call last)",
            "\u001b[0;32m<ipython-input-51-b59bc772bfc3>\u001b[0m in \u001b[0;36m<module>\u001b[0;34m()\u001b[0m\n\u001b[1;32m     19\u001b[0m   \u001b[0;32mfor\u001b[0m \u001b[0mcrashes\u001b[0m \u001b[0;32min\u001b[0m \u001b[0mdl\u001b[0m\u001b[0;34m:\u001b[0m\u001b[0;34m\u001b[0m\u001b[0;34m\u001b[0m\u001b[0m\n\u001b[1;32m     20\u001b[0m     \u001b[0mloss\u001b[0m \u001b[0;34m=\u001b[0m \u001b[0mloss_fn\u001b[0m\u001b[0;34m(\u001b[0m\u001b[0mcrashes\u001b[0m\u001b[0;34m,\u001b[0m \u001b[0mamb_locs\u001b[0m\u001b[0;34m)\u001b[0m \u001b[0;31m# Find loss for this batch of crashes\u001b[0m\u001b[0;34m\u001b[0m\u001b[0;34m\u001b[0m\u001b[0m\n\u001b[0;32m---> 21\u001b[0;31m     \u001b[0mloss\u001b[0m\u001b[0;34m.\u001b[0m\u001b[0mbackward\u001b[0m\u001b[0;34m(\u001b[0m\u001b[0;34m)\u001b[0m \u001b[0;31m# Calc grads\u001b[0m\u001b[0;34m\u001b[0m\u001b[0;34m\u001b[0m\u001b[0m\n\u001b[0m\u001b[1;32m     22\u001b[0m     \u001b[0mamb_locs\u001b[0m\u001b[0;34m.\u001b[0m\u001b[0mdata\u001b[0m \u001b[0;34m-=\u001b[0m \u001b[0mlr\u001b[0m \u001b[0;34m*\u001b[0m \u001b[0mamb_locs\u001b[0m\u001b[0;34m.\u001b[0m\u001b[0mgrad\u001b[0m\u001b[0;34m.\u001b[0m\u001b[0mdata\u001b[0m \u001b[0;31m# Update locs\u001b[0m\u001b[0;34m\u001b[0m\u001b[0;34m\u001b[0m\u001b[0m\n\u001b[1;32m     23\u001b[0m     \u001b[0mamb_locs\u001b[0m\u001b[0;34m.\u001b[0m\u001b[0mgrad\u001b[0m \u001b[0;34m=\u001b[0m \u001b[0;32mNone\u001b[0m \u001b[0;31m# Reset gradients for next step\u001b[0m\u001b[0;34m\u001b[0m\u001b[0;34m\u001b[0m\u001b[0m\n",
            "\u001b[0;32m/usr/local/lib/python3.6/dist-packages/torch/tensor.py\u001b[0m in \u001b[0;36mbackward\u001b[0;34m(self, gradient, retain_graph, create_graph)\u001b[0m\n\u001b[1;32m    219\u001b[0m                 \u001b[0mretain_graph\u001b[0m\u001b[0;34m=\u001b[0m\u001b[0mretain_graph\u001b[0m\u001b[0;34m,\u001b[0m\u001b[0;34m\u001b[0m\u001b[0;34m\u001b[0m\u001b[0m\n\u001b[1;32m    220\u001b[0m                 create_graph=create_graph)\n\u001b[0;32m--> 221\u001b[0;31m         \u001b[0mtorch\u001b[0m\u001b[0;34m.\u001b[0m\u001b[0mautograd\u001b[0m\u001b[0;34m.\u001b[0m\u001b[0mbackward\u001b[0m\u001b[0;34m(\u001b[0m\u001b[0mself\u001b[0m\u001b[0;34m,\u001b[0m \u001b[0mgradient\u001b[0m\u001b[0;34m,\u001b[0m \u001b[0mretain_graph\u001b[0m\u001b[0;34m,\u001b[0m \u001b[0mcreate_graph\u001b[0m\u001b[0;34m)\u001b[0m\u001b[0;34m\u001b[0m\u001b[0;34m\u001b[0m\u001b[0m\n\u001b[0m\u001b[1;32m    222\u001b[0m \u001b[0;34m\u001b[0m\u001b[0m\n\u001b[1;32m    223\u001b[0m     \u001b[0;32mdef\u001b[0m \u001b[0mregister_hook\u001b[0m\u001b[0;34m(\u001b[0m\u001b[0mself\u001b[0m\u001b[0;34m,\u001b[0m \u001b[0mhook\u001b[0m\u001b[0;34m)\u001b[0m\u001b[0;34m:\u001b[0m\u001b[0;34m\u001b[0m\u001b[0;34m\u001b[0m\u001b[0m\n",
            "\u001b[0;32m/usr/local/lib/python3.6/dist-packages/torch/autograd/__init__.py\u001b[0m in \u001b[0;36mbackward\u001b[0;34m(tensors, grad_tensors, retain_graph, create_graph, grad_variables)\u001b[0m\n\u001b[1;32m    130\u001b[0m     Variable._execution_engine.run_backward(\n\u001b[1;32m    131\u001b[0m         \u001b[0mtensors\u001b[0m\u001b[0;34m,\u001b[0m \u001b[0mgrad_tensors_\u001b[0m\u001b[0;34m,\u001b[0m \u001b[0mretain_graph\u001b[0m\u001b[0;34m,\u001b[0m \u001b[0mcreate_graph\u001b[0m\u001b[0;34m,\u001b[0m\u001b[0;34m\u001b[0m\u001b[0;34m\u001b[0m\u001b[0m\n\u001b[0;32m--> 132\u001b[0;31m         allow_unreachable=True)  # allow_unreachable flag\n\u001b[0m\u001b[1;32m    133\u001b[0m \u001b[0;34m\u001b[0m\u001b[0m\n\u001b[1;32m    134\u001b[0m \u001b[0;34m\u001b[0m\u001b[0m\n",
            "\u001b[0;31mRuntimeError\u001b[0m: one of the variables needed for gradient computation has been modified by an inplace operation: [torch.FloatTensor [50]], which is output 0 of AddBackward0, is at version 5; expected version 4 instead. Hint: enable anomaly detection to find the operation that failed to compute its gradient, with torch.autograd.set_detect_anomaly(True)."
          ]
        }
      ]
    },
    {
      "cell_type": "code",
      "metadata": {
        "id": "GzSVhSsRn8RU"
      },
      "source": [
        "plt.figure(num=None, figsize=(10, 10), dpi=50, facecolor='w', edgecolor='k')\n",
        "plt.plot(train_losses, label='train_loss')\n",
        "plt.plot(val_losses, c='red', label='val loss')\n",
        "plt.legend()"
      ],
      "execution_count": null,
      "outputs": []
    },
    {
      "cell_type": "code",
      "metadata": {
        "id": "VkLu_78GdKqU"
      },
      "source": [
        "amb_locs"
      ],
      "execution_count": null,
      "outputs": []
    },
    {
      "cell_type": "code",
      "metadata": {
        "id": "K4pPOoaFcujk"
      },
      "source": [
        "amb = pd.DataFrame(amb_locs)\n",
        "amb.columns = ['latitude', 'longitude']\n",
        "amb"
      ],
      "execution_count": null,
      "outputs": []
    },
    {
      "cell_type": "code",
      "metadata": {
        "id": "IPXavmDTdAYu"
      },
      "source": [
        "def score(sub, ref):\n",
        "    total_distance = 0\n",
        "    for date, c_lat, c_lon in ref[['datetime', 'latitude', 'longitude']].values:\n",
        "        row = sub.loc[sub.date < date].tail(1) # Prior to Oct 2 this was incorrectly .head(1)\n",
        "        dists = []\n",
        "        for a in range(1,6):\n",
        "            dist = ((c_lat - row[f'A{a}_Latitude'].values[0])**2+(c_lon - row[f'A{a}_Longitude'].values[0])**2)**0.5 \n",
        "            dists.append(dist)\n",
        "            \n",
        "        total_distance = min(dists)\n",
        "    return total_distance"
      ],
      "execution_count": null,
      "outputs": []
    },
    {
      "cell_type": "code",
      "metadata": {
        "id": "mznFUyickIG0",
        "colab": {
          "base_uri": "https://localhost:8080/"
        },
        "outputId": "feebf89f-6120-4589-a74c-8bd3686a3ab8"
      },
      "source": [
        "val_locs.numpy()"
      ],
      "execution_count": null,
      "outputs": [
        {
          "output_type": "execute_result",
          "data": {
            "text/plain": [
              "array([[-1.2698303, 36.80743  ],\n",
              "       [-1.2257562, 36.88497  ],\n",
              "       [-1.3321493, 36.889168 ],\n",
              "       ...,\n",
              "       [-1.3221091, 36.82525  ],\n",
              "       [-1.2785887, 36.816517 ],\n",
              "       [-1.2115002, 36.907635 ]], dtype=float32)"
            ]
          },
          "metadata": {
            "tags": []
          },
          "execution_count": 83
        }
      ]
    },
    {
      "cell_type": "code",
      "metadata": {
        "id": "lVtEB65hjsiB",
        "colab": {
          "base_uri": "https://localhost:8080/",
          "height": 107
        },
        "outputId": "02083259-e370-40ca-9387-9e1cb95da8a9"
      },
      "source": [
        "# Test set\n",
        "reference = train.loc[train.datetime > '2019-01-01'] # Using 2019 as our test set\n",
        "reference.head(2)"
      ],
      "execution_count": null,
      "outputs": [
        {
          "output_type": "execute_result",
          "data": {
            "text/html": [
              "<div>\n",
              "<style scoped>\n",
              "    .dataframe tbody tr th:only-of-type {\n",
              "        vertical-align: middle;\n",
              "    }\n",
              "\n",
              "    .dataframe tbody tr th {\n",
              "        vertical-align: top;\n",
              "    }\n",
              "\n",
              "    .dataframe thead th {\n",
              "        text-align: right;\n",
              "    }\n",
              "</style>\n",
              "<table border=\"1\" class=\"dataframe\">\n",
              "  <thead>\n",
              "    <tr style=\"text-align: right;\">\n",
              "      <th></th>\n",
              "      <th>uid</th>\n",
              "      <th>datetime</th>\n",
              "      <th>latitude</th>\n",
              "      <th>longitude</th>\n",
              "    </tr>\n",
              "  </thead>\n",
              "  <tbody>\n",
              "    <tr>\n",
              "      <th>4396</th>\n",
              "      <td>4397</td>\n",
              "      <td>2019-01-01 11:16:39</td>\n",
              "      <td>-1.298568</td>\n",
              "      <td>36.806244</td>\n",
              "    </tr>\n",
              "    <tr>\n",
              "      <th>4397</th>\n",
              "      <td>4398</td>\n",
              "      <td>2019-01-01 13:29:39</td>\n",
              "      <td>-1.316169</td>\n",
              "      <td>36.895726</td>\n",
              "    </tr>\n",
              "  </tbody>\n",
              "</table>\n",
              "</div>"
            ],
            "text/plain": [
              "       uid             datetime  latitude  longitude\n",
              "4396  4397  2019-01-01 11:16:39 -1.298568  36.806244\n",
              "4397  4398  2019-01-01 13:29:39 -1.316169  36.895726"
            ]
          },
          "metadata": {
            "tags": []
          },
          "execution_count": 84
        }
      ]
    },
    {
      "cell_type": "code",
      "metadata": {
        "id": "AnlEy9qZjuZI",
        "colab": {
          "base_uri": "https://localhost:8080/"
        },
        "outputId": "1e4019c0-992e-4630-ee28-fb715903598b"
      },
      "source": [
        "# Date rane covering test set\n",
        "dates = pd.date_range('2019-01-01', '2020-01-01', freq='3h')\n",
        "\n",
        "# Create submission dataframe\n",
        "sub = pd.DataFrame({\n",
        "    'date':dates\n",
        "})\n",
        "\n",
        "for ambulance in range(6):\n",
        "  sub['A'+str(ambulance)+'_Latitude'] = amb.latitude[ambulance]\n",
        "  sub['A'+str(ambulance)+'_Longitude'] = amb.longitude[ambulance]\n",
        "\n",
        "score(sub, reference)"
      ],
      "execution_count": null,
      "outputs": [
        {
          "output_type": "execute_result",
          "data": {
            "text/plain": [
              "0.017348537625199337"
            ]
          },
          "metadata": {
            "tags": []
          },
          "execution_count": 85
        }
      ]
    },
    {
      "cell_type": "code",
      "metadata": {
        "id": "lLS9RctTk0T3"
      },
      "source": [
        "# Export Submission File.\n",
        "sub.to_csv(\"submission_sgd.csv\")\n"
      ],
      "execution_count": null,
      "outputs": []
    },
    {
      "cell_type": "markdown",
      "metadata": {
        "id": "SqUQOVZZsrDN"
      },
      "source": [
        "### Load the Submission file"
      ]
    },
    {
      "cell_type": "code",
      "metadata": {
        "id": "KqU-PsZCsvwG",
        "colab": {
          "base_uri": "https://localhost:8080/",
          "height": 405
        },
        "outputId": "70d33345-ee48-4a67-cb73-8c8050971357"
      },
      "source": [
        "sub = pd.read_csv(\"submission.csv\")\n",
        "sub.head()"
      ],
      "execution_count": null,
      "outputs": [
        {
          "output_type": "error",
          "ename": "FileNotFoundError",
          "evalue": "ignored",
          "traceback": [
            "\u001b[0;31m---------------------------------------------------------------------------\u001b[0m",
            "\u001b[0;31mFileNotFoundError\u001b[0m                         Traceback (most recent call last)",
            "\u001b[0;32m<ipython-input-204-ac38cd61dd3f>\u001b[0m in \u001b[0;36m<module>\u001b[0;34m()\u001b[0m\n\u001b[0;32m----> 1\u001b[0;31m \u001b[0msub\u001b[0m \u001b[0;34m=\u001b[0m \u001b[0mpd\u001b[0m\u001b[0;34m.\u001b[0m\u001b[0mread_csv\u001b[0m\u001b[0;34m(\u001b[0m\u001b[0;34m\"submission.csv\"\u001b[0m\u001b[0;34m)\u001b[0m\u001b[0;34m\u001b[0m\u001b[0;34m\u001b[0m\u001b[0m\n\u001b[0m\u001b[1;32m      2\u001b[0m \u001b[0msub\u001b[0m\u001b[0;34m.\u001b[0m\u001b[0mhead\u001b[0m\u001b[0;34m(\u001b[0m\u001b[0;34m)\u001b[0m\u001b[0;34m\u001b[0m\u001b[0;34m\u001b[0m\u001b[0m\n",
            "\u001b[0;32m/usr/local/lib/python3.6/dist-packages/pandas/io/parsers.py\u001b[0m in \u001b[0;36mread_csv\u001b[0;34m(filepath_or_buffer, sep, delimiter, header, names, index_col, usecols, squeeze, prefix, mangle_dupe_cols, dtype, engine, converters, true_values, false_values, skipinitialspace, skiprows, skipfooter, nrows, na_values, keep_default_na, na_filter, verbose, skip_blank_lines, parse_dates, infer_datetime_format, keep_date_col, date_parser, dayfirst, cache_dates, iterator, chunksize, compression, thousands, decimal, lineterminator, quotechar, quoting, doublequote, escapechar, comment, encoding, dialect, error_bad_lines, warn_bad_lines, delim_whitespace, low_memory, memory_map, float_precision)\u001b[0m\n\u001b[1;32m    684\u001b[0m     )\n\u001b[1;32m    685\u001b[0m \u001b[0;34m\u001b[0m\u001b[0m\n\u001b[0;32m--> 686\u001b[0;31m     \u001b[0;32mreturn\u001b[0m \u001b[0m_read\u001b[0m\u001b[0;34m(\u001b[0m\u001b[0mfilepath_or_buffer\u001b[0m\u001b[0;34m,\u001b[0m \u001b[0mkwds\u001b[0m\u001b[0;34m)\u001b[0m\u001b[0;34m\u001b[0m\u001b[0;34m\u001b[0m\u001b[0m\n\u001b[0m\u001b[1;32m    687\u001b[0m \u001b[0;34m\u001b[0m\u001b[0m\n\u001b[1;32m    688\u001b[0m \u001b[0;34m\u001b[0m\u001b[0m\n",
            "\u001b[0;32m/usr/local/lib/python3.6/dist-packages/pandas/io/parsers.py\u001b[0m in \u001b[0;36m_read\u001b[0;34m(filepath_or_buffer, kwds)\u001b[0m\n\u001b[1;32m    450\u001b[0m \u001b[0;34m\u001b[0m\u001b[0m\n\u001b[1;32m    451\u001b[0m     \u001b[0;31m# Create the parser.\u001b[0m\u001b[0;34m\u001b[0m\u001b[0;34m\u001b[0m\u001b[0;34m\u001b[0m\u001b[0m\n\u001b[0;32m--> 452\u001b[0;31m     \u001b[0mparser\u001b[0m \u001b[0;34m=\u001b[0m \u001b[0mTextFileReader\u001b[0m\u001b[0;34m(\u001b[0m\u001b[0mfp_or_buf\u001b[0m\u001b[0;34m,\u001b[0m \u001b[0;34m**\u001b[0m\u001b[0mkwds\u001b[0m\u001b[0;34m)\u001b[0m\u001b[0;34m\u001b[0m\u001b[0;34m\u001b[0m\u001b[0m\n\u001b[0m\u001b[1;32m    453\u001b[0m \u001b[0;34m\u001b[0m\u001b[0m\n\u001b[1;32m    454\u001b[0m     \u001b[0;32mif\u001b[0m \u001b[0mchunksize\u001b[0m \u001b[0;32mor\u001b[0m \u001b[0miterator\u001b[0m\u001b[0;34m:\u001b[0m\u001b[0;34m\u001b[0m\u001b[0;34m\u001b[0m\u001b[0m\n",
            "\u001b[0;32m/usr/local/lib/python3.6/dist-packages/pandas/io/parsers.py\u001b[0m in \u001b[0;36m__init__\u001b[0;34m(self, f, engine, **kwds)\u001b[0m\n\u001b[1;32m    934\u001b[0m             \u001b[0mself\u001b[0m\u001b[0;34m.\u001b[0m\u001b[0moptions\u001b[0m\u001b[0;34m[\u001b[0m\u001b[0;34m\"has_index_names\"\u001b[0m\u001b[0;34m]\u001b[0m \u001b[0;34m=\u001b[0m \u001b[0mkwds\u001b[0m\u001b[0;34m[\u001b[0m\u001b[0;34m\"has_index_names\"\u001b[0m\u001b[0;34m]\u001b[0m\u001b[0;34m\u001b[0m\u001b[0;34m\u001b[0m\u001b[0m\n\u001b[1;32m    935\u001b[0m \u001b[0;34m\u001b[0m\u001b[0m\n\u001b[0;32m--> 936\u001b[0;31m         \u001b[0mself\u001b[0m\u001b[0;34m.\u001b[0m\u001b[0m_make_engine\u001b[0m\u001b[0;34m(\u001b[0m\u001b[0mself\u001b[0m\u001b[0;34m.\u001b[0m\u001b[0mengine\u001b[0m\u001b[0;34m)\u001b[0m\u001b[0;34m\u001b[0m\u001b[0;34m\u001b[0m\u001b[0m\n\u001b[0m\u001b[1;32m    937\u001b[0m \u001b[0;34m\u001b[0m\u001b[0m\n\u001b[1;32m    938\u001b[0m     \u001b[0;32mdef\u001b[0m \u001b[0mclose\u001b[0m\u001b[0;34m(\u001b[0m\u001b[0mself\u001b[0m\u001b[0;34m)\u001b[0m\u001b[0;34m:\u001b[0m\u001b[0;34m\u001b[0m\u001b[0;34m\u001b[0m\u001b[0m\n",
            "\u001b[0;32m/usr/local/lib/python3.6/dist-packages/pandas/io/parsers.py\u001b[0m in \u001b[0;36m_make_engine\u001b[0;34m(self, engine)\u001b[0m\n\u001b[1;32m   1166\u001b[0m     \u001b[0;32mdef\u001b[0m \u001b[0m_make_engine\u001b[0m\u001b[0;34m(\u001b[0m\u001b[0mself\u001b[0m\u001b[0;34m,\u001b[0m \u001b[0mengine\u001b[0m\u001b[0;34m=\u001b[0m\u001b[0;34m\"c\"\u001b[0m\u001b[0;34m)\u001b[0m\u001b[0;34m:\u001b[0m\u001b[0;34m\u001b[0m\u001b[0;34m\u001b[0m\u001b[0m\n\u001b[1;32m   1167\u001b[0m         \u001b[0;32mif\u001b[0m \u001b[0mengine\u001b[0m \u001b[0;34m==\u001b[0m \u001b[0;34m\"c\"\u001b[0m\u001b[0;34m:\u001b[0m\u001b[0;34m\u001b[0m\u001b[0;34m\u001b[0m\u001b[0m\n\u001b[0;32m-> 1168\u001b[0;31m             \u001b[0mself\u001b[0m\u001b[0;34m.\u001b[0m\u001b[0m_engine\u001b[0m \u001b[0;34m=\u001b[0m \u001b[0mCParserWrapper\u001b[0m\u001b[0;34m(\u001b[0m\u001b[0mself\u001b[0m\u001b[0;34m.\u001b[0m\u001b[0mf\u001b[0m\u001b[0;34m,\u001b[0m \u001b[0;34m**\u001b[0m\u001b[0mself\u001b[0m\u001b[0;34m.\u001b[0m\u001b[0moptions\u001b[0m\u001b[0;34m)\u001b[0m\u001b[0;34m\u001b[0m\u001b[0;34m\u001b[0m\u001b[0m\n\u001b[0m\u001b[1;32m   1169\u001b[0m         \u001b[0;32melse\u001b[0m\u001b[0;34m:\u001b[0m\u001b[0;34m\u001b[0m\u001b[0;34m\u001b[0m\u001b[0m\n\u001b[1;32m   1170\u001b[0m             \u001b[0;32mif\u001b[0m \u001b[0mengine\u001b[0m \u001b[0;34m==\u001b[0m \u001b[0;34m\"python\"\u001b[0m\u001b[0;34m:\u001b[0m\u001b[0;34m\u001b[0m\u001b[0;34m\u001b[0m\u001b[0m\n",
            "\u001b[0;32m/usr/local/lib/python3.6/dist-packages/pandas/io/parsers.py\u001b[0m in \u001b[0;36m__init__\u001b[0;34m(self, src, **kwds)\u001b[0m\n\u001b[1;32m   1996\u001b[0m         \u001b[0mkwds\u001b[0m\u001b[0;34m[\u001b[0m\u001b[0;34m\"usecols\"\u001b[0m\u001b[0;34m]\u001b[0m \u001b[0;34m=\u001b[0m \u001b[0mself\u001b[0m\u001b[0;34m.\u001b[0m\u001b[0musecols\u001b[0m\u001b[0;34m\u001b[0m\u001b[0;34m\u001b[0m\u001b[0m\n\u001b[1;32m   1997\u001b[0m \u001b[0;34m\u001b[0m\u001b[0m\n\u001b[0;32m-> 1998\u001b[0;31m         \u001b[0mself\u001b[0m\u001b[0;34m.\u001b[0m\u001b[0m_reader\u001b[0m \u001b[0;34m=\u001b[0m \u001b[0mparsers\u001b[0m\u001b[0;34m.\u001b[0m\u001b[0mTextReader\u001b[0m\u001b[0;34m(\u001b[0m\u001b[0msrc\u001b[0m\u001b[0;34m,\u001b[0m \u001b[0;34m**\u001b[0m\u001b[0mkwds\u001b[0m\u001b[0;34m)\u001b[0m\u001b[0;34m\u001b[0m\u001b[0;34m\u001b[0m\u001b[0m\n\u001b[0m\u001b[1;32m   1999\u001b[0m         \u001b[0mself\u001b[0m\u001b[0;34m.\u001b[0m\u001b[0munnamed_cols\u001b[0m \u001b[0;34m=\u001b[0m \u001b[0mself\u001b[0m\u001b[0;34m.\u001b[0m\u001b[0m_reader\u001b[0m\u001b[0;34m.\u001b[0m\u001b[0munnamed_cols\u001b[0m\u001b[0;34m\u001b[0m\u001b[0;34m\u001b[0m\u001b[0m\n\u001b[1;32m   2000\u001b[0m \u001b[0;34m\u001b[0m\u001b[0m\n",
            "\u001b[0;32mpandas/_libs/parsers.pyx\u001b[0m in \u001b[0;36mpandas._libs.parsers.TextReader.__cinit__\u001b[0;34m()\u001b[0m\n",
            "\u001b[0;32mpandas/_libs/parsers.pyx\u001b[0m in \u001b[0;36mpandas._libs.parsers.TextReader._setup_parser_source\u001b[0;34m()\u001b[0m\n",
            "\u001b[0;31mFileNotFoundError\u001b[0m: [Errno 2] No such file or directory: 'submission.csv'"
          ]
        }
      ]
    },
    {
      "cell_type": "markdown",
      "metadata": {
        "id": "UIVyu_ZHgsmA"
      },
      "source": [
        "# Animation version\n",
        "\n",
        "I used this to visualize how the locations change over time - Not necessary at all but I thought it was quite fun to watch :)"
      ]
    },
    {
      "cell_type": "code",
      "metadata": {
        "id": "cut4E8lWgurZ"
      },
      "source": [
        "cs = pd.read_csv('Train.csv')\n",
        "# Clipping to the central area for a better view\n",
        "cs = cs.loc[(cs.latitude < -1.375+0.2)&(cs.latitude > -1.375)\\\n",
        "            &(cs.longitude > 36.6)&(cs.longitude < 36.6+0.45)]\n",
        "crash_locs = tensor(cs[['latitude', 'longitude']].values) # To Tensor"
      ],
      "execution_count": null,
      "outputs": []
    },
    {
      "cell_type": "code",
      "metadata": {
        "id": "uEGvsQNKg6yr"
      },
      "source": [
        "locs = []\n",
        "# Ambulance Locations\n",
        "amb_locs = torch.randn(6, 2) * 0.04\n",
        "amb_locs = amb_locs + tensor(-1.27, 36.85)\n",
        "amb_locs.requires_grad_()\n",
        "locs.append(amb_locs.detach().numpy()) # Store"
      ],
      "execution_count": null,
      "outputs": []
    },
    {
      "cell_type": "code",
      "metadata": {
        "id": "GYd33Fo7hDD8",
        "colab": {
          "base_uri": "https://localhost:8080/",
          "height": 52
        },
        "outputId": "356a2941-047c-4a9c-8ca5-443e2c604750"
      },
      "source": [
        "lr=1e-2 # Pick LR\n",
        "for i in range(200):\n",
        "  loss = loss_fn(crash_locs, amb_locs) # Find loss\n",
        "  if i % 100 == 0: print('Loss:', loss.item()) # Print loss\n",
        "  loss.backward() # Calc grads\n",
        "  amb_locs.data -= lr * amb_locs.grad.data # Update locs\n",
        "  locs.append(locs[-1] - lr*amb_locs.grad.data.numpy() ) # Store locs\n",
        "  amb_locs.grad = None # Reset gradients for next step"
      ],
      "execution_count": null,
      "outputs": [
        {
          "output_type": "stream",
          "text": [
            "Loss: 0.05449259653687477\n",
            "Loss: 0.026169080287218094\n"
          ],
          "name": "stdout"
        }
      ]
    },
    {
      "cell_type": "code",
      "metadata": {
        "id": "domL3n2XhN_y",
        "colab": {
          "base_uri": "https://localhost:8080/",
          "height": 34
        },
        "outputId": "e823e5dc-0de7-42a2-cf8a-5a24675fc77b"
      },
      "source": [
        "!rm -r ims\n",
        "!mkdir ims\n",
        "for i in range(200):\n",
        "  ax = cs.plot(y='latitude', x='longitude', kind='scatter', figsize=(16, 10), label='crash locations')\n",
        "  ax.scatter(locs[i][:,1], locs[i][:,0], c='red', label=f'ambulance locs at {i}')\n",
        "  ax.legend()\n",
        "  plt.savefig(f'ims/{str(i).zfill(3)}.png')\n",
        "  plt.clf()\n",
        "  plt.close()"
      ],
      "execution_count": null,
      "outputs": [
        {
          "output_type": "stream",
          "text": [
            "rm: cannot remove 'ims': No such file or directory\n"
          ],
          "name": "stdout"
        }
      ]
    },
    {
      "cell_type": "code",
      "metadata": {
        "id": "m-z84ez6hemu",
        "colab": {
          "base_uri": "https://localhost:8080/",
          "height": 1000
        },
        "outputId": "22fb02d8-8fb2-488a-aa09-32234ff171d9"
      },
      "source": [
        "!ffmpeg -framerate 8 -pattern_type glob -i 'ims/*.png' \\\n",
        "  -c:v libx264 -r 30 -pix_fmt yuv420p out.mp4"
      ],
      "execution_count": null,
      "outputs": [
        {
          "output_type": "stream",
          "text": [
            "ffmpeg version 3.4.8-0ubuntu0.2 Copyright (c) 2000-2020 the FFmpeg developers\n",
            "  built with gcc 7 (Ubuntu 7.5.0-3ubuntu1~18.04)\n",
            "  configuration: --prefix=/usr --extra-version=0ubuntu0.2 --toolchain=hardened --libdir=/usr/lib/x86_64-linux-gnu --incdir=/usr/include/x86_64-linux-gnu --enable-gpl --disable-stripping --enable-avresample --enable-avisynth --enable-gnutls --enable-ladspa --enable-libass --enable-libbluray --enable-libbs2b --enable-libcaca --enable-libcdio --enable-libflite --enable-libfontconfig --enable-libfreetype --enable-libfribidi --enable-libgme --enable-libgsm --enable-libmp3lame --enable-libmysofa --enable-libopenjpeg --enable-libopenmpt --enable-libopus --enable-libpulse --enable-librubberband --enable-librsvg --enable-libshine --enable-libsnappy --enable-libsoxr --enable-libspeex --enable-libssh --enable-libtheora --enable-libtwolame --enable-libvorbis --enable-libvpx --enable-libwavpack --enable-libwebp --enable-libx265 --enable-libxml2 --enable-libxvid --enable-libzmq --enable-libzvbi --enable-omx --enable-openal --enable-opengl --enable-sdl2 --enable-libdc1394 --enable-libdrm --enable-libiec61883 --enable-chromaprint --enable-frei0r --enable-libopencv --enable-libx264 --enable-shared\n",
            "  libavutil      55. 78.100 / 55. 78.100\n",
            "  libavcodec     57.107.100 / 57.107.100\n",
            "  libavformat    57. 83.100 / 57. 83.100\n",
            "  libavdevice    57. 10.100 / 57. 10.100\n",
            "  libavfilter     6.107.100 /  6.107.100\n",
            "  libavresample   3.  7.  0 /  3.  7.  0\n",
            "  libswscale      4.  8.100 /  4.  8.100\n",
            "  libswresample   2.  9.100 /  2.  9.100\n",
            "  libpostproc    54.  7.100 / 54.  7.100\n",
            "Input #0, image2, from 'ims/*.png':\n",
            "  Duration: 00:00:25.00, start: 0.000000, bitrate: N/A\n",
            "    Stream #0:0: Video: png, rgba(pc), 1152x720 [SAR 2834:2834 DAR 8:5], 8 fps, 8 tbr, 8 tbn, 8 tbc\n",
            "Stream mapping:\n",
            "  Stream #0:0 -> #0:0 (png (native) -> h264 (libx264))\n",
            "Press [q] to stop, [?] for help\n",
            "\u001b[1;36m[libx264 @ 0x55b9d42bde00] \u001b[0musing SAR=1/1\n",
            "\u001b[1;36m[libx264 @ 0x55b9d42bde00] \u001b[0musing cpu capabilities: MMX2 SSE2Fast SSSE3 SSE4.2 AVX FMA3 BMI2 AVX2\n",
            "\u001b[1;36m[libx264 @ 0x55b9d42bde00] \u001b[0mprofile High, level 3.1\n",
            "\u001b[1;36m[libx264 @ 0x55b9d42bde00] \u001b[0m264 - core 152 r2854 e9a5903 - H.264/MPEG-4 AVC codec - Copyleft 2003-2017 - http://www.videolan.org/x264.html - options: cabac=1 ref=3 deblock=1:0:0 analyse=0x3:0x113 me=hex subme=7 psy=1 psy_rd=1.00:0.00 mixed_ref=1 me_range=16 chroma_me=1 trellis=1 8x8dct=1 cqm=0 deadzone=21,11 fast_pskip=1 chroma_qp_offset=-2 threads=3 lookahead_threads=1 sliced_threads=0 nr=0 decimate=1 interlaced=0 bluray_compat=0 constrained_intra=0 bframes=3 b_pyramid=2 b_adapt=1 b_bias=0 direct=1 weightb=1 open_gop=0 weightp=2 keyint=250 keyint_min=25 scenecut=40 intra_refresh=0 rc_lookahead=40 rc=crf mbtree=1 crf=23.0 qcomp=0.60 qpmin=0 qpmax=69 qpstep=4 ip_ratio=1.40 aq=1:1.00\n",
            "Output #0, mp4, to 'out.mp4':\n",
            "  Metadata:\n",
            "    encoder         : Lavf57.83.100\n",
            "    Stream #0:0: Video: h264 (libx264) (avc1 / 0x31637661), yuv420p, 1152x720 [SAR 1:1 DAR 8:5], q=-1--1, 30 fps, 15360 tbn, 30 tbc\n",
            "    Metadata:\n",
            "      encoder         : Lavc57.107.100 libx264\n",
            "    Side data:\n",
            "      cpb: bitrate max/min/avg: 0/0/0 buffer size: 0 vbv_delay: -1\n",
            "\u001b[0;33mPast duration 0.749992 too large\n",
            "    Last message repeated 3 times\n",
            "\u001b[0;33mPast duration 0.749992 too large\n",
            "    Last message repeated 2 times\n",
            "\u001b[0;33mPast duration 0.749992 too large\n",
            "    Last message repeated 2 times\n",
            "\u001b[0;33mPast duration 0.749992 too large\n",
            "    Last message repeated 3 times\n",
            "\u001b[0;33mPast duration 0.749992 too large\n",
            "    Last message repeated 2 times\n",
            "\u001b[0;33mPast duration 0.749992 too large\n",
            "    Last message repeated 2 times\n",
            "\u001b[0;33mPast duration 0.749992 too large\n",
            "    Last message repeated 2 times\n",
            "\u001b[0;33mPast duration 0.749992 too large\n",
            "    Last message repeated 3 times\n",
            "\u001b[0;33mPast duration 0.749992 too large\n",
            "    Last message repeated 2 times\n",
            "\u001b[0;33mPast duration 0.749992 too large\n",
            "    Last message repeated 2 times\n",
            "\u001b[0;33mPast duration 0.749992 too large\n",
            "    Last message repeated 2 times\n",
            "\u001b[0;33mPast duration 0.749992 too large\n",
            "    Last message repeated 3 times\n",
            "\u001b[0;33mPast duration 0.749992 too large\n",
            "    Last message repeated 2 times\n",
            "\u001b[0;33mPast duration 0.749992 too large\n",
            "    Last message repeated 3 times\n",
            "\u001b[0;33mPast duration 0.749992 too large\n",
            "    Last message repeated 2 times\n",
            "frame=  750 fps= 93 q=-1.0 Lsize=     226kB time=00:00:24.90 bitrate=  74.5kbits/s dup=550 drop=0 speed= 3.1x    \n",
            "video:217kB audio:0kB subtitle:0kB other streams:0kB global headers:0kB muxing overhead: 4.433406%\n",
            "\u001b[1;36m[libx264 @ 0x55b9d42bde00] \u001b[0mframe I:3     Avg QP:14.14  size: 47365\n",
            "\u001b[1;36m[libx264 @ 0x55b9d42bde00] \u001b[0mframe P:189   Avg QP:23.43  size:   261\n",
            "\u001b[1;36m[libx264 @ 0x55b9d42bde00] \u001b[0mframe B:558   Avg QP:14.03  size:    54\n",
            "\u001b[1;36m[libx264 @ 0x55b9d42bde00] \u001b[0mconsecutive B-frames:  0.8%  0.0%  0.0% 99.2%\n",
            "\u001b[1;36m[libx264 @ 0x55b9d42bde00] \u001b[0mmb I  I16..4: 51.7% 28.6% 19.7%\n",
            "\u001b[1;36m[libx264 @ 0x55b9d42bde00] \u001b[0mmb P  I16..4:  0.0%  0.0%  0.0%  P16..4:  0.3%  0.1%  0.0%  0.0%  0.0%    skip:99.5%\n",
            "\u001b[1;36m[libx264 @ 0x55b9d42bde00] \u001b[0mmb B  I16..4:  0.0%  0.0%  0.0%  B16..8:  0.5%  0.0%  0.0%  direct: 0.0%  skip:99.5%  L0:57.9% L1:42.0% BI: 0.1%\n",
            "\u001b[1;36m[libx264 @ 0x55b9d42bde00] \u001b[0m8x8 transform intra:28.3% inter:2.2%\n",
            "\u001b[1;36m[libx264 @ 0x55b9d42bde00] \u001b[0mcoded y,uvDC,uvAC intra: 11.8% 17.3% 16.3% inter: 0.0% 0.0% 0.0%\n",
            "\u001b[1;36m[libx264 @ 0x55b9d42bde00] \u001b[0mi16 v,h,dc,p: 86%  9%  5%  0%\n",
            "\u001b[1;36m[libx264 @ 0x55b9d42bde00] \u001b[0mi8 v,h,dc,ddl,ddr,vr,hd,vl,hu: 70%  4% 26%  0%  0%  0%  0%  0%  0%\n",
            "\u001b[1;36m[libx264 @ 0x55b9d42bde00] \u001b[0mi4 v,h,dc,ddl,ddr,vr,hd,vl,hu: 40% 22% 17%  3%  4%  4%  4%  3%  4%\n",
            "\u001b[1;36m[libx264 @ 0x55b9d42bde00] \u001b[0mi8c dc,h,v,p: 88%  6%  5%  1%\n",
            "\u001b[1;36m[libx264 @ 0x55b9d42bde00] \u001b[0mWeighted P-Frames: Y:0.0% UV:0.0%\n",
            "\u001b[1;36m[libx264 @ 0x55b9d42bde00] \u001b[0mref P L0: 77.3%  1.5% 11.5%  9.7%\n",
            "\u001b[1;36m[libx264 @ 0x55b9d42bde00] \u001b[0mref B L0: 62.6% 37.1%  0.4%\n",
            "\u001b[1;36m[libx264 @ 0x55b9d42bde00] \u001b[0mref B L1: 99.5%  0.5%\n",
            "\u001b[1;36m[libx264 @ 0x55b9d42bde00] \u001b[0mkb/s:70.84\n"
          ],
          "name": "stdout"
        }
      ]
    },
    {
      "cell_type": "code",
      "metadata": {
        "id": "X6soSA-5rVQg"
      },
      "source": [
        ""
      ],
      "execution_count": null,
      "outputs": []
    },
    {
      "cell_type": "code",
      "metadata": {
        "id": "25msr_8ovOzS"
      },
      "source": [
        ""
      ],
      "execution_count": null,
      "outputs": []
    }
  ]
}