{
  "nbformat": 4,
  "nbformat_minor": 0,
  "metadata": {
    "colab": {
      "name": "Uber Nairobi Ambulance Perambulation Challenge.ipynb",
      "provenance": [],
      "collapsed_sections": [],
      "toc_visible": true,
      "authorship_tag": "ABX9TyNBVTXPmb17C0rXW5ePWJbT",
      "include_colab_link": true
    },
    "kernelspec": {
      "display_name": "Python 3",
      "name": "python3"
    }
  },
  "cells": [
    {
      "cell_type": "markdown",
      "metadata": {
        "id": "view-in-github",
        "colab_type": "text"
      },
      "source": [
        "<a href=\"https://colab.research.google.com/github/Paul-mwaura/ML-Hackathons/blob/main/Uber_Nairobi_Ambulance_Perambulation_Challenge.ipynb\" target=\"_parent\"><img src=\"https://colab.research.google.com/assets/colab-badge.svg\" alt=\"Open In Colab\"/></a>"
      ]
    },
    {
      "cell_type": "markdown",
      "metadata": {
        "id": "9C4TEwD6rXA-"
      },
      "source": [
        "# Uber Nairobi Ambulance Perambulation Challenge"
      ]
    },
    {
      "cell_type": "markdown",
      "metadata": {
        "id": "I8VRkOKUraGt"
      },
      "source": [
        "## Business Understanding"
      ]
    },
    {
      "cell_type": "markdown",
      "metadata": {
        "id": "__VOtp-pP5g1"
      },
      "source": [
        "<a href=\"https://zindi.africa/competitions/uber-nairobi-ambulance-perambulation-challenge\">**Uber Nairobi Ambulance Perambulation Challenge**</a>\n",
        "\n",
        "Road traffic collisions are the number one killer of children and young adults ages 5-29, and 8th leading cause of death worldwide. Post-crash care is one of the five pillars of road safety and a critical component for reducing morbidity and mortality.\n",
        "\n",
        "When it comes to emergency response to road accidents, every second counts. With heavy traffic patterns and the unique layout of the city, finding the best locations to position emergency responders throughout the day as they wait to be called is critical in a city like Nairobi.\n",
        "\n",
        "We’ve collected information on thousands of traffic accidents that have occurred in Nairobi, Kenya in 2018 and 2019. For this competition, you must use the training data (recorded crashes up to June 2019) along with supplementary data from Uber Movement, road survey data and weather patterns to identify patterns of risk across the city. You must then use these findings to place six virtual ambulances around the city, moving them around throughout the day with the goal of minimising the distance travelled when responding to crashes during the test period."
      ]
    },
    {
      "cell_type": "markdown",
      "metadata": {
        "id": "JBUcv5bNrc7n"
      },
      "source": [
        "## Data Understanding\n"
      ]
    },
    {
      "cell_type": "markdown",
      "metadata": {
        "id": "qWcc30-Zt5EM"
      },
      "source": [
        "> The main dataset for this challenge (in Train.csv) is a record of crashes within Nairobi over 2018-19. Each crash has an associated datetime and location. Let's load the data and take a look."
      ]
    },
    {
      "cell_type": "markdown",
      "metadata": {
        "id": "Esii7zuSrgMn"
      },
      "source": [
        "## Loading the dataset"
      ]
    },
    {
      "cell_type": "code",
      "metadata": {
        "colab": {
          "base_uri": "https://localhost:8080/"
        },
        "id": "bmRH-0s6tq5T",
        "outputId": "a9dd4873-07c8-4c79-de62-3351907dd96e"
      },
      "source": [
        "!pip install geopandas"
      ],
      "execution_count": null,
      "outputs": [
        {
          "output_type": "stream",
          "text": [
            "Collecting geopandas\n",
            "\u001b[?25l  Downloading https://files.pythonhosted.org/packages/f7/a4/e66aafbefcbb717813bf3a355c8c4fc3ed04ea1dd7feb2920f2f4f868921/geopandas-0.8.1-py2.py3-none-any.whl (962kB)\n",
            "\r\u001b[K     |▍                               | 10kB 11.2MB/s eta 0:00:01\r\u001b[K     |▊                               | 20kB 15.7MB/s eta 0:00:01\r\u001b[K     |█                               | 30kB 16.0MB/s eta 0:00:01\r\u001b[K     |█▍                              | 40kB 10.3MB/s eta 0:00:01\r\u001b[K     |█▊                              | 51kB 10.4MB/s eta 0:00:01\r\u001b[K     |██                              | 61kB 11.9MB/s eta 0:00:01\r\u001b[K     |██▍                             | 71kB 13.1MB/s eta 0:00:01\r\u001b[K     |██▊                             | 81kB 12.6MB/s eta 0:00:01\r\u001b[K     |███                             | 92kB 11.3MB/s eta 0:00:01\r\u001b[K     |███▍                            | 102kB 11.3MB/s eta 0:00:01\r\u001b[K     |███▊                            | 112kB 11.3MB/s eta 0:00:01\r\u001b[K     |████                            | 122kB 11.3MB/s eta 0:00:01\r\u001b[K     |████▍                           | 133kB 11.3MB/s eta 0:00:01\r\u001b[K     |████▊                           | 143kB 11.3MB/s eta 0:00:01\r\u001b[K     |█████                           | 153kB 11.3MB/s eta 0:00:01\r\u001b[K     |█████▌                          | 163kB 11.3MB/s eta 0:00:01\r\u001b[K     |█████▉                          | 174kB 11.3MB/s eta 0:00:01\r\u001b[K     |██████▏                         | 184kB 11.3MB/s eta 0:00:01\r\u001b[K     |██████▌                         | 194kB 11.3MB/s eta 0:00:01\r\u001b[K     |██████▉                         | 204kB 11.3MB/s eta 0:00:01\r\u001b[K     |███████▏                        | 215kB 11.3MB/s eta 0:00:01\r\u001b[K     |███████▌                        | 225kB 11.3MB/s eta 0:00:01\r\u001b[K     |███████▉                        | 235kB 11.3MB/s eta 0:00:01\r\u001b[K     |████████▏                       | 245kB 11.3MB/s eta 0:00:01\r\u001b[K     |████████▌                       | 256kB 11.3MB/s eta 0:00:01\r\u001b[K     |████████▉                       | 266kB 11.3MB/s eta 0:00:01\r\u001b[K     |█████████▏                      | 276kB 11.3MB/s eta 0:00:01\r\u001b[K     |█████████▌                      | 286kB 11.3MB/s eta 0:00:01\r\u001b[K     |█████████▉                      | 296kB 11.3MB/s eta 0:00:01\r\u001b[K     |██████████▏                     | 307kB 11.3MB/s eta 0:00:01\r\u001b[K     |██████████▌                     | 317kB 11.3MB/s eta 0:00:01\r\u001b[K     |███████████                     | 327kB 11.3MB/s eta 0:00:01\r\u001b[K     |███████████▎                    | 337kB 11.3MB/s eta 0:00:01\r\u001b[K     |███████████▋                    | 348kB 11.3MB/s eta 0:00:01\r\u001b[K     |████████████                    | 358kB 11.3MB/s eta 0:00:01\r\u001b[K     |████████████▎                   | 368kB 11.3MB/s eta 0:00:01\r\u001b[K     |████████████▋                   | 378kB 11.3MB/s eta 0:00:01\r\u001b[K     |█████████████                   | 389kB 11.3MB/s eta 0:00:01\r\u001b[K     |█████████████▎                  | 399kB 11.3MB/s eta 0:00:01\r\u001b[K     |█████████████▋                  | 409kB 11.3MB/s eta 0:00:01\r\u001b[K     |██████████████                  | 419kB 11.3MB/s eta 0:00:01\r\u001b[K     |██████████████▎                 | 430kB 11.3MB/s eta 0:00:01\r\u001b[K     |██████████████▋                 | 440kB 11.3MB/s eta 0:00:01\r\u001b[K     |███████████████                 | 450kB 11.3MB/s eta 0:00:01\r\u001b[K     |███████████████▎                | 460kB 11.3MB/s eta 0:00:01\r\u001b[K     |███████████████▋                | 471kB 11.3MB/s eta 0:00:01\r\u001b[K     |████████████████                | 481kB 11.3MB/s eta 0:00:01\r\u001b[K     |████████████████▍               | 491kB 11.3MB/s eta 0:00:01\r\u001b[K     |████████████████▊               | 501kB 11.3MB/s eta 0:00:01\r\u001b[K     |█████████████████               | 512kB 11.3MB/s eta 0:00:01\r\u001b[K     |█████████████████▍              | 522kB 11.3MB/s eta 0:00:01\r\u001b[K     |█████████████████▊              | 532kB 11.3MB/s eta 0:00:01\r\u001b[K     |██████████████████              | 542kB 11.3MB/s eta 0:00:01\r\u001b[K     |██████████████████▍             | 552kB 11.3MB/s eta 0:00:01\r\u001b[K     |██████████████████▊             | 563kB 11.3MB/s eta 0:00:01\r\u001b[K     |███████████████████             | 573kB 11.3MB/s eta 0:00:01\r\u001b[K     |███████████████████▍            | 583kB 11.3MB/s eta 0:00:01\r\u001b[K     |███████████████████▊            | 593kB 11.3MB/s eta 0:00:01\r\u001b[K     |████████████████████            | 604kB 11.3MB/s eta 0:00:01\r\u001b[K     |████████████████████▍           | 614kB 11.3MB/s eta 0:00:01\r\u001b[K     |████████████████████▊           | 624kB 11.3MB/s eta 0:00:01\r\u001b[K     |█████████████████████           | 634kB 11.3MB/s eta 0:00:01\r\u001b[K     |█████████████████████▍          | 645kB 11.3MB/s eta 0:00:01\r\u001b[K     |█████████████████████▉          | 655kB 11.3MB/s eta 0:00:01\r\u001b[K     |██████████████████████▏         | 665kB 11.3MB/s eta 0:00:01\r\u001b[K     |██████████████████████▌         | 675kB 11.3MB/s eta 0:00:01\r\u001b[K     |██████████████████████▉         | 686kB 11.3MB/s eta 0:00:01\r\u001b[K     |███████████████████████▏        | 696kB 11.3MB/s eta 0:00:01\r\u001b[K     |███████████████████████▌        | 706kB 11.3MB/s eta 0:00:01\r\u001b[K     |███████████████████████▉        | 716kB 11.3MB/s eta 0:00:01\r\u001b[K     |████████████████████████▏       | 727kB 11.3MB/s eta 0:00:01\r\u001b[K     |████████████████████████▌       | 737kB 11.3MB/s eta 0:00:01\r\u001b[K     |████████████████████████▉       | 747kB 11.3MB/s eta 0:00:01\r\u001b[K     |█████████████████████████▏      | 757kB 11.3MB/s eta 0:00:01\r\u001b[K     |█████████████████████████▌      | 768kB 11.3MB/s eta 0:00:01\r\u001b[K     |█████████████████████████▉      | 778kB 11.3MB/s eta 0:00:01\r\u001b[K     |██████████████████████████▏     | 788kB 11.3MB/s eta 0:00:01\r\u001b[K     |██████████████████████████▌     | 798kB 11.3MB/s eta 0:00:01\r\u001b[K     |██████████████████████████▉     | 808kB 11.3MB/s eta 0:00:01\r\u001b[K     |███████████████████████████▎    | 819kB 11.3MB/s eta 0:00:01\r\u001b[K     |███████████████████████████▋    | 829kB 11.3MB/s eta 0:00:01\r\u001b[K     |████████████████████████████    | 839kB 11.3MB/s eta 0:00:01\r\u001b[K     |████████████████████████████▎   | 849kB 11.3MB/s eta 0:00:01\r\u001b[K     |████████████████████████████▋   | 860kB 11.3MB/s eta 0:00:01\r\u001b[K     |█████████████████████████████   | 870kB 11.3MB/s eta 0:00:01\r\u001b[K     |█████████████████████████████▎  | 880kB 11.3MB/s eta 0:00:01\r\u001b[K     |█████████████████████████████▋  | 890kB 11.3MB/s eta 0:00:01\r\u001b[K     |██████████████████████████████  | 901kB 11.3MB/s eta 0:00:01\r\u001b[K     |██████████████████████████████▎ | 911kB 11.3MB/s eta 0:00:01\r\u001b[K     |██████████████████████████████▋ | 921kB 11.3MB/s eta 0:00:01\r\u001b[K     |███████████████████████████████ | 931kB 11.3MB/s eta 0:00:01\r\u001b[K     |███████████████████████████████▎| 942kB 11.3MB/s eta 0:00:01\r\u001b[K     |███████████████████████████████▋| 952kB 11.3MB/s eta 0:00:01\r\u001b[K     |████████████████████████████████| 962kB 11.3MB/s eta 0:00:01\r\u001b[K     |████████████████████████████████| 972kB 11.3MB/s \n",
            "\u001b[?25hRequirement already satisfied: pandas>=0.23.0 in /usr/local/lib/python3.6/dist-packages (from geopandas) (1.1.4)\n",
            "Requirement already satisfied: shapely in /usr/local/lib/python3.6/dist-packages (from geopandas) (1.7.1)\n",
            "Collecting fiona\n",
            "\u001b[?25l  Downloading https://files.pythonhosted.org/packages/37/94/4910fd55246c1d963727b03885ead6ef1cd3748a465f7b0239ab25dfc9a3/Fiona-1.8.18-cp36-cp36m-manylinux1_x86_64.whl (14.8MB)\n",
            "\u001b[K     |████████████████████████████████| 14.8MB 233kB/s \n",
            "\u001b[?25hCollecting pyproj>=2.2.0\n",
            "\u001b[?25l  Downloading https://files.pythonhosted.org/packages/e4/ab/280e80a67cfc109d15428c0ec56391fc03a65857b7727cf4e6e6f99a4204/pyproj-3.0.0.post1-cp36-cp36m-manylinux2010_x86_64.whl (6.4MB)\n",
            "\u001b[K     |████████████████████████████████| 6.5MB 42.9MB/s \n",
            "\u001b[?25hRequirement already satisfied: python-dateutil>=2.7.3 in /usr/local/lib/python3.6/dist-packages (from pandas>=0.23.0->geopandas) (2.8.1)\n",
            "Requirement already satisfied: pytz>=2017.2 in /usr/local/lib/python3.6/dist-packages (from pandas>=0.23.0->geopandas) (2018.9)\n",
            "Requirement already satisfied: numpy>=1.15.4 in /usr/local/lib/python3.6/dist-packages (from pandas>=0.23.0->geopandas) (1.18.5)\n",
            "Requirement already satisfied: six>=1.7 in /usr/local/lib/python3.6/dist-packages (from fiona->geopandas) (1.15.0)\n",
            "Collecting click-plugins>=1.0\n",
            "  Downloading https://files.pythonhosted.org/packages/e9/da/824b92d9942f4e472702488857914bdd50f73021efea15b4cad9aca8ecef/click_plugins-1.1.1-py2.py3-none-any.whl\n",
            "Requirement already satisfied: certifi in /usr/local/lib/python3.6/dist-packages (from fiona->geopandas) (2020.6.20)\n",
            "Requirement already satisfied: attrs>=17 in /usr/local/lib/python3.6/dist-packages (from fiona->geopandas) (20.2.0)\n",
            "Requirement already satisfied: click<8,>=4.0 in /usr/local/lib/python3.6/dist-packages (from fiona->geopandas) (7.1.2)\n",
            "Collecting munch\n",
            "  Downloading https://files.pythonhosted.org/packages/cc/ab/85d8da5c9a45e072301beb37ad7f833cd344e04c817d97e0cc75681d248f/munch-2.5.0-py2.py3-none-any.whl\n",
            "Collecting cligj>=0.5\n",
            "  Downloading https://files.pythonhosted.org/packages/ba/06/e3440b1f2dc802d35f329f299ba96153e9fcbfdef75e17f4b61f79430c6a/cligj-0.7.0-py3-none-any.whl\n",
            "Installing collected packages: click-plugins, munch, cligj, fiona, pyproj, geopandas\n",
            "Successfully installed click-plugins-1.1.1 cligj-0.7.0 fiona-1.8.18 geopandas-0.8.1 munch-2.5.0 pyproj-3.0.0.post1\n"
          ],
          "name": "stdout"
        }
      ]
    },
    {
      "cell_type": "code",
      "metadata": {
        "colab": {
          "base_uri": "https://localhost:8080/"
        },
        "id": "pCXqqY2RAtNi",
        "outputId": "be1c5300-cb8a-4f01-9c8e-abc3d4ee4485"
      },
      "source": [
        "!pip install contextily"
      ],
      "execution_count": null,
      "outputs": [
        {
          "output_type": "stream",
          "text": [
            "Collecting contextily\n",
            "  Downloading https://files.pythonhosted.org/packages/93/2a/22b34b6129303c594c21cb80ded800ebd6d13037f00d162d9b3a3785d5ea/contextily-1.0.1-py3-none-any.whl\n",
            "Requirement already satisfied: joblib in /usr/local/lib/python3.6/dist-packages (from contextily) (0.17.0)\n",
            "Requirement already satisfied: pillow in /usr/local/lib/python3.6/dist-packages (from contextily) (7.0.0)\n",
            "Collecting rasterio\n",
            "\u001b[?25l  Downloading https://files.pythonhosted.org/packages/33/1a/51baddc8581ead98fcef591624b4b2521b581943a9178912a2ac576e0235/rasterio-1.1.8-1-cp36-cp36m-manylinux1_x86_64.whl (18.3MB)\n",
            "\u001b[K     |████████████████████████████████| 18.3MB 254kB/s \n",
            "\u001b[?25hCollecting mercantile\n",
            "  Downloading https://files.pythonhosted.org/packages/b9/cd/ee6dbee0abca93edda53703fe408d2a6abdc8c1b248a3c9a4539089eafa2/mercantile-1.1.6-py3-none-any.whl\n",
            "Requirement already satisfied: matplotlib in /usr/local/lib/python3.6/dist-packages (from contextily) (3.2.2)\n",
            "Requirement already satisfied: requests in /usr/local/lib/python3.6/dist-packages (from contextily) (2.23.0)\n",
            "Requirement already satisfied: geopy in /usr/local/lib/python3.6/dist-packages (from contextily) (1.17.0)\n",
            "Requirement already satisfied: click-plugins in /usr/local/lib/python3.6/dist-packages (from rasterio->contextily) (1.1.1)\n",
            "Requirement already satisfied: click<8,>=4.0 in /usr/local/lib/python3.6/dist-packages (from rasterio->contextily) (7.1.2)\n",
            "Requirement already satisfied: cligj>=0.5 in /usr/local/lib/python3.6/dist-packages (from rasterio->contextily) (0.7.0)\n",
            "Requirement already satisfied: attrs in /usr/local/lib/python3.6/dist-packages (from rasterio->contextily) (20.2.0)\n",
            "Requirement already satisfied: numpy in /usr/local/lib/python3.6/dist-packages (from rasterio->contextily) (1.18.5)\n",
            "Collecting snuggs>=1.4.1\n",
            "  Downloading https://files.pythonhosted.org/packages/cc/0e/d27d6e806d6c0d1a2cfdc5d1f088e42339a0a54a09c3343f7f81ec8947ea/snuggs-1.4.7-py3-none-any.whl\n",
            "Collecting affine\n",
            "  Downloading https://files.pythonhosted.org/packages/ac/a6/1a39a1ede71210e3ddaf623982b06ecfc5c5c03741ae659073159184cd3e/affine-2.3.0-py2.py3-none-any.whl\n",
            "Requirement already satisfied: python-dateutil>=2.1 in /usr/local/lib/python3.6/dist-packages (from matplotlib->contextily) (2.8.1)\n",
            "Requirement already satisfied: pyparsing!=2.0.4,!=2.1.2,!=2.1.6,>=2.0.1 in /usr/local/lib/python3.6/dist-packages (from matplotlib->contextily) (2.4.7)\n",
            "Requirement already satisfied: kiwisolver>=1.0.1 in /usr/local/lib/python3.6/dist-packages (from matplotlib->contextily) (1.3.1)\n",
            "Requirement already satisfied: cycler>=0.10 in /usr/local/lib/python3.6/dist-packages (from matplotlib->contextily) (0.10.0)\n",
            "Requirement already satisfied: idna<3,>=2.5 in /usr/local/lib/python3.6/dist-packages (from requests->contextily) (2.10)\n",
            "Requirement already satisfied: urllib3!=1.25.0,!=1.25.1,<1.26,>=1.21.1 in /usr/local/lib/python3.6/dist-packages (from requests->contextily) (1.24.3)\n",
            "Requirement already satisfied: certifi>=2017.4.17 in /usr/local/lib/python3.6/dist-packages (from requests->contextily) (2020.6.20)\n",
            "Requirement already satisfied: chardet<4,>=3.0.2 in /usr/local/lib/python3.6/dist-packages (from requests->contextily) (3.0.4)\n",
            "Requirement already satisfied: geographiclib<2,>=1.49 in /usr/local/lib/python3.6/dist-packages (from geopy->contextily) (1.50)\n",
            "Requirement already satisfied: six>=1.5 in /usr/local/lib/python3.6/dist-packages (from python-dateutil>=2.1->matplotlib->contextily) (1.15.0)\n",
            "Installing collected packages: snuggs, affine, rasterio, mercantile, contextily\n",
            "Successfully installed affine-2.3.0 contextily-1.0.1 mercantile-1.1.6 rasterio-1.1.8 snuggs-1.4.7\n"
          ],
          "name": "stdout"
        }
      ]
    },
    {
      "cell_type": "code",
      "metadata": {
        "colab": {
          "base_uri": "https://localhost:8080/"
        },
        "id": "HsCzJW9KA4_F",
        "outputId": "fee1de39-14d0-4b0e-dd2b-9fc4050aaf79"
      },
      "source": [
        "!pip install geovoronoi"
      ],
      "execution_count": null,
      "outputs": [
        {
          "output_type": "stream",
          "text": [
            "Collecting geovoronoi\n",
            "  Downloading https://files.pythonhosted.org/packages/6e/f6/639bf479d77ab50733a958fab233c0d6cb94896f6b2d328127a11c6efa38/geovoronoi-0.2.0-py3-none-any.whl\n",
            "Requirement already satisfied: scipy>=1.4.0 in /usr/local/lib/python3.6/dist-packages (from geovoronoi) (1.4.1)\n",
            "Requirement already satisfied: shapely>=1.7.0 in /usr/local/lib/python3.6/dist-packages (from geovoronoi) (1.7.1)\n",
            "Requirement already satisfied: numpy>=1.18.0 in /usr/local/lib/python3.6/dist-packages (from geovoronoi) (1.18.5)\n",
            "Installing collected packages: geovoronoi\n",
            "Successfully installed geovoronoi-0.2.0\n"
          ],
          "name": "stdout"
        }
      ]
    },
    {
      "cell_type": "code",
      "metadata": {
        "id": "zU2y9uC5swSN"
      },
      "source": [
        "# load required libraries\n",
        "import pandas as pd\n",
        "import numpy as np\n",
        "import geopandas as gpd \n",
        "from google.colab import files\n",
        "\n",
        "import contextily as ctx\n",
        "import matplotlib.pyplot as plt\n",
        "import time\n",
        "\n",
        "# processing geojson files\n",
        "from geovoronoi.plotting import subplot_for_map, plot_voronoi_polys_with_points_in_area\n",
        "from geovoronoi import voronoi_regions_from_coords, points_to_coords\n",
        "\n",
        "# clustering + visualisation\n",
        "from sklearn.cluster import KMeans\n",
        "import seaborn as sns; sns.set()\n",
        "\n",
        "from scipy.spatial import Voronoi, voronoi_plot_2d"
      ],
      "execution_count": null,
      "outputs": []
    },
    {
      "cell_type": "markdown",
      "metadata": {
        "id": "DZX5jWMMrz8I"
      },
      "source": [
        "**Train Data**"
      ]
    },
    {
      "cell_type": "code",
      "metadata": {
        "colab": {
          "base_uri": "https://localhost:8080/",
          "height": 215
        },
        "id": "dbhYWc4qF5uW",
        "outputId": "4cc23a8c-23b2-4367-c1e7-8f52ed378bee"
      },
      "source": [
        "# Load the data\n",
        "train = pd.read_csv('Train.csv', parse_dates=['datetime'])\n",
        "print(train.shape)\n",
        "train.head()"
      ],
      "execution_count": null,
      "outputs": [
        {
          "output_type": "stream",
          "text": [
            "(6318, 4)\n"
          ],
          "name": "stdout"
        },
        {
          "output_type": "execute_result",
          "data": {
            "text/html": [
              "<div>\n",
              "<style scoped>\n",
              "    .dataframe tbody tr th:only-of-type {\n",
              "        vertical-align: middle;\n",
              "    }\n",
              "\n",
              "    .dataframe tbody tr th {\n",
              "        vertical-align: top;\n",
              "    }\n",
              "\n",
              "    .dataframe thead th {\n",
              "        text-align: right;\n",
              "    }\n",
              "</style>\n",
              "<table border=\"1\" class=\"dataframe\">\n",
              "  <thead>\n",
              "    <tr style=\"text-align: right;\">\n",
              "      <th></th>\n",
              "      <th>uid</th>\n",
              "      <th>datetime</th>\n",
              "      <th>latitude</th>\n",
              "      <th>longitude</th>\n",
              "    </tr>\n",
              "  </thead>\n",
              "  <tbody>\n",
              "    <tr>\n",
              "      <th>0</th>\n",
              "      <td>1</td>\n",
              "      <td>2018-01-01 00:25:46</td>\n",
              "      <td>-1.188850</td>\n",
              "      <td>36.931382</td>\n",
              "    </tr>\n",
              "    <tr>\n",
              "      <th>1</th>\n",
              "      <td>2</td>\n",
              "      <td>2018-01-01 02:02:39</td>\n",
              "      <td>-0.662939</td>\n",
              "      <td>37.208730</td>\n",
              "    </tr>\n",
              "    <tr>\n",
              "      <th>2</th>\n",
              "      <td>3</td>\n",
              "      <td>2018-01-01 02:31:49</td>\n",
              "      <td>-0.662939</td>\n",
              "      <td>37.208730</td>\n",
              "    </tr>\n",
              "    <tr>\n",
              "      <th>3</th>\n",
              "      <td>4</td>\n",
              "      <td>2018-01-01 03:04:01</td>\n",
              "      <td>-1.288087</td>\n",
              "      <td>36.826583</td>\n",
              "    </tr>\n",
              "    <tr>\n",
              "      <th>4</th>\n",
              "      <td>5</td>\n",
              "      <td>2018-01-01 03:58:49</td>\n",
              "      <td>-1.188850</td>\n",
              "      <td>36.931382</td>\n",
              "    </tr>\n",
              "  </tbody>\n",
              "</table>\n",
              "</div>"
            ],
            "text/plain": [
              "   uid            datetime  latitude  longitude\n",
              "0    1 2018-01-01 00:25:46 -1.188850  36.931382\n",
              "1    2 2018-01-01 02:02:39 -0.662939  37.208730\n",
              "2    3 2018-01-01 02:31:49 -0.662939  37.208730\n",
              "3    4 2018-01-01 03:04:01 -1.288087  36.826583\n",
              "4    5 2018-01-01 03:58:49 -1.188850  36.931382"
            ]
          },
          "metadata": {
            "tags": []
          },
          "execution_count": 5
        }
      ]
    },
    {
      "cell_type": "code",
      "metadata": {
        "colab": {
          "base_uri": "https://localhost:8080/",
          "height": 287
        },
        "id": "E1vqtF-BuIyd",
        "outputId": "6f899443-f91a-4f62-f00b-c96dd76fd20c"
      },
      "source": [
        "train.describe()"
      ],
      "execution_count": null,
      "outputs": [
        {
          "output_type": "execute_result",
          "data": {
            "text/html": [
              "<div>\n",
              "<style scoped>\n",
              "    .dataframe tbody tr th:only-of-type {\n",
              "        vertical-align: middle;\n",
              "    }\n",
              "\n",
              "    .dataframe tbody tr th {\n",
              "        vertical-align: top;\n",
              "    }\n",
              "\n",
              "    .dataframe thead th {\n",
              "        text-align: right;\n",
              "    }\n",
              "</style>\n",
              "<table border=\"1\" class=\"dataframe\">\n",
              "  <thead>\n",
              "    <tr style=\"text-align: right;\">\n",
              "      <th></th>\n",
              "      <th>uid</th>\n",
              "      <th>latitude</th>\n",
              "      <th>longitude</th>\n",
              "    </tr>\n",
              "  </thead>\n",
              "  <tbody>\n",
              "    <tr>\n",
              "      <th>count</th>\n",
              "      <td>6318.000000</td>\n",
              "      <td>6318.000000</td>\n",
              "      <td>6318.000000</td>\n",
              "    </tr>\n",
              "    <tr>\n",
              "      <th>mean</th>\n",
              "      <td>3159.500000</td>\n",
              "      <td>-1.270338</td>\n",
              "      <td>36.855459</td>\n",
              "    </tr>\n",
              "    <tr>\n",
              "      <th>std</th>\n",
              "      <td>1823.993832</td>\n",
              "      <td>0.125157</td>\n",
              "      <td>0.112866</td>\n",
              "    </tr>\n",
              "    <tr>\n",
              "      <th>min</th>\n",
              "      <td>1.000000</td>\n",
              "      <td>-3.050000</td>\n",
              "      <td>36.332202</td>\n",
              "    </tr>\n",
              "    <tr>\n",
              "      <th>25%</th>\n",
              "      <td>1580.250000</td>\n",
              "      <td>-1.316585</td>\n",
              "      <td>36.802048</td>\n",
              "    </tr>\n",
              "    <tr>\n",
              "      <th>50%</th>\n",
              "      <td>3159.500000</td>\n",
              "      <td>-1.271709</td>\n",
              "      <td>36.844591</td>\n",
              "    </tr>\n",
              "    <tr>\n",
              "      <th>75%</th>\n",
              "      <td>4738.750000</td>\n",
              "      <td>-1.233746</td>\n",
              "      <td>36.895642</td>\n",
              "    </tr>\n",
              "    <tr>\n",
              "      <th>max</th>\n",
              "      <td>6318.000000</td>\n",
              "      <td>-0.565402</td>\n",
              "      <td>37.879490</td>\n",
              "    </tr>\n",
              "  </tbody>\n",
              "</table>\n",
              "</div>"
            ],
            "text/plain": [
              "               uid     latitude    longitude\n",
              "count  6318.000000  6318.000000  6318.000000\n",
              "mean   3159.500000    -1.270338    36.855459\n",
              "std    1823.993832     0.125157     0.112866\n",
              "min       1.000000    -3.050000    36.332202\n",
              "25%    1580.250000    -1.316585    36.802048\n",
              "50%    3159.500000    -1.271709    36.844591\n",
              "75%    4738.750000    -1.233746    36.895642\n",
              "max    6318.000000    -0.565402    37.879490"
            ]
          },
          "metadata": {
            "tags": []
          },
          "execution_count": 6
        }
      ]
    },
    {
      "cell_type": "code",
      "metadata": {
        "id": "5V6Rs_E6Lib_"
      },
      "source": [
        "df = train.copy()"
      ],
      "execution_count": null,
      "outputs": []
    },
    {
      "cell_type": "markdown",
      "metadata": {
        "id": "F92t36A0rnGw"
      },
      "source": [
        "## Exploratory Data Analysis"
      ]
    },
    {
      "cell_type": "markdown",
      "metadata": {
        "id": "Bkkaky1E7XQ5"
      },
      "source": [
        "**Train Dataset**\n"
      ]
    },
    {
      "cell_type": "code",
      "metadata": {
        "colab": {
          "base_uri": "https://localhost:8080/",
          "height": 791
        },
        "id": "thidMmDnuQc9",
        "outputId": "fcc22e3e-114e-4c5c-ee26-5944de0c816f"
      },
      "source": [
        "# Plot the crashes\n",
        "train.plot(x='longitude', y='latitude', kind='scatter', figsize=(12, 12), alpha=0.3, title='Crash Locations')"
      ],
      "execution_count": null,
      "outputs": [
        {
          "output_type": "stream",
          "text": [
            "*c* argument looks like a single numeric RGB or RGBA sequence, which should be avoided as value-mapping will have precedence in case its length matches with *x* & *y*.  Please use the *color* keyword-argument or provide a 2-D array with a single row if you intend to specify the same RGB or RGBA value for all points.\n"
          ],
          "name": "stderr"
        },
        {
          "output_type": "execute_result",
          "data": {
            "text/plain": [
              "<matplotlib.axes._subplots.AxesSubplot at 0x7f57be31ab70>"
            ]
          },
          "metadata": {
            "tags": []
          },
          "execution_count": 8
        },
        {
          "output_type": "display_data",
          "data": {
            "image/png": "[encoded data removed]",
            "text/plain": [
              "<Figure size 864x864 with 1 Axes>"
            ]
          },
          "metadata": {
            "tags": []
          }
        }
      ]
    },
    {
      "cell_type": "markdown",
      "metadata": {
        "id": "zCFMjy27uckb"
      },
      "source": [
        "> Rather than trying to predict accident locations or the number of accidents in a given timeframe, we are instead asked to come up with an ambulance deployment schedule that will minimise distance travelled.\n",
        "\n",
        "> This is of course a simplification of the problem, but by solving this you will hopefully develop strategies that can be used going forward."
      ]
    },
    {
      "cell_type": "code",
      "metadata": {
        "colab": {
          "base_uri": "https://localhost:8080/",
          "height": 384
        },
        "id": "vlOr7DgCug02",
        "outputId": "59e0195d-f433-4c15-e018-dbbf6529a31b"
      },
      "source": [
        "# View the submission format\n",
        "ss = pd.read_csv('SampleSubmission.csv', parse_dates=['date'])\n",
        "ss.head()"
      ],
      "execution_count": null,
      "outputs": [
        {
          "output_type": "execute_result",
          "data": {
            "text/html": [
              "<div>\n",
              "<style scoped>\n",
              "    .dataframe tbody tr th:only-of-type {\n",
              "        vertical-align: middle;\n",
              "    }\n",
              "\n",
              "    .dataframe tbody tr th {\n",
              "        vertical-align: top;\n",
              "    }\n",
              "\n",
              "    .dataframe thead th {\n",
              "        text-align: right;\n",
              "    }\n",
              "</style>\n",
              "<table border=\"1\" class=\"dataframe\">\n",
              "  <thead>\n",
              "    <tr style=\"text-align: right;\">\n",
              "      <th></th>\n",
              "      <th>date</th>\n",
              "      <th>A0_Latitude</th>\n",
              "      <th>A0_Longitude</th>\n",
              "      <th>A1_Latitude</th>\n",
              "      <th>A1_Longitude</th>\n",
              "      <th>A2_Latitude</th>\n",
              "      <th>A2_Longitude</th>\n",
              "      <th>A3_Latitude</th>\n",
              "      <th>A3_Longitude</th>\n",
              "      <th>A4_Latitude</th>\n",
              "      <th>A4_Longitude</th>\n",
              "      <th>A5_Latitude</th>\n",
              "      <th>A5_Longitude</th>\n",
              "    </tr>\n",
              "  </thead>\n",
              "  <tbody>\n",
              "    <tr>\n",
              "      <th>0</th>\n",
              "      <td>2019-07-01 00:00:00</td>\n",
              "      <td>0</td>\n",
              "      <td>0</td>\n",
              "      <td>0</td>\n",
              "      <td>0</td>\n",
              "      <td>0</td>\n",
              "      <td>0</td>\n",
              "      <td>0</td>\n",
              "      <td>0</td>\n",
              "      <td>0</td>\n",
              "      <td>0</td>\n",
              "      <td>0</td>\n",
              "      <td>0</td>\n",
              "    </tr>\n",
              "    <tr>\n",
              "      <th>1</th>\n",
              "      <td>2019-07-01 03:00:00</td>\n",
              "      <td>0</td>\n",
              "      <td>0</td>\n",
              "      <td>0</td>\n",
              "      <td>0</td>\n",
              "      <td>0</td>\n",
              "      <td>0</td>\n",
              "      <td>0</td>\n",
              "      <td>0</td>\n",
              "      <td>0</td>\n",
              "      <td>0</td>\n",
              "      <td>0</td>\n",
              "      <td>0</td>\n",
              "    </tr>\n",
              "    <tr>\n",
              "      <th>2</th>\n",
              "      <td>2019-07-01 06:00:00</td>\n",
              "      <td>0</td>\n",
              "      <td>0</td>\n",
              "      <td>0</td>\n",
              "      <td>0</td>\n",
              "      <td>0</td>\n",
              "      <td>0</td>\n",
              "      <td>0</td>\n",
              "      <td>0</td>\n",
              "      <td>0</td>\n",
              "      <td>0</td>\n",
              "      <td>0</td>\n",
              "      <td>0</td>\n",
              "    </tr>\n",
              "    <tr>\n",
              "      <th>3</th>\n",
              "      <td>2019-07-01 09:00:00</td>\n",
              "      <td>0</td>\n",
              "      <td>0</td>\n",
              "      <td>0</td>\n",
              "      <td>0</td>\n",
              "      <td>0</td>\n",
              "      <td>0</td>\n",
              "      <td>0</td>\n",
              "      <td>0</td>\n",
              "      <td>0</td>\n",
              "      <td>0</td>\n",
              "      <td>0</td>\n",
              "      <td>0</td>\n",
              "    </tr>\n",
              "    <tr>\n",
              "      <th>4</th>\n",
              "      <td>2019-07-01 12:00:00</td>\n",
              "      <td>0</td>\n",
              "      <td>0</td>\n",
              "      <td>0</td>\n",
              "      <td>0</td>\n",
              "      <td>0</td>\n",
              "      <td>0</td>\n",
              "      <td>0</td>\n",
              "      <td>0</td>\n",
              "      <td>0</td>\n",
              "      <td>0</td>\n",
              "      <td>0</td>\n",
              "      <td>0</td>\n",
              "    </tr>\n",
              "  </tbody>\n",
              "</table>\n",
              "</div>"
            ],
            "text/plain": [
              "                 date  A0_Latitude  ...  A5_Latitude  A5_Longitude\n",
              "0 2019-07-01 00:00:00            0  ...            0             0\n",
              "1 2019-07-01 03:00:00            0  ...            0             0\n",
              "2 2019-07-01 06:00:00            0  ...            0             0\n",
              "3 2019-07-01 09:00:00            0  ...            0             0\n",
              "4 2019-07-01 12:00:00            0  ...            0             0\n",
              "\n",
              "[5 rows x 13 columns]"
            ]
          },
          "metadata": {
            "tags": []
          },
          "execution_count": 9
        }
      ]
    },
    {
      "cell_type": "markdown",
      "metadata": {
        "id": "CtcXcDLOI3lZ"
      },
      "source": [
        "Start with 6 random locations that are close to the center of the city.\n"
      ]
    },
    {
      "cell_type": "markdown",
      "metadata": {
        "id": "-_obh0a4NF16"
      },
      "source": [
        "> Generated values of Ambulance Latitudes and Longitudes, that are close to the center of the city.\n"
      ]
    },
    {
      "cell_type": "code",
      "metadata": {
        "colab": {
          "base_uri": "https://localhost:8080/",
          "height": 197
        },
        "id": "KGNoYVyfNtwK",
        "outputId": "b6f1f610-4aa7-45a9-f2c4-1e14480850f6"
      },
      "source": [
        "# Convert Train data to numpy array.\n",
        "#data = train.iloc[:, -2:].to_numpy()\n",
        "data = train.iloc[:, -2:].copy()\n",
        "data.head()"
      ],
      "execution_count": null,
      "outputs": [
        {
          "output_type": "execute_result",
          "data": {
            "text/html": [
              "<div>\n",
              "<style scoped>\n",
              "    .dataframe tbody tr th:only-of-type {\n",
              "        vertical-align: middle;\n",
              "    }\n",
              "\n",
              "    .dataframe tbody tr th {\n",
              "        vertical-align: top;\n",
              "    }\n",
              "\n",
              "    .dataframe thead th {\n",
              "        text-align: right;\n",
              "    }\n",
              "</style>\n",
              "<table border=\"1\" class=\"dataframe\">\n",
              "  <thead>\n",
              "    <tr style=\"text-align: right;\">\n",
              "      <th></th>\n",
              "      <th>latitude</th>\n",
              "      <th>longitude</th>\n",
              "    </tr>\n",
              "  </thead>\n",
              "  <tbody>\n",
              "    <tr>\n",
              "      <th>0</th>\n",
              "      <td>-1.188850</td>\n",
              "      <td>36.931382</td>\n",
              "    </tr>\n",
              "    <tr>\n",
              "      <th>1</th>\n",
              "      <td>-0.662939</td>\n",
              "      <td>37.208730</td>\n",
              "    </tr>\n",
              "    <tr>\n",
              "      <th>2</th>\n",
              "      <td>-0.662939</td>\n",
              "      <td>37.208730</td>\n",
              "    </tr>\n",
              "    <tr>\n",
              "      <th>3</th>\n",
              "      <td>-1.288087</td>\n",
              "      <td>36.826583</td>\n",
              "    </tr>\n",
              "    <tr>\n",
              "      <th>4</th>\n",
              "      <td>-1.188850</td>\n",
              "      <td>36.931382</td>\n",
              "    </tr>\n",
              "  </tbody>\n",
              "</table>\n",
              "</div>"
            ],
            "text/plain": [
              "   latitude  longitude\n",
              "0 -1.188850  36.931382\n",
              "1 -0.662939  37.208730\n",
              "2 -0.662939  37.208730\n",
              "3 -1.288087  36.826583\n",
              "4 -1.188850  36.931382"
            ]
          },
          "metadata": {
            "tags": []
          },
          "execution_count": 10
        }
      ]
    },
    {
      "cell_type": "code",
      "metadata": {
        "colab": {
          "base_uri": "https://localhost:8080/",
          "height": 197
        },
        "id": "AXHP51_3UdB0",
        "outputId": "c5304b24-310b-4628-b904-9dd416f87356"
      },
      "source": [
        "#Slpiting the date time column \n",
        "train['datetime'] = train['datetime'].apply(pd.to_datetime)\n",
        "train['date'] = [d.date() for d in train['datetime']]\n",
        "train['time'] = [t.time() for t in train['datetime']]\n",
        "\n",
        "\n",
        "# creating three new columns for hours, minutes and seconds respectively.\n",
        "# create a list of the new columns ['year','month','day'].\n",
        "# the splitting happens occurs on the time column.\n",
        "# pandas.Series.astype --> casts a pandas object to a specified dtype dtype\n",
        "# pandas.Series.str.split --> Splits the string in the Series/Index from the beginning, at the specified delimiter string\n",
        "# expand == If True, return DataFrame/MultiIndex expanding dimensionality\n",
        "#\n",
        "train[['year','month','day']] = train['date'].astype(str).str.split('-', expand=True).astype(int)\n",
        "\n",
        "train.head()"
      ],
      "execution_count": null,
      "outputs": [
        {
          "output_type": "execute_result",
          "data": {
            "text/html": [
              "<div>\n",
              "<style scoped>\n",
              "    .dataframe tbody tr th:only-of-type {\n",
              "        vertical-align: middle;\n",
              "    }\n",
              "\n",
              "    .dataframe tbody tr th {\n",
              "        vertical-align: top;\n",
              "    }\n",
              "\n",
              "    .dataframe thead th {\n",
              "        text-align: right;\n",
              "    }\n",
              "</style>\n",
              "<table border=\"1\" class=\"dataframe\">\n",
              "  <thead>\n",
              "    <tr style=\"text-align: right;\">\n",
              "      <th></th>\n",
              "      <th>uid</th>\n",
              "      <th>datetime</th>\n",
              "      <th>latitude</th>\n",
              "      <th>longitude</th>\n",
              "      <th>date</th>\n",
              "      <th>time</th>\n",
              "      <th>year</th>\n",
              "      <th>month</th>\n",
              "      <th>day</th>\n",
              "    </tr>\n",
              "  </thead>\n",
              "  <tbody>\n",
              "    <tr>\n",
              "      <th>0</th>\n",
              "      <td>1</td>\n",
              "      <td>2018-01-01 00:25:46</td>\n",
              "      <td>-1.188850</td>\n",
              "      <td>36.931382</td>\n",
              "      <td>2018-01-01</td>\n",
              "      <td>00:25:46</td>\n",
              "      <td>2018</td>\n",
              "      <td>1</td>\n",
              "      <td>1</td>\n",
              "    </tr>\n",
              "    <tr>\n",
              "      <th>1</th>\n",
              "      <td>2</td>\n",
              "      <td>2018-01-01 02:02:39</td>\n",
              "      <td>-0.662939</td>\n",
              "      <td>37.208730</td>\n",
              "      <td>2018-01-01</td>\n",
              "      <td>02:02:39</td>\n",
              "      <td>2018</td>\n",
              "      <td>1</td>\n",
              "      <td>1</td>\n",
              "    </tr>\n",
              "    <tr>\n",
              "      <th>2</th>\n",
              "      <td>3</td>\n",
              "      <td>2018-01-01 02:31:49</td>\n",
              "      <td>-0.662939</td>\n",
              "      <td>37.208730</td>\n",
              "      <td>2018-01-01</td>\n",
              "      <td>02:31:49</td>\n",
              "      <td>2018</td>\n",
              "      <td>1</td>\n",
              "      <td>1</td>\n",
              "    </tr>\n",
              "    <tr>\n",
              "      <th>3</th>\n",
              "      <td>4</td>\n",
              "      <td>2018-01-01 03:04:01</td>\n",
              "      <td>-1.288087</td>\n",
              "      <td>36.826583</td>\n",
              "      <td>2018-01-01</td>\n",
              "      <td>03:04:01</td>\n",
              "      <td>2018</td>\n",
              "      <td>1</td>\n",
              "      <td>1</td>\n",
              "    </tr>\n",
              "    <tr>\n",
              "      <th>4</th>\n",
              "      <td>5</td>\n",
              "      <td>2018-01-01 03:58:49</td>\n",
              "      <td>-1.188850</td>\n",
              "      <td>36.931382</td>\n",
              "      <td>2018-01-01</td>\n",
              "      <td>03:58:49</td>\n",
              "      <td>2018</td>\n",
              "      <td>1</td>\n",
              "      <td>1</td>\n",
              "    </tr>\n",
              "  </tbody>\n",
              "</table>\n",
              "</div>"
            ],
            "text/plain": [
              "   uid            datetime  latitude  longitude  ...      time  year  month  day\n",
              "0    1 2018-01-01 00:25:46 -1.188850  36.931382  ...  00:25:46  2018      1    1\n",
              "1    2 2018-01-01 02:02:39 -0.662939  37.208730  ...  02:02:39  2018      1    1\n",
              "2    3 2018-01-01 02:31:49 -0.662939  37.208730  ...  02:31:49  2018      1    1\n",
              "3    4 2018-01-01 03:04:01 -1.288087  36.826583  ...  03:04:01  2018      1    1\n",
              "4    5 2018-01-01 03:58:49 -1.188850  36.931382  ...  03:58:49  2018      1    1\n",
              "\n",
              "[5 rows x 9 columns]"
            ]
          },
          "metadata": {
            "tags": []
          },
          "execution_count": 11
        }
      ]
    },
    {
      "cell_type": "code",
      "metadata": {
        "colab": {
          "base_uri": "https://localhost:8080/",
          "height": 197
        },
        "id": "MpaT-I0PU4gD",
        "outputId": "f1d08f7e-74b4-41f2-9118-39d018908432"
      },
      "source": [
        "# creating three new columns for hours, minutes and seconds respectively.\n",
        "# create a list of the new columns ['hr','min','sec'].\n",
        "# the splitting happens occurs on the time column.\n",
        "# pandas.Series.astype --> casts a pandas object to a specified dtype dtype\n",
        "# pandas.Series.str.split --> Splits the string in the Series/Index from the beginning, at the specified delimiter string\n",
        "# expand == If True, return DataFrame/MultiIndex expanding dimensionality\n",
        "#\n",
        "train[['hr','min','sec']] = train['time'].astype(str).str.split(':', expand=True).astype(int)\n",
        "train.head()"
      ],
      "execution_count": null,
      "outputs": [
        {
          "output_type": "execute_result",
          "data": {
            "text/html": [
              "<div>\n",
              "<style scoped>\n",
              "    .dataframe tbody tr th:only-of-type {\n",
              "        vertical-align: middle;\n",
              "    }\n",
              "\n",
              "    .dataframe tbody tr th {\n",
              "        vertical-align: top;\n",
              "    }\n",
              "\n",
              "    .dataframe thead th {\n",
              "        text-align: right;\n",
              "    }\n",
              "</style>\n",
              "<table border=\"1\" class=\"dataframe\">\n",
              "  <thead>\n",
              "    <tr style=\"text-align: right;\">\n",
              "      <th></th>\n",
              "      <th>uid</th>\n",
              "      <th>datetime</th>\n",
              "      <th>latitude</th>\n",
              "      <th>longitude</th>\n",
              "      <th>date</th>\n",
              "      <th>time</th>\n",
              "      <th>year</th>\n",
              "      <th>month</th>\n",
              "      <th>day</th>\n",
              "      <th>hr</th>\n",
              "      <th>min</th>\n",
              "      <th>sec</th>\n",
              "    </tr>\n",
              "  </thead>\n",
              "  <tbody>\n",
              "    <tr>\n",
              "      <th>0</th>\n",
              "      <td>1</td>\n",
              "      <td>2018-01-01 00:25:46</td>\n",
              "      <td>-1.188850</td>\n",
              "      <td>36.931382</td>\n",
              "      <td>2018-01-01</td>\n",
              "      <td>00:25:46</td>\n",
              "      <td>2018</td>\n",
              "      <td>1</td>\n",
              "      <td>1</td>\n",
              "      <td>0</td>\n",
              "      <td>25</td>\n",
              "      <td>46</td>\n",
              "    </tr>\n",
              "    <tr>\n",
              "      <th>1</th>\n",
              "      <td>2</td>\n",
              "      <td>2018-01-01 02:02:39</td>\n",
              "      <td>-0.662939</td>\n",
              "      <td>37.208730</td>\n",
              "      <td>2018-01-01</td>\n",
              "      <td>02:02:39</td>\n",
              "      <td>2018</td>\n",
              "      <td>1</td>\n",
              "      <td>1</td>\n",
              "      <td>2</td>\n",
              "      <td>2</td>\n",
              "      <td>39</td>\n",
              "    </tr>\n",
              "    <tr>\n",
              "      <th>2</th>\n",
              "      <td>3</td>\n",
              "      <td>2018-01-01 02:31:49</td>\n",
              "      <td>-0.662939</td>\n",
              "      <td>37.208730</td>\n",
              "      <td>2018-01-01</td>\n",
              "      <td>02:31:49</td>\n",
              "      <td>2018</td>\n",
              "      <td>1</td>\n",
              "      <td>1</td>\n",
              "      <td>2</td>\n",
              "      <td>31</td>\n",
              "      <td>49</td>\n",
              "    </tr>\n",
              "    <tr>\n",
              "      <th>3</th>\n",
              "      <td>4</td>\n",
              "      <td>2018-01-01 03:04:01</td>\n",
              "      <td>-1.288087</td>\n",
              "      <td>36.826583</td>\n",
              "      <td>2018-01-01</td>\n",
              "      <td>03:04:01</td>\n",
              "      <td>2018</td>\n",
              "      <td>1</td>\n",
              "      <td>1</td>\n",
              "      <td>3</td>\n",
              "      <td>4</td>\n",
              "      <td>1</td>\n",
              "    </tr>\n",
              "    <tr>\n",
              "      <th>4</th>\n",
              "      <td>5</td>\n",
              "      <td>2018-01-01 03:58:49</td>\n",
              "      <td>-1.188850</td>\n",
              "      <td>36.931382</td>\n",
              "      <td>2018-01-01</td>\n",
              "      <td>03:58:49</td>\n",
              "      <td>2018</td>\n",
              "      <td>1</td>\n",
              "      <td>1</td>\n",
              "      <td>3</td>\n",
              "      <td>58</td>\n",
              "      <td>49</td>\n",
              "    </tr>\n",
              "  </tbody>\n",
              "</table>\n",
              "</div>"
            ],
            "text/plain": [
              "   uid            datetime  latitude  longitude  ... day hr  min  sec\n",
              "0    1 2018-01-01 00:25:46 -1.188850  36.931382  ...   1  0   25   46\n",
              "1    2 2018-01-01 02:02:39 -0.662939  37.208730  ...   1  2    2   39\n",
              "2    3 2018-01-01 02:31:49 -0.662939  37.208730  ...   1  2   31   49\n",
              "3    4 2018-01-01 03:04:01 -1.288087  36.826583  ...   1  3    4    1\n",
              "4    5 2018-01-01 03:58:49 -1.188850  36.931382  ...   1  3   58   49\n",
              "\n",
              "[5 rows x 12 columns]"
            ]
          },
          "metadata": {
            "tags": []
          },
          "execution_count": 12
        }
      ]
    },
    {
      "cell_type": "code",
      "metadata": {
        "colab": {
          "base_uri": "https://localhost:8080/",
          "height": 197
        },
        "id": "6zFb0CmUVCpg",
        "outputId": "c1813355-13de-4c7a-a869-9d805b510f50"
      },
      "source": [
        "# creating a weekday column to represent the days in numeric form.\n",
        "# using the lambda anonymous function\n",
        "# using the python datetime.weekday() --> returns the day of the week as an integer, where Monday is 0 and Sunday is 6.\n",
        "#\n",
        "train['weekday'] = train['date'].apply (lambda x:x.weekday() )\n",
        "train.head()"
      ],
      "execution_count": null,
      "outputs": [
        {
          "output_type": "execute_result",
          "data": {
            "text/html": [
              "<div>\n",
              "<style scoped>\n",
              "    .dataframe tbody tr th:only-of-type {\n",
              "        vertical-align: middle;\n",
              "    }\n",
              "\n",
              "    .dataframe tbody tr th {\n",
              "        vertical-align: top;\n",
              "    }\n",
              "\n",
              "    .dataframe thead th {\n",
              "        text-align: right;\n",
              "    }\n",
              "</style>\n",
              "<table border=\"1\" class=\"dataframe\">\n",
              "  <thead>\n",
              "    <tr style=\"text-align: right;\">\n",
              "      <th></th>\n",
              "      <th>uid</th>\n",
              "      <th>datetime</th>\n",
              "      <th>latitude</th>\n",
              "      <th>longitude</th>\n",
              "      <th>date</th>\n",
              "      <th>time</th>\n",
              "      <th>year</th>\n",
              "      <th>month</th>\n",
              "      <th>day</th>\n",
              "      <th>hr</th>\n",
              "      <th>min</th>\n",
              "      <th>sec</th>\n",
              "      <th>weekday</th>\n",
              "    </tr>\n",
              "  </thead>\n",
              "  <tbody>\n",
              "    <tr>\n",
              "      <th>0</th>\n",
              "      <td>1</td>\n",
              "      <td>2018-01-01 00:25:46</td>\n",
              "      <td>-1.188850</td>\n",
              "      <td>36.931382</td>\n",
              "      <td>2018-01-01</td>\n",
              "      <td>00:25:46</td>\n",
              "      <td>2018</td>\n",
              "      <td>1</td>\n",
              "      <td>1</td>\n",
              "      <td>0</td>\n",
              "      <td>25</td>\n",
              "      <td>46</td>\n",
              "      <td>0</td>\n",
              "    </tr>\n",
              "    <tr>\n",
              "      <th>1</th>\n",
              "      <td>2</td>\n",
              "      <td>2018-01-01 02:02:39</td>\n",
              "      <td>-0.662939</td>\n",
              "      <td>37.208730</td>\n",
              "      <td>2018-01-01</td>\n",
              "      <td>02:02:39</td>\n",
              "      <td>2018</td>\n",
              "      <td>1</td>\n",
              "      <td>1</td>\n",
              "      <td>2</td>\n",
              "      <td>2</td>\n",
              "      <td>39</td>\n",
              "      <td>0</td>\n",
              "    </tr>\n",
              "    <tr>\n",
              "      <th>2</th>\n",
              "      <td>3</td>\n",
              "      <td>2018-01-01 02:31:49</td>\n",
              "      <td>-0.662939</td>\n",
              "      <td>37.208730</td>\n",
              "      <td>2018-01-01</td>\n",
              "      <td>02:31:49</td>\n",
              "      <td>2018</td>\n",
              "      <td>1</td>\n",
              "      <td>1</td>\n",
              "      <td>2</td>\n",
              "      <td>31</td>\n",
              "      <td>49</td>\n",
              "      <td>0</td>\n",
              "    </tr>\n",
              "    <tr>\n",
              "      <th>3</th>\n",
              "      <td>4</td>\n",
              "      <td>2018-01-01 03:04:01</td>\n",
              "      <td>-1.288087</td>\n",
              "      <td>36.826583</td>\n",
              "      <td>2018-01-01</td>\n",
              "      <td>03:04:01</td>\n",
              "      <td>2018</td>\n",
              "      <td>1</td>\n",
              "      <td>1</td>\n",
              "      <td>3</td>\n",
              "      <td>4</td>\n",
              "      <td>1</td>\n",
              "      <td>0</td>\n",
              "    </tr>\n",
              "    <tr>\n",
              "      <th>4</th>\n",
              "      <td>5</td>\n",
              "      <td>2018-01-01 03:58:49</td>\n",
              "      <td>-1.188850</td>\n",
              "      <td>36.931382</td>\n",
              "      <td>2018-01-01</td>\n",
              "      <td>03:58:49</td>\n",
              "      <td>2018</td>\n",
              "      <td>1</td>\n",
              "      <td>1</td>\n",
              "      <td>3</td>\n",
              "      <td>58</td>\n",
              "      <td>49</td>\n",
              "      <td>0</td>\n",
              "    </tr>\n",
              "  </tbody>\n",
              "</table>\n",
              "</div>"
            ],
            "text/plain": [
              "   uid            datetime  latitude  longitude  ... hr min  sec  weekday\n",
              "0    1 2018-01-01 00:25:46 -1.188850  36.931382  ...  0  25   46        0\n",
              "1    2 2018-01-01 02:02:39 -0.662939  37.208730  ...  2   2   39        0\n",
              "2    3 2018-01-01 02:31:49 -0.662939  37.208730  ...  2  31   49        0\n",
              "3    4 2018-01-01 03:04:01 -1.288087  36.826583  ...  3   4    1        0\n",
              "4    5 2018-01-01 03:58:49 -1.188850  36.931382  ...  3  58   49        0\n",
              "\n",
              "[5 rows x 13 columns]"
            ]
          },
          "metadata": {
            "tags": []
          },
          "execution_count": 13
        }
      ]
    },
    {
      "cell_type": "code",
      "metadata": {
        "colab": {
          "base_uri": "https://localhost:8080/",
          "height": 233
        },
        "id": "EtaLzsoNZRUg",
        "outputId": "5449b726-22f9-4b9f-a644-ff6b4755d6d7"
      },
      "source": [
        "# Unique values of the Hour variable.\n",
        "#\n",
        "unique_hr = train['hr'].unique()\n",
        "print(f\"Unique Hour Values:\\n {unique_hr}\")\n",
        "\n",
        "for i, hr in enumerate(unique_hr):\n",
        "  train['hour_type'] = train['hr']\n",
        "\n",
        "\n",
        "# chronologically mapping the numeric day of the week with it's respective name\n",
        "# using a dictionary.\n",
        "#\n",
        "week = {0:'Monday', 1:'Tuesday', 2:'Wednesday', 3:'Thursday', 4:'Friday', 5:'Saturday', 6:'Sunday'}\n",
        "train['weekday'] = train['weekday'].map(week)\n",
        "\n",
        "# Mapping Day Type as either Day or Night.\n",
        "#\n",
        "hr_type = {7:'day',8:'day',9:'day',10:'day',11:'day',12:'day',13:'day',14:'day',15:'day',16:'day',17:'day',18:'day',\n",
        "           19:'night',20:'night',21:'night',22:'night',23:'night',0:'night',1:'night',2:'night',3:'night',4:'night',5:'night',6:'night'}\n",
        "\n",
        "train['hour_type'] = train['hour_type'].map(hr_type)\n",
        "train.head()"
      ],
      "execution_count": null,
      "outputs": [
        {
          "output_type": "stream",
          "text": [
            "Unique Hour Values:\n",
            " [ 0  2  3  4  5  7  9 10 11 14  8 12 13 15 16  1  6 17 18 19 22 23 20 21]\n"
          ],
          "name": "stdout"
        },
        {
          "output_type": "execute_result",
          "data": {
            "text/html": [
              "<div>\n",
              "<style scoped>\n",
              "    .dataframe tbody tr th:only-of-type {\n",
              "        vertical-align: middle;\n",
              "    }\n",
              "\n",
              "    .dataframe tbody tr th {\n",
              "        vertical-align: top;\n",
              "    }\n",
              "\n",
              "    .dataframe thead th {\n",
              "        text-align: right;\n",
              "    }\n",
              "</style>\n",
              "<table border=\"1\" class=\"dataframe\">\n",
              "  <thead>\n",
              "    <tr style=\"text-align: right;\">\n",
              "      <th></th>\n",
              "      <th>uid</th>\n",
              "      <th>datetime</th>\n",
              "      <th>latitude</th>\n",
              "      <th>longitude</th>\n",
              "      <th>date</th>\n",
              "      <th>time</th>\n",
              "      <th>year</th>\n",
              "      <th>month</th>\n",
              "      <th>day</th>\n",
              "      <th>hr</th>\n",
              "      <th>min</th>\n",
              "      <th>sec</th>\n",
              "      <th>weekday</th>\n",
              "      <th>hour_type</th>\n",
              "    </tr>\n",
              "  </thead>\n",
              "  <tbody>\n",
              "    <tr>\n",
              "      <th>0</th>\n",
              "      <td>1</td>\n",
              "      <td>2018-01-01 00:25:46</td>\n",
              "      <td>-1.188850</td>\n",
              "      <td>36.931382</td>\n",
              "      <td>2018-01-01</td>\n",
              "      <td>00:25:46</td>\n",
              "      <td>2018</td>\n",
              "      <td>1</td>\n",
              "      <td>1</td>\n",
              "      <td>0</td>\n",
              "      <td>25</td>\n",
              "      <td>46</td>\n",
              "      <td>Monday</td>\n",
              "      <td>night</td>\n",
              "    </tr>\n",
              "    <tr>\n",
              "      <th>1</th>\n",
              "      <td>2</td>\n",
              "      <td>2018-01-01 02:02:39</td>\n",
              "      <td>-0.662939</td>\n",
              "      <td>37.208730</td>\n",
              "      <td>2018-01-01</td>\n",
              "      <td>02:02:39</td>\n",
              "      <td>2018</td>\n",
              "      <td>1</td>\n",
              "      <td>1</td>\n",
              "      <td>2</td>\n",
              "      <td>2</td>\n",
              "      <td>39</td>\n",
              "      <td>Monday</td>\n",
              "      <td>night</td>\n",
              "    </tr>\n",
              "    <tr>\n",
              "      <th>2</th>\n",
              "      <td>3</td>\n",
              "      <td>2018-01-01 02:31:49</td>\n",
              "      <td>-0.662939</td>\n",
              "      <td>37.208730</td>\n",
              "      <td>2018-01-01</td>\n",
              "      <td>02:31:49</td>\n",
              "      <td>2018</td>\n",
              "      <td>1</td>\n",
              "      <td>1</td>\n",
              "      <td>2</td>\n",
              "      <td>31</td>\n",
              "      <td>49</td>\n",
              "      <td>Monday</td>\n",
              "      <td>night</td>\n",
              "    </tr>\n",
              "    <tr>\n",
              "      <th>3</th>\n",
              "      <td>4</td>\n",
              "      <td>2018-01-01 03:04:01</td>\n",
              "      <td>-1.288087</td>\n",
              "      <td>36.826583</td>\n",
              "      <td>2018-01-01</td>\n",
              "      <td>03:04:01</td>\n",
              "      <td>2018</td>\n",
              "      <td>1</td>\n",
              "      <td>1</td>\n",
              "      <td>3</td>\n",
              "      <td>4</td>\n",
              "      <td>1</td>\n",
              "      <td>Monday</td>\n",
              "      <td>night</td>\n",
              "    </tr>\n",
              "    <tr>\n",
              "      <th>4</th>\n",
              "      <td>5</td>\n",
              "      <td>2018-01-01 03:58:49</td>\n",
              "      <td>-1.188850</td>\n",
              "      <td>36.931382</td>\n",
              "      <td>2018-01-01</td>\n",
              "      <td>03:58:49</td>\n",
              "      <td>2018</td>\n",
              "      <td>1</td>\n",
              "      <td>1</td>\n",
              "      <td>3</td>\n",
              "      <td>58</td>\n",
              "      <td>49</td>\n",
              "      <td>Monday</td>\n",
              "      <td>night</td>\n",
              "    </tr>\n",
              "  </tbody>\n",
              "</table>\n",
              "</div>"
            ],
            "text/plain": [
              "   uid            datetime  latitude  longitude  ... min sec  weekday  hour_type\n",
              "0    1 2018-01-01 00:25:46 -1.188850  36.931382  ...  25  46   Monday      night\n",
              "1    2 2018-01-01 02:02:39 -0.662939  37.208730  ...   2  39   Monday      night\n",
              "2    3 2018-01-01 02:31:49 -0.662939  37.208730  ...  31  49   Monday      night\n",
              "3    4 2018-01-01 03:04:01 -1.288087  36.826583  ...   4   1   Monday      night\n",
              "4    5 2018-01-01 03:58:49 -1.188850  36.931382  ...  58  49   Monday      night\n",
              "\n",
              "[5 rows x 14 columns]"
            ]
          },
          "metadata": {
            "tags": []
          },
          "execution_count": 14
        }
      ]
    },
    {
      "cell_type": "code",
      "metadata": {
        "colab": {
          "base_uri": "https://localhost:8080/",
          "height": 497
        },
        "id": "3EIwKH-UVLc0",
        "outputId": "610a0eae-0a83-4299-9767-7c5d57cc4fe5"
      },
      "source": [
        "# Group by Hour Type(Day or Night)\n",
        "pd.DataFrame(train.groupby('hour_type')['weekday'].value_counts().sort_values(ascending=False))"
      ],
      "execution_count": null,
      "outputs": [
        {
          "output_type": "execute_result",
          "data": {
            "text/html": [
              "<div>\n",
              "<style scoped>\n",
              "    .dataframe tbody tr th:only-of-type {\n",
              "        vertical-align: middle;\n",
              "    }\n",
              "\n",
              "    .dataframe tbody tr th {\n",
              "        vertical-align: top;\n",
              "    }\n",
              "\n",
              "    .dataframe thead th {\n",
              "        text-align: right;\n",
              "    }\n",
              "</style>\n",
              "<table border=\"1\" class=\"dataframe\">\n",
              "  <thead>\n",
              "    <tr style=\"text-align: right;\">\n",
              "      <th></th>\n",
              "      <th></th>\n",
              "      <th>weekday</th>\n",
              "    </tr>\n",
              "    <tr>\n",
              "      <th>hour_type</th>\n",
              "      <th>weekday</th>\n",
              "      <th></th>\n",
              "    </tr>\n",
              "  </thead>\n",
              "  <tbody>\n",
              "    <tr>\n",
              "      <th rowspan=\"7\" valign=\"top\">day</th>\n",
              "      <th>Tuesday</th>\n",
              "      <td>703</td>\n",
              "    </tr>\n",
              "    <tr>\n",
              "      <th>Wednesday</th>\n",
              "      <td>663</td>\n",
              "    </tr>\n",
              "    <tr>\n",
              "      <th>Friday</th>\n",
              "      <td>641</td>\n",
              "    </tr>\n",
              "    <tr>\n",
              "      <th>Saturday</th>\n",
              "      <td>611</td>\n",
              "    </tr>\n",
              "    <tr>\n",
              "      <th>Thursday</th>\n",
              "      <td>582</td>\n",
              "    </tr>\n",
              "    <tr>\n",
              "      <th>Monday</th>\n",
              "      <td>523</td>\n",
              "    </tr>\n",
              "    <tr>\n",
              "      <th>Sunday</th>\n",
              "      <td>415</td>\n",
              "    </tr>\n",
              "    <tr>\n",
              "      <th rowspan=\"7\" valign=\"top\">night</th>\n",
              "      <th>Tuesday</th>\n",
              "      <td>378</td>\n",
              "    </tr>\n",
              "    <tr>\n",
              "      <th>Friday</th>\n",
              "      <td>364</td>\n",
              "    </tr>\n",
              "    <tr>\n",
              "      <th>Wednesday</th>\n",
              "      <td>362</td>\n",
              "    </tr>\n",
              "    <tr>\n",
              "      <th>Monday</th>\n",
              "      <td>344</td>\n",
              "    </tr>\n",
              "    <tr>\n",
              "      <th>Thursday</th>\n",
              "      <td>300</td>\n",
              "    </tr>\n",
              "    <tr>\n",
              "      <th>Saturday</th>\n",
              "      <td>238</td>\n",
              "    </tr>\n",
              "    <tr>\n",
              "      <th>Sunday</th>\n",
              "      <td>194</td>\n",
              "    </tr>\n",
              "  </tbody>\n",
              "</table>\n",
              "</div>"
            ],
            "text/plain": [
              "                     weekday\n",
              "hour_type weekday           \n",
              "day       Tuesday        703\n",
              "          Wednesday      663\n",
              "          Friday         641\n",
              "          Saturday       611\n",
              "          Thursday       582\n",
              "          Monday         523\n",
              "          Sunday         415\n",
              "night     Tuesday        378\n",
              "          Friday         364\n",
              "          Wednesday      362\n",
              "          Monday         344\n",
              "          Thursday       300\n",
              "          Saturday       238\n",
              "          Sunday         194"
            ]
          },
          "metadata": {
            "tags": []
          },
          "execution_count": 15
        }
      ]
    },
    {
      "cell_type": "markdown",
      "metadata": {
        "id": "5Mrh2i7IuutZ"
      },
      "source": [
        "#### Scoring\n",
        "\n",
        "You can re-create the scoring process by creating your own test set and using the following function:"
      ]
    },
    {
      "cell_type": "code",
      "metadata": {
        "colab": {
          "base_uri": "https://localhost:8080/",
          "height": 997
        },
        "id": "qDbDtoHVAcb6",
        "outputId": "a3c81b2b-5c8b-4dbf-e8e0-152d892a8ea4"
      },
      "source": [
        "# clustering\n",
        "\n",
        "K_clusters = range(1,10)\n",
        "\n",
        "kmeans = [KMeans(n_clusters=i) for i in K_clusters]\n",
        "\n",
        "Y_axis = train[['latitude']]\n",
        "X_axis = train[['longitude']]\n",
        "\n",
        "score = [kmeans[i].fit(Y_axis).score(Y_axis) for i in range(len(kmeans))]\n",
        "\n",
        "# Variable with the Longitude and Latitude\n",
        "X=train.loc[:,['datetime','latitude','longitude']]\n",
        "\n",
        "kmeans = KMeans(n_clusters = 6, init ='k-means++')\n",
        "kmeans.fit(X[X.columns[1:3]]) # Compute k-means clustering.\n",
        "X['cluster_label'] = kmeans.fit_predict(X[X.columns[1:3]])\n",
        "centers = kmeans.cluster_centers_ # Coordinates of cluster centers.\n",
        "labels = kmeans.predict(X[X.columns[1:3]]) # Labels of each point\n",
        "\n",
        "# ===== clusters\n",
        "#X.plot.scatter(x = 'latitude', y = 'longitude', c=labels, s=50, cmap='viridis')\n",
        "\n",
        "\n",
        "# ===== road segments locations\n",
        "\n",
        "\n",
        "fig, axs = plt.subplots(2, 2,figsize=(20, 18))\n",
        "axs[0, 0].plot(K_clusters, score)\n",
        "axs[0, 0].set_title('Elbow Curve')\n",
        "axs[0, 0].set_ylabel('Score')\n",
        "axs[0, 0].set_xlabel('Number of Clusters')\n",
        "\n",
        "axs[1,0].scatter(centers[:, 0], centers[:, 1], c='black', s=200, alpha=0.5,cmap='viridis')\n",
        "axs[1, 0].set_title('Cluster Centres of Accidents')\n",
        "axs[1, 0].set_ylabel('Longitude')\n",
        "axs[1, 0].set_xlabel('Latitude')\n",
        "\n",
        "axs[0,1].scatter(x = X['latitude'], y = X['longitude'], c=labels, s=50, cmap='viridis')\n",
        "axs[0, 1].set_title('Scatter of Accident Zones')\n",
        "axs[0, 1].set_ylabel('Longitude')\n",
        "axs[0, 1].set_xlabel('Latitude')\n",
        "\n",
        "points = pd.DataFrame([centers[:, 0], centers[:, 1]]).transpose()\n",
        "vor = Voronoi(points)\n",
        "\n",
        "# plot\n",
        "voronoi_plot_2d(vor,ax=axs[1,1],point_size=20)\n",
        "axs[1, 1].set_title('Voronoi Regions')\n",
        "axs[1, 1].set_ylabel('Longitude')\n",
        "axs[1, 1].set_xlabel('Latitude')"
      ],
      "execution_count": null,
      "outputs": [
        {
          "output_type": "execute_result",
          "data": {
            "text/plain": [
              "Text(0.5, 0, 'Latitude')"
            ]
          },
          "metadata": {
            "tags": []
          },
          "execution_count": 16
        },
        {
          "output_type": "display_data",
          "data": {
            "image/png": "[encoded data removed]",
            "text/plain": [
              "<Figure size 1440x1296 with 4 Axes>"
            ]
          },
          "metadata": {
            "tags": []
          }
        }
      ]
    },
    {
      "cell_type": "code",
      "metadata": {
        "id": "sdijfD4pCqbx"
      },
      "source": [
        "## per 3 hours\n",
        "train['idx'] = 1\n",
        "train_3hours = train.resample('3H', on='datetime')['idx'].count().reset_index()\n",
        "train_3hours['datetime'] = train_3hours['datetime'].dt.hour\n",
        "\n",
        "train_3hours = train_3hours.groupby('datetime').sum().reset_index()\n",
        "train_pd_3hours = pd.DataFrame(train_3hours)"
      ],
      "execution_count": null,
      "outputs": []
    },
    {
      "cell_type": "code",
      "metadata": {
        "colab": {
          "base_uri": "https://localhost:8080/",
          "height": 287
        },
        "id": "zv21WMYwB8FS",
        "outputId": "0bc4a8b8-51a1-4f5b-ccf4-fc8f9de7e482"
      },
      "source": [
        "# Variable with the Longitude and Latitude\n",
        "X=train.loc[:,['datetime','latitude','longitude']]\n",
        "X.head(10)\n",
        "\n",
        "kmeans = KMeans(n_clusters = 6, init ='k-means++')\n",
        "kmeans.fit(X[X.columns[1:3]]) # Compute k-means clustering.\n",
        "X['cluster_label'] = kmeans.fit_predict(X[X.columns[1:3]])\n",
        "centers = kmeans.cluster_centers_ # Coordinates of cluster centers.\n",
        "labels = kmeans.predict(X[X.columns[1:3]]) # Labels of each point\n",
        "\n",
        "points['cluster_label'] = range(0,6)\n",
        "points.columns = ['lat','lon','cluster_label']\n",
        "\n",
        "point = points\n",
        "\n",
        "merged = X.merge(point,on='cluster_label',how='left')\n",
        "merged['hour'] = merged['datetime'].dt.hour\n",
        "\n",
        "train_pd_3hours.columns = ['hour','idx']\n",
        "\n",
        "mg = merged.merge(train_pd_3hours,on='hour',how='left')\n",
        "mg.head()\n",
        "amb = mg[['latitude', 'longitude']]\n",
        "amb.describe()"
      ],
      "execution_count": null,
      "outputs": [
        {
          "output_type": "execute_result",
          "data": {
            "text/html": [
              "<div>\n",
              "<style scoped>\n",
              "    .dataframe tbody tr th:only-of-type {\n",
              "        vertical-align: middle;\n",
              "    }\n",
              "\n",
              "    .dataframe tbody tr th {\n",
              "        vertical-align: top;\n",
              "    }\n",
              "\n",
              "    .dataframe thead th {\n",
              "        text-align: right;\n",
              "    }\n",
              "</style>\n",
              "<table border=\"1\" class=\"dataframe\">\n",
              "  <thead>\n",
              "    <tr style=\"text-align: right;\">\n",
              "      <th></th>\n",
              "      <th>latitude</th>\n",
              "      <th>longitude</th>\n",
              "    </tr>\n",
              "  </thead>\n",
              "  <tbody>\n",
              "    <tr>\n",
              "      <th>count</th>\n",
              "      <td>6318.000000</td>\n",
              "      <td>6318.000000</td>\n",
              "    </tr>\n",
              "    <tr>\n",
              "      <th>mean</th>\n",
              "      <td>-1.270338</td>\n",
              "      <td>36.855459</td>\n",
              "    </tr>\n",
              "    <tr>\n",
              "      <th>std</th>\n",
              "      <td>0.125157</td>\n",
              "      <td>0.112866</td>\n",
              "    </tr>\n",
              "    <tr>\n",
              "      <th>min</th>\n",
              "      <td>-3.050000</td>\n",
              "      <td>36.332202</td>\n",
              "    </tr>\n",
              "    <tr>\n",
              "      <th>25%</th>\n",
              "      <td>-1.316585</td>\n",
              "      <td>36.802048</td>\n",
              "    </tr>\n",
              "    <tr>\n",
              "      <th>50%</th>\n",
              "      <td>-1.271709</td>\n",
              "      <td>36.844591</td>\n",
              "    </tr>\n",
              "    <tr>\n",
              "      <th>75%</th>\n",
              "      <td>-1.233746</td>\n",
              "      <td>36.895642</td>\n",
              "    </tr>\n",
              "    <tr>\n",
              "      <th>max</th>\n",
              "      <td>-0.565402</td>\n",
              "      <td>37.879490</td>\n",
              "    </tr>\n",
              "  </tbody>\n",
              "</table>\n",
              "</div>"
            ],
            "text/plain": [
              "          latitude    longitude\n",
              "count  6318.000000  6318.000000\n",
              "mean     -1.270338    36.855459\n",
              "std       0.125157     0.112866\n",
              "min      -3.050000    36.332202\n",
              "25%      -1.316585    36.802048\n",
              "50%      -1.271709    36.844591\n",
              "75%      -1.233746    36.895642\n",
              "max      -0.565402    37.879490"
            ]
          },
          "metadata": {
            "tags": []
          },
          "execution_count": 18
        }
      ]
    },
    {
      "cell_type": "code",
      "metadata": {
        "id": "dbLLmRmUjSvD"
      },
      "source": [
        "amb.to_csv(\"ambulance_clusters.csv\")"
      ],
      "execution_count": null,
      "outputs": []
    },
    {
      "cell_type": "code",
      "metadata": {
        "colab": {
          "base_uri": "https://localhost:8080/",
          "height": 287
        },
        "id": "pFJJcFlUvBIy",
        "outputId": "5f8b408a-de0f-4ea9-9a8e-edaf9c83d3be"
      },
      "source": [
        "train.describe()"
      ],
      "execution_count": null,
      "outputs": [
        {
          "output_type": "execute_result",
          "data": {
            "text/html": [
              "<div>\n",
              "<style scoped>\n",
              "    .dataframe tbody tr th:only-of-type {\n",
              "        vertical-align: middle;\n",
              "    }\n",
              "\n",
              "    .dataframe tbody tr th {\n",
              "        vertical-align: top;\n",
              "    }\n",
              "\n",
              "    .dataframe thead th {\n",
              "        text-align: right;\n",
              "    }\n",
              "</style>\n",
              "<table border=\"1\" class=\"dataframe\">\n",
              "  <thead>\n",
              "    <tr style=\"text-align: right;\">\n",
              "      <th></th>\n",
              "      <th>uid</th>\n",
              "      <th>latitude</th>\n",
              "      <th>longitude</th>\n",
              "      <th>year</th>\n",
              "      <th>month</th>\n",
              "      <th>day</th>\n",
              "      <th>hr</th>\n",
              "      <th>min</th>\n",
              "      <th>sec</th>\n",
              "      <th>idx</th>\n",
              "    </tr>\n",
              "  </thead>\n",
              "  <tbody>\n",
              "    <tr>\n",
              "      <th>count</th>\n",
              "      <td>6318.000000</td>\n",
              "      <td>6318.000000</td>\n",
              "      <td>6318.000000</td>\n",
              "      <td>6318.000000</td>\n",
              "      <td>6318.000000</td>\n",
              "      <td>6318.000000</td>\n",
              "      <td>6318.000000</td>\n",
              "      <td>6318.000000</td>\n",
              "      <td>6318.000000</td>\n",
              "      <td>6318.0</td>\n",
              "    </tr>\n",
              "    <tr>\n",
              "      <th>mean</th>\n",
              "      <td>3159.500000</td>\n",
              "      <td>-1.270338</td>\n",
              "      <td>36.855459</td>\n",
              "      <td>2018.304210</td>\n",
              "      <td>5.317031</td>\n",
              "      <td>15.103989</td>\n",
              "      <td>11.638651</td>\n",
              "      <td>29.541469</td>\n",
              "      <td>29.311966</td>\n",
              "      <td>1.0</td>\n",
              "    </tr>\n",
              "    <tr>\n",
              "      <th>std</th>\n",
              "      <td>1823.993832</td>\n",
              "      <td>0.125157</td>\n",
              "      <td>0.112866</td>\n",
              "      <td>0.460109</td>\n",
              "      <td>3.194254</td>\n",
              "      <td>8.818403</td>\n",
              "      <td>5.653580</td>\n",
              "      <td>17.149118</td>\n",
              "      <td>17.014833</td>\n",
              "      <td>0.0</td>\n",
              "    </tr>\n",
              "    <tr>\n",
              "      <th>min</th>\n",
              "      <td>1.000000</td>\n",
              "      <td>-3.050000</td>\n",
              "      <td>36.332202</td>\n",
              "      <td>2018.000000</td>\n",
              "      <td>1.000000</td>\n",
              "      <td>1.000000</td>\n",
              "      <td>0.000000</td>\n",
              "      <td>0.000000</td>\n",
              "      <td>0.000000</td>\n",
              "      <td>1.0</td>\n",
              "    </tr>\n",
              "    <tr>\n",
              "      <th>25%</th>\n",
              "      <td>1580.250000</td>\n",
              "      <td>-1.316585</td>\n",
              "      <td>36.802048</td>\n",
              "      <td>2018.000000</td>\n",
              "      <td>3.000000</td>\n",
              "      <td>7.000000</td>\n",
              "      <td>7.000000</td>\n",
              "      <td>15.000000</td>\n",
              "      <td>9.000000</td>\n",
              "      <td>1.0</td>\n",
              "    </tr>\n",
              "    <tr>\n",
              "      <th>50%</th>\n",
              "      <td>3159.500000</td>\n",
              "      <td>-1.271709</td>\n",
              "      <td>36.844591</td>\n",
              "      <td>2018.000000</td>\n",
              "      <td>5.000000</td>\n",
              "      <td>15.000000</td>\n",
              "      <td>11.000000</td>\n",
              "      <td>30.000000</td>\n",
              "      <td>29.000000</td>\n",
              "      <td>1.0</td>\n",
              "    </tr>\n",
              "    <tr>\n",
              "      <th>75%</th>\n",
              "      <td>4738.750000</td>\n",
              "      <td>-1.233746</td>\n",
              "      <td>36.895642</td>\n",
              "      <td>2019.000000</td>\n",
              "      <td>8.000000</td>\n",
              "      <td>23.000000</td>\n",
              "      <td>17.000000</td>\n",
              "      <td>44.000000</td>\n",
              "      <td>39.000000</td>\n",
              "      <td>1.0</td>\n",
              "    </tr>\n",
              "    <tr>\n",
              "      <th>max</th>\n",
              "      <td>6318.000000</td>\n",
              "      <td>-0.565402</td>\n",
              "      <td>37.879490</td>\n",
              "      <td>2019.000000</td>\n",
              "      <td>12.000000</td>\n",
              "      <td>31.000000</td>\n",
              "      <td>23.000000</td>\n",
              "      <td>59.000000</td>\n",
              "      <td>59.000000</td>\n",
              "      <td>1.0</td>\n",
              "    </tr>\n",
              "  </tbody>\n",
              "</table>\n",
              "</div>"
            ],
            "text/plain": [
              "               uid     latitude    longitude  ...          min          sec     idx\n",
              "count  6318.000000  6318.000000  6318.000000  ...  6318.000000  6318.000000  6318.0\n",
              "mean   3159.500000    -1.270338    36.855459  ...    29.541469    29.311966     1.0\n",
              "std    1823.993832     0.125157     0.112866  ...    17.149118    17.014833     0.0\n",
              "min       1.000000    -3.050000    36.332202  ...     0.000000     0.000000     1.0\n",
              "25%    1580.250000    -1.316585    36.802048  ...    15.000000     9.000000     1.0\n",
              "50%    3159.500000    -1.271709    36.844591  ...    30.000000    29.000000     1.0\n",
              "75%    4738.750000    -1.233746    36.895642  ...    44.000000    39.000000     1.0\n",
              "max    6318.000000    -0.565402    37.879490  ...    59.000000    59.000000     1.0\n",
              "\n",
              "[8 rows x 10 columns]"
            ]
          },
          "metadata": {
            "tags": []
          },
          "execution_count": 20
        }
      ]
    },
    {
      "cell_type": "code",
      "metadata": {
        "colab": {
          "base_uri": "https://localhost:8080/",
          "height": 626
        },
        "id": "V-_PwzRJe22j",
        "outputId": "0e91dace-e7d6-494b-ed8c-33143a7c50c7"
      },
      "source": [
        "\n",
        "kmeans_global = KMeans(n_clusters=6, random_state=500).fit(train[['latitude','longitude']])\n",
        "\n",
        "fig, axs = plt.subplots(figsize=(16, 10))\n",
        "\n",
        "plt.scatter(x = train['latitude'],y=train['longitude'], s=1, label='Craches locations' )\n",
        "plt.scatter(x=kmeans_global.cluster_centers_[:,0], y=kmeans_global.cluster_centers_[:,1],marker=\"x\",\n",
        "            color='r',label='Ambulances locations',s=100)\n",
        "axs.set_title('Scatter plot : Ambulaces locations vs Crushes locations ')\n",
        "plt.xlabel(\"Leprechauns\")\n",
        "plt.ylabel(\"longitude\")\n",
        "plt.legend()\n",
        "plt.show()"
      ],
      "execution_count": null,
      "outputs": [
        {
          "output_type": "display_data",
          "data": {
            "image/png": "[encoded data removed]",
            "text/plain": [
              "<Figure size 1152x720 with 1 Axes>"
            ]
          },
          "metadata": {
            "tags": []
          }
        }
      ]
    },
    {
      "cell_type": "code",
      "metadata": {
        "colab": {
          "base_uri": "https://localhost:8080/",
          "height": 107
        },
        "id": "gRsKvUQ1hnr8",
        "outputId": "f48a0c71-f0db-4b87-8f23-a46e469fa16a"
      },
      "source": [
        "train.head(2)"
      ],
      "execution_count": null,
      "outputs": [
        {
          "output_type": "execute_result",
          "data": {
            "text/html": [
              "<div>\n",
              "<style scoped>\n",
              "    .dataframe tbody tr th:only-of-type {\n",
              "        vertical-align: middle;\n",
              "    }\n",
              "\n",
              "    .dataframe tbody tr th {\n",
              "        vertical-align: top;\n",
              "    }\n",
              "\n",
              "    .dataframe thead th {\n",
              "        text-align: right;\n",
              "    }\n",
              "</style>\n",
              "<table border=\"1\" class=\"dataframe\">\n",
              "  <thead>\n",
              "    <tr style=\"text-align: right;\">\n",
              "      <th></th>\n",
              "      <th>uid</th>\n",
              "      <th>datetime</th>\n",
              "      <th>latitude</th>\n",
              "      <th>longitude</th>\n",
              "      <th>date</th>\n",
              "      <th>time</th>\n",
              "      <th>year</th>\n",
              "      <th>month</th>\n",
              "      <th>day</th>\n",
              "      <th>hr</th>\n",
              "      <th>min</th>\n",
              "      <th>sec</th>\n",
              "      <th>weekday</th>\n",
              "      <th>hour_type</th>\n",
              "      <th>idx</th>\n",
              "    </tr>\n",
              "  </thead>\n",
              "  <tbody>\n",
              "    <tr>\n",
              "      <th>0</th>\n",
              "      <td>1</td>\n",
              "      <td>2018-01-01 00:25:46</td>\n",
              "      <td>-1.188850</td>\n",
              "      <td>36.931382</td>\n",
              "      <td>2018-01-01</td>\n",
              "      <td>00:25:46</td>\n",
              "      <td>2018</td>\n",
              "      <td>1</td>\n",
              "      <td>1</td>\n",
              "      <td>0</td>\n",
              "      <td>25</td>\n",
              "      <td>46</td>\n",
              "      <td>Monday</td>\n",
              "      <td>night</td>\n",
              "      <td>1</td>\n",
              "    </tr>\n",
              "    <tr>\n",
              "      <th>1</th>\n",
              "      <td>2</td>\n",
              "      <td>2018-01-01 02:02:39</td>\n",
              "      <td>-0.662939</td>\n",
              "      <td>37.208730</td>\n",
              "      <td>2018-01-01</td>\n",
              "      <td>02:02:39</td>\n",
              "      <td>2018</td>\n",
              "      <td>1</td>\n",
              "      <td>1</td>\n",
              "      <td>2</td>\n",
              "      <td>2</td>\n",
              "      <td>39</td>\n",
              "      <td>Monday</td>\n",
              "      <td>night</td>\n",
              "      <td>1</td>\n",
              "    </tr>\n",
              "  </tbody>\n",
              "</table>\n",
              "</div>"
            ],
            "text/plain": [
              "   uid            datetime  latitude  longitude  ... sec weekday  hour_type  idx\n",
              "0    1 2018-01-01 00:25:46 -1.188850  36.931382  ...  46  Monday      night    1\n",
              "1    2 2018-01-01 02:02:39 -0.662939  37.208730  ...  39  Monday      night    1\n",
              "\n",
              "[2 rows x 15 columns]"
            ]
          },
          "metadata": {
            "tags": []
          },
          "execution_count": 22
        }
      ]
    },
    {
      "cell_type": "code",
      "metadata": {
        "colab": {
          "base_uri": "https://localhost:8080/",
          "height": 197
        },
        "id": "TbwxI_GJhpWR",
        "outputId": "c54b1baf-864d-42a8-865b-78c520ad7a00"
      },
      "source": [
        "train['weekday']  = pd.get_dummies(train['weekday'])\n",
        "train['hour_type']  = pd.get_dummies(train['hour_type'])\n",
        "train.head()"
      ],
      "execution_count": null,
      "outputs": [
        {
          "output_type": "execute_result",
          "data": {
            "text/html": [
              "<div>\n",
              "<style scoped>\n",
              "    .dataframe tbody tr th:only-of-type {\n",
              "        vertical-align: middle;\n",
              "    }\n",
              "\n",
              "    .dataframe tbody tr th {\n",
              "        vertical-align: top;\n",
              "    }\n",
              "\n",
              "    .dataframe thead th {\n",
              "        text-align: right;\n",
              "    }\n",
              "</style>\n",
              "<table border=\"1\" class=\"dataframe\">\n",
              "  <thead>\n",
              "    <tr style=\"text-align: right;\">\n",
              "      <th></th>\n",
              "      <th>uid</th>\n",
              "      <th>datetime</th>\n",
              "      <th>latitude</th>\n",
              "      <th>longitude</th>\n",
              "      <th>date</th>\n",
              "      <th>time</th>\n",
              "      <th>year</th>\n",
              "      <th>month</th>\n",
              "      <th>day</th>\n",
              "      <th>hr</th>\n",
              "      <th>min</th>\n",
              "      <th>sec</th>\n",
              "      <th>weekday</th>\n",
              "      <th>hour_type</th>\n",
              "      <th>idx</th>\n",
              "    </tr>\n",
              "  </thead>\n",
              "  <tbody>\n",
              "    <tr>\n",
              "      <th>0</th>\n",
              "      <td>1</td>\n",
              "      <td>2018-01-01 00:25:46</td>\n",
              "      <td>-1.188850</td>\n",
              "      <td>36.931382</td>\n",
              "      <td>2018-01-01</td>\n",
              "      <td>00:25:46</td>\n",
              "      <td>2018</td>\n",
              "      <td>1</td>\n",
              "      <td>1</td>\n",
              "      <td>0</td>\n",
              "      <td>25</td>\n",
              "      <td>46</td>\n",
              "      <td>0</td>\n",
              "      <td>0</td>\n",
              "      <td>1</td>\n",
              "    </tr>\n",
              "    <tr>\n",
              "      <th>1</th>\n",
              "      <td>2</td>\n",
              "      <td>2018-01-01 02:02:39</td>\n",
              "      <td>-0.662939</td>\n",
              "      <td>37.208730</td>\n",
              "      <td>2018-01-01</td>\n",
              "      <td>02:02:39</td>\n",
              "      <td>2018</td>\n",
              "      <td>1</td>\n",
              "      <td>1</td>\n",
              "      <td>2</td>\n",
              "      <td>2</td>\n",
              "      <td>39</td>\n",
              "      <td>0</td>\n",
              "      <td>0</td>\n",
              "      <td>1</td>\n",
              "    </tr>\n",
              "    <tr>\n",
              "      <th>2</th>\n",
              "      <td>3</td>\n",
              "      <td>2018-01-01 02:31:49</td>\n",
              "      <td>-0.662939</td>\n",
              "      <td>37.208730</td>\n",
              "      <td>2018-01-01</td>\n",
              "      <td>02:31:49</td>\n",
              "      <td>2018</td>\n",
              "      <td>1</td>\n",
              "      <td>1</td>\n",
              "      <td>2</td>\n",
              "      <td>31</td>\n",
              "      <td>49</td>\n",
              "      <td>0</td>\n",
              "      <td>0</td>\n",
              "      <td>1</td>\n",
              "    </tr>\n",
              "    <tr>\n",
              "      <th>3</th>\n",
              "      <td>4</td>\n",
              "      <td>2018-01-01 03:04:01</td>\n",
              "      <td>-1.288087</td>\n",
              "      <td>36.826583</td>\n",
              "      <td>2018-01-01</td>\n",
              "      <td>03:04:01</td>\n",
              "      <td>2018</td>\n",
              "      <td>1</td>\n",
              "      <td>1</td>\n",
              "      <td>3</td>\n",
              "      <td>4</td>\n",
              "      <td>1</td>\n",
              "      <td>0</td>\n",
              "      <td>0</td>\n",
              "      <td>1</td>\n",
              "    </tr>\n",
              "    <tr>\n",
              "      <th>4</th>\n",
              "      <td>5</td>\n",
              "      <td>2018-01-01 03:58:49</td>\n",
              "      <td>-1.188850</td>\n",
              "      <td>36.931382</td>\n",
              "      <td>2018-01-01</td>\n",
              "      <td>03:58:49</td>\n",
              "      <td>2018</td>\n",
              "      <td>1</td>\n",
              "      <td>1</td>\n",
              "      <td>3</td>\n",
              "      <td>58</td>\n",
              "      <td>49</td>\n",
              "      <td>0</td>\n",
              "      <td>0</td>\n",
              "      <td>1</td>\n",
              "    </tr>\n",
              "  </tbody>\n",
              "</table>\n",
              "</div>"
            ],
            "text/plain": [
              "   uid            datetime  latitude  longitude  ... sec weekday  hour_type  idx\n",
              "0    1 2018-01-01 00:25:46 -1.188850  36.931382  ...  46       0          0    1\n",
              "1    2 2018-01-01 02:02:39 -0.662939  37.208730  ...  39       0          0    1\n",
              "2    3 2018-01-01 02:31:49 -0.662939  37.208730  ...  49       0          0    1\n",
              "3    4 2018-01-01 03:04:01 -1.288087  36.826583  ...   1       0          0    1\n",
              "4    5 2018-01-01 03:58:49 -1.188850  36.931382  ...  49       0          0    1\n",
              "\n",
              "[5 rows x 15 columns]"
            ]
          },
          "metadata": {
            "tags": []
          },
          "execution_count": 23
        }
      ]
    },
    {
      "cell_type": "code",
      "metadata": {
        "colab": {
          "base_uri": "https://localhost:8080/",
          "height": 307
        },
        "id": "oddw8qBo5XaZ",
        "outputId": "9be1d901-8a0b-46f3-85d0-58c7c6dcc0b5"
      },
      "source": [
        "train.describe()"
      ],
      "execution_count": null,
      "outputs": [
        {
          "output_type": "execute_result",
          "data": {
            "text/html": [
              "<div>\n",
              "<style scoped>\n",
              "    .dataframe tbody tr th:only-of-type {\n",
              "        vertical-align: middle;\n",
              "    }\n",
              "\n",
              "    .dataframe tbody tr th {\n",
              "        vertical-align: top;\n",
              "    }\n",
              "\n",
              "    .dataframe thead th {\n",
              "        text-align: right;\n",
              "    }\n",
              "</style>\n",
              "<table border=\"1\" class=\"dataframe\">\n",
              "  <thead>\n",
              "    <tr style=\"text-align: right;\">\n",
              "      <th></th>\n",
              "      <th>uid</th>\n",
              "      <th>latitude</th>\n",
              "      <th>longitude</th>\n",
              "      <th>year</th>\n",
              "      <th>month</th>\n",
              "      <th>day</th>\n",
              "      <th>hr</th>\n",
              "      <th>min</th>\n",
              "      <th>sec</th>\n",
              "      <th>weekday</th>\n",
              "      <th>hour_type</th>\n",
              "      <th>idx</th>\n",
              "    </tr>\n",
              "  </thead>\n",
              "  <tbody>\n",
              "    <tr>\n",
              "      <th>count</th>\n",
              "      <td>6318.000000</td>\n",
              "      <td>6318.000000</td>\n",
              "      <td>6318.000000</td>\n",
              "      <td>6318.000000</td>\n",
              "      <td>6318.000000</td>\n",
              "      <td>6318.000000</td>\n",
              "      <td>6318.000000</td>\n",
              "      <td>6318.000000</td>\n",
              "      <td>6318.000000</td>\n",
              "      <td>6318.000000</td>\n",
              "      <td>6318.000000</td>\n",
              "      <td>6318.0</td>\n",
              "    </tr>\n",
              "    <tr>\n",
              "      <th>mean</th>\n",
              "      <td>3159.500000</td>\n",
              "      <td>-1.270338</td>\n",
              "      <td>36.855459</td>\n",
              "      <td>2018.304210</td>\n",
              "      <td>5.317031</td>\n",
              "      <td>15.103989</td>\n",
              "      <td>11.638651</td>\n",
              "      <td>29.541469</td>\n",
              "      <td>29.311966</td>\n",
              "      <td>0.159069</td>\n",
              "      <td>0.654954</td>\n",
              "      <td>1.0</td>\n",
              "    </tr>\n",
              "    <tr>\n",
              "      <th>std</th>\n",
              "      <td>1823.993832</td>\n",
              "      <td>0.125157</td>\n",
              "      <td>0.112866</td>\n",
              "      <td>0.460109</td>\n",
              "      <td>3.194254</td>\n",
              "      <td>8.818403</td>\n",
              "      <td>5.653580</td>\n",
              "      <td>17.149118</td>\n",
              "      <td>17.014833</td>\n",
              "      <td>0.365770</td>\n",
              "      <td>0.475421</td>\n",
              "      <td>0.0</td>\n",
              "    </tr>\n",
              "    <tr>\n",
              "      <th>min</th>\n",
              "      <td>1.000000</td>\n",
              "      <td>-3.050000</td>\n",
              "      <td>36.332202</td>\n",
              "      <td>2018.000000</td>\n",
              "      <td>1.000000</td>\n",
              "      <td>1.000000</td>\n",
              "      <td>0.000000</td>\n",
              "      <td>0.000000</td>\n",
              "      <td>0.000000</td>\n",
              "      <td>0.000000</td>\n",
              "      <td>0.000000</td>\n",
              "      <td>1.0</td>\n",
              "    </tr>\n",
              "    <tr>\n",
              "      <th>25%</th>\n",
              "      <td>1580.250000</td>\n",
              "      <td>-1.316585</td>\n",
              "      <td>36.802048</td>\n",
              "      <td>2018.000000</td>\n",
              "      <td>3.000000</td>\n",
              "      <td>7.000000</td>\n",
              "      <td>7.000000</td>\n",
              "      <td>15.000000</td>\n",
              "      <td>9.000000</td>\n",
              "      <td>0.000000</td>\n",
              "      <td>0.000000</td>\n",
              "      <td>1.0</td>\n",
              "    </tr>\n",
              "    <tr>\n",
              "      <th>50%</th>\n",
              "      <td>3159.500000</td>\n",
              "      <td>-1.271709</td>\n",
              "      <td>36.844591</td>\n",
              "      <td>2018.000000</td>\n",
              "      <td>5.000000</td>\n",
              "      <td>15.000000</td>\n",
              "      <td>11.000000</td>\n",
              "      <td>30.000000</td>\n",
              "      <td>29.000000</td>\n",
              "      <td>0.000000</td>\n",
              "      <td>1.000000</td>\n",
              "      <td>1.0</td>\n",
              "    </tr>\n",
              "    <tr>\n",
              "      <th>75%</th>\n",
              "      <td>4738.750000</td>\n",
              "      <td>-1.233746</td>\n",
              "      <td>36.895642</td>\n",
              "      <td>2019.000000</td>\n",
              "      <td>8.000000</td>\n",
              "      <td>23.000000</td>\n",
              "      <td>17.000000</td>\n",
              "      <td>44.000000</td>\n",
              "      <td>39.000000</td>\n",
              "      <td>0.000000</td>\n",
              "      <td>1.000000</td>\n",
              "      <td>1.0</td>\n",
              "    </tr>\n",
              "    <tr>\n",
              "      <th>max</th>\n",
              "      <td>6318.000000</td>\n",
              "      <td>-0.565402</td>\n",
              "      <td>37.879490</td>\n",
              "      <td>2019.000000</td>\n",
              "      <td>12.000000</td>\n",
              "      <td>31.000000</td>\n",
              "      <td>23.000000</td>\n",
              "      <td>59.000000</td>\n",
              "      <td>59.000000</td>\n",
              "      <td>1.000000</td>\n",
              "      <td>1.000000</td>\n",
              "      <td>1.0</td>\n",
              "    </tr>\n",
              "  </tbody>\n",
              "</table>\n",
              "</div>"
            ],
            "text/plain": [
              "               uid     latitude    longitude  ...      weekday    hour_type     idx\n",
              "count  6318.000000  6318.000000  6318.000000  ...  6318.000000  6318.000000  6318.0\n",
              "mean   3159.500000    -1.270338    36.855459  ...     0.159069     0.654954     1.0\n",
              "std    1823.993832     0.125157     0.112866  ...     0.365770     0.475421     0.0\n",
              "min       1.000000    -3.050000    36.332202  ...     0.000000     0.000000     1.0\n",
              "25%    1580.250000    -1.316585    36.802048  ...     0.000000     0.000000     1.0\n",
              "50%    3159.500000    -1.271709    36.844591  ...     0.000000     1.000000     1.0\n",
              "75%    4738.750000    -1.233746    36.895642  ...     0.000000     1.000000     1.0\n",
              "max    6318.000000    -0.565402    37.879490  ...     1.000000     1.000000     1.0\n",
              "\n",
              "[8 rows x 12 columns]"
            ]
          },
          "metadata": {
            "tags": []
          },
          "execution_count": 24
        }
      ]
    },
    {
      "cell_type": "code",
      "metadata": {
        "colab": {
          "base_uri": "https://localhost:8080/",
          "height": 227
        },
        "id": "AA25E5eRtGmR",
        "outputId": "027b98b3-db10-4ae2-d8c7-983d944b7650"
      },
      "source": [
        "amb_loc = np.random.random ([6,2]) * 0.04\n",
        "amb_loc = amb_loc + np.array([-1.270338, 36.855459])\n",
        "amb_loc = pd.DataFrame(amb_loc, columns=['latitude', 'longitude'])\n",
        "amb_loc"
      ],
      "execution_count": null,
      "outputs": [
        {
          "output_type": "execute_result",
          "data": {
            "text/html": [
              "<div>\n",
              "<style scoped>\n",
              "    .dataframe tbody tr th:only-of-type {\n",
              "        vertical-align: middle;\n",
              "    }\n",
              "\n",
              "    .dataframe tbody tr th {\n",
              "        vertical-align: top;\n",
              "    }\n",
              "\n",
              "    .dataframe thead th {\n",
              "        text-align: right;\n",
              "    }\n",
              "</style>\n",
              "<table border=\"1\" class=\"dataframe\">\n",
              "  <thead>\n",
              "    <tr style=\"text-align: right;\">\n",
              "      <th></th>\n",
              "      <th>latitude</th>\n",
              "      <th>longitude</th>\n",
              "    </tr>\n",
              "  </thead>\n",
              "  <tbody>\n",
              "    <tr>\n",
              "      <th>0</th>\n",
              "      <td>-1.244856</td>\n",
              "      <td>36.873142</td>\n",
              "    </tr>\n",
              "    <tr>\n",
              "      <th>1</th>\n",
              "      <td>-1.256563</td>\n",
              "      <td>36.888976</td>\n",
              "    </tr>\n",
              "    <tr>\n",
              "      <th>2</th>\n",
              "      <td>-1.264061</td>\n",
              "      <td>36.888866</td>\n",
              "    </tr>\n",
              "    <tr>\n",
              "      <th>3</th>\n",
              "      <td>-1.259626</td>\n",
              "      <td>36.867697</td>\n",
              "    </tr>\n",
              "    <tr>\n",
              "      <th>4</th>\n",
              "      <td>-1.243228</td>\n",
              "      <td>36.859470</td>\n",
              "    </tr>\n",
              "    <tr>\n",
              "      <th>5</th>\n",
              "      <td>-1.234554</td>\n",
              "      <td>36.871792</td>\n",
              "    </tr>\n",
              "  </tbody>\n",
              "</table>\n",
              "</div>"
            ],
            "text/plain": [
              "   latitude  longitude\n",
              "0 -1.244856  36.873142\n",
              "1 -1.256563  36.888976\n",
              "2 -1.264061  36.888866\n",
              "3 -1.259626  36.867697\n",
              "4 -1.243228  36.859470\n",
              "5 -1.234554  36.871792"
            ]
          },
          "metadata": {
            "tags": []
          },
          "execution_count": 25
        }
      ]
    },
    {
      "cell_type": "code",
      "metadata": {
        "colab": {
          "base_uri": "https://localhost:8080/"
        },
        "id": "LXX-4-pliPJN",
        "outputId": "80fefd00-7897-4914-adf7-7f67b7d9d131"
      },
      "source": [
        "train.columns"
      ],
      "execution_count": null,
      "outputs": [
        {
          "output_type": "execute_result",
          "data": {
            "text/plain": [
              "Index(['uid', 'datetime', 'latitude', 'longitude', 'date', 'time', 'year',\n",
              "       'month', 'day', 'hr', 'min', 'sec', 'weekday', 'hour_type', 'idx'],\n",
              "      dtype='object')"
            ]
          },
          "metadata": {
            "tags": []
          },
          "execution_count": 26
        }
      ]
    },
    {
      "cell_type": "code",
      "metadata": {
        "id": "JN2YLXX1uigD"
      },
      "source": [
        "def score(sub, ref):\n",
        "    total_distance = 0\n",
        "    for date, c_lat, c_lon, weekday, hour_type in ref[['datetime', 'latitude', 'longitude', 'weekday', 'hour_type']].values:\n",
        "        row = sub.loc[sub.date < date].tail(1) # Prior to Oct 2 this was incorrectly .head(1)\n",
        "        dists = []\n",
        "        for a in range(1,6):\n",
        "            dist = ((c_lat - row[f'A{a}_Latitude'].values[0])**2+(c_lon - row[f'A{a}_Longitude'].values[0])**2)**0.5 \n",
        "            dists.append(dist)\n",
        "            \n",
        "        total_distance += min(dists)\n",
        "    return total_distance.min()"
      ],
      "execution_count": null,
      "outputs": []
    },
    {
      "cell_type": "code",
      "metadata": {
        "colab": {
          "base_uri": "https://localhost:8080/",
          "height": 107
        },
        "id": "YC5U_KFdTmxH",
        "outputId": "2a007f27-ca35-4a95-f969-e9506e856d89"
      },
      "source": [
        "# Test set\n",
        "reference = train.loc[train.datetime > '2019-01-01'] # Using 2019 as our test set\n",
        "reference.head(2)"
      ],
      "execution_count": null,
      "outputs": [
        {
          "output_type": "execute_result",
          "data": {
            "text/html": [
              "<div>\n",
              "<style scoped>\n",
              "    .dataframe tbody tr th:only-of-type {\n",
              "        vertical-align: middle;\n",
              "    }\n",
              "\n",
              "    .dataframe tbody tr th {\n",
              "        vertical-align: top;\n",
              "    }\n",
              "\n",
              "    .dataframe thead th {\n",
              "        text-align: right;\n",
              "    }\n",
              "</style>\n",
              "<table border=\"1\" class=\"dataframe\">\n",
              "  <thead>\n",
              "    <tr style=\"text-align: right;\">\n",
              "      <th></th>\n",
              "      <th>uid</th>\n",
              "      <th>datetime</th>\n",
              "      <th>latitude</th>\n",
              "      <th>longitude</th>\n",
              "      <th>date</th>\n",
              "      <th>time</th>\n",
              "      <th>year</th>\n",
              "      <th>month</th>\n",
              "      <th>day</th>\n",
              "      <th>hr</th>\n",
              "      <th>min</th>\n",
              "      <th>sec</th>\n",
              "      <th>weekday</th>\n",
              "      <th>hour_type</th>\n",
              "      <th>idx</th>\n",
              "    </tr>\n",
              "  </thead>\n",
              "  <tbody>\n",
              "    <tr>\n",
              "      <th>4396</th>\n",
              "      <td>4397</td>\n",
              "      <td>2019-01-01 11:16:39</td>\n",
              "      <td>-1.298568</td>\n",
              "      <td>36.806244</td>\n",
              "      <td>2019-01-01</td>\n",
              "      <td>11:16:39</td>\n",
              "      <td>2019</td>\n",
              "      <td>1</td>\n",
              "      <td>1</td>\n",
              "      <td>11</td>\n",
              "      <td>16</td>\n",
              "      <td>39</td>\n",
              "      <td>0</td>\n",
              "      <td>1</td>\n",
              "      <td>1</td>\n",
              "    </tr>\n",
              "    <tr>\n",
              "      <th>4397</th>\n",
              "      <td>4398</td>\n",
              "      <td>2019-01-01 13:29:39</td>\n",
              "      <td>-1.316169</td>\n",
              "      <td>36.895726</td>\n",
              "      <td>2019-01-01</td>\n",
              "      <td>13:29:39</td>\n",
              "      <td>2019</td>\n",
              "      <td>1</td>\n",
              "      <td>1</td>\n",
              "      <td>13</td>\n",
              "      <td>29</td>\n",
              "      <td>39</td>\n",
              "      <td>0</td>\n",
              "      <td>1</td>\n",
              "      <td>1</td>\n",
              "    </tr>\n",
              "  </tbody>\n",
              "</table>\n",
              "</div>"
            ],
            "text/plain": [
              "       uid            datetime  latitude  ...  weekday hour_type idx\n",
              "4396  4397 2019-01-01 11:16:39 -1.298568  ...        0         1   1\n",
              "4397  4398 2019-01-01 13:29:39 -1.316169  ...        0         1   1\n",
              "\n",
              "[2 rows x 15 columns]"
            ]
          },
          "metadata": {
            "tags": []
          },
          "execution_count": 28
        }
      ]
    },
    {
      "cell_type": "code",
      "metadata": {
        "colab": {
          "base_uri": "https://localhost:8080/",
          "height": 197
        },
        "id": "kGalSmI6gbKo",
        "outputId": "a6a5016f-3046-46cb-de2b-5a0eb96fe0e1"
      },
      "source": [
        "train.iloc[:5, 2:4]"
      ],
      "execution_count": null,
      "outputs": [
        {
          "output_type": "execute_result",
          "data": {
            "text/html": [
              "<div>\n",
              "<style scoped>\n",
              "    .dataframe tbody tr th:only-of-type {\n",
              "        vertical-align: middle;\n",
              "    }\n",
              "\n",
              "    .dataframe tbody tr th {\n",
              "        vertical-align: top;\n",
              "    }\n",
              "\n",
              "    .dataframe thead th {\n",
              "        text-align: right;\n",
              "    }\n",
              "</style>\n",
              "<table border=\"1\" class=\"dataframe\">\n",
              "  <thead>\n",
              "    <tr style=\"text-align: right;\">\n",
              "      <th></th>\n",
              "      <th>latitude</th>\n",
              "      <th>longitude</th>\n",
              "    </tr>\n",
              "  </thead>\n",
              "  <tbody>\n",
              "    <tr>\n",
              "      <th>0</th>\n",
              "      <td>-1.188850</td>\n",
              "      <td>36.931382</td>\n",
              "    </tr>\n",
              "    <tr>\n",
              "      <th>1</th>\n",
              "      <td>-0.662939</td>\n",
              "      <td>37.208730</td>\n",
              "    </tr>\n",
              "    <tr>\n",
              "      <th>2</th>\n",
              "      <td>-0.662939</td>\n",
              "      <td>37.208730</td>\n",
              "    </tr>\n",
              "    <tr>\n",
              "      <th>3</th>\n",
              "      <td>-1.288087</td>\n",
              "      <td>36.826583</td>\n",
              "    </tr>\n",
              "    <tr>\n",
              "      <th>4</th>\n",
              "      <td>-1.188850</td>\n",
              "      <td>36.931382</td>\n",
              "    </tr>\n",
              "  </tbody>\n",
              "</table>\n",
              "</div>"
            ],
            "text/plain": [
              "   latitude  longitude\n",
              "0 -1.188850  36.931382\n",
              "1 -0.662939  37.208730\n",
              "2 -0.662939  37.208730\n",
              "3 -1.288087  36.826583\n",
              "4 -1.188850  36.931382"
            ]
          },
          "metadata": {
            "tags": []
          },
          "execution_count": 29
        }
      ]
    },
    {
      "cell_type": "code",
      "metadata": {
        "colab": {
          "base_uri": "https://localhost:8080/"
        },
        "id": "0TkTwmtwvZlH",
        "outputId": "d33d2a8c-d5ad-472d-abde-dafb5bbfabc6"
      },
      "source": [
        "# Date rane covering test set\n",
        "dates = pd.date_range('2019-01-01', '2020-01-01', freq='3h')\n",
        "\n",
        "# Create submission dataframe\n",
        "sub = pd.DataFrame({\n",
        "    'date':dates\n",
        "})\n",
        "\n",
        "for ambulance in range(6):\n",
        "  sub['A'+str(ambulance)+'_Latitude'] = amb_loc.latitude[ambulance]\n",
        "  sub['A'+str(ambulance)+'_Longitude'] = amb_loc.longitude[ambulance]\n",
        "\n",
        "score(sub, reference)"
      ],
      "execution_count": null,
      "outputs": [
        {
          "output_type": "execute_result",
          "data": {
            "text/plain": [
              "176.55268327344447"
            ]
          },
          "metadata": {
            "tags": []
          },
          "execution_count": 30
        }
      ]
    },
    {
      "cell_type": "code",
      "metadata": {
        "id": "N5KRne0jaw1W"
      },
      "source": [
        "sub.to_csv(\"submission_data.csv\")"
      ],
      "execution_count": null,
      "outputs": []
    },
    {
      "cell_type": "code",
      "metadata": {
        "colab": {
          "base_uri": "https://localhost:8080/",
          "height": 401
        },
        "id": "aub_twy7dPso",
        "outputId": "e0879814-829b-43fd-8d5c-ce4f25b298d2"
      },
      "source": [
        "submission = pd.read_csv(\"submission_data.csv\")\n",
        "submission.head()"
      ],
      "execution_count": null,
      "outputs": [
        {
          "output_type": "execute_result",
          "data": {
            "text/html": [
              "<div>\n",
              "<style scoped>\n",
              "    .dataframe tbody tr th:only-of-type {\n",
              "        vertical-align: middle;\n",
              "    }\n",
              "\n",
              "    .dataframe tbody tr th {\n",
              "        vertical-align: top;\n",
              "    }\n",
              "\n",
              "    .dataframe thead th {\n",
              "        text-align: right;\n",
              "    }\n",
              "</style>\n",
              "<table border=\"1\" class=\"dataframe\">\n",
              "  <thead>\n",
              "    <tr style=\"text-align: right;\">\n",
              "      <th></th>\n",
              "      <th>Unnamed: 0</th>\n",
              "      <th>date</th>\n",
              "      <th>A0_Latitude</th>\n",
              "      <th>A0_Longitude</th>\n",
              "      <th>A1_Latitude</th>\n",
              "      <th>A1_Longitude</th>\n",
              "      <th>A2_Latitude</th>\n",
              "      <th>A2_Longitude</th>\n",
              "      <th>A3_Latitude</th>\n",
              "      <th>A3_Longitude</th>\n",
              "      <th>A4_Latitude</th>\n",
              "      <th>A4_Longitude</th>\n",
              "      <th>A5_Latitude</th>\n",
              "      <th>A5_Longitude</th>\n",
              "    </tr>\n",
              "  </thead>\n",
              "  <tbody>\n",
              "    <tr>\n",
              "      <th>0</th>\n",
              "      <td>0</td>\n",
              "      <td>2019-01-01 00:00:00</td>\n",
              "      <td>-1.244856</td>\n",
              "      <td>36.873142</td>\n",
              "      <td>-1.256563</td>\n",
              "      <td>36.888976</td>\n",
              "      <td>-1.264061</td>\n",
              "      <td>36.888866</td>\n",
              "      <td>-1.259626</td>\n",
              "      <td>36.867697</td>\n",
              "      <td>-1.243228</td>\n",
              "      <td>36.85947</td>\n",
              "      <td>-1.234554</td>\n",
              "      <td>36.871792</td>\n",
              "    </tr>\n",
              "    <tr>\n",
              "      <th>1</th>\n",
              "      <td>1</td>\n",
              "      <td>2019-01-01 03:00:00</td>\n",
              "      <td>-1.244856</td>\n",
              "      <td>36.873142</td>\n",
              "      <td>-1.256563</td>\n",
              "      <td>36.888976</td>\n",
              "      <td>-1.264061</td>\n",
              "      <td>36.888866</td>\n",
              "      <td>-1.259626</td>\n",
              "      <td>36.867697</td>\n",
              "      <td>-1.243228</td>\n",
              "      <td>36.85947</td>\n",
              "      <td>-1.234554</td>\n",
              "      <td>36.871792</td>\n",
              "    </tr>\n",
              "    <tr>\n",
              "      <th>2</th>\n",
              "      <td>2</td>\n",
              "      <td>2019-01-01 06:00:00</td>\n",
              "      <td>-1.244856</td>\n",
              "      <td>36.873142</td>\n",
              "      <td>-1.256563</td>\n",
              "      <td>36.888976</td>\n",
              "      <td>-1.264061</td>\n",
              "      <td>36.888866</td>\n",
              "      <td>-1.259626</td>\n",
              "      <td>36.867697</td>\n",
              "      <td>-1.243228</td>\n",
              "      <td>36.85947</td>\n",
              "      <td>-1.234554</td>\n",
              "      <td>36.871792</td>\n",
              "    </tr>\n",
              "    <tr>\n",
              "      <th>3</th>\n",
              "      <td>3</td>\n",
              "      <td>2019-01-01 09:00:00</td>\n",
              "      <td>-1.244856</td>\n",
              "      <td>36.873142</td>\n",
              "      <td>-1.256563</td>\n",
              "      <td>36.888976</td>\n",
              "      <td>-1.264061</td>\n",
              "      <td>36.888866</td>\n",
              "      <td>-1.259626</td>\n",
              "      <td>36.867697</td>\n",
              "      <td>-1.243228</td>\n",
              "      <td>36.85947</td>\n",
              "      <td>-1.234554</td>\n",
              "      <td>36.871792</td>\n",
              "    </tr>\n",
              "    <tr>\n",
              "      <th>4</th>\n",
              "      <td>4</td>\n",
              "      <td>2019-01-01 12:00:00</td>\n",
              "      <td>-1.244856</td>\n",
              "      <td>36.873142</td>\n",
              "      <td>-1.256563</td>\n",
              "      <td>36.888976</td>\n",
              "      <td>-1.264061</td>\n",
              "      <td>36.888866</td>\n",
              "      <td>-1.259626</td>\n",
              "      <td>36.867697</td>\n",
              "      <td>-1.243228</td>\n",
              "      <td>36.85947</td>\n",
              "      <td>-1.234554</td>\n",
              "      <td>36.871792</td>\n",
              "    </tr>\n",
              "  </tbody>\n",
              "</table>\n",
              "</div>"
            ],
            "text/plain": [
              "   Unnamed: 0                 date  ...  A5_Latitude  A5_Longitude\n",
              "0           0  2019-01-01 00:00:00  ...    -1.234554     36.871792\n",
              "1           1  2019-01-01 03:00:00  ...    -1.234554     36.871792\n",
              "2           2  2019-01-01 06:00:00  ...    -1.234554     36.871792\n",
              "3           3  2019-01-01 09:00:00  ...    -1.234554     36.871792\n",
              "4           4  2019-01-01 12:00:00  ...    -1.234554     36.871792\n",
              "\n",
              "[5 rows x 14 columns]"
            ]
          },
          "metadata": {
            "tags": []
          },
          "execution_count": 32
        }
      ]
    },
    {
      "cell_type": "markdown",
      "metadata": {
        "id": "4CM4Hbh9vqLI"
      },
      "source": [
        "> This scoring function can be used for local testing without needing to submit on Zindi. Lower is better. Experiment with specifying set locations for all 6 ambulances, and see how low you can get your score.\n"
      ]
    },
    {
      "cell_type": "code",
      "metadata": {
        "id": "YwtXTUtzm-Y1"
      },
      "source": [
        "# Plot crashes and ambulance locations\n",
        "ax = df.plot(y='latitude', x='longitude', kind='scatter', figsize=(16, 10), label='crash locations')\n",
        "#ax.scatter(initial_loc.iloc[:,0].values, initial_loc.iloc[:,0].values, c='red', label='initial ambulance locs')\n",
        "ax.scatter(amb_loc.iloc[:,1].values, amb_loc.iloc[:,0].values, c='yellow', label='final ambulance locs')\n",
        "ax.legend()"
      ],
      "execution_count": null,
      "outputs": []
    },
    {
      "cell_type": "markdown",
      "metadata": {
        "id": "qqCvHKTlvtqb"
      },
      "source": [
        "#### Weather Data\n",
        ">>\n",
        "Some weatehr variables form the GFS dataset are provided, covering the greater Nairobi area. Let's take a quick look at the dataset before moving on:"
      ]
    },
    {
      "cell_type": "code",
      "metadata": {
        "id": "FDiSnsTGv2bJ"
      },
      "source": [
        "weather = pd.read_csv('Weather_Nairobi_Daily_GFS.csv', parse_dates=['Date'])\n",
        "weather.head()"
      ],
      "execution_count": null,
      "outputs": []
    },
    {
      "cell_type": "code",
      "metadata": {
        "id": "JBn4FH2mkj97"
      },
      "source": [
        "w_null = weather[~weather.isnull()]\n",
        "w_null.shape"
      ],
      "execution_count": null,
      "outputs": []
    },
    {
      "cell_type": "code",
      "metadata": {
        "id": "Gri4AdyhwAN7"
      },
      "source": [
        "# Interestingly, Kenya has two rainy seasons per year!\n",
        "weather.set_index('Date')['precipitable_water_entire_atmosphere'].rolling(10).mean().plot()"
      ],
      "execution_count": null,
      "outputs": []
    },
    {
      "cell_type": "markdown",
      "metadata": {
        "id": "WAzG54jwwNl0"
      },
      "source": [
        "#### Road Survey Data\n",
        ">>\n",
        "The road survey data contains many different measurements for each surveyed road segment. Unfortunately we can't access the raw data, and must work 'in the dark' in terms of what the column headings mean. However, the naming convention does at least show which columns may be related.\n",
        ">>\n",
        "To locate the road segments geographically, a geojson file is provided. Here is an example of merging the survey data with the segments and visualizing the result."
      ]
    },
    {
      "cell_type": "code",
      "metadata": {
        "id": "BQJNwu_QwSUr"
      },
      "source": [
        "# Load the survey data\n",
        "road_surveys = pd.read_csv('Segment_info.csv')\n",
        "road_surveys.head()"
      ],
      "execution_count": null,
      "outputs": []
    },
    {
      "cell_type": "code",
      "metadata": {
        "id": "d5i22pFmwd2v"
      },
      "source": [
        "# Load the map\n",
        "road_segment_locs = gpd.read_file('segments_geometry.geojson')\n",
        "road_segment_locs.head()"
      ],
      "execution_count": null,
      "outputs": []
    },
    {
      "cell_type": "code",
      "metadata": {
        "id": "q2gWvC54wiX5"
      },
      "source": [
        "# Because this is a geodataframe, we can plot it\n",
        "road_segment_locs.plot()"
      ],
      "execution_count": null,
      "outputs": []
    },
    {
      "cell_type": "code",
      "metadata": {
        "id": "JTMXBp7Awmt7"
      },
      "source": [
        "# Let's merge the two and color by one of the survey columns\n",
        "segments_merged = pd.merge(road_segment_locs, road_surveys, on='segment_id', how='left')\n",
        "segments_merged.plot(column='55_90', figsize=(20, 8))"
      ],
      "execution_count": null,
      "outputs": []
    },
    {
      "cell_type": "markdown",
      "metadata": {
        "id": "1HuDMwAUwrjr"
      },
      "source": [
        "> This data will come in useful if you're trying to predict the number of crashes along a particular road, or within a specified region."
      ]
    },
    {
      "cell_type": "markdown",
      "metadata": {
        "id": "uvS7EWzIwx6J"
      },
      "source": [
        "**Adding Uber Data**\n",
        "\n",
        "You can access speed data from https://movement.uber.com/explore/nairobi/speeds and clicking 'Download Data'. Here we'll load in the speeds from January 2019 and explore the data briefly."
      ]
    },
    {
      "cell_type": "code",
      "metadata": {
        "id": "Qt5vZ2-JwrIO"
      },
      "source": [
        "\"\"\"speeds = pd.read_csv('../uber_data/movement-speeds-hourly-nairobi-2019-1.csv', parse_dates=['utc_timestamp'])\n",
        "speeds.head()\"\"\""
      ],
      "execution_count": null,
      "outputs": []
    },
    {
      "cell_type": "code",
      "metadata": {
        "id": "SLjRd8RHxmLN"
      },
      "source": [
        "\"\"\"# Plot speeds over time for a specific OSM way\n",
        "way = speeds.loc[speeds.osm_way_id == 133901081]\n",
        "way = way.set_index('utc_timestamp')\n",
        "way.resample('1h').mean().plot(y='speed_kph_mean')\"\"\""
      ],
      "execution_count": null,
      "outputs": []
    },
    {
      "cell_type": "code",
      "metadata": {
        "id": "RDpDNEP6xq5V"
      },
      "source": [
        "\"\"\"way.resample('1D').mean().plot(y='speed_kph_mean')\"\"\""
      ],
      "execution_count": null,
      "outputs": []
    },
    {
      "cell_type": "markdown",
      "metadata": {
        "id": "m9_ITpkxONpO"
      },
      "source": [
        ">>\n",
        "You can use any and all data available through Uber Movement, including linking the speeds data to OSM segments, downloading quarterly statistics, using the Movement Data Toolkit etc.\n",
        ">>\n",
        "You can find much more info about working with the speeds data here: https://medium.com/uber-movement/working-with-uber-movement-speeds-data-cc01d35937b3 - including how to link the segment_id with OSM data"
      ]
    },
    {
      "cell_type": "markdown",
      "metadata": {
        "id": "O7hbgqHpORju"
      },
      "source": [
        "#### What Next?\n",
        "\n",
        "There are many ways you could approach this challenge. For example, you could:\n",
        "\n",
        "Create a model to predict the liklihood of an accident given a location, the features of the nearby road segments, the weather, the traffic speed and the time of day\n",
        "Use this model to predict the probability of crashes for different times+locations over the test period, and then sample from this probability distribution to generate plausible crash locations.\n",
        "Use an optimization technique to minimise the travel distance for the ambulances to your fake crash points.\n",
        "This might seem too complicated - perhaps simply picking 6 fixed locations based on the existing data will be enough? Or maybe it's worth setting separate locations during busy traffic times?\n",
        "\n",
        "Perhaps a Reinforcement Learning aproach will do well?\n",
        "\n",
        "Or maybe you can see a totally different way to solve this!\n",
        "\n",
        "Share your ideas on the discussion boards, and let's see how innovative we can be :)\n",
        "\n"
      ]
    },
    {
      "cell_type": "markdown",
      "metadata": {
        "id": "IRu4NSKlrkxi"
      },
      "source": [
        "## Data Cleaning"
      ]
    },
    {
      "cell_type": "code",
      "metadata": {
        "id": "sgo1Uhzirmrr"
      },
      "source": [
        "# Check for null values\n",
        "train.isna().sum().sort_values(ascending=True)"
      ],
      "execution_count": null,
      "outputs": []
    },
    {
      "cell_type": "code",
      "metadata": {
        "id": "bmXw4epCejTj"
      },
      "source": [
        "weather.isna().sum().sort_values(ascending=True)"
      ],
      "execution_count": null,
      "outputs": []
    },
    {
      "cell_type": "code",
      "metadata": {
        "id": "aOnwch1feugt"
      },
      "source": [
        "weather['precipitable_water_entire_atmosphere'] = weather['precipitable_water_entire_atmosphere'].fillna(weather['precipitable_water_entire_atmosphere'].mean())\n",
        "weather['relative_humidity_2m_above_ground'] = weather['relative_humidity_2m_above_ground'].fillna(weather['relative_humidity_2m_above_ground'].mean())\n",
        "weather['specific_humidity_2m_above_ground'] = weather['specific_humidity_2m_above_ground'].fillna(weather['specific_humidity_2m_above_ground'].mean())\n",
        "weather['temperature_2m_above_ground'] = weather['temperature_2m_above_ground'].fillna(weather['temperature_2m_above_ground'].mean())\n",
        "weather['u_component_of_wind_10m_above_ground'] = weather['u_component_of_wind_10m_above_ground'].fillna(weather['u_component_of_wind_10m_above_ground'].mean())\n",
        "weather['v_component_of_wind_10m_above_ground'] = weather['v_component_of_wind_10m_above_ground'].fillna(weather['v_component_of_wind_10m_above_ground'].mean())\n",
        "\n",
        "weather.isna().any()"
      ],
      "execution_count": null,
      "outputs": []
    },
    {
      "cell_type": "markdown",
      "metadata": {
        "id": "y2o7egs2gpYW"
      },
      "source": [
        "**Merge Train data with weather data**"
      ]
    },
    {
      "cell_type": "code",
      "metadata": {
        "id": "3qcEz-UNkOxL"
      },
      "source": [
        "train.head()"
      ],
      "execution_count": null,
      "outputs": []
    },
    {
      "cell_type": "code",
      "metadata": {
        "id": "oj8XhZoAZRrz"
      },
      "source": [
        "weather.shape"
      ],
      "execution_count": null,
      "outputs": []
    },
    {
      "cell_type": "code",
      "metadata": {
        "id": "tOhTeWx9Zyo1"
      },
      "source": [
        "segments_merged.shape"
      ],
      "execution_count": null,
      "outputs": []
    },
    {
      "cell_type": "code",
      "metadata": {
        "id": "HetrsKzyjrJQ"
      },
      "source": [
        "\n",
        "train['date'] = pd.to_datetime(train['datetime']).dt.date\n",
        "train['time'] = pd.to_datetime(train['datetime']).dt.time\n",
        "train.head()"
      ],
      "execution_count": null,
      "outputs": []
    },
    {
      "cell_type": "code",
      "metadata": {
        "id": "qN4VNdkkf_vA"
      },
      "source": [
        "# creating three new columns for hours, minutes and seconds respectively.\n",
        "# create a list of the new columns ['hr','min','sec'].\n",
        "# the splitting happens occurs on the time column.\n",
        "# pandas.Series.astype --> casts a pandas object to a specified dtype dtype\n",
        "# pandas.Series.str.split --> Splits the string in the Series/Index from the beginning, at the specified delimiter string\n",
        "# expand == If True, return DataFrame/MultiIndex expanding dimensionality\n",
        "#\n",
        "train[['hr','min','sec']] = train['time'].astype(str).str.split(':', expand=True).astype(int)\n",
        "train.head()"
      ],
      "execution_count": null,
      "outputs": []
    },
    {
      "cell_type": "code",
      "metadata": {
        "id": "M9akpRcOji77"
      },
      "source": [
        "# creating a weekday column to represent the days in numeric form.\n",
        "# using the lambda anonymous function\n",
        "# using the python datetime.weekday() --> returns the day of the week as an integer, where Monday is 0 and Sunday is 6.\n",
        "#\n",
        "train['weekday'] = train['date'].apply (lambda x:x.weekday() )\n",
        "train.head()"
      ],
      "execution_count": null,
      "outputs": []
    },
    {
      "cell_type": "code",
      "metadata": {
        "id": "Qg1QW9bYjrXI"
      },
      "source": [
        "# chronologically mapping the numeric day of the week with it's respective name\n",
        "# using a dictionary.\n",
        "#\n",
        "week = {0:'Monday', 1:'Tuesday', 2:'Wednesday', 3:'Thursday', 4:'Friday', 5:'Saturday', 6:'Sunday'}\n",
        "train['weekday'] = train['weekday'].map(week)\n",
        "train.head()"
      ],
      "execution_count": null,
      "outputs": []
    },
    {
      "cell_type": "code",
      "metadata": {
        "id": "moDq86XHni0e"
      },
      "source": [
        "!pip install --upgrade fastcore -q\n",
        "!pip install --upgrade fastai -q"
      ],
      "execution_count": null,
      "outputs": []
    },
    {
      "cell_type": "code",
      "metadata": {
        "id": "B88t6I1knlUp"
      },
      "source": [
        "from fastai.vision.all import * # Needs latest version, and sometimes a restart of the runtime after the pip installs"
      ],
      "execution_count": null,
      "outputs": []
    },
    {
      "cell_type": "code",
      "metadata": {
        "id": "dkOdW0uomqyv"
      },
      "source": [
        "# Ambulance Locations\n",
        "amb_locs = torch.randn(6, 2) * 0.04 # 6 pairs of random numbers, made fairly small\n",
        "amb_locs = amb_locs + tensor(-1.27, 36.85) # Centered around the middle of town\n",
        "amb_locs.requires_grad_() # Tell pytorch to calculate gradients\n",
        "initial_locs = amb_locs.clone() # Save originals for later\n",
        "amb_locs # View our set of initial locations"
      ],
      "execution_count": null,
      "outputs": []
    },
    {
      "cell_type": "code",
      "metadata": {
        "id": "d23NiVnMeJTg"
      },
      "source": [
        "def score(sub, ref):\n",
        "    total_distance = 0\n",
        "    for date, c_lat, c_lon, weekday in ref[['datetime', 'latitude', 'longitude',\t'weekday']].values:\n",
        "        row = sub.loc[sub.date < date].tail(1) # Prior to Oct 2 this was incorrectly .head(1)\n",
        "        dists = []\n",
        "        for a in range(6):\n",
        "            dist = ((c_lat - row[f'A{a}_Latitude'].values[0])**2+(c_lon - row[f'A{a}_Longitude'].values[0])**2)**0.5 \n",
        "            dists.append(dist)\n",
        "        total_distance += min(dists)\n",
        "    return total_distance"
      ],
      "execution_count": null,
      "outputs": []
    },
    {
      "cell_type": "code",
      "metadata": {
        "id": "5_h8zWOmWEbg"
      },
      "source": [
        "# Example:\n",
        "\n",
        "# Test set\n",
        "reference = train.loc[train.datetime > '2019-01-01'] # Using 2019 as our test set\n",
        "\n",
        "# Date rane covering test set\n",
        "dates = pd.date_range('2019-01-01', '2020-01-01', freq='3h')\n",
        "\n",
        "# Create submission dataframe\n",
        "sub = pd.DataFrame({\n",
        "    'date':dates\n",
        "})\n",
        "for ambulance in range(6):\n",
        "    sub['A'+str(ambulance)+'_Latitude'] = 0\n",
        "    sub['A'+str(ambulance)+'_Longitude'] = 0\n",
        "\n",
        "# Place an ambulance in the center of the city:\n",
        "sub['A'+str(ambulance)+'_Latitude'] = 37.32\n",
        "sub['A'+str(ambulance)+'_Longitude'] = -1.2\n",
        "\n",
        "score(sub, reference)"
      ],
      "execution_count": null,
      "outputs": []
    },
    {
      "cell_type": "code",
      "metadata": {
        "id": "W91KRpoVeM9s"
      },
      "source": [
        "sub.to_csv()"
      ],
      "execution_count": null,
      "outputs": []
    },
    {
      "cell_type": "markdown",
      "metadata": {
        "id": "UQsLaggLrsEO"
      },
      "source": [
        "## Implementing the Solution"
      ]
    },
    {
      "cell_type": "code",
      "metadata": {
        "id": "jXrOEfmvrugu"
      },
      "source": [
        ""
      ],
      "execution_count": null,
      "outputs": []
    },
    {
      "cell_type": "markdown",
      "metadata": {
        "id": "IECZN53NrvKN"
      },
      "source": [
        "## Challenging the Solution"
      ]
    }
  ]
}