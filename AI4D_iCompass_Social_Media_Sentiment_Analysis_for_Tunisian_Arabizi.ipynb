{
  "nbformat": 4,
  "nbformat_minor": 0,
  "metadata": {
    "colab": {
      "name": "AI4D iCompass Social Media Sentiment Analysis for Tunisian Arabizi.ipynb",
      "provenance": [],
      "collapsed_sections": [
        "BR6zFDzB209z"
      ],
      "toc_visible": true,
      "include_colab_link": true
    },
    "kernelspec": {
      "display_name": "Python 3",
      "language": "python",
      "name": "python3"
    },
    "language_info": {
      "codemirror_mode": {
        "name": "ipython",
        "version": 3
      },
      "file_extension": ".py",
      "mimetype": "text/x-python",
      "name": "python",
      "nbconvert_exporter": "python",
      "pygments_lexer": "ipython3",
      "version": "3.7.1"
    }
  },
  "cells": [
    {
      "cell_type": "markdown",
      "metadata": {
        "id": "view-in-github",
        "colab_type": "text"
      },
      "source": [
        "<a href=\"https://colab.research.google.com/github/Paul-mwaura/ML-Hackathons/blob/main/AI4D_iCompass_Social_Media_Sentiment_Analysis_for_Tunisian_Arabizi.ipynb\" target=\"_parent\"><img src=\"https://colab.research.google.com/assets/colab-badge.svg\" alt=\"Open In Colab\"/></a>"
      ]
    },
    {
      "cell_type": "markdown",
      "metadata": {
        "id": "3yRTMkhlJF2V"
      },
      "source": [
        "## AI4D iCompass Social Media Sentiment Analysis for Tunisian Arabizi"
      ]
    },
    {
      "cell_type": "markdown",
      "metadata": {
        "id": "H4aP5OODI-q-"
      },
      "source": [
        "### Business Understanding"
      ]
    },
    {
      "cell_type": "markdown",
      "metadata": {
        "id": "vRF4nz8dI8ab"
      },
      "source": [
        "On social media, Arabic speakers tend to express themselves in their own local dialect. To do so, Tunisians use ‘Tunisian Arabizi’, where the Latin alphabet is supplemented with numbers. However, annotated datasets for Arabizi are limited; in fact, this challenge uses the only known Tunisian Arabizi dataset in existence.\n",
        "\n",
        "Sentiment analysis relies on multiple word senses and cultural knowledge, and can be influenced by age, gender and socio-economic status.For this task, we have collected and annotated sentences from different social media platforms. The objective of this challenge is to, given a sentence, classify whether the sentence is of positive, negative, or neutral sentiment. For messages conveying both a positive and negative sentiment, whichever is the stronger sentiment should be chosen. Predict if the text would be considered positive, negative, or neutral (for an average user). This is a binary task."
      ]
    },
    {
      "cell_type": "markdown",
      "metadata": {
        "id": "Cqw449AvJJcC"
      },
      "source": [
        "### Loading Libraries"
      ]
    },
    {
      "cell_type": "code",
      "metadata": {
        "id": "blDzzpyb209u"
      },
      "source": [
        "import pandas as pd\n",
        "import numpy as np\n",
        "import matplotlib.pyplot as plt\n",
        "import seaborn as sns\n",
        "%matplotlib inline\n",
        "sns.set_style(\"white\")\n",
        "\n",
        "from sklearn.model_selection import train_test_split # function for splitting data to train and test sets\n",
        "\n",
        "import re, string\n",
        "import nltk\n",
        "from nltk.corpus import stopwords\n",
        "from nltk.classify import SklearnClassifier\n",
        "#from wordcloud import WordCloud,STOPWORDS\n",
        "from subprocess import check_output"
      ],
      "execution_count": null,
      "outputs": []
    },
    {
      "cell_type": "markdown",
      "metadata": {
        "id": "rVLFoL2-JMei"
      },
      "source": [
        "### Loading the Dataset"
      ]
    },
    {
      "cell_type": "code",
      "metadata": {
        "colab": {
          "base_uri": "https://localhost:8080/",
          "height": 204
        },
        "id": "w4ZVT1ik209v",
        "outputId": "66b230a8-6dae-46f5-e1e4-958a260e18dd"
      },
      "source": [
        "df = pd.read_csv(\"Train.csv\")\n",
        "df.head()"
      ],
      "execution_count": null,
      "outputs": [
        {
          "output_type": "execute_result",
          "data": {
            "text/html": [
              "<div>\n",
              "<style scoped>\n",
              "    .dataframe tbody tr th:only-of-type {\n",
              "        vertical-align: middle;\n",
              "    }\n",
              "\n",
              "    .dataframe tbody tr th {\n",
              "        vertical-align: top;\n",
              "    }\n",
              "\n",
              "    .dataframe thead th {\n",
              "        text-align: right;\n",
              "    }\n",
              "</style>\n",
              "<table border=\"1\" class=\"dataframe\">\n",
              "  <thead>\n",
              "    <tr style=\"text-align: right;\">\n",
              "      <th></th>\n",
              "      <th>ID</th>\n",
              "      <th>text</th>\n",
              "      <th>label</th>\n",
              "    </tr>\n",
              "  </thead>\n",
              "  <tbody>\n",
              "    <tr>\n",
              "      <th>0</th>\n",
              "      <td>13P0QT0</td>\n",
              "      <td>3sbaaaaaaaaaaaaaaaaaaaa lek ou le seim riahi o...</td>\n",
              "      <td>-1</td>\n",
              "    </tr>\n",
              "    <tr>\n",
              "      <th>1</th>\n",
              "      <td>SKCLXCJ</td>\n",
              "      <td>cha3eb fey9elkoum menghir ta7ayoul ou kressi</td>\n",
              "      <td>-1</td>\n",
              "    </tr>\n",
              "    <tr>\n",
              "      <th>2</th>\n",
              "      <td>V1TVXIJ</td>\n",
              "      <td>bereau degage nathef ya slim walahi ya7chiw fi...</td>\n",
              "      <td>-1</td>\n",
              "    </tr>\n",
              "    <tr>\n",
              "      <th>3</th>\n",
              "      <td>U0TTYY8</td>\n",
              "      <td>ak slouma</td>\n",
              "      <td>1</td>\n",
              "    </tr>\n",
              "    <tr>\n",
              "      <th>4</th>\n",
              "      <td>68DX797</td>\n",
              "      <td>entom titmanou lina a7na 3iid moubarik a7na ch...</td>\n",
              "      <td>-1</td>\n",
              "    </tr>\n",
              "  </tbody>\n",
              "</table>\n",
              "</div>"
            ],
            "text/plain": [
              "        ID                                               text  label\n",
              "0  13P0QT0  3sbaaaaaaaaaaaaaaaaaaaa lek ou le seim riahi o...     -1\n",
              "1  SKCLXCJ       cha3eb fey9elkoum menghir ta7ayoul ou kressi     -1\n",
              "2  V1TVXIJ  bereau degage nathef ya slim walahi ya7chiw fi...     -1\n",
              "3  U0TTYY8                                          ak slouma      1\n",
              "4  68DX797  entom titmanou lina a7na 3iid moubarik a7na ch...     -1"
            ]
          },
          "metadata": {
            "tags": []
          },
          "execution_count": 2
        }
      ]
    },
    {
      "cell_type": "code",
      "metadata": {
        "colab": {
          "base_uri": "https://localhost:8080/"
        },
        "id": "-Crb3Kxg209x",
        "outputId": "1f2fb75e-4698-4f57-bcfe-c34d3b986729"
      },
      "source": [
        "df.shape"
      ],
      "execution_count": null,
      "outputs": [
        {
          "output_type": "execute_result",
          "data": {
            "text/plain": [
              "(70000, 3)"
            ]
          },
          "metadata": {
            "tags": []
          },
          "execution_count": 3
        }
      ]
    },
    {
      "cell_type": "code",
      "metadata": {
        "colab": {
          "base_uri": "https://localhost:8080/"
        },
        "id": "0Stu-MLY209x",
        "outputId": "cd1aa68e-bb4e-40a9-b82f-900258393ae7"
      },
      "source": [
        "len(df['ID'].unique())"
      ],
      "execution_count": null,
      "outputs": [
        {
          "output_type": "execute_result",
          "data": {
            "text/plain": [
              "70000"
            ]
          },
          "metadata": {
            "tags": []
          },
          "execution_count": 4
        }
      ]
    },
    {
      "cell_type": "markdown",
      "metadata": {
        "id": "jBKPr3x-209x"
      },
      "source": [
        "### Data Cleaning"
      ]
    },
    {
      "cell_type": "code",
      "metadata": {
        "colab": {
          "base_uri": "https://localhost:8080/"
        },
        "id": "VVH5PlLA209x",
        "outputId": "ba701249-90b9-4131-afbb-b7b6fe3b92f9"
      },
      "source": [
        "df.isna().sum()"
      ],
      "execution_count": null,
      "outputs": [
        {
          "output_type": "execute_result",
          "data": {
            "text/plain": [
              "ID       0\n",
              "text     0\n",
              "label    0\n",
              "dtype: int64"
            ]
          },
          "metadata": {
            "tags": []
          },
          "execution_count": 5
        }
      ]
    },
    {
      "cell_type": "code",
      "metadata": {
        "colab": {
          "base_uri": "https://localhost:8080/"
        },
        "id": "6qWjpV2_209x",
        "outputId": "97f695a2-07dd-4edc-984d-c44cb7b509b2"
      },
      "source": [
        "df.duplicated().sum()"
      ],
      "execution_count": null,
      "outputs": [
        {
          "output_type": "execute_result",
          "data": {
            "text/plain": [
              "0"
            ]
          },
          "metadata": {
            "tags": []
          },
          "execution_count": 6
        }
      ]
    },
    {
      "cell_type": "markdown",
      "metadata": {
        "id": "Jpy9Ubh5209y"
      },
      "source": [
        "### Exploratory Data Analysis"
      ]
    },
    {
      "cell_type": "code",
      "metadata": {
        "id": "x-Y2yemu209y"
      },
      "source": [
        "from plotly import graph_objs as go\n",
        "import plotly.express as px\n",
        "import plotly.figure_factory as ff\n",
        "from collections import Counter\n",
        "\n",
        "from tqdm import tqdm\n",
        "import os\n",
        "import nltk\n",
        "import spacy\n",
        "import random\n",
        "from spacy.util import compounding\n",
        "from spacy.util import minibatch\n",
        "\n",
        "import warnings\n",
        "warnings.filterwarnings(\"ignore\")"
      ],
      "execution_count": null,
      "outputs": []
    },
    {
      "cell_type": "code",
      "metadata": {
        "id": "R28ETNxe209y"
      },
      "source": [
        "# Splitting the dataset into train and test set\n",
        "train, test = train_test_split(df,test_size = 0.3, random_state = 41)\n",
        "# Removing neutral sentiments\n",
        "train = train[train.label != \"0\"]"
      ],
      "execution_count": null,
      "outputs": []
    },
    {
      "cell_type": "markdown",
      "metadata": {
        "id": "ENCyZwYX209y"
      },
      "source": [
        "As a next step I separated the Positive and Negative tweets of the training set in order to easily visualize their contained words. After that I cleaned the text from hashtags, mentions and links. Now they were ready for a WordCloud visualization which shows only the most emphatic words of the Positive and Negative tweets."
      ]
    },
    {
      "cell_type": "code",
      "metadata": {
        "colab": {
          "base_uri": "https://localhost:8080/",
          "height": 297
        },
        "id": "2dZbJHRn209y",
        "outputId": "f4ecea72-07b1-48d7-8aa7-c3838815f511"
      },
      "source": [
        "train.describe()"
      ],
      "execution_count": null,
      "outputs": [
        {
          "output_type": "execute_result",
          "data": {
            "text/html": [
              "<div>\n",
              "<style scoped>\n",
              "    .dataframe tbody tr th:only-of-type {\n",
              "        vertical-align: middle;\n",
              "    }\n",
              "\n",
              "    .dataframe tbody tr th {\n",
              "        vertical-align: top;\n",
              "    }\n",
              "\n",
              "    .dataframe thead th {\n",
              "        text-align: right;\n",
              "    }\n",
              "</style>\n",
              "<table border=\"1\" class=\"dataframe\">\n",
              "  <thead>\n",
              "    <tr style=\"text-align: right;\">\n",
              "      <th></th>\n",
              "      <th>label</th>\n",
              "    </tr>\n",
              "  </thead>\n",
              "  <tbody>\n",
              "    <tr>\n",
              "      <th>count</th>\n",
              "      <td>49000.000000</td>\n",
              "    </tr>\n",
              "    <tr>\n",
              "      <th>mean</th>\n",
              "      <td>0.124082</td>\n",
              "    </tr>\n",
              "    <tr>\n",
              "      <th>std</th>\n",
              "      <td>0.974329</td>\n",
              "    </tr>\n",
              "    <tr>\n",
              "      <th>min</th>\n",
              "      <td>-1.000000</td>\n",
              "    </tr>\n",
              "    <tr>\n",
              "      <th>25%</th>\n",
              "      <td>-1.000000</td>\n",
              "    </tr>\n",
              "    <tr>\n",
              "      <th>50%</th>\n",
              "      <td>1.000000</td>\n",
              "    </tr>\n",
              "    <tr>\n",
              "      <th>75%</th>\n",
              "      <td>1.000000</td>\n",
              "    </tr>\n",
              "    <tr>\n",
              "      <th>max</th>\n",
              "      <td>1.000000</td>\n",
              "    </tr>\n",
              "  </tbody>\n",
              "</table>\n",
              "</div>"
            ],
            "text/plain": [
              "              label\n",
              "count  49000.000000\n",
              "mean       0.124082\n",
              "std        0.974329\n",
              "min       -1.000000\n",
              "25%       -1.000000\n",
              "50%        1.000000\n",
              "75%        1.000000\n",
              "max        1.000000"
            ]
          },
          "metadata": {
            "tags": []
          },
          "execution_count": 9
        }
      ]
    },
    {
      "cell_type": "code",
      "metadata": {
        "colab": {
          "base_uri": "https://localhost:8080/",
          "height": 103
        },
        "id": "QliF600r209y",
        "outputId": "73060b56-94c9-4f6d-d1e2-5080a35a2f97"
      },
      "source": [
        "temp = train.groupby('label').count()['text'].reset_index().sort_values(by='text',ascending=False)\n",
        "temp.style.background_gradient(cmap='Purples')"
      ],
      "execution_count": null,
      "outputs": [
        {
          "output_type": "execute_result",
          "data": {
            "text/html": [
              "<style  type=\"text/css\" >\n",
              "#T_88069ca6_8ca5_11eb_8cad_0242ac1c0002row0_col0,#T_88069ca6_8ca5_11eb_8cad_0242ac1c0002row0_col1{\n",
              "            background-color:  #3f007d;\n",
              "            color:  #f1f1f1;\n",
              "        }#T_88069ca6_8ca5_11eb_8cad_0242ac1c0002row1_col0,#T_88069ca6_8ca5_11eb_8cad_0242ac1c0002row2_col1{\n",
              "            background-color:  #fcfbfd;\n",
              "            color:  #000000;\n",
              "        }#T_88069ca6_8ca5_11eb_8cad_0242ac1c0002row1_col1{\n",
              "            background-color:  #694fa2;\n",
              "            color:  #f1f1f1;\n",
              "        }#T_88069ca6_8ca5_11eb_8cad_0242ac1c0002row2_col0{\n",
              "            background-color:  #9e9ac8;\n",
              "            color:  #000000;\n",
              "        }</style><table id=\"T_88069ca6_8ca5_11eb_8cad_0242ac1c0002\" ><thead>    <tr>        <th class=\"blank level0\" ></th>        <th class=\"col_heading level0 col0\" >label</th>        <th class=\"col_heading level0 col1\" >text</th>    </tr></thead><tbody>\n",
              "                <tr>\n",
              "                        <th id=\"T_88069ca6_8ca5_11eb_8cad_0242ac1c0002level0_row0\" class=\"row_heading level0 row0\" >2</th>\n",
              "                        <td id=\"T_88069ca6_8ca5_11eb_8cad_0242ac1c0002row0_col0\" class=\"data row0 col0\" >1</td>\n",
              "                        <td id=\"T_88069ca6_8ca5_11eb_8cad_0242ac1c0002row0_col1\" class=\"data row0 col1\" >26675</td>\n",
              "            </tr>\n",
              "            <tr>\n",
              "                        <th id=\"T_88069ca6_8ca5_11eb_8cad_0242ac1c0002level0_row1\" class=\"row_heading level0 row1\" >0</th>\n",
              "                        <td id=\"T_88069ca6_8ca5_11eb_8cad_0242ac1c0002row1_col0\" class=\"data row1 col0\" >-1</td>\n",
              "                        <td id=\"T_88069ca6_8ca5_11eb_8cad_0242ac1c0002row1_col1\" class=\"data row1 col1\" >20595</td>\n",
              "            </tr>\n",
              "            <tr>\n",
              "                        <th id=\"T_88069ca6_8ca5_11eb_8cad_0242ac1c0002level0_row2\" class=\"row_heading level0 row2\" >1</th>\n",
              "                        <td id=\"T_88069ca6_8ca5_11eb_8cad_0242ac1c0002row2_col0\" class=\"data row2 col0\" >0</td>\n",
              "                        <td id=\"T_88069ca6_8ca5_11eb_8cad_0242ac1c0002row2_col1\" class=\"data row2 col1\" >1730</td>\n",
              "            </tr>\n",
              "    </tbody></table>"
            ],
            "text/plain": [
              "<pandas.io.formats.style.Styler at 0x7fd84452a450>"
            ]
          },
          "metadata": {
            "tags": []
          },
          "execution_count": 10
        }
      ]
    },
    {
      "cell_type": "code",
      "metadata": {
        "colab": {
          "base_uri": "https://localhost:8080/",
          "height": 409
        },
        "id": "ZT66oD6c209y",
        "outputId": "560ec422-58f3-410a-f86b-085d39c8916c"
      },
      "source": [
        "plt.figure(figsize=(10,6))\n",
        "sns.countplot(x='label',data=train)\n",
        "plt.title(\"Countplot of Text Labels\", fontsize=20)\n",
        "plt.show()"
      ],
      "execution_count": null,
      "outputs": [
        {
          "output_type": "display_data",
          "data": {
            "image/png": "[encoded data removed]",
            "text/plain": [
              "<Figure size 720x432 with 1 Axes>"
            ]
          },
          "metadata": {
            "tags": []
          }
        }
      ]
    },
    {
      "cell_type": "markdown",
      "metadata": {
        "id": "0QoCIL4C209y"
      },
      "source": [
        "Let's draw a Funnel-Chart for better visualization"
      ]
    },
    {
      "cell_type": "code",
      "metadata": {
        "colab": {
          "base_uri": "https://localhost:8080/",
          "height": 542
        },
        "id": "wInppqhO209y",
        "outputId": "a236bd03-234e-47c1-c23f-408afb4ec7d7"
      },
      "source": [
        "fig = go.Figure(go.Funnelarea(\n",
        "    text =temp.label,\n",
        "    values = temp.text,\n",
        "    title = {\"position\": \"top center\", \"text\": \"Funnel-Chart of Sentiment Distribution\"}\n",
        "    ))\n",
        "fig.show()"
      ],
      "execution_count": null,
      "outputs": [
        {
          "output_type": "display_data",
          "data": {
            "text/html": [
              "<html>\n",
              "<head><meta charset=\"utf-8\" /></head>\n",
              "<body>\n",
              "    <div>\n",
              "            <script src=\"https://cdnjs.cloudflare.com/ajax/libs/mathjax/2.7.5/MathJax.js?config=TeX-AMS-MML_SVG\"></script><script type=\"text/javascript\">if (window.MathJax) {MathJax.Hub.Config({SVG: {font: \"STIX-Web\"}});}</script>\n",
              "                <script type=\"text/javascript\">window.PlotlyConfig = {MathJaxConfig: 'local'};</script>\n",
              "        <script src=\"https://cdn.plot.ly/plotly-latest.min.js\"></script>    \n",
              "            <div id=\"1bfb11d3-4369-48f0-a367-7434d9a4b1d0\" class=\"plotly-graph-div\" style=\"height:525px; width:100%;\"></div>\n",
              "            <script type=\"text/javascript\">\n",
              "                \n",
              "                    window.PLOTLYENV=window.PLOTLYENV || {};\n",
              "                    \n",
              "                if (document.getElementById(\"1bfb11d3-4369-48f0-a367-7434d9a4b1d0\")) {\n",
              "                    Plotly.newPlot(\n",
              "                        '1bfb11d3-4369-48f0-a367-7434d9a4b1d0',\n",
              "                        [{\"text\": [1, -1, 0], \"title\": {\"position\": \"top center\", \"text\": \"Funnel-Chart of Sentiment Distribution\"}, \"type\": \"funnelarea\", \"values\": [26675, 20595, 1730]}],\n",
              "                        {\"template\": {\"data\": {\"bar\": [{\"error_x\": {\"color\": \"#2a3f5f\"}, \"error_y\": {\"color\": \"#2a3f5f\"}, \"marker\": {\"line\": {\"color\": \"#E5ECF6\", \"width\": 0.5}}, \"type\": \"bar\"}], \"barpolar\": [{\"marker\": {\"line\": {\"color\": \"#E5ECF6\", \"width\": 0.5}}, \"type\": \"barpolar\"}], \"carpet\": [{\"aaxis\": {\"endlinecolor\": \"#2a3f5f\", \"gridcolor\": \"white\", \"linecolor\": \"white\", \"minorgridcolor\": \"white\", \"startlinecolor\": \"#2a3f5f\"}, \"baxis\": {\"endlinecolor\": \"#2a3f5f\", \"gridcolor\": \"white\", \"linecolor\": \"white\", \"minorgridcolor\": \"white\", \"startlinecolor\": \"#2a3f5f\"}, \"type\": \"carpet\"}], \"choropleth\": [{\"colorbar\": {\"outlinewidth\": 0, \"ticks\": \"\"}, \"type\": \"choropleth\"}], \"contour\": [{\"colorbar\": {\"outlinewidth\": 0, \"ticks\": \"\"}, \"colorscale\": [[0.0, \"#0d0887\"], [0.1111111111111111, \"#46039f\"], [0.2222222222222222, \"#7201a8\"], [0.3333333333333333, \"#9c179e\"], [0.4444444444444444, \"#bd3786\"], [0.5555555555555556, \"#d8576b\"], [0.6666666666666666, \"#ed7953\"], [0.7777777777777778, \"#fb9f3a\"], [0.8888888888888888, \"#fdca26\"], [1.0, \"#f0f921\"]], \"type\": \"contour\"}], \"contourcarpet\": [{\"colorbar\": {\"outlinewidth\": 0, \"ticks\": \"\"}, \"type\": \"contourcarpet\"}], \"heatmap\": [{\"colorbar\": {\"outlinewidth\": 0, \"ticks\": \"\"}, \"colorscale\": [[0.0, \"#0d0887\"], [0.1111111111111111, \"#46039f\"], [0.2222222222222222, \"#7201a8\"], [0.3333333333333333, \"#9c179e\"], [0.4444444444444444, \"#bd3786\"], [0.5555555555555556, \"#d8576b\"], [0.6666666666666666, \"#ed7953\"], [0.7777777777777778, \"#fb9f3a\"], [0.8888888888888888, \"#fdca26\"], [1.0, \"#f0f921\"]], \"type\": \"heatmap\"}], \"heatmapgl\": [{\"colorbar\": {\"outlinewidth\": 0, \"ticks\": \"\"}, \"colorscale\": [[0.0, \"#0d0887\"], [0.1111111111111111, \"#46039f\"], [0.2222222222222222, \"#7201a8\"], [0.3333333333333333, \"#9c179e\"], [0.4444444444444444, \"#bd3786\"], [0.5555555555555556, \"#d8576b\"], [0.6666666666666666, \"#ed7953\"], [0.7777777777777778, \"#fb9f3a\"], [0.8888888888888888, \"#fdca26\"], [1.0, \"#f0f921\"]], \"type\": \"heatmapgl\"}], \"histogram\": [{\"marker\": {\"colorbar\": {\"outlinewidth\": 0, \"ticks\": \"\"}}, \"type\": \"histogram\"}], \"histogram2d\": [{\"colorbar\": {\"outlinewidth\": 0, \"ticks\": \"\"}, \"colorscale\": [[0.0, \"#0d0887\"], [0.1111111111111111, \"#46039f\"], [0.2222222222222222, \"#7201a8\"], [0.3333333333333333, \"#9c179e\"], [0.4444444444444444, \"#bd3786\"], [0.5555555555555556, \"#d8576b\"], [0.6666666666666666, \"#ed7953\"], [0.7777777777777778, \"#fb9f3a\"], [0.8888888888888888, \"#fdca26\"], [1.0, \"#f0f921\"]], \"type\": \"histogram2d\"}], \"histogram2dcontour\": [{\"colorbar\": {\"outlinewidth\": 0, \"ticks\": \"\"}, \"colorscale\": [[0.0, \"#0d0887\"], [0.1111111111111111, \"#46039f\"], [0.2222222222222222, \"#7201a8\"], [0.3333333333333333, \"#9c179e\"], [0.4444444444444444, \"#bd3786\"], [0.5555555555555556, \"#d8576b\"], [0.6666666666666666, \"#ed7953\"], [0.7777777777777778, \"#fb9f3a\"], [0.8888888888888888, \"#fdca26\"], [1.0, \"#f0f921\"]], \"type\": \"histogram2dcontour\"}], \"mesh3d\": [{\"colorbar\": {\"outlinewidth\": 0, \"ticks\": \"\"}, \"type\": \"mesh3d\"}], \"parcoords\": [{\"line\": {\"colorbar\": {\"outlinewidth\": 0, \"ticks\": \"\"}}, \"type\": \"parcoords\"}], \"pie\": [{\"automargin\": true, \"type\": \"pie\"}], \"scatter\": [{\"marker\": {\"colorbar\": {\"outlinewidth\": 0, \"ticks\": \"\"}}, \"type\": \"scatter\"}], \"scatter3d\": [{\"line\": {\"colorbar\": {\"outlinewidth\": 0, \"ticks\": \"\"}}, \"marker\": {\"colorbar\": {\"outlinewidth\": 0, \"ticks\": \"\"}}, \"type\": \"scatter3d\"}], \"scattercarpet\": [{\"marker\": {\"colorbar\": {\"outlinewidth\": 0, \"ticks\": \"\"}}, \"type\": \"scattercarpet\"}], \"scattergeo\": [{\"marker\": {\"colorbar\": {\"outlinewidth\": 0, \"ticks\": \"\"}}, \"type\": \"scattergeo\"}], \"scattergl\": [{\"marker\": {\"colorbar\": {\"outlinewidth\": 0, \"ticks\": \"\"}}, \"type\": \"scattergl\"}], \"scattermapbox\": [{\"marker\": {\"colorbar\": {\"outlinewidth\": 0, \"ticks\": \"\"}}, \"type\": \"scattermapbox\"}], \"scatterpolar\": [{\"marker\": {\"colorbar\": {\"outlinewidth\": 0, \"ticks\": \"\"}}, \"type\": \"scatterpolar\"}], \"scatterpolargl\": [{\"marker\": {\"colorbar\": {\"outlinewidth\": 0, \"ticks\": \"\"}}, \"type\": \"scatterpolargl\"}], \"scatterternary\": [{\"marker\": {\"colorbar\": {\"outlinewidth\": 0, \"ticks\": \"\"}}, \"type\": \"scatterternary\"}], \"surface\": [{\"colorbar\": {\"outlinewidth\": 0, \"ticks\": \"\"}, \"colorscale\": [[0.0, \"#0d0887\"], [0.1111111111111111, \"#46039f\"], [0.2222222222222222, \"#7201a8\"], [0.3333333333333333, \"#9c179e\"], [0.4444444444444444, \"#bd3786\"], [0.5555555555555556, \"#d8576b\"], [0.6666666666666666, \"#ed7953\"], [0.7777777777777778, \"#fb9f3a\"], [0.8888888888888888, \"#fdca26\"], [1.0, \"#f0f921\"]], \"type\": \"surface\"}], \"table\": [{\"cells\": {\"fill\": {\"color\": \"#EBF0F8\"}, \"line\": {\"color\": \"white\"}}, \"header\": {\"fill\": {\"color\": \"#C8D4E3\"}, \"line\": {\"color\": \"white\"}}, \"type\": \"table\"}]}, \"layout\": {\"annotationdefaults\": {\"arrowcolor\": \"#2a3f5f\", \"arrowhead\": 0, \"arrowwidth\": 1}, \"coloraxis\": {\"colorbar\": {\"outlinewidth\": 0, \"ticks\": \"\"}}, \"colorscale\": {\"diverging\": [[0, \"#8e0152\"], [0.1, \"#c51b7d\"], [0.2, \"#de77ae\"], [0.3, \"#f1b6da\"], [0.4, \"#fde0ef\"], [0.5, \"#f7f7f7\"], [0.6, \"#e6f5d0\"], [0.7, \"#b8e186\"], [0.8, \"#7fbc41\"], [0.9, \"#4d9221\"], [1, \"#276419\"]], \"sequential\": [[0.0, \"#0d0887\"], [0.1111111111111111, \"#46039f\"], [0.2222222222222222, \"#7201a8\"], [0.3333333333333333, \"#9c179e\"], [0.4444444444444444, \"#bd3786\"], [0.5555555555555556, \"#d8576b\"], [0.6666666666666666, \"#ed7953\"], [0.7777777777777778, \"#fb9f3a\"], [0.8888888888888888, \"#fdca26\"], [1.0, \"#f0f921\"]], \"sequentialminus\": [[0.0, \"#0d0887\"], [0.1111111111111111, \"#46039f\"], [0.2222222222222222, \"#7201a8\"], [0.3333333333333333, \"#9c179e\"], [0.4444444444444444, \"#bd3786\"], [0.5555555555555556, \"#d8576b\"], [0.6666666666666666, \"#ed7953\"], [0.7777777777777778, \"#fb9f3a\"], [0.8888888888888888, \"#fdca26\"], [1.0, \"#f0f921\"]]}, \"colorway\": [\"#636efa\", \"#EF553B\", \"#00cc96\", \"#ab63fa\", \"#FFA15A\", \"#19d3f3\", \"#FF6692\", \"#B6E880\", \"#FF97FF\", \"#FECB52\"], \"font\": {\"color\": \"#2a3f5f\"}, \"geo\": {\"bgcolor\": \"white\", \"lakecolor\": \"white\", \"landcolor\": \"#E5ECF6\", \"showlakes\": true, \"showland\": true, \"subunitcolor\": \"white\"}, \"hoverlabel\": {\"align\": \"left\"}, \"hovermode\": \"closest\", \"mapbox\": {\"style\": \"light\"}, \"paper_bgcolor\": \"white\", \"plot_bgcolor\": \"#E5ECF6\", \"polar\": {\"angularaxis\": {\"gridcolor\": \"white\", \"linecolor\": \"white\", \"ticks\": \"\"}, \"bgcolor\": \"#E5ECF6\", \"radialaxis\": {\"gridcolor\": \"white\", \"linecolor\": \"white\", \"ticks\": \"\"}}, \"scene\": {\"xaxis\": {\"backgroundcolor\": \"#E5ECF6\", \"gridcolor\": \"white\", \"gridwidth\": 2, \"linecolor\": \"white\", \"showbackground\": true, \"ticks\": \"\", \"zerolinecolor\": \"white\"}, \"yaxis\": {\"backgroundcolor\": \"#E5ECF6\", \"gridcolor\": \"white\", \"gridwidth\": 2, \"linecolor\": \"white\", \"showbackground\": true, \"ticks\": \"\", \"zerolinecolor\": \"white\"}, \"zaxis\": {\"backgroundcolor\": \"#E5ECF6\", \"gridcolor\": \"white\", \"gridwidth\": 2, \"linecolor\": \"white\", \"showbackground\": true, \"ticks\": \"\", \"zerolinecolor\": \"white\"}}, \"shapedefaults\": {\"line\": {\"color\": \"#2a3f5f\"}}, \"ternary\": {\"aaxis\": {\"gridcolor\": \"white\", \"linecolor\": \"white\", \"ticks\": \"\"}, \"baxis\": {\"gridcolor\": \"white\", \"linecolor\": \"white\", \"ticks\": \"\"}, \"bgcolor\": \"#E5ECF6\", \"caxis\": {\"gridcolor\": \"white\", \"linecolor\": \"white\", \"ticks\": \"\"}}, \"title\": {\"x\": 0.05}, \"xaxis\": {\"automargin\": true, \"gridcolor\": \"white\", \"linecolor\": \"white\", \"ticks\": \"\", \"title\": {\"standoff\": 15}, \"zerolinecolor\": \"white\", \"zerolinewidth\": 2}, \"yaxis\": {\"automargin\": true, \"gridcolor\": \"white\", \"linecolor\": \"white\", \"ticks\": \"\", \"title\": {\"standoff\": 15}, \"zerolinecolor\": \"white\", \"zerolinewidth\": 2}}}},\n",
              "                        {\"responsive\": true}\n",
              "                    ).then(function(){\n",
              "                            \n",
              "var gd = document.getElementById('1bfb11d3-4369-48f0-a367-7434d9a4b1d0');\n",
              "var x = new MutationObserver(function (mutations, observer) {{\n",
              "        var display = window.getComputedStyle(gd).display;\n",
              "        if (!display || display === 'none') {{\n",
              "            console.log([gd, 'removed!']);\n",
              "            Plotly.purge(gd);\n",
              "            observer.disconnect();\n",
              "        }}\n",
              "}});\n",
              "\n",
              "// Listen for the removal of the full notebook cells\n",
              "var notebookContainer = gd.closest('#notebook-container');\n",
              "if (notebookContainer) {{\n",
              "    x.observe(notebookContainer, {childList: true});\n",
              "}}\n",
              "\n",
              "// Listen for the clearing of the current output cell\n",
              "var outputEl = gd.closest('.output');\n",
              "if (outputEl) {{\n",
              "    x.observe(outputEl, {childList: true});\n",
              "}}\n",
              "\n",
              "                        })\n",
              "                };\n",
              "                \n",
              "            </script>\n",
              "        </div>\n",
              "</body>\n",
              "</html>"
            ]
          },
          "metadata": {
            "tags": []
          }
        }
      ]
    },
    {
      "cell_type": "markdown",
      "metadata": {
        "id": "acVQdbhx209y"
      },
      "source": [
        "#### Generating Meta-Features\n",
        "In the previous versions of this notebook,I used Number of words in selected text and main text ,Length of words in text and selected as main meta features,but in the context of this competition where we have to predict selected_text which is a subset of text, more useful features to generate would be :-\n",
        "\n",
        "Difference In Number Of words of Selected_text and Text\n",
        "Jaccard Similarity Scores between text and Selected_text\n",
        "Thus it will not be useful for us to generate features we used before as they are of no importance here\n",
        "\n",
        "For what who don't know what Jaccard Similarity is : https://www.geeksforgeeks.org/find-the-jaccard-index-and-jaccard-distance-between-the-two-given-sets/"
      ]
    },
    {
      "cell_type": "code",
      "metadata": {
        "id": "AmXgwMOL209y"
      },
      "source": [
        "def jaccard(str1, str2): \n",
        "    a = set(str1.lower().split()) \n",
        "    b = set(str2.lower().split())\n",
        "    c = a.intersection(b)\n",
        "    return float(len(c)) / (len(a) + len(b) - len(c))"
      ],
      "execution_count": null,
      "outputs": []
    },
    {
      "cell_type": "code",
      "metadata": {
        "id": "j97FSgbN209y"
      },
      "source": [
        "results_jaccard=[]\n",
        "\n",
        "for ind,row in df.iterrows():\n",
        "    sentence1 = row.text\n",
        "    sentence2 = row.text\n",
        "\n",
        "    jaccard_score = jaccard(sentence1,sentence2)\n",
        "    results_jaccard.append([sentence1,sentence2,jaccard_score])"
      ],
      "execution_count": null,
      "outputs": []
    },
    {
      "cell_type": "code",
      "metadata": {
        "colab": {
          "base_uri": "https://localhost:8080/",
          "height": 204
        },
        "id": "8GAxYYjw209y",
        "outputId": "d1c2f47c-a5b5-4b58-def8-574c2df9e17d"
      },
      "source": [
        "df['num_words'] = df['text'].str.split().str.len()\n",
        "df.head()"
      ],
      "execution_count": null,
      "outputs": [
        {
          "output_type": "execute_result",
          "data": {
            "text/html": [
              "<div>\n",
              "<style scoped>\n",
              "    .dataframe tbody tr th:only-of-type {\n",
              "        vertical-align: middle;\n",
              "    }\n",
              "\n",
              "    .dataframe tbody tr th {\n",
              "        vertical-align: top;\n",
              "    }\n",
              "\n",
              "    .dataframe thead th {\n",
              "        text-align: right;\n",
              "    }\n",
              "</style>\n",
              "<table border=\"1\" class=\"dataframe\">\n",
              "  <thead>\n",
              "    <tr style=\"text-align: right;\">\n",
              "      <th></th>\n",
              "      <th>ID</th>\n",
              "      <th>text</th>\n",
              "      <th>label</th>\n",
              "      <th>num_words</th>\n",
              "    </tr>\n",
              "  </thead>\n",
              "  <tbody>\n",
              "    <tr>\n",
              "      <th>0</th>\n",
              "      <td>13P0QT0</td>\n",
              "      <td>3sbaaaaaaaaaaaaaaaaaaaa lek ou le seim riahi o...</td>\n",
              "      <td>-1</td>\n",
              "      <td>10</td>\n",
              "    </tr>\n",
              "    <tr>\n",
              "      <th>1</th>\n",
              "      <td>SKCLXCJ</td>\n",
              "      <td>cha3eb fey9elkoum menghir ta7ayoul ou kressi</td>\n",
              "      <td>-1</td>\n",
              "      <td>6</td>\n",
              "    </tr>\n",
              "    <tr>\n",
              "      <th>2</th>\n",
              "      <td>V1TVXIJ</td>\n",
              "      <td>bereau degage nathef ya slim walahi ya7chiw fi...</td>\n",
              "      <td>-1</td>\n",
              "      <td>64</td>\n",
              "    </tr>\n",
              "    <tr>\n",
              "      <th>3</th>\n",
              "      <td>U0TTYY8</td>\n",
              "      <td>ak slouma</td>\n",
              "      <td>1</td>\n",
              "      <td>2</td>\n",
              "    </tr>\n",
              "    <tr>\n",
              "      <th>4</th>\n",
              "      <td>68DX797</td>\n",
              "      <td>entom titmanou lina a7na 3iid moubarik a7na ch...</td>\n",
              "      <td>-1</td>\n",
              "      <td>17</td>\n",
              "    </tr>\n",
              "  </tbody>\n",
              "</table>\n",
              "</div>"
            ],
            "text/plain": [
              "        ID                                               text  label  num_words\n",
              "0  13P0QT0  3sbaaaaaaaaaaaaaaaaaaaa lek ou le seim riahi o...     -1         10\n",
              "1  SKCLXCJ       cha3eb fey9elkoum menghir ta7ayoul ou kressi     -1          6\n",
              "2  V1TVXIJ  bereau degage nathef ya slim walahi ya7chiw fi...     -1         64\n",
              "3  U0TTYY8                                          ak slouma      1          2\n",
              "4  68DX797  entom titmanou lina a7na 3iid moubarik a7na ch...     -1         17"
            ]
          },
          "metadata": {
            "tags": []
          },
          "execution_count": 15
        }
      ]
    },
    {
      "cell_type": "code",
      "metadata": {
        "colab": {
          "base_uri": "https://localhost:8080/",
          "height": 405
        },
        "id": "n3zhGHXl209y",
        "outputId": "28c7fcc8-c5ef-4e33-ca03-9c158a099a60"
      },
      "source": [
        "plt.figure(figsize=(12,6))\n",
        "p1=sns.kdeplot(df['num_words'], shade=True, color=\"r\").set_title('Kernel Distribution of Number Of words')\n"
      ],
      "execution_count": null,
      "outputs": [
        {
          "output_type": "display_data",
          "data": {
            "image/png": "[encoded data removed]",
            "text/plain": [
              "<Figure size 864x432 with 1 Axes>"
            ]
          },
          "metadata": {
            "tags": []
          }
        }
      ]
    },
    {
      "cell_type": "code",
      "metadata": {
        "colab": {
          "base_uri": "https://localhost:8080/",
          "height": 406
        },
        "id": "0i9l0wmL209y",
        "outputId": "217e63ba-4f53-4570-bf94-5b11b39453e0"
      },
      "source": [
        "plt.figure(figsize=(12,6))\n",
        "sns.distplot(df[df['label']== 0]['num_words'],kde=False)"
      ],
      "execution_count": null,
      "outputs": [
        {
          "output_type": "execute_result",
          "data": {
            "text/plain": [
              "<matplotlib.axes._subplots.AxesSubplot at 0x7fd83606c6d0>"
            ]
          },
          "metadata": {
            "tags": []
          },
          "execution_count": 17
        },
        {
          "output_type": "display_data",
          "data": {
            "image/png": "[encoded data removed]",
            "text/plain": [
              "<Figure size 864x432 with 1 Axes>"
            ]
          },
          "metadata": {
            "tags": []
          }
        }
      ]
    },
    {
      "cell_type": "code",
      "metadata": {
        "colab": {
          "base_uri": "https://localhost:8080/",
          "height": 422
        },
        "id": "R_TMkt1K209y",
        "outputId": "a02faf47-c353-4eaa-c714-dcb380a5fa11"
      },
      "source": [
        "plt.figure(figsize=(12,6))\n",
        "p1=sns.kdeplot(df[df['label']== 1]['num_words'], shade=True, color=\"b\").set_title('KDE of Number of Words across different Sentiments')\n",
        "p2=sns.kdeplot(df[df['label']== -1]['num_words'], shade=True, color=\"r\")\n",
        "p3=sns.kdeplot(df[df['label']== 0]['num_words'], shade=True, color=\"g\")\n",
        "plt.legend(labels=['positive','negative', 'neutral'])"
      ],
      "execution_count": null,
      "outputs": [
        {
          "output_type": "execute_result",
          "data": {
            "text/plain": [
              "<matplotlib.legend.Legend at 0x7fd8377c0510>"
            ]
          },
          "metadata": {
            "tags": []
          },
          "execution_count": 18
        },
        {
          "output_type": "display_data",
          "data": {
            "image/png": "[encoded data removed]",
            "text/plain": [
              "<Figure size 864x432 with 1 Axes>"
            ]
          },
          "metadata": {
            "tags": []
          }
        }
      ]
    },
    {
      "cell_type": "code",
      "metadata": {
        "id": "7dnR4tux209y"
      },
      "source": [
        "k = df[df['num_words']<=2]"
      ],
      "execution_count": null,
      "outputs": []
    },
    {
      "cell_type": "code",
      "metadata": {
        "colab": {
          "base_uri": "https://localhost:8080/",
          "height": 419
        },
        "id": "CrNXn0cr209z",
        "outputId": "83fdfaf9-5ff8-4a5a-a27f-370cba23bb0b"
      },
      "source": [
        "k[k['label'] == 1]"
      ],
      "execution_count": null,
      "outputs": [
        {
          "output_type": "execute_result",
          "data": {
            "text/html": [
              "<div>\n",
              "<style scoped>\n",
              "    .dataframe tbody tr th:only-of-type {\n",
              "        vertical-align: middle;\n",
              "    }\n",
              "\n",
              "    .dataframe tbody tr th {\n",
              "        vertical-align: top;\n",
              "    }\n",
              "\n",
              "    .dataframe thead th {\n",
              "        text-align: right;\n",
              "    }\n",
              "</style>\n",
              "<table border=\"1\" class=\"dataframe\">\n",
              "  <thead>\n",
              "    <tr style=\"text-align: right;\">\n",
              "      <th></th>\n",
              "      <th>ID</th>\n",
              "      <th>text</th>\n",
              "      <th>label</th>\n",
              "      <th>num_words</th>\n",
              "    </tr>\n",
              "  </thead>\n",
              "  <tbody>\n",
              "    <tr>\n",
              "      <th>3</th>\n",
              "      <td>U0TTYY8</td>\n",
              "      <td>ak slouma</td>\n",
              "      <td>1</td>\n",
              "      <td>2</td>\n",
              "    </tr>\n",
              "    <tr>\n",
              "      <th>22</th>\n",
              "      <td>CCUHTN5</td>\n",
              "      <td>b1 dit</td>\n",
              "      <td>1</td>\n",
              "      <td>2</td>\n",
              "    </tr>\n",
              "    <tr>\n",
              "      <th>46</th>\n",
              "      <td>WD76HAO</td>\n",
              "      <td>machalah alik</td>\n",
              "      <td>1</td>\n",
              "      <td>2</td>\n",
              "    </tr>\n",
              "    <tr>\n",
              "      <th>67</th>\n",
              "      <td>E39K9D6</td>\n",
              "      <td>wahrani slouma</td>\n",
              "      <td>1</td>\n",
              "      <td>2</td>\n",
              "    </tr>\n",
              "    <tr>\n",
              "      <th>109</th>\n",
              "      <td>CK8ZO6N</td>\n",
              "      <td>vrooom vrooom</td>\n",
              "      <td>1</td>\n",
              "      <td>2</td>\n",
              "    </tr>\n",
              "    <tr>\n",
              "      <th>...</th>\n",
              "      <td>...</td>\n",
              "      <td>...</td>\n",
              "      <td>...</td>\n",
              "      <td>...</td>\n",
              "    </tr>\n",
              "    <tr>\n",
              "      <th>69971</th>\n",
              "      <td>1K2SBE2</td>\n",
              "      <td>hhh m3alm</td>\n",
              "      <td>1</td>\n",
              "      <td>2</td>\n",
              "    </tr>\n",
              "    <tr>\n",
              "      <th>69974</th>\n",
              "      <td>F0ZH58N</td>\n",
              "      <td>tereb7ou i</td>\n",
              "      <td>1</td>\n",
              "      <td>2</td>\n",
              "    </tr>\n",
              "    <tr>\n",
              "      <th>69975</th>\n",
              "      <td>WWV2OGG</td>\n",
              "      <td>bravooooooooooooooooooooooo marou9iiii</td>\n",
              "      <td>1</td>\n",
              "      <td>2</td>\n",
              "    </tr>\n",
              "    <tr>\n",
              "      <th>69976</th>\n",
              "      <td>0VQ5W3U</td>\n",
              "      <td>rabi yechfiiih</td>\n",
              "      <td>1</td>\n",
              "      <td>2</td>\n",
              "    </tr>\n",
              "    <tr>\n",
              "      <th>69994</th>\n",
              "      <td>E1L18BU</td>\n",
              "      <td>rabi m3aaak</td>\n",
              "      <td>1</td>\n",
              "      <td>2</td>\n",
              "    </tr>\n",
              "  </tbody>\n",
              "</table>\n",
              "<p>5180 rows × 4 columns</p>\n",
              "</div>"
            ],
            "text/plain": [
              "            ID                                    text  label  num_words\n",
              "3      U0TTYY8                               ak slouma      1          2\n",
              "22     CCUHTN5                                  b1 dit      1          2\n",
              "46     WD76HAO                           machalah alik      1          2\n",
              "67     E39K9D6                          wahrani slouma      1          2\n",
              "109    CK8ZO6N                           vrooom vrooom      1          2\n",
              "...        ...                                     ...    ...        ...\n",
              "69971  1K2SBE2                               hhh m3alm      1          2\n",
              "69974  F0ZH58N                              tereb7ou i      1          2\n",
              "69975  WWV2OGG  bravooooooooooooooooooooooo marou9iiii      1          2\n",
              "69976  0VQ5W3U                          rabi yechfiiih      1          2\n",
              "69994  E1L18BU                             rabi m3aaak      1          2\n",
              "\n",
              "[5180 rows x 4 columns]"
            ]
          },
          "metadata": {
            "tags": []
          },
          "execution_count": 20
        }
      ]
    },
    {
      "cell_type": "code",
      "metadata": {
        "id": "7shOePyV209z"
      },
      "source": [
        "def clean_text(text):\n",
        "    '''Make text lowercase, remove text in square brackets,remove links,remove punctuation\n",
        "    and remove words containing numbers.'''\n",
        "    text = str(text).lower()\n",
        "    text = re.sub('<.*?>+', '', text)\n",
        "    text = re.sub(\"s+\",\" \", text)\n",
        "    text = re.sub(\"[^-9A-Za-z ]\", \"\" , text)\n",
        "    return text"
      ],
      "execution_count": null,
      "outputs": []
    },
    {
      "cell_type": "code",
      "metadata": {
        "id": "JEkl2rhv209z"
      },
      "source": [
        "df['text'] = df['text'].apply(lambda x:clean_text(x))\n",
        "train['text'] = train['text'].apply(lambda x:clean_text(x))\n",
        "test['text'] = test['text'].apply(lambda x:clean_text(x))"
      ],
      "execution_count": null,
      "outputs": []
    },
    {
      "cell_type": "code",
      "metadata": {
        "colab": {
          "base_uri": "https://localhost:8080/",
          "height": 204
        },
        "id": "YFiO6hif209z",
        "outputId": "8a1cb624-0ce4-453c-84ff-ca1421b78392"
      },
      "source": [
        "train.head()"
      ],
      "execution_count": null,
      "outputs": [
        {
          "output_type": "execute_result",
          "data": {
            "text/html": [
              "<div>\n",
              "<style scoped>\n",
              "    .dataframe tbody tr th:only-of-type {\n",
              "        vertical-align: middle;\n",
              "    }\n",
              "\n",
              "    .dataframe tbody tr th {\n",
              "        vertical-align: top;\n",
              "    }\n",
              "\n",
              "    .dataframe thead th {\n",
              "        text-align: right;\n",
              "    }\n",
              "</style>\n",
              "<table border=\"1\" class=\"dataframe\">\n",
              "  <thead>\n",
              "    <tr style=\"text-align: right;\">\n",
              "      <th></th>\n",
              "      <th>ID</th>\n",
              "      <th>text</th>\n",
              "      <th>label</th>\n",
              "    </tr>\n",
              "  </thead>\n",
              "  <tbody>\n",
              "    <tr>\n",
              "      <th>22837</th>\n",
              "      <td>H7SGU9H</td>\n",
              "      <td>men ayna laka hedha ya zawali</td>\n",
              "      <td>-1</td>\n",
              "    </tr>\n",
              "    <tr>\n",
              "      <th>14335</th>\n",
              "      <td>FEQGB64</td>\n",
              "      <td>ya 9aba nik omk w om zaimek ya taana tfiiiih a...</td>\n",
              "      <td>-1</td>\n",
              "    </tr>\n",
              "    <tr>\n",
              "      <th>47042</th>\n",
              "      <td>DGSCN0J</td>\n",
              "      <td>kolau aime oi alifrigui bikhayr</td>\n",
              "      <td>1</td>\n",
              "    </tr>\n",
              "    <tr>\n",
              "      <th>25967</th>\n",
              "      <td>AALBC1N</td>\n",
              "      <td>i bien</td>\n",
              "      <td>1</td>\n",
              "    </tr>\n",
              "    <tr>\n",
              "      <th>38858</th>\n",
              "      <td>RE313WA</td>\n",
              "      <td>malla ala fik wallah tlaet thez w tonfodh taya...</td>\n",
              "      <td>-1</td>\n",
              "    </tr>\n",
              "  </tbody>\n",
              "</table>\n",
              "</div>"
            ],
            "text/plain": [
              "            ID                                               text  label\n",
              "22837  H7SGU9H                      men ayna laka hedha ya zawali     -1\n",
              "14335  FEQGB64  ya 9aba nik omk w om zaimek ya taana tfiiiih a...     -1\n",
              "47042  DGSCN0J                    kolau aime oi alifrigui bikhayr      1\n",
              "25967  AALBC1N                                             i bien      1\n",
              "38858  RE313WA  malla ala fik wallah tlaet thez w tonfodh taya...     -1"
            ]
          },
          "metadata": {
            "tags": []
          },
          "execution_count": 23
        }
      ]
    },
    {
      "cell_type": "code",
      "metadata": {
        "colab": {
          "base_uri": "https://localhost:8080/",
          "height": 460
        },
        "id": "NGmGPZuz209z",
        "outputId": "542c1196-26dc-41cc-e750-a9888b0be06e"
      },
      "source": [
        "train['temp_list'] = train['text'].apply(lambda x:str(x).split())\n",
        "top = Counter([item for sublist in train['temp_list'] for item in sublist])\n",
        "temp = pd.DataFrame(top.most_common(20))\n",
        "temp.columns = ['Common_words','count']\n",
        "temp.style.background_gradient(cmap='Blues')"
      ],
      "execution_count": null,
      "outputs": [
        {
          "output_type": "execute_result",
          "data": {
            "text/html": [
              "<style  type=\"text/css\" >\n",
              "#T_8fc0c14c_8ca5_11eb_8cad_0242ac1c0002row0_col1{\n",
              "            background-color:  #08306b;\n",
              "            color:  #f1f1f1;\n",
              "        }#T_8fc0c14c_8ca5_11eb_8cad_0242ac1c0002row1_col1{\n",
              "            background-color:  #95c5df;\n",
              "            color:  #000000;\n",
              "        }#T_8fc0c14c_8ca5_11eb_8cad_0242ac1c0002row2_col1{\n",
              "            background-color:  #a1cbe2;\n",
              "            color:  #000000;\n",
              "        }#T_8fc0c14c_8ca5_11eb_8cad_0242ac1c0002row3_col1{\n",
              "            background-color:  #aed1e7;\n",
              "            color:  #000000;\n",
              "        }#T_8fc0c14c_8ca5_11eb_8cad_0242ac1c0002row4_col1{\n",
              "            background-color:  #bcd7eb;\n",
              "            color:  #000000;\n",
              "        }#T_8fc0c14c_8ca5_11eb_8cad_0242ac1c0002row5_col1{\n",
              "            background-color:  #bfd8ed;\n",
              "            color:  #000000;\n",
              "        }#T_8fc0c14c_8ca5_11eb_8cad_0242ac1c0002row6_col1{\n",
              "            background-color:  #c3daee;\n",
              "            color:  #000000;\n",
              "        }#T_8fc0c14c_8ca5_11eb_8cad_0242ac1c0002row7_col1{\n",
              "            background-color:  #cde0f1;\n",
              "            color:  #000000;\n",
              "        }#T_8fc0c14c_8ca5_11eb_8cad_0242ac1c0002row8_col1{\n",
              "            background-color:  #d5e5f4;\n",
              "            color:  #000000;\n",
              "        }#T_8fc0c14c_8ca5_11eb_8cad_0242ac1c0002row9_col1{\n",
              "            background-color:  #d6e5f4;\n",
              "            color:  #000000;\n",
              "        }#T_8fc0c14c_8ca5_11eb_8cad_0242ac1c0002row10_col1{\n",
              "            background-color:  #e4eff9;\n",
              "            color:  #000000;\n",
              "        }#T_8fc0c14c_8ca5_11eb_8cad_0242ac1c0002row11_col1{\n",
              "            background-color:  #edf4fc;\n",
              "            color:  #000000;\n",
              "        }#T_8fc0c14c_8ca5_11eb_8cad_0242ac1c0002row12_col1,#T_8fc0c14c_8ca5_11eb_8cad_0242ac1c0002row13_col1{\n",
              "            background-color:  #f3f8fe;\n",
              "            color:  #000000;\n",
              "        }#T_8fc0c14c_8ca5_11eb_8cad_0242ac1c0002row14_col1,#T_8fc0c14c_8ca5_11eb_8cad_0242ac1c0002row15_col1{\n",
              "            background-color:  #f5fafe;\n",
              "            color:  #000000;\n",
              "        }#T_8fc0c14c_8ca5_11eb_8cad_0242ac1c0002row16_col1,#T_8fc0c14c_8ca5_11eb_8cad_0242ac1c0002row17_col1,#T_8fc0c14c_8ca5_11eb_8cad_0242ac1c0002row18_col1{\n",
              "            background-color:  #f6faff;\n",
              "            color:  #000000;\n",
              "        }#T_8fc0c14c_8ca5_11eb_8cad_0242ac1c0002row19_col1{\n",
              "            background-color:  #f7fbff;\n",
              "            color:  #000000;\n",
              "        }</style><table id=\"T_8fc0c14c_8ca5_11eb_8cad_0242ac1c0002\" ><thead>    <tr>        <th class=\"blank level0\" ></th>        <th class=\"col_heading level0 col0\" >Common_words</th>        <th class=\"col_heading level0 col1\" >count</th>    </tr></thead><tbody>\n",
              "                <tr>\n",
              "                        <th id=\"T_8fc0c14c_8ca5_11eb_8cad_0242ac1c0002level0_row0\" class=\"row_heading level0 row0\" >0</th>\n",
              "                        <td id=\"T_8fc0c14c_8ca5_11eb_8cad_0242ac1c0002row0_col0\" class=\"data row0 col0\" >w</td>\n",
              "                        <td id=\"T_8fc0c14c_8ca5_11eb_8cad_0242ac1c0002row0_col1\" class=\"data row0 col1\" >13826</td>\n",
              "            </tr>\n",
              "            <tr>\n",
              "                        <th id=\"T_8fc0c14c_8ca5_11eb_8cad_0242ac1c0002level0_row1\" class=\"row_heading level0 row1\" >1</th>\n",
              "                        <td id=\"T_8fc0c14c_8ca5_11eb_8cad_0242ac1c0002row1_col0\" class=\"data row1 col0\" >ya</td>\n",
              "                        <td id=\"T_8fc0c14c_8ca5_11eb_8cad_0242ac1c0002row1_col1\" class=\"data row1 col1\" >6731</td>\n",
              "            </tr>\n",
              "            <tr>\n",
              "                        <th id=\"T_8fc0c14c_8ca5_11eb_8cad_0242ac1c0002level0_row2\" class=\"row_heading level0 row2\" >2</th>\n",
              "                        <td id=\"T_8fc0c14c_8ca5_11eb_8cad_0242ac1c0002row2_col0\" class=\"data row2 col0\" >fi</td>\n",
              "                        <td id=\"T_8fc0c14c_8ca5_11eb_8cad_0242ac1c0002row2_col1\" class=\"data row2 col1\" >6329</td>\n",
              "            </tr>\n",
              "            <tr>\n",
              "                        <th id=\"T_8fc0c14c_8ca5_11eb_8cad_0242ac1c0002level0_row3\" class=\"row_heading level0 row3\" >3</th>\n",
              "                        <td id=\"T_8fc0c14c_8ca5_11eb_8cad_0242ac1c0002row3_col0\" class=\"data row3 col0\" >el</td>\n",
              "                        <td id=\"T_8fc0c14c_8ca5_11eb_8cad_0242ac1c0002row3_col1\" class=\"data row3 col1\" >5874</td>\n",
              "            </tr>\n",
              "            <tr>\n",
              "                        <th id=\"T_8fc0c14c_8ca5_11eb_8cad_0242ac1c0002level0_row4\" class=\"row_heading level0 row4\" >4</th>\n",
              "                        <td id=\"T_8fc0c14c_8ca5_11eb_8cad_0242ac1c0002row4_col0\" class=\"data row4 col0\" >a</td>\n",
              "                        <td id=\"T_8fc0c14c_8ca5_11eb_8cad_0242ac1c0002row4_col1\" class=\"data row4 col1\" >5358</td>\n",
              "            </tr>\n",
              "            <tr>\n",
              "                        <th id=\"T_8fc0c14c_8ca5_11eb_8cad_0242ac1c0002level0_row5\" class=\"row_heading level0 row5\" >5</th>\n",
              "                        <td id=\"T_8fc0c14c_8ca5_11eb_8cad_0242ac1c0002row5_col0\" class=\"data row5 col0\" >i</td>\n",
              "                        <td id=\"T_8fc0c14c_8ca5_11eb_8cad_0242ac1c0002row5_col1\" class=\"data row5 col1\" >5243</td>\n",
              "            </tr>\n",
              "            <tr>\n",
              "                        <th id=\"T_8fc0c14c_8ca5_11eb_8cad_0242ac1c0002level0_row6\" class=\"row_heading level0 row6\" >6</th>\n",
              "                        <td id=\"T_8fc0c14c_8ca5_11eb_8cad_0242ac1c0002row6_col0\" class=\"data row6 col0\" >lim</td>\n",
              "                        <td id=\"T_8fc0c14c_8ca5_11eb_8cad_0242ac1c0002row6_col1\" class=\"data row6 col1\" >5103</td>\n",
              "            </tr>\n",
              "            <tr>\n",
              "                        <th id=\"T_8fc0c14c_8ca5_11eb_8cad_0242ac1c0002level0_row7\" class=\"row_heading level0 row7\" >7</th>\n",
              "                        <td id=\"T_8fc0c14c_8ca5_11eb_8cad_0242ac1c0002row7_col0\" class=\"data row7 col0\" >rabi</td>\n",
              "                        <td id=\"T_8fc0c14c_8ca5_11eb_8cad_0242ac1c0002row7_col1\" class=\"data row7 col1\" >4530</td>\n",
              "            </tr>\n",
              "            <tr>\n",
              "                        <th id=\"T_8fc0c14c_8ca5_11eb_8cad_0242ac1c0002level0_row8\" class=\"row_heading level0 row8\" >8</th>\n",
              "                        <td id=\"T_8fc0c14c_8ca5_11eb_8cad_0242ac1c0002row8_col0\" class=\"data row8 col0\" >ma</td>\n",
              "                        <td id=\"T_8fc0c14c_8ca5_11eb_8cad_0242ac1c0002row8_col1\" class=\"data row8 col1\" >4078</td>\n",
              "            </tr>\n",
              "            <tr>\n",
              "                        <th id=\"T_8fc0c14c_8ca5_11eb_8cad_0242ac1c0002level0_row9\" class=\"row_heading level0 row9\" >9</th>\n",
              "                        <td id=\"T_8fc0c14c_8ca5_11eb_8cad_0242ac1c0002row9_col0\" class=\"data row9 col0\" >la</td>\n",
              "                        <td id=\"T_8fc0c14c_8ca5_11eb_8cad_0242ac1c0002row9_col1\" class=\"data row9 col1\" >4057</td>\n",
              "            </tr>\n",
              "            <tr>\n",
              "                        <th id=\"T_8fc0c14c_8ca5_11eb_8cad_0242ac1c0002level0_row10\" class=\"row_heading level0 row10\" >10</th>\n",
              "                        <td id=\"T_8fc0c14c_8ca5_11eb_8cad_0242ac1c0002row10_col0\" class=\"data row10 col0\" >e</td>\n",
              "                        <td id=\"T_8fc0c14c_8ca5_11eb_8cad_0242ac1c0002row10_col1\" class=\"data row10 col1\" >3181</td>\n",
              "            </tr>\n",
              "            <tr>\n",
              "                        <th id=\"T_8fc0c14c_8ca5_11eb_8cad_0242ac1c0002level0_row11\" class=\"row_heading level0 row11\" >11</th>\n",
              "                        <td id=\"T_8fc0c14c_8ca5_11eb_8cad_0242ac1c0002row11_col0\" class=\"data row11 col0\" >l</td>\n",
              "                        <td id=\"T_8fc0c14c_8ca5_11eb_8cad_0242ac1c0002row11_col1\" class=\"data row11 col1\" >2669</td>\n",
              "            </tr>\n",
              "            <tr>\n",
              "                        <th id=\"T_8fc0c14c_8ca5_11eb_8cad_0242ac1c0002level0_row12\" class=\"row_heading level0 row12\" >12</th>\n",
              "                        <td id=\"T_8fc0c14c_8ca5_11eb_8cad_0242ac1c0002row12_col0\" class=\"data row12 col0\" >le</td>\n",
              "                        <td id=\"T_8fc0c14c_8ca5_11eb_8cad_0242ac1c0002row12_col1\" class=\"data row12 col1\" >2308</td>\n",
              "            </tr>\n",
              "            <tr>\n",
              "                        <th id=\"T_8fc0c14c_8ca5_11eb_8cad_0242ac1c0002level0_row13\" class=\"row_heading level0 row13\" >13</th>\n",
              "                        <td id=\"T_8fc0c14c_8ca5_11eb_8cad_0242ac1c0002row13_col0\" class=\"data row13 col0\" >ca</td>\n",
              "                        <td id=\"T_8fc0c14c_8ca5_11eb_8cad_0242ac1c0002row13_col1\" class=\"data row13 col1\" >2307</td>\n",
              "            </tr>\n",
              "            <tr>\n",
              "                        <th id=\"T_8fc0c14c_8ca5_11eb_8cad_0242ac1c0002level0_row14\" class=\"row_heading level0 row14\" >14</th>\n",
              "                        <td id=\"T_8fc0c14c_8ca5_11eb_8cad_0242ac1c0002row14_col0\" class=\"data row14 col0\" >kol</td>\n",
              "                        <td id=\"T_8fc0c14c_8ca5_11eb_8cad_0242ac1c0002row14_col1\" class=\"data row14 col1\" >2142</td>\n",
              "            </tr>\n",
              "            <tr>\n",
              "                        <th id=\"T_8fc0c14c_8ca5_11eb_8cad_0242ac1c0002level0_row15\" class=\"row_heading level0 row15\" >15</th>\n",
              "                        <td id=\"T_8fc0c14c_8ca5_11eb_8cad_0242ac1c0002row15_col0\" class=\"data row15 col0\" >ala</td>\n",
              "                        <td id=\"T_8fc0c14c_8ca5_11eb_8cad_0242ac1c0002row15_col1\" class=\"data row15 col1\" >2127</td>\n",
              "            </tr>\n",
              "            <tr>\n",
              "                        <th id=\"T_8fc0c14c_8ca5_11eb_8cad_0242ac1c0002level0_row16\" class=\"row_heading level0 row16\" >16</th>\n",
              "                        <td id=\"T_8fc0c14c_8ca5_11eb_8cad_0242ac1c0002row16_col0\" class=\"data row16 col0\" >mak</td>\n",
              "                        <td id=\"T_8fc0c14c_8ca5_11eb_8cad_0242ac1c0002row16_col1\" class=\"data row16 col1\" >2124</td>\n",
              "            </tr>\n",
              "            <tr>\n",
              "                        <th id=\"T_8fc0c14c_8ca5_11eb_8cad_0242ac1c0002level0_row17\" class=\"row_heading level0 row17\" >17</th>\n",
              "                        <td id=\"T_8fc0c14c_8ca5_11eb_8cad_0242ac1c0002row17_col0\" class=\"data row17 col0\" >ou</td>\n",
              "                        <td id=\"T_8fc0c14c_8ca5_11eb_8cad_0242ac1c0002row17_col1\" class=\"data row17 col1\" >2108</td>\n",
              "            </tr>\n",
              "            <tr>\n",
              "                        <th id=\"T_8fc0c14c_8ca5_11eb_8cad_0242ac1c0002level0_row18\" class=\"row_heading level0 row18\" >18</th>\n",
              "                        <td id=\"T_8fc0c14c_8ca5_11eb_8cad_0242ac1c0002row18_col0\" class=\"data row18 col0\" >bech</td>\n",
              "                        <td id=\"T_8fc0c14c_8ca5_11eb_8cad_0242ac1c0002row18_col1\" class=\"data row18 col1\" >2096</td>\n",
              "            </tr>\n",
              "            <tr>\n",
              "                        <th id=\"T_8fc0c14c_8ca5_11eb_8cad_0242ac1c0002level0_row19\" class=\"row_heading level0 row19\" >19</th>\n",
              "                        <td id=\"T_8fc0c14c_8ca5_11eb_8cad_0242ac1c0002row19_col0\" class=\"data row19 col0\" >bravo</td>\n",
              "                        <td id=\"T_8fc0c14c_8ca5_11eb_8cad_0242ac1c0002row19_col1\" class=\"data row19 col1\" >2034</td>\n",
              "            </tr>\n",
              "    </tbody></table>"
            ],
            "text/plain": [
              "<pandas.io.formats.style.Styler at 0x7fd8352aefd0>"
            ]
          },
          "metadata": {
            "tags": []
          },
          "execution_count": 24
        }
      ]
    },
    {
      "cell_type": "code",
      "metadata": {
        "colab": {
          "base_uri": "https://localhost:8080/",
          "height": 717
        },
        "id": "JHAZ8HHT209z",
        "outputId": "215eab84-389c-4d78-841b-b06cbce52a01"
      },
      "source": [
        "fig = px.bar(temp, x=\"count\", y=\"Common_words\", title='Commmon Words in Selected Text', orientation='h', \n",
        "             width=700, height=700,color='Common_words')\n",
        "fig.show()"
      ],
      "execution_count": null,
      "outputs": [
        {
          "output_type": "display_data",
          "data": {
            "text/html": [
              "<html>\n",
              "<head><meta charset=\"utf-8\" /></head>\n",
              "<body>\n",
              "    <div>\n",
              "            <script src=\"https://cdnjs.cloudflare.com/ajax/libs/mathjax/2.7.5/MathJax.js?config=TeX-AMS-MML_SVG\"></script><script type=\"text/javascript\">if (window.MathJax) {MathJax.Hub.Config({SVG: {font: \"STIX-Web\"}});}</script>\n",
              "                <script type=\"text/javascript\">window.PlotlyConfig = {MathJaxConfig: 'local'};</script>\n",
              "        <script src=\"https://cdn.plot.ly/plotly-latest.min.js\"></script>    \n",
              "            <div id=\"8ac4a694-f242-46c7-a51e-f555c9d4d66b\" class=\"plotly-graph-div\" style=\"height:700px; width:700px;\"></div>\n",
              "            <script type=\"text/javascript\">\n",
              "                \n",
              "                    window.PLOTLYENV=window.PLOTLYENV || {};\n",
              "                    \n",
              "                if (document.getElementById(\"8ac4a694-f242-46c7-a51e-f555c9d4d66b\")) {\n",
              "                    Plotly.newPlot(\n",
              "                        '8ac4a694-f242-46c7-a51e-f555c9d4d66b',\n",
              "                        [{\"alignmentgroup\": \"True\", \"hoverlabel\": {\"namelength\": 0}, \"hovertemplate\": \"Common_words=%{y}<br>count=%{x}\", \"legendgroup\": \"Common_words=w\", \"marker\": {\"color\": \"#636efa\"}, \"name\": \"Common_words=w\", \"offsetgroup\": \"Common_words=w\", \"orientation\": \"h\", \"showlegend\": true, \"textposition\": \"auto\", \"type\": \"bar\", \"x\": [13826], \"xaxis\": \"x\", \"y\": [\"w\"], \"yaxis\": \"y\"}, {\"alignmentgroup\": \"True\", \"hoverlabel\": {\"namelength\": 0}, \"hovertemplate\": \"Common_words=%{y}<br>count=%{x}\", \"legendgroup\": \"Common_words=ya\", \"marker\": {\"color\": \"#EF553B\"}, \"name\": \"Common_words=ya\", \"offsetgroup\": \"Common_words=ya\", \"orientation\": \"h\", \"showlegend\": true, \"textposition\": \"auto\", \"type\": \"bar\", \"x\": [6731], \"xaxis\": \"x\", \"y\": [\"ya\"], \"yaxis\": \"y\"}, {\"alignmentgroup\": \"True\", \"hoverlabel\": {\"namelength\": 0}, \"hovertemplate\": \"Common_words=%{y}<br>count=%{x}\", \"legendgroup\": \"Common_words=fi\", \"marker\": {\"color\": \"#00cc96\"}, \"name\": \"Common_words=fi\", \"offsetgroup\": \"Common_words=fi\", \"orientation\": \"h\", \"showlegend\": true, \"textposition\": \"auto\", \"type\": \"bar\", \"x\": [6329], \"xaxis\": \"x\", \"y\": [\"fi\"], \"yaxis\": \"y\"}, {\"alignmentgroup\": \"True\", \"hoverlabel\": {\"namelength\": 0}, \"hovertemplate\": \"Common_words=%{y}<br>count=%{x}\", \"legendgroup\": \"Common_words=el\", \"marker\": {\"color\": \"#ab63fa\"}, \"name\": \"Common_words=el\", \"offsetgroup\": \"Common_words=el\", \"orientation\": \"h\", \"showlegend\": true, \"textposition\": \"auto\", \"type\": \"bar\", \"x\": [5874], \"xaxis\": \"x\", \"y\": [\"el\"], \"yaxis\": \"y\"}, {\"alignmentgroup\": \"True\", \"hoverlabel\": {\"namelength\": 0}, \"hovertemplate\": \"Common_words=%{y}<br>count=%{x}\", \"legendgroup\": \"Common_words=a\", \"marker\": {\"color\": \"#FFA15A\"}, \"name\": \"Common_words=a\", \"offsetgroup\": \"Common_words=a\", \"orientation\": \"h\", \"showlegend\": true, \"textposition\": \"auto\", \"type\": \"bar\", \"x\": [5358], \"xaxis\": \"x\", \"y\": [\"a\"], \"yaxis\": \"y\"}, {\"alignmentgroup\": \"True\", \"hoverlabel\": {\"namelength\": 0}, \"hovertemplate\": \"Common_words=%{y}<br>count=%{x}\", \"legendgroup\": \"Common_words=i\", \"marker\": {\"color\": \"#19d3f3\"}, \"name\": \"Common_words=i\", \"offsetgroup\": \"Common_words=i\", \"orientation\": \"h\", \"showlegend\": true, \"textposition\": \"auto\", \"type\": \"bar\", \"x\": [5243], \"xaxis\": \"x\", \"y\": [\"i\"], \"yaxis\": \"y\"}, {\"alignmentgroup\": \"True\", \"hoverlabel\": {\"namelength\": 0}, \"hovertemplate\": \"Common_words=%{y}<br>count=%{x}\", \"legendgroup\": \"Common_words=lim\", \"marker\": {\"color\": \"#FF6692\"}, \"name\": \"Common_words=lim\", \"offsetgroup\": \"Common_words=lim\", \"orientation\": \"h\", \"showlegend\": true, \"textposition\": \"auto\", \"type\": \"bar\", \"x\": [5103], \"xaxis\": \"x\", \"y\": [\"lim\"], \"yaxis\": \"y\"}, {\"alignmentgroup\": \"True\", \"hoverlabel\": {\"namelength\": 0}, \"hovertemplate\": \"Common_words=%{y}<br>count=%{x}\", \"legendgroup\": \"Common_words=rabi\", \"marker\": {\"color\": \"#B6E880\"}, \"name\": \"Common_words=rabi\", \"offsetgroup\": \"Common_words=rabi\", \"orientation\": \"h\", \"showlegend\": true, \"textposition\": \"auto\", \"type\": \"bar\", \"x\": [4530], \"xaxis\": \"x\", \"y\": [\"rabi\"], \"yaxis\": \"y\"}, {\"alignmentgroup\": \"True\", \"hoverlabel\": {\"namelength\": 0}, \"hovertemplate\": \"Common_words=%{y}<br>count=%{x}\", \"legendgroup\": \"Common_words=ma\", \"marker\": {\"color\": \"#FF97FF\"}, \"name\": \"Common_words=ma\", \"offsetgroup\": \"Common_words=ma\", \"orientation\": \"h\", \"showlegend\": true, \"textposition\": \"auto\", \"type\": \"bar\", \"x\": [4078], \"xaxis\": \"x\", \"y\": [\"ma\"], \"yaxis\": \"y\"}, {\"alignmentgroup\": \"True\", \"hoverlabel\": {\"namelength\": 0}, \"hovertemplate\": \"Common_words=%{y}<br>count=%{x}\", \"legendgroup\": \"Common_words=la\", \"marker\": {\"color\": \"#FECB52\"}, \"name\": \"Common_words=la\", \"offsetgroup\": \"Common_words=la\", \"orientation\": \"h\", \"showlegend\": true, \"textposition\": \"auto\", \"type\": \"bar\", \"x\": [4057], \"xaxis\": \"x\", \"y\": [\"la\"], \"yaxis\": \"y\"}, {\"alignmentgroup\": \"True\", \"hoverlabel\": {\"namelength\": 0}, \"hovertemplate\": \"Common_words=%{y}<br>count=%{x}\", \"legendgroup\": \"Common_words=e\", \"marker\": {\"color\": \"#636efa\"}, \"name\": \"Common_words=e\", \"offsetgroup\": \"Common_words=e\", \"orientation\": \"h\", \"showlegend\": true, \"textposition\": \"auto\", \"type\": \"bar\", \"x\": [3181], \"xaxis\": \"x\", \"y\": [\"e\"], \"yaxis\": \"y\"}, {\"alignmentgroup\": \"True\", \"hoverlabel\": {\"namelength\": 0}, \"hovertemplate\": \"Common_words=%{y}<br>count=%{x}\", \"legendgroup\": \"Common_words=l\", \"marker\": {\"color\": \"#EF553B\"}, \"name\": \"Common_words=l\", \"offsetgroup\": \"Common_words=l\", \"orientation\": \"h\", \"showlegend\": true, \"textposition\": \"auto\", \"type\": \"bar\", \"x\": [2669], \"xaxis\": \"x\", \"y\": [\"l\"], \"yaxis\": \"y\"}, {\"alignmentgroup\": \"True\", \"hoverlabel\": {\"namelength\": 0}, \"hovertemplate\": \"Common_words=%{y}<br>count=%{x}\", \"legendgroup\": \"Common_words=le\", \"marker\": {\"color\": \"#00cc96\"}, \"name\": \"Common_words=le\", \"offsetgroup\": \"Common_words=le\", \"orientation\": \"h\", \"showlegend\": true, \"textposition\": \"auto\", \"type\": \"bar\", \"x\": [2308], \"xaxis\": \"x\", \"y\": [\"le\"], \"yaxis\": \"y\"}, {\"alignmentgroup\": \"True\", \"hoverlabel\": {\"namelength\": 0}, \"hovertemplate\": \"Common_words=%{y}<br>count=%{x}\", \"legendgroup\": \"Common_words=ca\", \"marker\": {\"color\": \"#ab63fa\"}, \"name\": \"Common_words=ca\", \"offsetgroup\": \"Common_words=ca\", \"orientation\": \"h\", \"showlegend\": true, \"textposition\": \"auto\", \"type\": \"bar\", \"x\": [2307], \"xaxis\": \"x\", \"y\": [\"ca\"], \"yaxis\": \"y\"}, {\"alignmentgroup\": \"True\", \"hoverlabel\": {\"namelength\": 0}, \"hovertemplate\": \"Common_words=%{y}<br>count=%{x}\", \"legendgroup\": \"Common_words=kol\", \"marker\": {\"color\": \"#FFA15A\"}, \"name\": \"Common_words=kol\", \"offsetgroup\": \"Common_words=kol\", \"orientation\": \"h\", \"showlegend\": true, \"textposition\": \"auto\", \"type\": \"bar\", \"x\": [2142], \"xaxis\": \"x\", \"y\": [\"kol\"], \"yaxis\": \"y\"}, {\"alignmentgroup\": \"True\", \"hoverlabel\": {\"namelength\": 0}, \"hovertemplate\": \"Common_words=%{y}<br>count=%{x}\", \"legendgroup\": \"Common_words=ala\", \"marker\": {\"color\": \"#19d3f3\"}, \"name\": \"Common_words=ala\", \"offsetgroup\": \"Common_words=ala\", \"orientation\": \"h\", \"showlegend\": true, \"textposition\": \"auto\", \"type\": \"bar\", \"x\": [2127], \"xaxis\": \"x\", \"y\": [\"ala\"], \"yaxis\": \"y\"}, {\"alignmentgroup\": \"True\", \"hoverlabel\": {\"namelength\": 0}, \"hovertemplate\": \"Common_words=%{y}<br>count=%{x}\", \"legendgroup\": \"Common_words=mak\", \"marker\": {\"color\": \"#FF6692\"}, \"name\": \"Common_words=mak\", \"offsetgroup\": \"Common_words=mak\", \"orientation\": \"h\", \"showlegend\": true, \"textposition\": \"auto\", \"type\": \"bar\", \"x\": [2124], \"xaxis\": \"x\", \"y\": [\"mak\"], \"yaxis\": \"y\"}, {\"alignmentgroup\": \"True\", \"hoverlabel\": {\"namelength\": 0}, \"hovertemplate\": \"Common_words=%{y}<br>count=%{x}\", \"legendgroup\": \"Common_words=ou\", \"marker\": {\"color\": \"#B6E880\"}, \"name\": \"Common_words=ou\", \"offsetgroup\": \"Common_words=ou\", \"orientation\": \"h\", \"showlegend\": true, \"textposition\": \"auto\", \"type\": \"bar\", \"x\": [2108], \"xaxis\": \"x\", \"y\": [\"ou\"], \"yaxis\": \"y\"}, {\"alignmentgroup\": \"True\", \"hoverlabel\": {\"namelength\": 0}, \"hovertemplate\": \"Common_words=%{y}<br>count=%{x}\", \"legendgroup\": \"Common_words=bech\", \"marker\": {\"color\": \"#FF97FF\"}, \"name\": \"Common_words=bech\", \"offsetgroup\": \"Common_words=bech\", \"orientation\": \"h\", \"showlegend\": true, \"textposition\": \"auto\", \"type\": \"bar\", \"x\": [2096], \"xaxis\": \"x\", \"y\": [\"bech\"], \"yaxis\": \"y\"}, {\"alignmentgroup\": \"True\", \"hoverlabel\": {\"namelength\": 0}, \"hovertemplate\": \"Common_words=%{y}<br>count=%{x}\", \"legendgroup\": \"Common_words=bravo\", \"marker\": {\"color\": \"#FECB52\"}, \"name\": \"Common_words=bravo\", \"offsetgroup\": \"Common_words=bravo\", \"orientation\": \"h\", \"showlegend\": true, \"textposition\": \"auto\", \"type\": \"bar\", \"x\": [2034], \"xaxis\": \"x\", \"y\": [\"bravo\"], \"yaxis\": \"y\"}],\n",
              "                        {\"barmode\": \"relative\", \"height\": 700, \"legend\": {\"tracegroupgap\": 0}, \"template\": {\"data\": {\"bar\": [{\"error_x\": {\"color\": \"#2a3f5f\"}, \"error_y\": {\"color\": \"#2a3f5f\"}, \"marker\": {\"line\": {\"color\": \"#E5ECF6\", \"width\": 0.5}}, \"type\": \"bar\"}], \"barpolar\": [{\"marker\": {\"line\": {\"color\": \"#E5ECF6\", \"width\": 0.5}}, \"type\": \"barpolar\"}], \"carpet\": [{\"aaxis\": {\"endlinecolor\": \"#2a3f5f\", \"gridcolor\": \"white\", \"linecolor\": \"white\", \"minorgridcolor\": \"white\", \"startlinecolor\": \"#2a3f5f\"}, \"baxis\": {\"endlinecolor\": \"#2a3f5f\", \"gridcolor\": \"white\", \"linecolor\": \"white\", \"minorgridcolor\": \"white\", \"startlinecolor\": \"#2a3f5f\"}, \"type\": \"carpet\"}], \"choropleth\": [{\"colorbar\": {\"outlinewidth\": 0, \"ticks\": \"\"}, \"type\": \"choropleth\"}], \"contour\": [{\"colorbar\": {\"outlinewidth\": 0, \"ticks\": \"\"}, \"colorscale\": [[0.0, \"#0d0887\"], [0.1111111111111111, \"#46039f\"], [0.2222222222222222, \"#7201a8\"], [0.3333333333333333, \"#9c179e\"], [0.4444444444444444, \"#bd3786\"], [0.5555555555555556, \"#d8576b\"], [0.6666666666666666, \"#ed7953\"], [0.7777777777777778, \"#fb9f3a\"], [0.8888888888888888, \"#fdca26\"], [1.0, \"#f0f921\"]], \"type\": \"contour\"}], \"contourcarpet\": [{\"colorbar\": {\"outlinewidth\": 0, \"ticks\": \"\"}, \"type\": \"contourcarpet\"}], \"heatmap\": [{\"colorbar\": {\"outlinewidth\": 0, \"ticks\": \"\"}, \"colorscale\": [[0.0, \"#0d0887\"], [0.1111111111111111, \"#46039f\"], [0.2222222222222222, \"#7201a8\"], [0.3333333333333333, \"#9c179e\"], [0.4444444444444444, \"#bd3786\"], [0.5555555555555556, \"#d8576b\"], [0.6666666666666666, \"#ed7953\"], [0.7777777777777778, \"#fb9f3a\"], [0.8888888888888888, \"#fdca26\"], [1.0, \"#f0f921\"]], \"type\": \"heatmap\"}], \"heatmapgl\": [{\"colorbar\": {\"outlinewidth\": 0, \"ticks\": \"\"}, \"colorscale\": [[0.0, \"#0d0887\"], [0.1111111111111111, \"#46039f\"], [0.2222222222222222, \"#7201a8\"], [0.3333333333333333, \"#9c179e\"], [0.4444444444444444, \"#bd3786\"], [0.5555555555555556, \"#d8576b\"], [0.6666666666666666, \"#ed7953\"], [0.7777777777777778, \"#fb9f3a\"], [0.8888888888888888, \"#fdca26\"], [1.0, \"#f0f921\"]], \"type\": \"heatmapgl\"}], \"histogram\": [{\"marker\": {\"colorbar\": {\"outlinewidth\": 0, \"ticks\": \"\"}}, \"type\": \"histogram\"}], \"histogram2d\": [{\"colorbar\": {\"outlinewidth\": 0, \"ticks\": \"\"}, \"colorscale\": [[0.0, \"#0d0887\"], [0.1111111111111111, \"#46039f\"], [0.2222222222222222, \"#7201a8\"], [0.3333333333333333, \"#9c179e\"], [0.4444444444444444, \"#bd3786\"], [0.5555555555555556, \"#d8576b\"], [0.6666666666666666, \"#ed7953\"], [0.7777777777777778, \"#fb9f3a\"], [0.8888888888888888, \"#fdca26\"], [1.0, \"#f0f921\"]], \"type\": \"histogram2d\"}], \"histogram2dcontour\": [{\"colorbar\": {\"outlinewidth\": 0, \"ticks\": \"\"}, \"colorscale\": [[0.0, \"#0d0887\"], [0.1111111111111111, \"#46039f\"], [0.2222222222222222, \"#7201a8\"], [0.3333333333333333, \"#9c179e\"], [0.4444444444444444, \"#bd3786\"], [0.5555555555555556, \"#d8576b\"], [0.6666666666666666, \"#ed7953\"], [0.7777777777777778, \"#fb9f3a\"], [0.8888888888888888, \"#fdca26\"], [1.0, \"#f0f921\"]], \"type\": \"histogram2dcontour\"}], \"mesh3d\": [{\"colorbar\": {\"outlinewidth\": 0, \"ticks\": \"\"}, \"type\": \"mesh3d\"}], \"parcoords\": [{\"line\": {\"colorbar\": {\"outlinewidth\": 0, \"ticks\": \"\"}}, \"type\": \"parcoords\"}], \"pie\": [{\"automargin\": true, \"type\": \"pie\"}], \"scatter\": [{\"marker\": {\"colorbar\": {\"outlinewidth\": 0, \"ticks\": \"\"}}, \"type\": \"scatter\"}], \"scatter3d\": [{\"line\": {\"colorbar\": {\"outlinewidth\": 0, \"ticks\": \"\"}}, \"marker\": {\"colorbar\": {\"outlinewidth\": 0, \"ticks\": \"\"}}, \"type\": \"scatter3d\"}], \"scattercarpet\": [{\"marker\": {\"colorbar\": {\"outlinewidth\": 0, \"ticks\": \"\"}}, \"type\": \"scattercarpet\"}], \"scattergeo\": [{\"marker\": {\"colorbar\": {\"outlinewidth\": 0, \"ticks\": \"\"}}, \"type\": \"scattergeo\"}], \"scattergl\": [{\"marker\": {\"colorbar\": {\"outlinewidth\": 0, \"ticks\": \"\"}}, \"type\": \"scattergl\"}], \"scattermapbox\": [{\"marker\": {\"colorbar\": {\"outlinewidth\": 0, \"ticks\": \"\"}}, \"type\": \"scattermapbox\"}], \"scatterpolar\": [{\"marker\": {\"colorbar\": {\"outlinewidth\": 0, \"ticks\": \"\"}}, \"type\": \"scatterpolar\"}], \"scatterpolargl\": [{\"marker\": {\"colorbar\": {\"outlinewidth\": 0, \"ticks\": \"\"}}, \"type\": \"scatterpolargl\"}], \"scatterternary\": [{\"marker\": {\"colorbar\": {\"outlinewidth\": 0, \"ticks\": \"\"}}, \"type\": \"scatterternary\"}], \"surface\": [{\"colorbar\": {\"outlinewidth\": 0, \"ticks\": \"\"}, \"colorscale\": [[0.0, \"#0d0887\"], [0.1111111111111111, \"#46039f\"], [0.2222222222222222, \"#7201a8\"], [0.3333333333333333, \"#9c179e\"], [0.4444444444444444, \"#bd3786\"], [0.5555555555555556, \"#d8576b\"], [0.6666666666666666, \"#ed7953\"], [0.7777777777777778, \"#fb9f3a\"], [0.8888888888888888, \"#fdca26\"], [1.0, \"#f0f921\"]], \"type\": \"surface\"}], \"table\": [{\"cells\": {\"fill\": {\"color\": \"#EBF0F8\"}, \"line\": {\"color\": \"white\"}}, \"header\": {\"fill\": {\"color\": \"#C8D4E3\"}, \"line\": {\"color\": \"white\"}}, \"type\": \"table\"}]}, \"layout\": {\"annotationdefaults\": {\"arrowcolor\": \"#2a3f5f\", \"arrowhead\": 0, \"arrowwidth\": 1}, \"coloraxis\": {\"colorbar\": {\"outlinewidth\": 0, \"ticks\": \"\"}}, \"colorscale\": {\"diverging\": [[0, \"#8e0152\"], [0.1, \"#c51b7d\"], [0.2, \"#de77ae\"], [0.3, \"#f1b6da\"], [0.4, \"#fde0ef\"], [0.5, \"#f7f7f7\"], [0.6, \"#e6f5d0\"], [0.7, \"#b8e186\"], [0.8, \"#7fbc41\"], [0.9, \"#4d9221\"], [1, \"#276419\"]], \"sequential\": [[0.0, \"#0d0887\"], [0.1111111111111111, \"#46039f\"], [0.2222222222222222, \"#7201a8\"], [0.3333333333333333, \"#9c179e\"], [0.4444444444444444, \"#bd3786\"], [0.5555555555555556, \"#d8576b\"], [0.6666666666666666, \"#ed7953\"], [0.7777777777777778, \"#fb9f3a\"], [0.8888888888888888, \"#fdca26\"], [1.0, \"#f0f921\"]], \"sequentialminus\": [[0.0, \"#0d0887\"], [0.1111111111111111, \"#46039f\"], [0.2222222222222222, \"#7201a8\"], [0.3333333333333333, \"#9c179e\"], [0.4444444444444444, \"#bd3786\"], [0.5555555555555556, \"#d8576b\"], [0.6666666666666666, \"#ed7953\"], [0.7777777777777778, \"#fb9f3a\"], [0.8888888888888888, \"#fdca26\"], [1.0, \"#f0f921\"]]}, \"colorway\": [\"#636efa\", \"#EF553B\", \"#00cc96\", \"#ab63fa\", \"#FFA15A\", \"#19d3f3\", \"#FF6692\", \"#B6E880\", \"#FF97FF\", \"#FECB52\"], \"font\": {\"color\": \"#2a3f5f\"}, \"geo\": {\"bgcolor\": \"white\", \"lakecolor\": \"white\", \"landcolor\": \"#E5ECF6\", \"showlakes\": true, \"showland\": true, \"subunitcolor\": \"white\"}, \"hoverlabel\": {\"align\": \"left\"}, \"hovermode\": \"closest\", \"mapbox\": {\"style\": \"light\"}, \"paper_bgcolor\": \"white\", \"plot_bgcolor\": \"#E5ECF6\", \"polar\": {\"angularaxis\": {\"gridcolor\": \"white\", \"linecolor\": \"white\", \"ticks\": \"\"}, \"bgcolor\": \"#E5ECF6\", \"radialaxis\": {\"gridcolor\": \"white\", \"linecolor\": \"white\", \"ticks\": \"\"}}, \"scene\": {\"xaxis\": {\"backgroundcolor\": \"#E5ECF6\", \"gridcolor\": \"white\", \"gridwidth\": 2, \"linecolor\": \"white\", \"showbackground\": true, \"ticks\": \"\", \"zerolinecolor\": \"white\"}, \"yaxis\": {\"backgroundcolor\": \"#E5ECF6\", \"gridcolor\": \"white\", \"gridwidth\": 2, \"linecolor\": \"white\", \"showbackground\": true, \"ticks\": \"\", \"zerolinecolor\": \"white\"}, \"zaxis\": {\"backgroundcolor\": \"#E5ECF6\", \"gridcolor\": \"white\", \"gridwidth\": 2, \"linecolor\": \"white\", \"showbackground\": true, \"ticks\": \"\", \"zerolinecolor\": \"white\"}}, \"shapedefaults\": {\"line\": {\"color\": \"#2a3f5f\"}}, \"ternary\": {\"aaxis\": {\"gridcolor\": \"white\", \"linecolor\": \"white\", \"ticks\": \"\"}, \"baxis\": {\"gridcolor\": \"white\", \"linecolor\": \"white\", \"ticks\": \"\"}, \"bgcolor\": \"#E5ECF6\", \"caxis\": {\"gridcolor\": \"white\", \"linecolor\": \"white\", \"ticks\": \"\"}}, \"title\": {\"x\": 0.05}, \"xaxis\": {\"automargin\": true, \"gridcolor\": \"white\", \"linecolor\": \"white\", \"ticks\": \"\", \"title\": {\"standoff\": 15}, \"zerolinecolor\": \"white\", \"zerolinewidth\": 2}, \"yaxis\": {\"automargin\": true, \"gridcolor\": \"white\", \"linecolor\": \"white\", \"ticks\": \"\", \"title\": {\"standoff\": 15}, \"zerolinecolor\": \"white\", \"zerolinewidth\": 2}}}, \"title\": {\"text\": \"Commmon Words in Selected Text\"}, \"width\": 700, \"xaxis\": {\"anchor\": \"y\", \"domain\": [0.0, 1.0], \"title\": {\"text\": \"count\"}}, \"yaxis\": {\"anchor\": \"x\", \"categoryarray\": [\"bravo\", \"bech\", \"ou\", \"mak\", \"ala\", \"kol\", \"ca\", \"le\", \"l\", \"e\", \"la\", \"ma\", \"rabi\", \"lim\", \"i\", \"a\", \"el\", \"fi\", \"ya\", \"w\"], \"categoryorder\": \"array\", \"domain\": [0.0, 1.0], \"title\": {\"text\": \"Common_words\"}}},\n",
              "                        {\"responsive\": true}\n",
              "                    ).then(function(){\n",
              "                            \n",
              "var gd = document.getElementById('8ac4a694-f242-46c7-a51e-f555c9d4d66b');\n",
              "var x = new MutationObserver(function (mutations, observer) {{\n",
              "        var display = window.getComputedStyle(gd).display;\n",
              "        if (!display || display === 'none') {{\n",
              "            console.log([gd, 'removed!']);\n",
              "            Plotly.purge(gd);\n",
              "            observer.disconnect();\n",
              "        }}\n",
              "}});\n",
              "\n",
              "// Listen for the removal of the full notebook cells\n",
              "var notebookContainer = gd.closest('#notebook-container');\n",
              "if (notebookContainer) {{\n",
              "    x.observe(notebookContainer, {childList: true});\n",
              "}}\n",
              "\n",
              "// Listen for the clearing of the current output cell\n",
              "var outputEl = gd.closest('.output');\n",
              "if (outputEl) {{\n",
              "    x.observe(outputEl, {childList: true});\n",
              "}}\n",
              "\n",
              "                        })\n",
              "                };\n",
              "                \n",
              "            </script>\n",
              "        </div>\n",
              "</body>\n",
              "</html>"
            ]
          },
          "metadata": {
            "tags": []
          }
        }
      ]
    },
    {
      "cell_type": "code",
      "metadata": {
        "colab": {
          "base_uri": "https://localhost:8080/",
          "height": 439
        },
        "id": "vTwnlZWH209z",
        "outputId": "5e49a964-725c-4b72-e811-07fdf107814c"
      },
      "source": [
        "top = Counter([item for sublist in train['temp_list'] for item in sublist])\n",
        "temp = pd.DataFrame(top.most_common(20))\n",
        "temp = temp.iloc[1:,:]\n",
        "temp.columns = ['Common_words','count']\n",
        "temp.style.background_gradient(cmap='Purples')"
      ],
      "execution_count": null,
      "outputs": [
        {
          "output_type": "execute_result",
          "data": {
            "text/html": [
              "<style  type=\"text/css\" >\n",
              "#T_903231d8_8ca5_11eb_8cad_0242ac1c0002row0_col1{\n",
              "            background-color:  #3f007d;\n",
              "            color:  #f1f1f1;\n",
              "        }#T_903231d8_8ca5_11eb_8cad_0242ac1c0002row1_col1{\n",
              "            background-color:  #4d1a89;\n",
              "            color:  #f1f1f1;\n",
              "        }#T_903231d8_8ca5_11eb_8cad_0242ac1c0002row2_col1{\n",
              "            background-color:  #5e3a98;\n",
              "            color:  #f1f1f1;\n",
              "        }#T_903231d8_8ca5_11eb_8cad_0242ac1c0002row3_col1{\n",
              "            background-color:  #715faa;\n",
              "            color:  #000000;\n",
              "        }#T_903231d8_8ca5_11eb_8cad_0242ac1c0002row4_col1{\n",
              "            background-color:  #7669af;\n",
              "            color:  #000000;\n",
              "        }#T_903231d8_8ca5_11eb_8cad_0242ac1c0002row5_col1{\n",
              "            background-color:  #7b72b4;\n",
              "            color:  #000000;\n",
              "        }#T_903231d8_8ca5_11eb_8cad_0242ac1c0002row6_col1{\n",
              "            background-color:  #9692c4;\n",
              "            color:  #000000;\n",
              "        }#T_903231d8_8ca5_11eb_8cad_0242ac1c0002row7_col1{\n",
              "            background-color:  #aeacd2;\n",
              "            color:  #000000;\n",
              "        }#T_903231d8_8ca5_11eb_8cad_0242ac1c0002row8_col1{\n",
              "            background-color:  #aeadd3;\n",
              "            color:  #000000;\n",
              "        }#T_903231d8_8ca5_11eb_8cad_0242ac1c0002row9_col1{\n",
              "            background-color:  #dbdbec;\n",
              "            color:  #000000;\n",
              "        }#T_903231d8_8ca5_11eb_8cad_0242ac1c0002row10_col1{\n",
              "            background-color:  #eeecf4;\n",
              "            color:  #000000;\n",
              "        }#T_903231d8_8ca5_11eb_8cad_0242ac1c0002row11_col1,#T_903231d8_8ca5_11eb_8cad_0242ac1c0002row12_col1{\n",
              "            background-color:  #f6f5f9;\n",
              "            color:  #000000;\n",
              "        }#T_903231d8_8ca5_11eb_8cad_0242ac1c0002row13_col1,#T_903231d8_8ca5_11eb_8cad_0242ac1c0002row14_col1,#T_903231d8_8ca5_11eb_8cad_0242ac1c0002row15_col1,#T_903231d8_8ca5_11eb_8cad_0242ac1c0002row16_col1{\n",
              "            background-color:  #faf9fc;\n",
              "            color:  #000000;\n",
              "        }#T_903231d8_8ca5_11eb_8cad_0242ac1c0002row17_col1{\n",
              "            background-color:  #fbfafc;\n",
              "            color:  #000000;\n",
              "        }#T_903231d8_8ca5_11eb_8cad_0242ac1c0002row18_col1{\n",
              "            background-color:  #fcfbfd;\n",
              "            color:  #000000;\n",
              "        }</style><table id=\"T_903231d8_8ca5_11eb_8cad_0242ac1c0002\" ><thead>    <tr>        <th class=\"blank level0\" ></th>        <th class=\"col_heading level0 col0\" >Common_words</th>        <th class=\"col_heading level0 col1\" >count</th>    </tr></thead><tbody>\n",
              "                <tr>\n",
              "                        <th id=\"T_903231d8_8ca5_11eb_8cad_0242ac1c0002level0_row0\" class=\"row_heading level0 row0\" >1</th>\n",
              "                        <td id=\"T_903231d8_8ca5_11eb_8cad_0242ac1c0002row0_col0\" class=\"data row0 col0\" >ya</td>\n",
              "                        <td id=\"T_903231d8_8ca5_11eb_8cad_0242ac1c0002row0_col1\" class=\"data row0 col1\" >6731</td>\n",
              "            </tr>\n",
              "            <tr>\n",
              "                        <th id=\"T_903231d8_8ca5_11eb_8cad_0242ac1c0002level0_row1\" class=\"row_heading level0 row1\" >2</th>\n",
              "                        <td id=\"T_903231d8_8ca5_11eb_8cad_0242ac1c0002row1_col0\" class=\"data row1 col0\" >fi</td>\n",
              "                        <td id=\"T_903231d8_8ca5_11eb_8cad_0242ac1c0002row1_col1\" class=\"data row1 col1\" >6329</td>\n",
              "            </tr>\n",
              "            <tr>\n",
              "                        <th id=\"T_903231d8_8ca5_11eb_8cad_0242ac1c0002level0_row2\" class=\"row_heading level0 row2\" >3</th>\n",
              "                        <td id=\"T_903231d8_8ca5_11eb_8cad_0242ac1c0002row2_col0\" class=\"data row2 col0\" >el</td>\n",
              "                        <td id=\"T_903231d8_8ca5_11eb_8cad_0242ac1c0002row2_col1\" class=\"data row2 col1\" >5874</td>\n",
              "            </tr>\n",
              "            <tr>\n",
              "                        <th id=\"T_903231d8_8ca5_11eb_8cad_0242ac1c0002level0_row3\" class=\"row_heading level0 row3\" >4</th>\n",
              "                        <td id=\"T_903231d8_8ca5_11eb_8cad_0242ac1c0002row3_col0\" class=\"data row3 col0\" >a</td>\n",
              "                        <td id=\"T_903231d8_8ca5_11eb_8cad_0242ac1c0002row3_col1\" class=\"data row3 col1\" >5358</td>\n",
              "            </tr>\n",
              "            <tr>\n",
              "                        <th id=\"T_903231d8_8ca5_11eb_8cad_0242ac1c0002level0_row4\" class=\"row_heading level0 row4\" >5</th>\n",
              "                        <td id=\"T_903231d8_8ca5_11eb_8cad_0242ac1c0002row4_col0\" class=\"data row4 col0\" >i</td>\n",
              "                        <td id=\"T_903231d8_8ca5_11eb_8cad_0242ac1c0002row4_col1\" class=\"data row4 col1\" >5243</td>\n",
              "            </tr>\n",
              "            <tr>\n",
              "                        <th id=\"T_903231d8_8ca5_11eb_8cad_0242ac1c0002level0_row5\" class=\"row_heading level0 row5\" >6</th>\n",
              "                        <td id=\"T_903231d8_8ca5_11eb_8cad_0242ac1c0002row5_col0\" class=\"data row5 col0\" >lim</td>\n",
              "                        <td id=\"T_903231d8_8ca5_11eb_8cad_0242ac1c0002row5_col1\" class=\"data row5 col1\" >5103</td>\n",
              "            </tr>\n",
              "            <tr>\n",
              "                        <th id=\"T_903231d8_8ca5_11eb_8cad_0242ac1c0002level0_row6\" class=\"row_heading level0 row6\" >7</th>\n",
              "                        <td id=\"T_903231d8_8ca5_11eb_8cad_0242ac1c0002row6_col0\" class=\"data row6 col0\" >rabi</td>\n",
              "                        <td id=\"T_903231d8_8ca5_11eb_8cad_0242ac1c0002row6_col1\" class=\"data row6 col1\" >4530</td>\n",
              "            </tr>\n",
              "            <tr>\n",
              "                        <th id=\"T_903231d8_8ca5_11eb_8cad_0242ac1c0002level0_row7\" class=\"row_heading level0 row7\" >8</th>\n",
              "                        <td id=\"T_903231d8_8ca5_11eb_8cad_0242ac1c0002row7_col0\" class=\"data row7 col0\" >ma</td>\n",
              "                        <td id=\"T_903231d8_8ca5_11eb_8cad_0242ac1c0002row7_col1\" class=\"data row7 col1\" >4078</td>\n",
              "            </tr>\n",
              "            <tr>\n",
              "                        <th id=\"T_903231d8_8ca5_11eb_8cad_0242ac1c0002level0_row8\" class=\"row_heading level0 row8\" >9</th>\n",
              "                        <td id=\"T_903231d8_8ca5_11eb_8cad_0242ac1c0002row8_col0\" class=\"data row8 col0\" >la</td>\n",
              "                        <td id=\"T_903231d8_8ca5_11eb_8cad_0242ac1c0002row8_col1\" class=\"data row8 col1\" >4057</td>\n",
              "            </tr>\n",
              "            <tr>\n",
              "                        <th id=\"T_903231d8_8ca5_11eb_8cad_0242ac1c0002level0_row9\" class=\"row_heading level0 row9\" >10</th>\n",
              "                        <td id=\"T_903231d8_8ca5_11eb_8cad_0242ac1c0002row9_col0\" class=\"data row9 col0\" >e</td>\n",
              "                        <td id=\"T_903231d8_8ca5_11eb_8cad_0242ac1c0002row9_col1\" class=\"data row9 col1\" >3181</td>\n",
              "            </tr>\n",
              "            <tr>\n",
              "                        <th id=\"T_903231d8_8ca5_11eb_8cad_0242ac1c0002level0_row10\" class=\"row_heading level0 row10\" >11</th>\n",
              "                        <td id=\"T_903231d8_8ca5_11eb_8cad_0242ac1c0002row10_col0\" class=\"data row10 col0\" >l</td>\n",
              "                        <td id=\"T_903231d8_8ca5_11eb_8cad_0242ac1c0002row10_col1\" class=\"data row10 col1\" >2669</td>\n",
              "            </tr>\n",
              "            <tr>\n",
              "                        <th id=\"T_903231d8_8ca5_11eb_8cad_0242ac1c0002level0_row11\" class=\"row_heading level0 row11\" >12</th>\n",
              "                        <td id=\"T_903231d8_8ca5_11eb_8cad_0242ac1c0002row11_col0\" class=\"data row11 col0\" >le</td>\n",
              "                        <td id=\"T_903231d8_8ca5_11eb_8cad_0242ac1c0002row11_col1\" class=\"data row11 col1\" >2308</td>\n",
              "            </tr>\n",
              "            <tr>\n",
              "                        <th id=\"T_903231d8_8ca5_11eb_8cad_0242ac1c0002level0_row12\" class=\"row_heading level0 row12\" >13</th>\n",
              "                        <td id=\"T_903231d8_8ca5_11eb_8cad_0242ac1c0002row12_col0\" class=\"data row12 col0\" >ca</td>\n",
              "                        <td id=\"T_903231d8_8ca5_11eb_8cad_0242ac1c0002row12_col1\" class=\"data row12 col1\" >2307</td>\n",
              "            </tr>\n",
              "            <tr>\n",
              "                        <th id=\"T_903231d8_8ca5_11eb_8cad_0242ac1c0002level0_row13\" class=\"row_heading level0 row13\" >14</th>\n",
              "                        <td id=\"T_903231d8_8ca5_11eb_8cad_0242ac1c0002row13_col0\" class=\"data row13 col0\" >kol</td>\n",
              "                        <td id=\"T_903231d8_8ca5_11eb_8cad_0242ac1c0002row13_col1\" class=\"data row13 col1\" >2142</td>\n",
              "            </tr>\n",
              "            <tr>\n",
              "                        <th id=\"T_903231d8_8ca5_11eb_8cad_0242ac1c0002level0_row14\" class=\"row_heading level0 row14\" >15</th>\n",
              "                        <td id=\"T_903231d8_8ca5_11eb_8cad_0242ac1c0002row14_col0\" class=\"data row14 col0\" >ala</td>\n",
              "                        <td id=\"T_903231d8_8ca5_11eb_8cad_0242ac1c0002row14_col1\" class=\"data row14 col1\" >2127</td>\n",
              "            </tr>\n",
              "            <tr>\n",
              "                        <th id=\"T_903231d8_8ca5_11eb_8cad_0242ac1c0002level0_row15\" class=\"row_heading level0 row15\" >16</th>\n",
              "                        <td id=\"T_903231d8_8ca5_11eb_8cad_0242ac1c0002row15_col0\" class=\"data row15 col0\" >mak</td>\n",
              "                        <td id=\"T_903231d8_8ca5_11eb_8cad_0242ac1c0002row15_col1\" class=\"data row15 col1\" >2124</td>\n",
              "            </tr>\n",
              "            <tr>\n",
              "                        <th id=\"T_903231d8_8ca5_11eb_8cad_0242ac1c0002level0_row16\" class=\"row_heading level0 row16\" >17</th>\n",
              "                        <td id=\"T_903231d8_8ca5_11eb_8cad_0242ac1c0002row16_col0\" class=\"data row16 col0\" >ou</td>\n",
              "                        <td id=\"T_903231d8_8ca5_11eb_8cad_0242ac1c0002row16_col1\" class=\"data row16 col1\" >2108</td>\n",
              "            </tr>\n",
              "            <tr>\n",
              "                        <th id=\"T_903231d8_8ca5_11eb_8cad_0242ac1c0002level0_row17\" class=\"row_heading level0 row17\" >18</th>\n",
              "                        <td id=\"T_903231d8_8ca5_11eb_8cad_0242ac1c0002row17_col0\" class=\"data row17 col0\" >bech</td>\n",
              "                        <td id=\"T_903231d8_8ca5_11eb_8cad_0242ac1c0002row17_col1\" class=\"data row17 col1\" >2096</td>\n",
              "            </tr>\n",
              "            <tr>\n",
              "                        <th id=\"T_903231d8_8ca5_11eb_8cad_0242ac1c0002level0_row18\" class=\"row_heading level0 row18\" >19</th>\n",
              "                        <td id=\"T_903231d8_8ca5_11eb_8cad_0242ac1c0002row18_col0\" class=\"data row18 col0\" >bravo</td>\n",
              "                        <td id=\"T_903231d8_8ca5_11eb_8cad_0242ac1c0002row18_col1\" class=\"data row18 col1\" >2034</td>\n",
              "            </tr>\n",
              "    </tbody></table>"
            ],
            "text/plain": [
              "<pandas.io.formats.style.Styler at 0x7fd82be97210>"
            ]
          },
          "metadata": {
            "tags": []
          },
          "execution_count": 26
        }
      ]
    },
    {
      "cell_type": "code",
      "metadata": {
        "colab": {
          "base_uri": "https://localhost:8080/",
          "height": 717
        },
        "id": "xJgg_1VO209z",
        "outputId": "8010d83b-99bb-4b83-f5b0-58799c1ca415"
      },
      "source": [
        "fig = px.bar(temp, x=\"count\", y=\"Common_words\", title='Commmon Words in Text', orientation='h', \n",
        "             width=700, height=700,color='Common_words')\n",
        "fig.show()"
      ],
      "execution_count": null,
      "outputs": [
        {
          "output_type": "display_data",
          "data": {
            "text/html": [
              "<html>\n",
              "<head><meta charset=\"utf-8\" /></head>\n",
              "<body>\n",
              "    <div>\n",
              "            <script src=\"https://cdnjs.cloudflare.com/ajax/libs/mathjax/2.7.5/MathJax.js?config=TeX-AMS-MML_SVG\"></script><script type=\"text/javascript\">if (window.MathJax) {MathJax.Hub.Config({SVG: {font: \"STIX-Web\"}});}</script>\n",
              "                <script type=\"text/javascript\">window.PlotlyConfig = {MathJaxConfig: 'local'};</script>\n",
              "        <script src=\"https://cdn.plot.ly/plotly-latest.min.js\"></script>    \n",
              "            <div id=\"64336fd6-ec3d-4b44-81c4-25befa05331e\" class=\"plotly-graph-div\" style=\"height:700px; width:700px;\"></div>\n",
              "            <script type=\"text/javascript\">\n",
              "                \n",
              "                    window.PLOTLYENV=window.PLOTLYENV || {};\n",
              "                    \n",
              "                if (document.getElementById(\"64336fd6-ec3d-4b44-81c4-25befa05331e\")) {\n",
              "                    Plotly.newPlot(\n",
              "                        '64336fd6-ec3d-4b44-81c4-25befa05331e',\n",
              "                        [{\"alignmentgroup\": \"True\", \"hoverlabel\": {\"namelength\": 0}, \"hovertemplate\": \"Common_words=%{y}<br>count=%{x}\", \"legendgroup\": \"Common_words=ya\", \"marker\": {\"color\": \"#636efa\"}, \"name\": \"Common_words=ya\", \"offsetgroup\": \"Common_words=ya\", \"orientation\": \"h\", \"showlegend\": true, \"textposition\": \"auto\", \"type\": \"bar\", \"x\": [6731], \"xaxis\": \"x\", \"y\": [\"ya\"], \"yaxis\": \"y\"}, {\"alignmentgroup\": \"True\", \"hoverlabel\": {\"namelength\": 0}, \"hovertemplate\": \"Common_words=%{y}<br>count=%{x}\", \"legendgroup\": \"Common_words=fi\", \"marker\": {\"color\": \"#EF553B\"}, \"name\": \"Common_words=fi\", \"offsetgroup\": \"Common_words=fi\", \"orientation\": \"h\", \"showlegend\": true, \"textposition\": \"auto\", \"type\": \"bar\", \"x\": [6329], \"xaxis\": \"x\", \"y\": [\"fi\"], \"yaxis\": \"y\"}, {\"alignmentgroup\": \"True\", \"hoverlabel\": {\"namelength\": 0}, \"hovertemplate\": \"Common_words=%{y}<br>count=%{x}\", \"legendgroup\": \"Common_words=el\", \"marker\": {\"color\": \"#00cc96\"}, \"name\": \"Common_words=el\", \"offsetgroup\": \"Common_words=el\", \"orientation\": \"h\", \"showlegend\": true, \"textposition\": \"auto\", \"type\": \"bar\", \"x\": [5874], \"xaxis\": \"x\", \"y\": [\"el\"], \"yaxis\": \"y\"}, {\"alignmentgroup\": \"True\", \"hoverlabel\": {\"namelength\": 0}, \"hovertemplate\": \"Common_words=%{y}<br>count=%{x}\", \"legendgroup\": \"Common_words=a\", \"marker\": {\"color\": \"#ab63fa\"}, \"name\": \"Common_words=a\", \"offsetgroup\": \"Common_words=a\", \"orientation\": \"h\", \"showlegend\": true, \"textposition\": \"auto\", \"type\": \"bar\", \"x\": [5358], \"xaxis\": \"x\", \"y\": [\"a\"], \"yaxis\": \"y\"}, {\"alignmentgroup\": \"True\", \"hoverlabel\": {\"namelength\": 0}, \"hovertemplate\": \"Common_words=%{y}<br>count=%{x}\", \"legendgroup\": \"Common_words=i\", \"marker\": {\"color\": \"#FFA15A\"}, \"name\": \"Common_words=i\", \"offsetgroup\": \"Common_words=i\", \"orientation\": \"h\", \"showlegend\": true, \"textposition\": \"auto\", \"type\": \"bar\", \"x\": [5243], \"xaxis\": \"x\", \"y\": [\"i\"], \"yaxis\": \"y\"}, {\"alignmentgroup\": \"True\", \"hoverlabel\": {\"namelength\": 0}, \"hovertemplate\": \"Common_words=%{y}<br>count=%{x}\", \"legendgroup\": \"Common_words=lim\", \"marker\": {\"color\": \"#19d3f3\"}, \"name\": \"Common_words=lim\", \"offsetgroup\": \"Common_words=lim\", \"orientation\": \"h\", \"showlegend\": true, \"textposition\": \"auto\", \"type\": \"bar\", \"x\": [5103], \"xaxis\": \"x\", \"y\": [\"lim\"], \"yaxis\": \"y\"}, {\"alignmentgroup\": \"True\", \"hoverlabel\": {\"namelength\": 0}, \"hovertemplate\": \"Common_words=%{y}<br>count=%{x}\", \"legendgroup\": \"Common_words=rabi\", \"marker\": {\"color\": \"#FF6692\"}, \"name\": \"Common_words=rabi\", \"offsetgroup\": \"Common_words=rabi\", \"orientation\": \"h\", \"showlegend\": true, \"textposition\": \"auto\", \"type\": \"bar\", \"x\": [4530], \"xaxis\": \"x\", \"y\": [\"rabi\"], \"yaxis\": \"y\"}, {\"alignmentgroup\": \"True\", \"hoverlabel\": {\"namelength\": 0}, \"hovertemplate\": \"Common_words=%{y}<br>count=%{x}\", \"legendgroup\": \"Common_words=ma\", \"marker\": {\"color\": \"#B6E880\"}, \"name\": \"Common_words=ma\", \"offsetgroup\": \"Common_words=ma\", \"orientation\": \"h\", \"showlegend\": true, \"textposition\": \"auto\", \"type\": \"bar\", \"x\": [4078], \"xaxis\": \"x\", \"y\": [\"ma\"], \"yaxis\": \"y\"}, {\"alignmentgroup\": \"True\", \"hoverlabel\": {\"namelength\": 0}, \"hovertemplate\": \"Common_words=%{y}<br>count=%{x}\", \"legendgroup\": \"Common_words=la\", \"marker\": {\"color\": \"#FF97FF\"}, \"name\": \"Common_words=la\", \"offsetgroup\": \"Common_words=la\", \"orientation\": \"h\", \"showlegend\": true, \"textposition\": \"auto\", \"type\": \"bar\", \"x\": [4057], \"xaxis\": \"x\", \"y\": [\"la\"], \"yaxis\": \"y\"}, {\"alignmentgroup\": \"True\", \"hoverlabel\": {\"namelength\": 0}, \"hovertemplate\": \"Common_words=%{y}<br>count=%{x}\", \"legendgroup\": \"Common_words=e\", \"marker\": {\"color\": \"#FECB52\"}, \"name\": \"Common_words=e\", \"offsetgroup\": \"Common_words=e\", \"orientation\": \"h\", \"showlegend\": true, \"textposition\": \"auto\", \"type\": \"bar\", \"x\": [3181], \"xaxis\": \"x\", \"y\": [\"e\"], \"yaxis\": \"y\"}, {\"alignmentgroup\": \"True\", \"hoverlabel\": {\"namelength\": 0}, \"hovertemplate\": \"Common_words=%{y}<br>count=%{x}\", \"legendgroup\": \"Common_words=l\", \"marker\": {\"color\": \"#636efa\"}, \"name\": \"Common_words=l\", \"offsetgroup\": \"Common_words=l\", \"orientation\": \"h\", \"showlegend\": true, \"textposition\": \"auto\", \"type\": \"bar\", \"x\": [2669], \"xaxis\": \"x\", \"y\": [\"l\"], \"yaxis\": \"y\"}, {\"alignmentgroup\": \"True\", \"hoverlabel\": {\"namelength\": 0}, \"hovertemplate\": \"Common_words=%{y}<br>count=%{x}\", \"legendgroup\": \"Common_words=le\", \"marker\": {\"color\": \"#EF553B\"}, \"name\": \"Common_words=le\", \"offsetgroup\": \"Common_words=le\", \"orientation\": \"h\", \"showlegend\": true, \"textposition\": \"auto\", \"type\": \"bar\", \"x\": [2308], \"xaxis\": \"x\", \"y\": [\"le\"], \"yaxis\": \"y\"}, {\"alignmentgroup\": \"True\", \"hoverlabel\": {\"namelength\": 0}, \"hovertemplate\": \"Common_words=%{y}<br>count=%{x}\", \"legendgroup\": \"Common_words=ca\", \"marker\": {\"color\": \"#00cc96\"}, \"name\": \"Common_words=ca\", \"offsetgroup\": \"Common_words=ca\", \"orientation\": \"h\", \"showlegend\": true, \"textposition\": \"auto\", \"type\": \"bar\", \"x\": [2307], \"xaxis\": \"x\", \"y\": [\"ca\"], \"yaxis\": \"y\"}, {\"alignmentgroup\": \"True\", \"hoverlabel\": {\"namelength\": 0}, \"hovertemplate\": \"Common_words=%{y}<br>count=%{x}\", \"legendgroup\": \"Common_words=kol\", \"marker\": {\"color\": \"#ab63fa\"}, \"name\": \"Common_words=kol\", \"offsetgroup\": \"Common_words=kol\", \"orientation\": \"h\", \"showlegend\": true, \"textposition\": \"auto\", \"type\": \"bar\", \"x\": [2142], \"xaxis\": \"x\", \"y\": [\"kol\"], \"yaxis\": \"y\"}, {\"alignmentgroup\": \"True\", \"hoverlabel\": {\"namelength\": 0}, \"hovertemplate\": \"Common_words=%{y}<br>count=%{x}\", \"legendgroup\": \"Common_words=ala\", \"marker\": {\"color\": \"#FFA15A\"}, \"name\": \"Common_words=ala\", \"offsetgroup\": \"Common_words=ala\", \"orientation\": \"h\", \"showlegend\": true, \"textposition\": \"auto\", \"type\": \"bar\", \"x\": [2127], \"xaxis\": \"x\", \"y\": [\"ala\"], \"yaxis\": \"y\"}, {\"alignmentgroup\": \"True\", \"hoverlabel\": {\"namelength\": 0}, \"hovertemplate\": \"Common_words=%{y}<br>count=%{x}\", \"legendgroup\": \"Common_words=mak\", \"marker\": {\"color\": \"#19d3f3\"}, \"name\": \"Common_words=mak\", \"offsetgroup\": \"Common_words=mak\", \"orientation\": \"h\", \"showlegend\": true, \"textposition\": \"auto\", \"type\": \"bar\", \"x\": [2124], \"xaxis\": \"x\", \"y\": [\"mak\"], \"yaxis\": \"y\"}, {\"alignmentgroup\": \"True\", \"hoverlabel\": {\"namelength\": 0}, \"hovertemplate\": \"Common_words=%{y}<br>count=%{x}\", \"legendgroup\": \"Common_words=ou\", \"marker\": {\"color\": \"#FF6692\"}, \"name\": \"Common_words=ou\", \"offsetgroup\": \"Common_words=ou\", \"orientation\": \"h\", \"showlegend\": true, \"textposition\": \"auto\", \"type\": \"bar\", \"x\": [2108], \"xaxis\": \"x\", \"y\": [\"ou\"], \"yaxis\": \"y\"}, {\"alignmentgroup\": \"True\", \"hoverlabel\": {\"namelength\": 0}, \"hovertemplate\": \"Common_words=%{y}<br>count=%{x}\", \"legendgroup\": \"Common_words=bech\", \"marker\": {\"color\": \"#B6E880\"}, \"name\": \"Common_words=bech\", \"offsetgroup\": \"Common_words=bech\", \"orientation\": \"h\", \"showlegend\": true, \"textposition\": \"auto\", \"type\": \"bar\", \"x\": [2096], \"xaxis\": \"x\", \"y\": [\"bech\"], \"yaxis\": \"y\"}, {\"alignmentgroup\": \"True\", \"hoverlabel\": {\"namelength\": 0}, \"hovertemplate\": \"Common_words=%{y}<br>count=%{x}\", \"legendgroup\": \"Common_words=bravo\", \"marker\": {\"color\": \"#FF97FF\"}, \"name\": \"Common_words=bravo\", \"offsetgroup\": \"Common_words=bravo\", \"orientation\": \"h\", \"showlegend\": true, \"textposition\": \"auto\", \"type\": \"bar\", \"x\": [2034], \"xaxis\": \"x\", \"y\": [\"bravo\"], \"yaxis\": \"y\"}],\n",
              "                        {\"barmode\": \"relative\", \"height\": 700, \"legend\": {\"tracegroupgap\": 0}, \"template\": {\"data\": {\"bar\": [{\"error_x\": {\"color\": \"#2a3f5f\"}, \"error_y\": {\"color\": \"#2a3f5f\"}, \"marker\": {\"line\": {\"color\": \"#E5ECF6\", \"width\": 0.5}}, \"type\": \"bar\"}], \"barpolar\": [{\"marker\": {\"line\": {\"color\": \"#E5ECF6\", \"width\": 0.5}}, \"type\": \"barpolar\"}], \"carpet\": [{\"aaxis\": {\"endlinecolor\": \"#2a3f5f\", \"gridcolor\": \"white\", \"linecolor\": \"white\", \"minorgridcolor\": \"white\", \"startlinecolor\": \"#2a3f5f\"}, \"baxis\": {\"endlinecolor\": \"#2a3f5f\", \"gridcolor\": \"white\", \"linecolor\": \"white\", \"minorgridcolor\": \"white\", \"startlinecolor\": \"#2a3f5f\"}, \"type\": \"carpet\"}], \"choropleth\": [{\"colorbar\": {\"outlinewidth\": 0, \"ticks\": \"\"}, \"type\": \"choropleth\"}], \"contour\": [{\"colorbar\": {\"outlinewidth\": 0, \"ticks\": \"\"}, \"colorscale\": [[0.0, \"#0d0887\"], [0.1111111111111111, \"#46039f\"], [0.2222222222222222, \"#7201a8\"], [0.3333333333333333, \"#9c179e\"], [0.4444444444444444, \"#bd3786\"], [0.5555555555555556, \"#d8576b\"], [0.6666666666666666, \"#ed7953\"], [0.7777777777777778, \"#fb9f3a\"], [0.8888888888888888, \"#fdca26\"], [1.0, \"#f0f921\"]], \"type\": \"contour\"}], \"contourcarpet\": [{\"colorbar\": {\"outlinewidth\": 0, \"ticks\": \"\"}, \"type\": \"contourcarpet\"}], \"heatmap\": [{\"colorbar\": {\"outlinewidth\": 0, \"ticks\": \"\"}, \"colorscale\": [[0.0, \"#0d0887\"], [0.1111111111111111, \"#46039f\"], [0.2222222222222222, \"#7201a8\"], [0.3333333333333333, \"#9c179e\"], [0.4444444444444444, \"#bd3786\"], [0.5555555555555556, \"#d8576b\"], [0.6666666666666666, \"#ed7953\"], [0.7777777777777778, \"#fb9f3a\"], [0.8888888888888888, \"#fdca26\"], [1.0, \"#f0f921\"]], \"type\": \"heatmap\"}], \"heatmapgl\": [{\"colorbar\": {\"outlinewidth\": 0, \"ticks\": \"\"}, \"colorscale\": [[0.0, \"#0d0887\"], [0.1111111111111111, \"#46039f\"], [0.2222222222222222, \"#7201a8\"], [0.3333333333333333, \"#9c179e\"], [0.4444444444444444, \"#bd3786\"], [0.5555555555555556, \"#d8576b\"], [0.6666666666666666, \"#ed7953\"], [0.7777777777777778, \"#fb9f3a\"], [0.8888888888888888, \"#fdca26\"], [1.0, \"#f0f921\"]], \"type\": \"heatmapgl\"}], \"histogram\": [{\"marker\": {\"colorbar\": {\"outlinewidth\": 0, \"ticks\": \"\"}}, \"type\": \"histogram\"}], \"histogram2d\": [{\"colorbar\": {\"outlinewidth\": 0, \"ticks\": \"\"}, \"colorscale\": [[0.0, \"#0d0887\"], [0.1111111111111111, \"#46039f\"], [0.2222222222222222, \"#7201a8\"], [0.3333333333333333, \"#9c179e\"], [0.4444444444444444, \"#bd3786\"], [0.5555555555555556, \"#d8576b\"], [0.6666666666666666, \"#ed7953\"], [0.7777777777777778, \"#fb9f3a\"], [0.8888888888888888, \"#fdca26\"], [1.0, \"#f0f921\"]], \"type\": \"histogram2d\"}], \"histogram2dcontour\": [{\"colorbar\": {\"outlinewidth\": 0, \"ticks\": \"\"}, \"colorscale\": [[0.0, \"#0d0887\"], [0.1111111111111111, \"#46039f\"], [0.2222222222222222, \"#7201a8\"], [0.3333333333333333, \"#9c179e\"], [0.4444444444444444, \"#bd3786\"], [0.5555555555555556, \"#d8576b\"], [0.6666666666666666, \"#ed7953\"], [0.7777777777777778, \"#fb9f3a\"], [0.8888888888888888, \"#fdca26\"], [1.0, \"#f0f921\"]], \"type\": \"histogram2dcontour\"}], \"mesh3d\": [{\"colorbar\": {\"outlinewidth\": 0, \"ticks\": \"\"}, \"type\": \"mesh3d\"}], \"parcoords\": [{\"line\": {\"colorbar\": {\"outlinewidth\": 0, \"ticks\": \"\"}}, \"type\": \"parcoords\"}], \"pie\": [{\"automargin\": true, \"type\": \"pie\"}], \"scatter\": [{\"marker\": {\"colorbar\": {\"outlinewidth\": 0, \"ticks\": \"\"}}, \"type\": \"scatter\"}], \"scatter3d\": [{\"line\": {\"colorbar\": {\"outlinewidth\": 0, \"ticks\": \"\"}}, \"marker\": {\"colorbar\": {\"outlinewidth\": 0, \"ticks\": \"\"}}, \"type\": \"scatter3d\"}], \"scattercarpet\": [{\"marker\": {\"colorbar\": {\"outlinewidth\": 0, \"ticks\": \"\"}}, \"type\": \"scattercarpet\"}], \"scattergeo\": [{\"marker\": {\"colorbar\": {\"outlinewidth\": 0, \"ticks\": \"\"}}, \"type\": \"scattergeo\"}], \"scattergl\": [{\"marker\": {\"colorbar\": {\"outlinewidth\": 0, \"ticks\": \"\"}}, \"type\": \"scattergl\"}], \"scattermapbox\": [{\"marker\": {\"colorbar\": {\"outlinewidth\": 0, \"ticks\": \"\"}}, \"type\": \"scattermapbox\"}], \"scatterpolar\": [{\"marker\": {\"colorbar\": {\"outlinewidth\": 0, \"ticks\": \"\"}}, \"type\": \"scatterpolar\"}], \"scatterpolargl\": [{\"marker\": {\"colorbar\": {\"outlinewidth\": 0, \"ticks\": \"\"}}, \"type\": \"scatterpolargl\"}], \"scatterternary\": [{\"marker\": {\"colorbar\": {\"outlinewidth\": 0, \"ticks\": \"\"}}, \"type\": \"scatterternary\"}], \"surface\": [{\"colorbar\": {\"outlinewidth\": 0, \"ticks\": \"\"}, \"colorscale\": [[0.0, \"#0d0887\"], [0.1111111111111111, \"#46039f\"], [0.2222222222222222, \"#7201a8\"], [0.3333333333333333, \"#9c179e\"], [0.4444444444444444, \"#bd3786\"], [0.5555555555555556, \"#d8576b\"], [0.6666666666666666, \"#ed7953\"], [0.7777777777777778, \"#fb9f3a\"], [0.8888888888888888, \"#fdca26\"], [1.0, \"#f0f921\"]], \"type\": \"surface\"}], \"table\": [{\"cells\": {\"fill\": {\"color\": \"#EBF0F8\"}, \"line\": {\"color\": \"white\"}}, \"header\": {\"fill\": {\"color\": \"#C8D4E3\"}, \"line\": {\"color\": \"white\"}}, \"type\": \"table\"}]}, \"layout\": {\"annotationdefaults\": {\"arrowcolor\": \"#2a3f5f\", \"arrowhead\": 0, \"arrowwidth\": 1}, \"coloraxis\": {\"colorbar\": {\"outlinewidth\": 0, \"ticks\": \"\"}}, \"colorscale\": {\"diverging\": [[0, \"#8e0152\"], [0.1, \"#c51b7d\"], [0.2, \"#de77ae\"], [0.3, \"#f1b6da\"], [0.4, \"#fde0ef\"], [0.5, \"#f7f7f7\"], [0.6, \"#e6f5d0\"], [0.7, \"#b8e186\"], [0.8, \"#7fbc41\"], [0.9, \"#4d9221\"], [1, \"#276419\"]], \"sequential\": [[0.0, \"#0d0887\"], [0.1111111111111111, \"#46039f\"], [0.2222222222222222, \"#7201a8\"], [0.3333333333333333, \"#9c179e\"], [0.4444444444444444, \"#bd3786\"], [0.5555555555555556, \"#d8576b\"], [0.6666666666666666, \"#ed7953\"], [0.7777777777777778, \"#fb9f3a\"], [0.8888888888888888, \"#fdca26\"], [1.0, \"#f0f921\"]], \"sequentialminus\": [[0.0, \"#0d0887\"], [0.1111111111111111, \"#46039f\"], [0.2222222222222222, \"#7201a8\"], [0.3333333333333333, \"#9c179e\"], [0.4444444444444444, \"#bd3786\"], [0.5555555555555556, \"#d8576b\"], [0.6666666666666666, \"#ed7953\"], [0.7777777777777778, \"#fb9f3a\"], [0.8888888888888888, \"#fdca26\"], [1.0, \"#f0f921\"]]}, \"colorway\": [\"#636efa\", \"#EF553B\", \"#00cc96\", \"#ab63fa\", \"#FFA15A\", \"#19d3f3\", \"#FF6692\", \"#B6E880\", \"#FF97FF\", \"#FECB52\"], \"font\": {\"color\": \"#2a3f5f\"}, \"geo\": {\"bgcolor\": \"white\", \"lakecolor\": \"white\", \"landcolor\": \"#E5ECF6\", \"showlakes\": true, \"showland\": true, \"subunitcolor\": \"white\"}, \"hoverlabel\": {\"align\": \"left\"}, \"hovermode\": \"closest\", \"mapbox\": {\"style\": \"light\"}, \"paper_bgcolor\": \"white\", \"plot_bgcolor\": \"#E5ECF6\", \"polar\": {\"angularaxis\": {\"gridcolor\": \"white\", \"linecolor\": \"white\", \"ticks\": \"\"}, \"bgcolor\": \"#E5ECF6\", \"radialaxis\": {\"gridcolor\": \"white\", \"linecolor\": \"white\", \"ticks\": \"\"}}, \"scene\": {\"xaxis\": {\"backgroundcolor\": \"#E5ECF6\", \"gridcolor\": \"white\", \"gridwidth\": 2, \"linecolor\": \"white\", \"showbackground\": true, \"ticks\": \"\", \"zerolinecolor\": \"white\"}, \"yaxis\": {\"backgroundcolor\": \"#E5ECF6\", \"gridcolor\": \"white\", \"gridwidth\": 2, \"linecolor\": \"white\", \"showbackground\": true, \"ticks\": \"\", \"zerolinecolor\": \"white\"}, \"zaxis\": {\"backgroundcolor\": \"#E5ECF6\", \"gridcolor\": \"white\", \"gridwidth\": 2, \"linecolor\": \"white\", \"showbackground\": true, \"ticks\": \"\", \"zerolinecolor\": \"white\"}}, \"shapedefaults\": {\"line\": {\"color\": \"#2a3f5f\"}}, \"ternary\": {\"aaxis\": {\"gridcolor\": \"white\", \"linecolor\": \"white\", \"ticks\": \"\"}, \"baxis\": {\"gridcolor\": \"white\", \"linecolor\": \"white\", \"ticks\": \"\"}, \"bgcolor\": \"#E5ECF6\", \"caxis\": {\"gridcolor\": \"white\", \"linecolor\": \"white\", \"ticks\": \"\"}}, \"title\": {\"x\": 0.05}, \"xaxis\": {\"automargin\": true, \"gridcolor\": \"white\", \"linecolor\": \"white\", \"ticks\": \"\", \"title\": {\"standoff\": 15}, \"zerolinecolor\": \"white\", \"zerolinewidth\": 2}, \"yaxis\": {\"automargin\": true, \"gridcolor\": \"white\", \"linecolor\": \"white\", \"ticks\": \"\", \"title\": {\"standoff\": 15}, \"zerolinecolor\": \"white\", \"zerolinewidth\": 2}}}, \"title\": {\"text\": \"Commmon Words in Text\"}, \"width\": 700, \"xaxis\": {\"anchor\": \"y\", \"domain\": [0.0, 1.0], \"title\": {\"text\": \"count\"}}, \"yaxis\": {\"anchor\": \"x\", \"categoryarray\": [\"bravo\", \"bech\", \"ou\", \"mak\", \"ala\", \"kol\", \"ca\", \"le\", \"l\", \"e\", \"la\", \"ma\", \"rabi\", \"lim\", \"i\", \"a\", \"el\", \"fi\", \"ya\"], \"categoryorder\": \"array\", \"domain\": [0.0, 1.0], \"title\": {\"text\": \"Common_words\"}}},\n",
              "                        {\"responsive\": true}\n",
              "                    ).then(function(){\n",
              "                            \n",
              "var gd = document.getElementById('64336fd6-ec3d-4b44-81c4-25befa05331e');\n",
              "var x = new MutationObserver(function (mutations, observer) {{\n",
              "        var display = window.getComputedStyle(gd).display;\n",
              "        if (!display || display === 'none') {{\n",
              "            console.log([gd, 'removed!']);\n",
              "            Plotly.purge(gd);\n",
              "            observer.disconnect();\n",
              "        }}\n",
              "}});\n",
              "\n",
              "// Listen for the removal of the full notebook cells\n",
              "var notebookContainer = gd.closest('#notebook-container');\n",
              "if (notebookContainer) {{\n",
              "    x.observe(notebookContainer, {childList: true});\n",
              "}}\n",
              "\n",
              "// Listen for the clearing of the current output cell\n",
              "var outputEl = gd.closest('.output');\n",
              "if (outputEl) {{\n",
              "    x.observe(outputEl, {childList: true});\n",
              "}}\n",
              "\n",
              "                        })\n",
              "                };\n",
              "                \n",
              "            </script>\n",
              "        </div>\n",
              "</body>\n",
              "</html>"
            ]
          },
          "metadata": {
            "tags": []
          }
        }
      ]
    },
    {
      "cell_type": "markdown",
      "metadata": {
        "id": "zGdRoxYV209z"
      },
      "source": [
        "##### Most common words Sentiments Wise\n",
        "Let's look at the most common words in different sentiments"
      ]
    },
    {
      "cell_type": "code",
      "metadata": {
        "colab": {
          "base_uri": "https://localhost:8080/",
          "height": 111
        },
        "id": "sjm47H2z209z",
        "outputId": "24cba8c1-94cb-4b93-90db-edc5b1ad6f4f"
      },
      "source": [
        "train.head(2)"
      ],
      "execution_count": null,
      "outputs": [
        {
          "output_type": "execute_result",
          "data": {
            "text/html": [
              "<div>\n",
              "<style scoped>\n",
              "    .dataframe tbody tr th:only-of-type {\n",
              "        vertical-align: middle;\n",
              "    }\n",
              "\n",
              "    .dataframe tbody tr th {\n",
              "        vertical-align: top;\n",
              "    }\n",
              "\n",
              "    .dataframe thead th {\n",
              "        text-align: right;\n",
              "    }\n",
              "</style>\n",
              "<table border=\"1\" class=\"dataframe\">\n",
              "  <thead>\n",
              "    <tr style=\"text-align: right;\">\n",
              "      <th></th>\n",
              "      <th>ID</th>\n",
              "      <th>text</th>\n",
              "      <th>label</th>\n",
              "      <th>temp_list</th>\n",
              "    </tr>\n",
              "  </thead>\n",
              "  <tbody>\n",
              "    <tr>\n",
              "      <th>22837</th>\n",
              "      <td>H7SGU9H</td>\n",
              "      <td>men ayna laka hedha ya zawali</td>\n",
              "      <td>-1</td>\n",
              "      <td>[men, ayna, laka, hedha, ya, zawali]</td>\n",
              "    </tr>\n",
              "    <tr>\n",
              "      <th>14335</th>\n",
              "      <td>FEQGB64</td>\n",
              "      <td>ya 9aba nik omk w om zaimek ya taana tfiiiih a...</td>\n",
              "      <td>-1</td>\n",
              "      <td>[ya, 9aba, nik, omk, w, om, zaimek, ya, taana,...</td>\n",
              "    </tr>\n",
              "  </tbody>\n",
              "</table>\n",
              "</div>"
            ],
            "text/plain": [
              "            ID  ...                                          temp_list\n",
              "22837  H7SGU9H  ...               [men, ayna, laka, hedha, ya, zawali]\n",
              "14335  FEQGB64  ...  [ya, 9aba, nik, omk, w, om, zaimek, ya, taana,...\n",
              "\n",
              "[2 rows x 4 columns]"
            ]
          },
          "metadata": {
            "tags": []
          },
          "execution_count": 28
        }
      ]
    },
    {
      "cell_type": "code",
      "metadata": {
        "colab": {
          "base_uri": "https://localhost:8080/"
        },
        "id": "MtvwAYgdffOY",
        "outputId": "f0d283a1-75f9-48a7-e24a-cf155baafd66"
      },
      "source": [
        "train.shape"
      ],
      "execution_count": null,
      "outputs": [
        {
          "output_type": "execute_result",
          "data": {
            "text/plain": [
              "(49000, 4)"
            ]
          },
          "metadata": {
            "tags": []
          },
          "execution_count": 29
        }
      ]
    },
    {
      "cell_type": "markdown",
      "metadata": {
        "id": "BR6zFDzB209z"
      },
      "source": [
        "#### Obsevations"
      ]
    },
    {
      "cell_type": "markdown",
      "metadata": {
        "id": "pFY0tSV7209z"
      },
      "source": [
        "### Modelling\n",
        " "
      ]
    },
    {
      "cell_type": "markdown",
      "metadata": {
        "id": "hDJQV7I82090"
      },
      "source": [
        "#### SVM"
      ]
    },
    {
      "cell_type": "code",
      "metadata": {
        "colab": {
          "base_uri": "https://localhost:8080/"
        },
        "id": "XH68oMtB2090",
        "outputId": "16a5934a-a282-4fff-e6b5-17063a602586"
      },
      "source": [
        "# Training Support Vector Machines - SVM and calculating its performance\n",
        "\n",
        "from sklearn.linear_model import SGDClassifier\n",
        "from sklearn.pipeline import Pipeline\n",
        "from sklearn.feature_extraction.text import CountVectorizer, TfidfTransformer, TfidfVectorizer\n",
        "\n",
        "text_clf_svm = Pipeline([('vect', TfidfVectorizer()),\n",
        "                         ('clf-svm', SGDClassifier(loss='hinge', penalty='l2',alpha=1e-3, max_iter=5, random_state=42))])\n",
        "\n",
        "text_clf_svm = text_clf_svm.fit(train.text, train.label)\n",
        "predicted_svm = text_clf_svm.predict(test.text)\n",
        "np.mean(predicted_svm == test.label)"
      ],
      "execution_count": null,
      "outputs": [
        {
          "output_type": "execute_result",
          "data": {
            "text/plain": [
              "0.701952380952381"
            ]
          },
          "metadata": {
            "tags": []
          },
          "execution_count": 30
        }
      ]
    },
    {
      "cell_type": "markdown",
      "metadata": {
        "id": "ROXUZRBz2090"
      },
      "source": [
        "#### KNeighbors Classifier"
      ]
    },
    {
      "cell_type": "code",
      "metadata": {
        "id": "uTsyDba22090"
      },
      "source": [
        "from sklearn.neighbors import KNeighborsClassifier "
      ],
      "execution_count": null,
      "outputs": []
    },
    {
      "cell_type": "code",
      "metadata": {
        "id": "xsNIt6z_2090"
      },
      "source": [
        "knn_clf = Pipeline([('vect', TfidfVectorizer()), ('clf', KNeighborsClassifier(\n",
        "    n_neighbors=5, weights='uniform', algorithm='auto', leaf_size=30, p=2, metric='minkowski'\n",
        "))])\n",
        "\n",
        "knn_clf = knn_clf.fit(train.text, train.label)"
      ],
      "execution_count": null,
      "outputs": []
    },
    {
      "cell_type": "code",
      "metadata": {
        "colab": {
          "base_uri": "https://localhost:8080/"
        },
        "id": "vZa0yXn92091",
        "outputId": "3579f2d8-979b-4114-84f1-aa794f9bd9d6"
      },
      "source": [
        "predicted_knn = knn_clf.predict(test.text)\n",
        "np.mean(predicted_knn == test.label)"
      ],
      "execution_count": null,
      "outputs": [
        {
          "output_type": "execute_result",
          "data": {
            "text/plain": [
              "0.5939047619047619"
            ]
          },
          "metadata": {
            "tags": []
          },
          "execution_count": 33
        }
      ]
    },
    {
      "cell_type": "markdown",
      "metadata": {
        "id": "QV7vlRMdPfjp"
      },
      "source": [
        "### Loading Test Data"
      ]
    },
    {
      "cell_type": "code",
      "metadata": {
        "colab": {
          "base_uri": "https://localhost:8080/",
          "height": 142
        },
        "id": "VQ9jc_jSPfCE",
        "outputId": "09b0a935-f3d2-4e89-b564-b63f125f2191"
      },
      "source": [
        "test_data = pd.read_csv(\"Test.csv\")\n",
        "test_data.head(3)"
      ],
      "execution_count": null,
      "outputs": [
        {
          "output_type": "execute_result",
          "data": {
            "text/html": [
              "<div>\n",
              "<style scoped>\n",
              "    .dataframe tbody tr th:only-of-type {\n",
              "        vertical-align: middle;\n",
              "    }\n",
              "\n",
              "    .dataframe tbody tr th {\n",
              "        vertical-align: top;\n",
              "    }\n",
              "\n",
              "    .dataframe thead th {\n",
              "        text-align: right;\n",
              "    }\n",
              "</style>\n",
              "<table border=\"1\" class=\"dataframe\">\n",
              "  <thead>\n",
              "    <tr style=\"text-align: right;\">\n",
              "      <th></th>\n",
              "      <th>ID</th>\n",
              "      <th>text</th>\n",
              "    </tr>\n",
              "  </thead>\n",
              "  <tbody>\n",
              "    <tr>\n",
              "      <th>0</th>\n",
              "      <td>2DDHQW9</td>\n",
              "      <td>barcha aaindou fiha hak w barcha teflim kadhalik</td>\n",
              "    </tr>\n",
              "    <tr>\n",
              "      <th>1</th>\n",
              "      <td>5HY6UEY</td>\n",
              "      <td>ye gernabou ye 9a7ba</td>\n",
              "    </tr>\n",
              "    <tr>\n",
              "      <th>2</th>\n",
              "      <td>ATNVUJX</td>\n",
              "      <td>saber w barra rabbi m3ak 5ouya</td>\n",
              "    </tr>\n",
              "  </tbody>\n",
              "</table>\n",
              "</div>"
            ],
            "text/plain": [
              "        ID                                              text\n",
              "0  2DDHQW9  barcha aaindou fiha hak w barcha teflim kadhalik\n",
              "1  5HY6UEY                              ye gernabou ye 9a7ba\n",
              "2  ATNVUJX                    saber w barra rabbi m3ak 5ouya"
            ]
          },
          "metadata": {
            "tags": []
          },
          "execution_count": 34
        }
      ]
    },
    {
      "cell_type": "markdown",
      "metadata": {
        "id": "MTgNqFo-PsXO"
      },
      "source": [
        "#### Clean Test Data"
      ]
    },
    {
      "cell_type": "code",
      "metadata": {
        "colab": {
          "base_uri": "https://localhost:8080/"
        },
        "id": "2sYv12t8PvSR",
        "outputId": "000a2764-4c6c-4557-ebf6-4e4d2a0b04eb"
      },
      "source": [
        "test_data.isna().sum()"
      ],
      "execution_count": null,
      "outputs": [
        {
          "output_type": "execute_result",
          "data": {
            "text/plain": [
              "ID      0\n",
              "text    0\n",
              "dtype: int64"
            ]
          },
          "metadata": {
            "tags": []
          },
          "execution_count": 35
        }
      ]
    },
    {
      "cell_type": "code",
      "metadata": {
        "colab": {
          "base_uri": "https://localhost:8080/"
        },
        "id": "VxZYU45KP1BU",
        "outputId": "14aae871-c086-4b54-98b5-02afe53b16b5"
      },
      "source": [
        "test_data.duplicated().sum()"
      ],
      "execution_count": null,
      "outputs": [
        {
          "output_type": "execute_result",
          "data": {
            "text/plain": [
              "0"
            ]
          },
          "metadata": {
            "tags": []
          },
          "execution_count": 36
        }
      ]
    },
    {
      "cell_type": "markdown",
      "metadata": {
        "id": "Uwk8V9vaQVhJ"
      },
      "source": [
        "#### Preprocessing Test Data"
      ]
    },
    {
      "cell_type": "code",
      "metadata": {
        "colab": {
          "base_uri": "https://localhost:8080/",
          "height": 111
        },
        "id": "BGvmFGFLQSFe",
        "outputId": "703691fc-9580-4313-9dbc-672f106f6cea"
      },
      "source": [
        "test_data['text'] = test_data['text'].apply(lambda x:clean_text(x))\n",
        "test_data.head(2)"
      ],
      "execution_count": null,
      "outputs": [
        {
          "output_type": "execute_result",
          "data": {
            "text/html": [
              "<div>\n",
              "<style scoped>\n",
              "    .dataframe tbody tr th:only-of-type {\n",
              "        vertical-align: middle;\n",
              "    }\n",
              "\n",
              "    .dataframe tbody tr th {\n",
              "        vertical-align: top;\n",
              "    }\n",
              "\n",
              "    .dataframe thead th {\n",
              "        text-align: right;\n",
              "    }\n",
              "</style>\n",
              "<table border=\"1\" class=\"dataframe\">\n",
              "  <thead>\n",
              "    <tr style=\"text-align: right;\">\n",
              "      <th></th>\n",
              "      <th>ID</th>\n",
              "      <th>text</th>\n",
              "    </tr>\n",
              "  </thead>\n",
              "  <tbody>\n",
              "    <tr>\n",
              "      <th>0</th>\n",
              "      <td>2DDHQW9</td>\n",
              "      <td>barcha aaindou fiha hak w barcha teflim kadhalik</td>\n",
              "    </tr>\n",
              "    <tr>\n",
              "      <th>1</th>\n",
              "      <td>5HY6UEY</td>\n",
              "      <td>ye gernabou ye 9aba</td>\n",
              "    </tr>\n",
              "  </tbody>\n",
              "</table>\n",
              "</div>"
            ],
            "text/plain": [
              "        ID                                              text\n",
              "0  2DDHQW9  barcha aaindou fiha hak w barcha teflim kadhalik\n",
              "1  5HY6UEY                               ye gernabou ye 9aba"
            ]
          },
          "metadata": {
            "tags": []
          },
          "execution_count": 37
        }
      ]
    },
    {
      "cell_type": "code",
      "metadata": {
        "colab": {
          "base_uri": "https://localhost:8080/",
          "height": 142
        },
        "id": "pMCiGOtyMgMO",
        "outputId": "fb5c91ac-6f6f-49f9-a209-abd77fd398a8"
      },
      "source": [
        "train_data = train[['text', 'label']]\n",
        "train_data.head(3)"
      ],
      "execution_count": null,
      "outputs": [
        {
          "output_type": "execute_result",
          "data": {
            "text/html": [
              "<div>\n",
              "<style scoped>\n",
              "    .dataframe tbody tr th:only-of-type {\n",
              "        vertical-align: middle;\n",
              "    }\n",
              "\n",
              "    .dataframe tbody tr th {\n",
              "        vertical-align: top;\n",
              "    }\n",
              "\n",
              "    .dataframe thead th {\n",
              "        text-align: right;\n",
              "    }\n",
              "</style>\n",
              "<table border=\"1\" class=\"dataframe\">\n",
              "  <thead>\n",
              "    <tr style=\"text-align: right;\">\n",
              "      <th></th>\n",
              "      <th>text</th>\n",
              "      <th>label</th>\n",
              "    </tr>\n",
              "  </thead>\n",
              "  <tbody>\n",
              "    <tr>\n",
              "      <th>22837</th>\n",
              "      <td>men ayna laka hedha ya zawali</td>\n",
              "      <td>-1</td>\n",
              "    </tr>\n",
              "    <tr>\n",
              "      <th>14335</th>\n",
              "      <td>ya 9aba nik omk w om zaimek ya taana tfiiiih a...</td>\n",
              "      <td>-1</td>\n",
              "    </tr>\n",
              "    <tr>\n",
              "      <th>47042</th>\n",
              "      <td>kolau aime oi alifrigui bikhayr</td>\n",
              "      <td>1</td>\n",
              "    </tr>\n",
              "  </tbody>\n",
              "</table>\n",
              "</div>"
            ],
            "text/plain": [
              "                                                    text  label\n",
              "22837                      men ayna laka hedha ya zawali     -1\n",
              "14335  ya 9aba nik omk w om zaimek ya taana tfiiiih a...     -1\n",
              "47042                    kolau aime oi alifrigui bikhayr      1"
            ]
          },
          "metadata": {
            "tags": []
          },
          "execution_count": 38
        }
      ]
    },
    {
      "cell_type": "code",
      "metadata": {
        "id": "zxjYicKEPw7n"
      },
      "source": [
        "X = train_data['text']\n",
        "y = train_data['label']"
      ],
      "execution_count": null,
      "outputs": []
    },
    {
      "cell_type": "code",
      "metadata": {
        "colab": {
          "base_uri": "https://localhost:8080/"
        },
        "id": "SiI_eyQ6NEfX",
        "outputId": "f0cd1758-6de2-4687-dea8-d6c6dd340845"
      },
      "source": [
        "# Splitting the dataset into train and test set\n",
        "from sklearn.model_selection import train_test_split\n",
        "seed = 12\n",
        "X_train, X_test, y_train, y_test = train_test_split(X, y,test_size = 0.3, random_state=12)\n",
        "X.shape, y.shape"
      ],
      "execution_count": null,
      "outputs": [
        {
          "output_type": "execute_result",
          "data": {
            "text/plain": [
              "((49000,), (49000,))"
            ]
          },
          "metadata": {
            "tags": []
          },
          "execution_count": 40
        }
      ]
    },
    {
      "cell_type": "markdown",
      "metadata": {
        "id": "ISK9Bq-BaIdi"
      },
      "source": [
        "### Multinormial NB"
      ]
    },
    {
      "cell_type": "code",
      "metadata": {
        "colab": {
          "base_uri": "https://localhost:8080/"
        },
        "id": "3S33kdCr2090",
        "outputId": "d9c20dfc-ad45-442d-91e0-85594ad4ec7e"
      },
      "source": [
        "# Extracting features from text files\n",
        "from sklearn.feature_extraction.text import CountVectorizer\n",
        "count_vect = CountVectorizer()\n",
        "X_train_counts = count_vect.fit_transform(train['text'])\n",
        "X_train_counts.shape\n",
        "\n",
        "# TF-IDF\n",
        "from sklearn.feature_extraction.text import TfidfTransformer\n",
        "tfidf_transformer = TfidfTransformer()\n",
        "X_train_tfidf = tfidf_transformer.fit_transform(X_train_counts)\n",
        "X_train_tfidf.shape\n",
        "\n",
        "# Machine Learning\n",
        "# Training Naive Bayes (NB) classifier on training data.\n",
        "from sklearn.naive_bayes import MultinomialNB\n",
        "clf = MultinomialNB().fit(X_train_tfidf, train.label)\n",
        "\n",
        "\n",
        "# Building a pipeline: We can write less code and do all of the above, by building a pipeline as follows:\n",
        "# The names ‘vect’ , ‘tfidf’ and ‘clf’ are arbitrary but will be used later.\n",
        "# We will be using the 'text_clf' going forward.\n",
        "from sklearn.pipeline import Pipeline\n",
        "\n",
        "text_clf = Pipeline([('vect', CountVectorizer()), ('tfidf', TfidfTransformer()), ('clf', MultinomialNB())])\n",
        "\n",
        "text_clf = text_clf.fit(train.text, train.label)\n",
        "\n",
        "# Performance of NB Classifier\n",
        "import numpy as np\n",
        "predicted = text_clf.predict(test.text)\n",
        "np.mean(predicted == test.label)*100"
      ],
      "execution_count": null,
      "outputs": [
        {
          "output_type": "execute_result",
          "data": {
            "text/plain": [
              "77.8952380952381"
            ]
          },
          "metadata": {
            "tags": []
          },
          "execution_count": 41
        }
      ]
    },
    {
      "cell_type": "code",
      "metadata": {
        "colab": {
          "base_uri": "https://localhost:8080/"
        },
        "id": "DrVlgrwlWUMh",
        "outputId": "5cc9623a-d787-473a-e8a3-236afc24dad6"
      },
      "source": [
        "from sklearn.linear_model import LogisticRegression\n",
        "\n",
        "# lr = LogisticRegression().fit(X_train_tfidf, train.label)\n",
        "\n",
        "# Building a pipeline: We can write less code and do all of the above, by building a pipeline as follows:\n",
        "# The names ‘vect’ , ‘tfidf’ and ‘clf’ are arbitrary but will be used later.\n",
        "# We will be using the 'text_clf' going forward.\n",
        "from sklearn.pipeline import Pipeline\n",
        "\n",
        "lr_clf = Pipeline([('vect', CountVectorizer()), ('tfidf', TfidfTransformer()), ('clf', LogisticRegression())])\n",
        "\n",
        "lr_clf = lr_clf.fit(train.text, train.label)\n",
        "\n",
        "# Performance of NB Classifier\n",
        "import numpy as np\n",
        "predicted = lr_clf.predict(test.text)\n",
        "np.mean(predicted == test.label)*100"
      ],
      "execution_count": null,
      "outputs": [
        {
          "output_type": "execute_result",
          "data": {
            "text/plain": [
              "78.58095238095238"
            ]
          },
          "metadata": {
            "tags": []
          },
          "execution_count": 42
        }
      ]
    },
    {
      "cell_type": "code",
      "metadata": {
        "colab": {
          "base_uri": "https://localhost:8080/"
        },
        "id": "ob_6hefGH_Hj",
        "outputId": "a4c1b3e9-2695-467f-8fb3-bf9ef5138ba3"
      },
      "source": [
        "from sklearn.ensemble import RandomForestClassifier\n",
        "\n",
        "rf = RandomForestClassifier(max_depth=2, random_state=0)\n",
        "\n",
        "rf_clf = Pipeline([('vect', CountVectorizer()), ('tfidf', TfidfTransformer()), ('clf', RandomForestClassifier())])\n",
        "\n",
        "rf_clf = rf_clf.fit(train.text, train.label)\n",
        "\n",
        "# Performance of NB Classifier\n",
        "import numpy as np\n",
        "predicted = rf_clf.predict(test.text)\n",
        "np.mean(predicted == test.label)*100"
      ],
      "execution_count": null,
      "outputs": [
        {
          "output_type": "execute_result",
          "data": {
            "text/plain": [
              "75.31904761904762"
            ]
          },
          "metadata": {
            "tags": []
          },
          "execution_count": 43
        }
      ]
    },
    {
      "cell_type": "markdown",
      "metadata": {
        "id": "RGoybIdd2091"
      },
      "source": [
        "### Submission"
      ]
    },
    {
      "cell_type": "code",
      "metadata": {
        "colab": {
          "base_uri": "https://localhost:8080/",
          "height": 204
        },
        "id": "pk4dqXZI2091",
        "outputId": "0fc26edd-9382-4eb1-8724-27680ba3e91e"
      },
      "source": [
        "sub = pd.read_csv(\"SampleSubmission.csv\")\n",
        "submission = pd.DataFrame()\n",
        "submission['ID'] = test_data['ID']\n",
        "submission.head()"
      ],
      "execution_count": null,
      "outputs": [
        {
          "output_type": "execute_result",
          "data": {
            "text/html": [
              "<div>\n",
              "<style scoped>\n",
              "    .dataframe tbody tr th:only-of-type {\n",
              "        vertical-align: middle;\n",
              "    }\n",
              "\n",
              "    .dataframe tbody tr th {\n",
              "        vertical-align: top;\n",
              "    }\n",
              "\n",
              "    .dataframe thead th {\n",
              "        text-align: right;\n",
              "    }\n",
              "</style>\n",
              "<table border=\"1\" class=\"dataframe\">\n",
              "  <thead>\n",
              "    <tr style=\"text-align: right;\">\n",
              "      <th></th>\n",
              "      <th>ID</th>\n",
              "    </tr>\n",
              "  </thead>\n",
              "  <tbody>\n",
              "    <tr>\n",
              "      <th>0</th>\n",
              "      <td>2DDHQW9</td>\n",
              "    </tr>\n",
              "    <tr>\n",
              "      <th>1</th>\n",
              "      <td>5HY6UEY</td>\n",
              "    </tr>\n",
              "    <tr>\n",
              "      <th>2</th>\n",
              "      <td>ATNVUJX</td>\n",
              "    </tr>\n",
              "    <tr>\n",
              "      <th>3</th>\n",
              "      <td>Q9XYVOQ</td>\n",
              "    </tr>\n",
              "    <tr>\n",
              "      <th>4</th>\n",
              "      <td>TOAHLRH</td>\n",
              "    </tr>\n",
              "  </tbody>\n",
              "</table>\n",
              "</div>"
            ],
            "text/plain": [
              "        ID\n",
              "0  2DDHQW9\n",
              "1  5HY6UEY\n",
              "2  ATNVUJX\n",
              "3  Q9XYVOQ\n",
              "4  TOAHLRH"
            ]
          },
          "metadata": {
            "tags": []
          },
          "execution_count": 103
        }
      ]
    },
    {
      "cell_type": "code",
      "metadata": {
        "colab": {
          "base_uri": "https://localhost:8080/"
        },
        "id": "JhBFNZVU2091",
        "outputId": "ae777c79-b653-447c-f227-c4ed58f56d0c"
      },
      "source": [
        "submission.shape"
      ],
      "execution_count": null,
      "outputs": [
        {
          "output_type": "execute_result",
          "data": {
            "text/plain": [
              "(30000, 1)"
            ]
          },
          "metadata": {
            "tags": []
          },
          "execution_count": 104
        }
      ]
    },
    {
      "cell_type": "code",
      "metadata": {
        "colab": {
          "base_uri": "https://localhost:8080/"
        },
        "id": "qlH4fWtW2091",
        "outputId": "c026494f-b6b3-41ed-c836-c29d7f04ea18"
      },
      "source": [
        "pred = lr_clf.predict(test_data['text'])\n",
        "pred"
      ],
      "execution_count": null,
      "outputs": [
        {
          "output_type": "execute_result",
          "data": {
            "text/plain": [
              "array([ 1, -1,  1, ...,  1, -1,  1])"
            ]
          },
          "metadata": {
            "tags": []
          },
          "execution_count": 105
        }
      ]
    },
    {
      "cell_type": "code",
      "metadata": {
        "colab": {
          "base_uri": "https://localhost:8080/"
        },
        "id": "ynooc3R72091",
        "outputId": "016a154b-9143-40c2-da18-6a05033eac4b"
      },
      "source": [
        "len(pred)"
      ],
      "execution_count": null,
      "outputs": [
        {
          "output_type": "execute_result",
          "data": {
            "text/plain": [
              "30000"
            ]
          },
          "metadata": {
            "tags": []
          },
          "execution_count": 106
        }
      ]
    },
    {
      "cell_type": "markdown",
      "metadata": {
        "id": "97HVS4nn2091"
      },
      "source": [
        "The index is still there, so we will set the column ID as the dataframe index."
      ]
    },
    {
      "cell_type": "code",
      "metadata": {
        "id": "ixI148Gh2091"
      },
      "source": [
        "submission['label'] = pred\n",
        "submission.set_index('ID', inplace=True)"
      ],
      "execution_count": null,
      "outputs": []
    },
    {
      "cell_type": "code",
      "metadata": {
        "colab": {
          "base_uri": "https://localhost:8080/",
          "height": 233
        },
        "id": "BhT9ZeYQ2091",
        "outputId": "b8fdc77d-f73a-4423-91a9-51fa49600e72"
      },
      "source": [
        "submission.head()"
      ],
      "execution_count": null,
      "outputs": [
        {
          "output_type": "execute_result",
          "data": {
            "text/html": [
              "<div>\n",
              "<style scoped>\n",
              "    .dataframe tbody tr th:only-of-type {\n",
              "        vertical-align: middle;\n",
              "    }\n",
              "\n",
              "    .dataframe tbody tr th {\n",
              "        vertical-align: top;\n",
              "    }\n",
              "\n",
              "    .dataframe thead th {\n",
              "        text-align: right;\n",
              "    }\n",
              "</style>\n",
              "<table border=\"1\" class=\"dataframe\">\n",
              "  <thead>\n",
              "    <tr style=\"text-align: right;\">\n",
              "      <th></th>\n",
              "      <th>label</th>\n",
              "    </tr>\n",
              "    <tr>\n",
              "      <th>ID</th>\n",
              "      <th></th>\n",
              "    </tr>\n",
              "  </thead>\n",
              "  <tbody>\n",
              "    <tr>\n",
              "      <th>2DDHQW9</th>\n",
              "      <td>-1</td>\n",
              "    </tr>\n",
              "    <tr>\n",
              "      <th>5HY6UEY</th>\n",
              "      <td>1</td>\n",
              "    </tr>\n",
              "    <tr>\n",
              "      <th>ATNVUJX</th>\n",
              "      <td>1</td>\n",
              "    </tr>\n",
              "    <tr>\n",
              "      <th>Q9XYVOQ</th>\n",
              "      <td>1</td>\n",
              "    </tr>\n",
              "    <tr>\n",
              "      <th>TOAHLRH</th>\n",
              "      <td>1</td>\n",
              "    </tr>\n",
              "  </tbody>\n",
              "</table>\n",
              "</div>"
            ],
            "text/plain": [
              "         label\n",
              "ID            \n",
              "2DDHQW9     -1\n",
              "5HY6UEY      1\n",
              "ATNVUJX      1\n",
              "Q9XYVOQ      1\n",
              "TOAHLRH      1"
            ]
          },
          "metadata": {
            "tags": []
          },
          "execution_count": 306
        }
      ]
    },
    {
      "cell_type": "markdown",
      "metadata": {
        "id": "Uqb4rAGj2091"
      },
      "source": [
        "We have successfully replaced the index with the column ID.\n",
        "Now Let us create our submission file."
      ]
    },
    {
      "cell_type": "code",
      "metadata": {
        "colab": {
          "background_save": true
        },
        "id": "EDntltPB2091"
      },
      "source": [
        "submission.to_csv(\"submission.csv\")"
      ],
      "execution_count": null,
      "outputs": []
    },
    {
      "cell_type": "code",
      "metadata": {
        "id": "DhIDbE0bZYzE"
      },
      "source": [
        ""
      ],
      "execution_count": null,
      "outputs": []
    }
  ]
}